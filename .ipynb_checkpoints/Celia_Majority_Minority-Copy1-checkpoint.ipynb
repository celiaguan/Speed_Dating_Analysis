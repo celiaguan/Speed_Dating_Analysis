{
 "cells": [
  {
   "cell_type": "markdown",
   "metadata": {},
   "source": [
    "# Speed Dating "
   ]
  },
  {
   "cell_type": "markdown",
   "metadata": {},
   "source": [
    "### Cleanning data "
   ]
  },
  {
   "cell_type": "code",
   "execution_count": 3,
   "metadata": {
    "collapsed": true
   },
   "outputs": [],
   "source": [
    "import pandas as pd\n",
    "import seaborn as sns\n",
    "import matplotlib.pyplot as plt\n",
    "import datetime\n",
    "import numpy as np\n",
    "from IPython.core.interactiveshell import InteractiveShell\n",
    "InteractiveShell.ast_node_interactivity = 'all'\n",
    "%matplotlib inline"
   ]
  },
  {
   "cell_type": "code",
   "execution_count": 4,
   "metadata": {
    "collapsed": true
   },
   "outputs": [],
   "source": [
    "import sklearn as sk\n",
    "import sklearn.tree as tree\n",
    "import sklearn.preprocessing as pp\n",
    "import sklearn.metrics as sm\n",
    "import sklearn.feature_selection as fs\n",
    "from sklearn.pipeline import make_pipeline\n",
    "from sklearn.tree import DecisionTreeClassifier"
   ]
  },
  {
   "cell_type": "code",
   "execution_count": null,
   "metadata": {
    "collapsed": true
   },
   "outputs": [],
   "source": [
    "data = pd.read_csv('Speed Dating Data.csv',encoding=\"ISO-8859-1\").rename(columns=lambda x: x.strip())\n",
    "sd_org=data.copy()"
   ]
  },
  {
   "cell_type": "code",
   "execution_count": 5,
   "metadata": {
    "collapsed": true
   },
   "outputs": [],
   "source": [
    "# select waves 1 -14\n",
    "sd = sd_org[sd_org['wave']< 15]"
   ]
  },
  {
   "cell_type": "code",
   "execution_count": 6,
   "metadata": {},
   "outputs": [
    {
     "name": "stderr",
     "output_type": "stream",
     "text": [
      "/anaconda3/lib/python3.6/site-packages/ipykernel_launcher.py:2: SettingWithCopyWarning: \n",
      "A value is trying to be set on a copy of a slice from a DataFrame.\n",
      "Try using .loc[row_indexer,col_indexer] = value instead\n",
      "\n",
      "See the caveats in the documentation: http://pandas.pydata.org/pandas-docs/stable/indexing.html#indexing-view-versus-copy\n",
      "  \n",
      "/anaconda3/lib/python3.6/site-packages/ipykernel_launcher.py:3: SettingWithCopyWarning: \n",
      "A value is trying to be set on a copy of a slice from a DataFrame.\n",
      "Try using .loc[row_indexer,col_indexer] = value instead\n",
      "\n",
      "See the caveats in the documentation: http://pandas.pydata.org/pandas-docs/stable/indexing.html#indexing-view-versus-copy\n",
      "  This is separate from the ipykernel package so we can avoid doing imports until\n"
     ]
    }
   ],
   "source": [
    "# convert income to numeric values\n",
    "sd['income'] = sd['income'].str.replace(',', '')\n",
    "sd['income']= pd.to_numeric(sd['income'])"
   ]
  },
  {
   "cell_type": "code",
   "execution_count": 7,
   "metadata": {
    "collapsed": true
   },
   "outputs": [],
   "source": [
    "# Drop those colunms for 'half way through' period \n",
    "sd= sd.drop(['attr1_s', 'sinc1_s', 'intel1_s', 'fun1_s', 'amb1_s', 'shar1_s',\n",
    "             'attr3_s', 'sinc3_s', 'intel3_s', 'fun3_s', 'amb3_s'],axis=1)"
   ]
  },
  {
   "cell_type": "code",
   "execution_count": 8,
   "metadata": {
    "collapsed": true
   },
   "outputs": [],
   "source": [
    "# Drop those colunms for 'follow-up 2' period, becuase these were filled out after 3-4 \n",
    "# weeks after the event. A lot of them were NaN values and we think that participants \n",
    "# might not remember very clearly by that time. \n",
    "\n",
    "sd= sd.drop(['attr1_3', 'sinc1_3', 'intel1_3', 'fun1_3', 'amb1_3', 'shar1_3',\n",
    "             'attr2_3', 'sinc2_3', 'intel2_3', 'fun2_3', 'amb2_3', 'shar2_3',\n",
    "             'attr3_3', 'sinc3_3', 'intel3_3', 'fun3_3', 'amb3_3',\n",
    "             'attr4_3', 'sinc4_3', 'intel4_3', 'fun4_3', 'amb4_3', 'shar4_3',\n",
    "             'attr5_3', 'sinc5_3', 'intel5_3', 'fun5_3', 'amb5_3', \n",
    "             'attr7_3', 'sinc7_3', 'intel7_3', 'fun7_3', 'amb7_3', 'shar7_3',],axis=1)"
   ]
  },
  {
   "cell_type": "code",
   "execution_count": 9,
   "metadata": {
    "collapsed": true
   },
   "outputs": [],
   "source": [
    "# Drop attr7_2, because it doesn't pair up with the question asked in the correspoding sign up period.\n",
    "sd= sd.drop('attr7_2',axis=1)"
   ]
  },
  {
   "cell_type": "code",
   "execution_count": 10,
   "metadata": {
    "collapsed": true
   },
   "outputs": [],
   "source": [
    "# Drop those columns that won't be used in this analysis \n",
    "sd= sd.drop(['id', 'idg', 'wave','round','condtn', 'position', 'positin1','partner','pid','int_corr',\n",
    "             'age_o','race_o','from','zipcode','career','career_c','satis_2','length',\n",
    "             'pf_o_att','pf_o_sin','pf_o_int','pf_o_fun','pf_o_amb','pf_o_sha','field',\n",
    "             'undergra','mn_sat','tuition','exphappy','expnum','numdat_2','samerace',\n",
    "             'match_es','you_call','them_cal','date_3','numdat_3','num_in_3'],axis=1)"
   ]
  },
  {
   "cell_type": "code",
   "execution_count": 11,
   "metadata": {
    "collapsed": true
   },
   "outputs": [],
   "source": [
    "# group those attributes suing 1-10 scales\n",
    "ten = ['attr3_1', 'sinc3_1',\n",
    "       'fun3_1', 'intel3_1', 'amb3_1', 'attr5_1', 'sinc5_1', 'intel5_1',\n",
    "       'fun5_1', 'amb5_1','attr3_2', 'sinc3_2', 'intel3_2', 'fun3_2', 'amb3_2',\n",
    "       'attr5_2', 'sinc5_2', 'intel5_2', 'fun5_2', 'amb5_2']\n",
    "\n",
    "# group those attributes using 100 point system\n",
    "hrd = ['attr1_1', 'sinc1_1',\n",
    "       'intel1_1', 'fun1_1', 'amb1_1', 'shar1_1', 'attr4_1', 'sinc4_1',\n",
    "       'intel4_1', 'fun4_1', 'amb4_1', 'shar4_1', 'attr2_1', 'sinc2_1',\n",
    "       'intel2_1', 'fun2_1', 'amb2_1', 'shar2_1','sinc7_2', 'intel7_2', 'fun7_2', 'amb7_2',\n",
    "       'shar7_2', 'attr1_2', 'sinc1_2', 'intel1_2', 'fun1_2', 'amb1_2',\n",
    "       'shar1_2', 'attr4_2', 'sinc4_2', 'intel4_2', 'fun4_2', 'amb4_2',\n",
    "       'shar4_2', 'attr2_2', 'sinc2_2', 'intel2_2', 'fun2_2', 'amb2_2',\n",
    "       'shar2_2']"
   ]
  },
  {
   "cell_type": "code",
   "execution_count": 12,
   "metadata": {
    "collapsed": true
   },
   "outputs": [],
   "source": [
    "# Normalize two different scales \n",
    "\n",
    "# Normalize 10 point scale\n",
    "sd[ten]=sd[ten].apply(lambda x: ((x-1)/9))\n",
    "\n",
    "# Normalize 100 point scale\n",
    "sd[hrd]=sd[hrd].apply(lambda x: x/100)"
   ]
  },
  {
   "cell_type": "code",
   "execution_count": 72,
   "metadata": {},
   "outputs": [
    {
     "data": {
      "text/plain": [
       "Index(['iid', 'gender', 'wave', 'round', 'order', 'match', 'dec_o', 'attr_o',\n",
       "       'sinc_o', 'intel_o',\n",
       "       ...\n",
       "       'attr3_2', 'sinc3_2', 'intel3_2', 'fun3_2', 'amb3_2', 'attr5_2',\n",
       "       'sinc5_2', 'intel5_2', 'fun5_2', 'amb5_2'],\n",
       "      dtype='object', length=113)"
      ]
     },
     "execution_count": 72,
     "metadata": {},
     "output_type": "execute_result"
    }
   ],
   "source": [
    "# final columns to keep \n",
    "sd.columns"
   ]
  },
  {
   "cell_type": "markdown",
   "metadata": {},
   "source": [
    "### Descriptive Analysis "
   ]
  },
  {
   "cell_type": "code",
   "execution_count": null,
   "metadata": {
    "collapsed": true
   },
   "outputs": [],
   "source": []
  },
  {
   "cell_type": "markdown",
   "metadata": {},
   "source": [
    "### Clustering\n"
   ]
  },
  {
   "cell_type": "markdown",
   "metadata": {},
   "source": [
    "We wanted to classify match/no match based on participants' interests and character attributes from the sign up period. Our initial approach was to check the correlations amoung these variables and drop one variable in pairs with high correlations "
   ]
  },
  {
   "cell_type": "code",
   "execution_count": null,
   "metadata": {
    "collapsed": true
   },
   "outputs": [],
   "source": []
  },
  {
   "cell_type": "code",
   "execution_count": 14,
   "metadata": {
    "collapsed": true
   },
   "outputs": [],
   "source": [
    "# features we want to include in our analysis for sign up period\n",
    "features =['gender','match','round','order','age','field_cd','race','imprace','imprelig','date','go_out',\n",
    "           'sports','tvsports','exercise','dining','museums','art','hiking','gaming',\n",
    "           'clubbing','reading','tv','theater','movies','music','shopping','yoga',\n",
    "           'attr1_1', 'sinc1_1', 'intel1_1', 'fun1_1', 'amb1_1', 'shar1_1',\n",
    "           'attr2_1', 'sinc2_1','intel2_1', 'fun2_1', 'amb2_1', 'shar2_1', 'attr3_1',\n",
    "           'sinc3_1','fun3_1', 'intel3_1', 'amb3_1']"
   ]
  },
  {
   "cell_type": "code",
   "execution_count": 15,
   "metadata": {},
   "outputs": [
    {
     "data": {
      "text/html": [
       "<div>\n",
       "<style>\n",
       "    .dataframe thead tr:only-child th {\n",
       "        text-align: right;\n",
       "    }\n",
       "\n",
       "    .dataframe thead th {\n",
       "        text-align: left;\n",
       "    }\n",
       "\n",
       "    .dataframe tbody tr th {\n",
       "        vertical-align: top;\n",
       "    }\n",
       "</style>\n",
       "<table border=\"1\" class=\"dataframe\">\n",
       "  <thead>\n",
       "    <tr style=\"text-align: right;\">\n",
       "      <th></th>\n",
       "      <th>gender</th>\n",
       "      <th>match</th>\n",
       "      <th>round</th>\n",
       "      <th>order</th>\n",
       "      <th>age</th>\n",
       "      <th>field_cd</th>\n",
       "      <th>race</th>\n",
       "      <th>imprace</th>\n",
       "      <th>imprelig</th>\n",
       "      <th>date</th>\n",
       "      <th>...</th>\n",
       "      <th>sinc2_1</th>\n",
       "      <th>intel2_1</th>\n",
       "      <th>fun2_1</th>\n",
       "      <th>amb2_1</th>\n",
       "      <th>shar2_1</th>\n",
       "      <th>attr3_1</th>\n",
       "      <th>sinc3_1</th>\n",
       "      <th>fun3_1</th>\n",
       "      <th>intel3_1</th>\n",
       "      <th>amb3_1</th>\n",
       "    </tr>\n",
       "  </thead>\n",
       "  <tbody>\n",
       "    <tr>\n",
       "      <th>gender</th>\n",
       "      <td>1.000000</td>\n",
       "      <td>-0.000774</td>\n",
       "      <td>0.070229</td>\n",
       "      <td>0.026965</td>\n",
       "      <td>0.060039</td>\n",
       "      <td>-0.022217</td>\n",
       "      <td>-0.018866</td>\n",
       "      <td>-0.139689</td>\n",
       "      <td>-0.203448</td>\n",
       "      <td>-0.097322</td>\n",
       "      <td>...</td>\n",
       "      <td>0.267425</td>\n",
       "      <td>0.337392</td>\n",
       "      <td>-0.104673</td>\n",
       "      <td>0.367308</td>\n",
       "      <td>-0.132977</td>\n",
       "      <td>-0.151518</td>\n",
       "      <td>-0.146275</td>\n",
       "      <td>-0.149964</td>\n",
       "      <td>0.032592</td>\n",
       "      <td>-0.089540</td>\n",
       "    </tr>\n",
       "    <tr>\n",
       "      <th>match</th>\n",
       "      <td>-0.000774</td>\n",
       "      <td>1.000000</td>\n",
       "      <td>-0.046521</td>\n",
       "      <td>-0.055459</td>\n",
       "      <td>-0.036195</td>\n",
       "      <td>-0.019705</td>\n",
       "      <td>-0.007049</td>\n",
       "      <td>-0.072474</td>\n",
       "      <td>-0.045739</td>\n",
       "      <td>-0.070227</td>\n",
       "      <td>...</td>\n",
       "      <td>-0.019163</td>\n",
       "      <td>0.025170</td>\n",
       "      <td>-0.000703</td>\n",
       "      <td>-0.015996</td>\n",
       "      <td>-0.018417</td>\n",
       "      <td>0.052342</td>\n",
       "      <td>-0.003315</td>\n",
       "      <td>0.074418</td>\n",
       "      <td>0.027993</td>\n",
       "      <td>0.018162</td>\n",
       "    </tr>\n",
       "    <tr>\n",
       "      <th>round</th>\n",
       "      <td>0.070229</td>\n",
       "      <td>-0.046521</td>\n",
       "      <td>1.000000</td>\n",
       "      <td>0.383951</td>\n",
       "      <td>0.084297</td>\n",
       "      <td>0.116780</td>\n",
       "      <td>-0.094549</td>\n",
       "      <td>0.036184</td>\n",
       "      <td>0.091983</td>\n",
       "      <td>0.044689</td>\n",
       "      <td>...</td>\n",
       "      <td>0.076483</td>\n",
       "      <td>0.061555</td>\n",
       "      <td>-0.097805</td>\n",
       "      <td>0.119337</td>\n",
       "      <td>0.027800</td>\n",
       "      <td>-0.017540</td>\n",
       "      <td>0.016036</td>\n",
       "      <td>-0.045023</td>\n",
       "      <td>0.109640</td>\n",
       "      <td>-0.011576</td>\n",
       "    </tr>\n",
       "    <tr>\n",
       "      <th>order</th>\n",
       "      <td>0.026965</td>\n",
       "      <td>-0.055459</td>\n",
       "      <td>0.383951</td>\n",
       "      <td>1.000000</td>\n",
       "      <td>0.032033</td>\n",
       "      <td>0.044513</td>\n",
       "      <td>-0.035992</td>\n",
       "      <td>0.013788</td>\n",
       "      <td>0.035051</td>\n",
       "      <td>0.017029</td>\n",
       "      <td>...</td>\n",
       "      <td>0.029145</td>\n",
       "      <td>0.023456</td>\n",
       "      <td>-0.037270</td>\n",
       "      <td>0.045394</td>\n",
       "      <td>0.010575</td>\n",
       "      <td>-0.006684</td>\n",
       "      <td>0.006111</td>\n",
       "      <td>-0.017156</td>\n",
       "      <td>0.041779</td>\n",
       "      <td>-0.004411</td>\n",
       "    </tr>\n",
       "    <tr>\n",
       "      <th>age</th>\n",
       "      <td>0.060039</td>\n",
       "      <td>-0.036195</td>\n",
       "      <td>0.084297</td>\n",
       "      <td>0.032033</td>\n",
       "      <td>1.000000</td>\n",
       "      <td>0.120188</td>\n",
       "      <td>-0.078671</td>\n",
       "      <td>-0.146059</td>\n",
       "      <td>-0.060383</td>\n",
       "      <td>0.066588</td>\n",
       "      <td>...</td>\n",
       "      <td>0.030310</td>\n",
       "      <td>-0.030686</td>\n",
       "      <td>0.005066</td>\n",
       "      <td>0.023854</td>\n",
       "      <td>-0.018806</td>\n",
       "      <td>0.099402</td>\n",
       "      <td>0.011786</td>\n",
       "      <td>-0.039602</td>\n",
       "      <td>-0.033136</td>\n",
       "      <td>-0.079706</td>\n",
       "    </tr>\n",
       "  </tbody>\n",
       "</table>\n",
       "<p>5 rows × 44 columns</p>\n",
       "</div>"
      ],
      "text/plain": [
       "          gender     match     round     order       age  field_cd      race  \\\n",
       "gender  1.000000 -0.000774  0.070229  0.026965  0.060039 -0.022217 -0.018866   \n",
       "match  -0.000774  1.000000 -0.046521 -0.055459 -0.036195 -0.019705 -0.007049   \n",
       "round   0.070229 -0.046521  1.000000  0.383951  0.084297  0.116780 -0.094549   \n",
       "order   0.026965 -0.055459  0.383951  1.000000  0.032033  0.044513 -0.035992   \n",
       "age     0.060039 -0.036195  0.084297  0.032033  1.000000  0.120188 -0.078671   \n",
       "\n",
       "         imprace  imprelig      date    ...      sinc2_1  intel2_1    fun2_1  \\\n",
       "gender -0.139689 -0.203448 -0.097322    ...     0.267425  0.337392 -0.104673   \n",
       "match  -0.072474 -0.045739 -0.070227    ...    -0.019163  0.025170 -0.000703   \n",
       "round   0.036184  0.091983  0.044689    ...     0.076483  0.061555 -0.097805   \n",
       "order   0.013788  0.035051  0.017029    ...     0.029145  0.023456 -0.037270   \n",
       "age    -0.146059 -0.060383  0.066588    ...     0.030310 -0.030686  0.005066   \n",
       "\n",
       "          amb2_1   shar2_1   attr3_1   sinc3_1    fun3_1  intel3_1    amb3_1  \n",
       "gender  0.367308 -0.132977 -0.151518 -0.146275 -0.149964  0.032592 -0.089540  \n",
       "match  -0.015996 -0.018417  0.052342 -0.003315  0.074418  0.027993  0.018162  \n",
       "round   0.119337  0.027800 -0.017540  0.016036 -0.045023  0.109640 -0.011576  \n",
       "order   0.045394  0.010575 -0.006684  0.006111 -0.017156  0.041779 -0.004411  \n",
       "age     0.023854 -0.018806  0.099402  0.011786 -0.039602 -0.033136 -0.079706  \n",
       "\n",
       "[5 rows x 44 columns]"
      ]
     },
     "execution_count": 15,
     "metadata": {},
     "output_type": "execute_result"
    }
   ],
   "source": [
    "# correlations between features\n",
    "sd[features].corr().head()"
   ]
  },
  {
   "cell_type": "code",
   "execution_count": 16,
   "metadata": {},
   "outputs": [
    {
     "data": {
      "text/plain": [
       "<matplotlib.axes._subplots.AxesSubplot at 0x10a08d470>"
      ]
     },
     "execution_count": 16,
     "metadata": {},
     "output_type": "execute_result"
    },
    {
     "data": {
      "image/png": "[encoded data removed]",
      "text/plain": [
       "<matplotlib.figure.Figure at 0x1a1185fe48>"
      ]
     },
     "metadata": {},
     "output_type": "display_data"
    }
   ],
   "source": [
    "# heatmap of the correlations\n",
    "fig, ax = plt.subplots(figsize=(20,20)) \n",
    "sns.heatmap(sd[features].corr(),linewidths=.5, ax=ax)"
   ]
  },
  {
   "cell_type": "code",
   "execution_count": 17,
   "metadata": {
    "collapsed": true
   },
   "outputs": [],
   "source": [
    "# drop one feature in the pairs that have high correlation\n",
    "keep =['gender','match','order','age','field_cd','race','imprace','income','date',\n",
    "       'exercise','museums','hiking','gaming','clubbing','reading','tv','music','yoga',\n",
    "       'sinc1_1', 'intel1_1','fun1_1', 'amb1_1', 'shar1_1','intel2_1', 'fun2_1',\n",
    "       'sinc3_1','fun3_1', 'intel3_1']"
   ]
  },
  {
   "cell_type": "code",
   "execution_count": 18,
   "metadata": {},
   "outputs": [
    {
     "data": {
      "text/plain": [
       "<matplotlib.axes._subplots.AxesSubplot at 0x1a11c68dd8>"
      ]
     },
     "execution_count": 18,
     "metadata": {},
     "output_type": "execute_result"
    },
    {
     "data": {
      "image/png": "[encoded data removed]",
      "text/plain": [
       "<matplotlib.figure.Figure at 0x1a11c323c8>"
      ]
     },
     "metadata": {},
     "output_type": "display_data"
    }
   ],
   "source": [
    "fig, ax = plt.subplots(figsize=(20,20)) \n",
    "sns.heatmap(sd[keep].corr(),linewidths=.5, ax=ax)"
   ]
  },
  {
   "cell_type": "code",
   "execution_count": null,
   "metadata": {
    "collapsed": true
   },
   "outputs": [],
   "source": [
    "from sklearn import metrics\n",
    "from sklearn.cluster import KMeans\n",
    "from sklearn.cluster import Birch\n",
    "from sklearn.cluster import AgglomerativeClustering\n",
    "\n",
    "bestSil = -1\n",
    "for k in range(2,6):\n",
    "    clus = [KMeans(n_clusters=k,n_jobs=-1), Birch(n_clusters=k), \n",
    "            AgglomerativeClustering(n_clusters=k)]\n",
    "    for cl in clus:\n",
    "        res = cl.fit(temp1)\n",
    "        sil = metrics.silhouette_score(temp1, res.labels_)\n",
    "        print (str(cl)[:10] + ' with k =' +str(k) + \": \" + str(round(sil,4)))\n",
    "        if (sil > bestSil):\n",
    "            bestSil = sil\n",
    "            bestCl = cl"
   ]
  },
  {
   "cell_type": "code",
   "execution_count": null,
   "metadata": {
    "collapsed": true
   },
   "outputs": [],
   "source": [
    "kmeans = KMeans(n_clusters=4)"
   ]
  },
  {
   "cell_type": "code",
   "execution_count": null,
   "metadata": {
    "collapsed": true
   },
   "outputs": [],
   "source": [
    "cluster = kmeans.fit_predict(temp1)"
   ]
  },
  {
   "cell_type": "code",
   "execution_count": null,
   "metadata": {
    "collapsed": true
   },
   "outputs": [],
   "source": [
    "temp1['cluster']=cluster"
   ]
  },
  {
   "cell_type": "code",
   "execution_count": null,
   "metadata": {
    "collapsed": true
   },
   "outputs": [],
   "source": [
    "temp1.groupby('cluster').mean()"
   ]
  },
  {
   "cell_type": "markdown",
   "metadata": {},
   "source": [
    "### Classification"
   ]
  },
  {
   "cell_type": "code",
   "execution_count": 64,
   "metadata": {
    "collapsed": true
   },
   "outputs": [],
   "source": [
    "# select interests\n",
    "interest = ['dec_o','sports','tvsports','exercise','dining','museums','art','hiking',\n",
    "            'gaming','clubbing','reading','tv','theater','movies','music','shopping',\n",
    "            'yoga']"
   ]
  },
  {
   "cell_type": "markdown",
   "metadata": {},
   "source": [
    "Classification over interest on major race group: European/Caucasian-American"
   ]
  },
  {
   "cell_type": "code",
   "execution_count": 65,
   "metadata": {
    "collapsed": true
   },
   "outputs": [],
   "source": [
    "# include waves 1-14\n",
    "# Majority group & interest \n",
    "wave_m_i = sd[sd['race']==2].loc[:, interest]"
   ]
  },
  {
   "cell_type": "code",
   "execution_count": 66,
   "metadata": {},
   "outputs": [
    {
     "data": {
      "text/plain": [
       "3236"
      ]
     },
     "execution_count": 66,
     "metadata": {},
     "output_type": "execute_result"
    },
    {
     "data": {
      "text/plain": [
       "dec_o        0\n",
       "sports      16\n",
       "tvsports    16\n",
       "exercise    16\n",
       "dining      16\n",
       "museums     16\n",
       "art         16\n",
       "hiking      16\n",
       "gaming      16\n",
       "clubbing    16\n",
       "reading     16\n",
       "tv          16\n",
       "theater     16\n",
       "movies      16\n",
       "music       16\n",
       "shopping    16\n",
       "yoga        16\n",
       "dtype: int64"
      ]
     },
     "execution_count": 66,
     "metadata": {},
     "output_type": "execute_result"
    }
   ],
   "source": [
    "len(wave_m_i)\n",
    "wave_m_i.isnull().sum()"
   ]
  },
  {
   "cell_type": "code",
   "execution_count": 147,
   "metadata": {},
   "outputs": [
    {
     "data": {
      "text/plain": [
       "SelectKBest(k=5, score_func=<function f_classif at 0x1a1177aae8>)"
      ]
     },
     "execution_count": 147,
     "metadata": {},
     "output_type": "execute_result"
    },
    {
     "name": "stdout",
     "output_type": "stream",
     "text": [
      "  Feat_names   F_Scores\n",
      "0   exercise  29.087465\n",
      "2   clubbing  23.211395\n",
      "1     dining  17.562699\n",
      "3    reading   8.704325\n",
      "4   shopping   8.145201\n"
     ]
    }
   ],
   "source": [
    "# drop nan value\n",
    "wave_m_i=wave_m_i.dropna(axis=0, how='any')\n",
    "\n",
    "X_m_i, y_m_i = wave_m_i.drop(['dec_o'], axis=1), wave_m_i['dec_o']\n",
    "\n",
    "kb = fs.SelectKBest(k=5)\n",
    "kb.fit(X_m_i, y_m_i)\n",
    "\n",
    "names = X_m_i.columns.values[kb.get_support()]\n",
    "scores = kb.scores_[kb.get_support()]\n",
    "names_scores = list(zip(names, scores))\n",
    "ns_df = pd.DataFrame(data = names_scores, columns=['Feat_names', 'F_Scores'])\n",
    "#Sort the dataframe for better visualization\n",
    "ns_df_sorted = ns_df.sort_values(['F_Scores', 'Feat_names'], ascending = [False, True])\n",
    "print(ns_df_sorted)"
   ]
  },
  {
   "cell_type": "code",
   "execution_count": 161,
   "metadata": {},
   "outputs": [
    {
     "data": {
      "text/plain": [
       "RandomForestRegressor(bootstrap=True, criterion='mse', max_depth=None,\n",
       "           max_features='auto', max_leaf_nodes=None,\n",
       "           min_impurity_decrease=0.0, min_impurity_split=None,\n",
       "           min_samples_leaf=1, min_samples_split=2,\n",
       "           min_weight_fraction_leaf=0.0, n_estimators=100, n_jobs=-1,\n",
       "           oob_score=True, random_state=42, verbose=0, warm_start=False)"
      ]
     },
     "execution_count": 161,
     "metadata": {},
     "output_type": "execute_result"
    },
    {
     "data": {
      "text/plain": [
       "0.71313819273276779"
      ]
     },
     "execution_count": 161,
     "metadata": {},
     "output_type": "execute_result"
    }
   ],
   "source": [
    "# Random Forest \n",
    "from sklearn.ensemble import RandomForestRegressor\n",
    "from sklearn.metrics import roc_auc_score\n",
    "model = RandomForestRegressor(100, oob_score=True, n_jobs=-1, random_state=42)\n",
    "model.fit(X_m_i, y_m_i)\n",
    "roc_auc_score(y_m_i,model.oob_prediction_)"
   ]
  },
  {
   "cell_type": "code",
   "execution_count": 151,
   "metadata": {
    "collapsed": true
   },
   "outputs": [],
   "source": [
    "feature_importances = pd.Series(model.feature_importances_, index = X_m_i.columns)\n",
    "feature_importances.sort_values(inplace=True)"
   ]
  },
  {
   "cell_type": "code",
   "execution_count": 152,
   "metadata": {},
   "outputs": [
    {
     "data": {
      "text/plain": [
       "<matplotlib.axes._subplots.AxesSubplot at 0x1a1333beb8>"
      ]
     },
     "execution_count": 152,
     "metadata": {},
     "output_type": "execute_result"
    },
    {
     "data": {
      "image/png": "[encoded data removed]",
      "text/plain": [
       "<matplotlib.figure.Figure at 0x1a1333bfd0>"
      ]
     },
     "metadata": {},
     "output_type": "display_data"
    }
   ],
   "source": [
    "feature_importances.plot(kind='barh', figsize=(10,8))"
   ]
  },
  {
   "cell_type": "code",
   "execution_count": null,
   "metadata": {
    "collapsed": true
   },
   "outputs": [],
   "source": []
  },
  {
   "cell_type": "code",
   "execution_count": 157,
   "metadata": {
    "collapsed": true
   },
   "outputs": [],
   "source": [
    "# best \n",
    "interest_best = ['dec_o','dining','clubbing','shopping','exercise','reading']\n",
    "#interest_best = ['dec_o','yoga','clubbing','gaming','exercise','tv']\n",
    "wave6_m_i = sd[sd['race']==2].loc[:, interest_best]"
   ]
  },
  {
   "cell_type": "code",
   "execution_count": 158,
   "metadata": {},
   "outputs": [
    {
     "data": {
      "text/plain": [
       "dec_o       0\n",
       "dining      0\n",
       "clubbing    0\n",
       "shopping    0\n",
       "exercise    0\n",
       "reading     0\n",
       "dtype: int64"
      ]
     },
     "execution_count": 158,
     "metadata": {},
     "output_type": "execute_result"
    },
    {
     "data": {
      "text/plain": [
       "1421"
      ]
     },
     "execution_count": 158,
     "metadata": {},
     "output_type": "execute_result"
    },
    {
     "data": {
      "text/plain": [
       "1799"
      ]
     },
     "execution_count": 158,
     "metadata": {},
     "output_type": "execute_result"
    }
   ],
   "source": [
    "wave6_m_i=wave6_m_i.dropna(axis=0, how='any')\n",
    "wave6_m_i.isnull().sum()\n",
    "len(wave6_m_i[wave6_m_i['dec_o']==1])\n",
    "len(wave6_m_i[wave6_m_i['dec_o']==0])"
   ]
  },
  {
   "cell_type": "code",
   "execution_count": 159,
   "metadata": {},
   "outputs": [
    {
     "data": {
      "text/plain": [
       "array([1, 1, 1, ..., 0, 0, 0])"
      ]
     },
     "execution_count": 159,
     "metadata": {},
     "output_type": "execute_result"
    }
   ],
   "source": [
    "X_m_i, y_m_i = wave6_m_i.drop(['dec_o'], axis=1), wave6_m_i['dec_o']\n",
    "\n",
    "dtc = tree.DecisionTreeClassifier(max_depth=2).fit(X_m_i, y_m_i)\n",
    "dtc_labels = dtc.predict(X_m_i)\n",
    "dtc_labels"
   ]
  },
  {
   "cell_type": "code",
   "execution_count": 160,
   "metadata": {},
   "outputs": [
    {
     "data": {
      "image/svg+xml": [
       "<?xml version=\"1.0\" encoding=\"UTF-8\" standalone=\"no\"?>\n",
       "<!DOCTYPE svg PUBLIC \"-//W3C//DTD SVG 1.1//EN\"\n",
       " \"http://www.w3.org/Graphics/SVG/1.1/DTD/svg11.dtd\">\n",
       "<!-- Generated by graphviz version 2.40.1 (20161225.0304)\n",
       " -->\n",
       "<!-- Title: Tree Pages: 1 -->\n",
       "<svg width=\"666pt\" height=\"300pt\"\n",
       " viewBox=\"0.00 0.00 666.05 300.00\" xmlns=\"http://www.w3.org/2000/svg\" xmlns:xlink=\"http://www.w3.org/1999/xlink\">\n",
       "<g id=\"graph0\" class=\"graph\" transform=\"scale(1 1) rotate(0) translate(4 296)\">\n",
       "<title>Tree</title>\n",
       "<polygon fill=\"#ffffff\" stroke=\"transparent\" points=\"-4,4 -4,-296 662.0508,-296 662.0508,4 -4,4\"/>\n",
       "<!-- 0 -->\n",
       "<g id=\"node1\" class=\"node\">\n",
       "<title>0</title>\n",
       "<path fill=\"#e58139\" fill-opacity=\"0.211765\" stroke=\"#000000\" d=\"M392.0762,-292C392.0762,-292 264.9746,-292 264.9746,-292 258.9746,-292 252.9746,-286 252.9746,-280 252.9746,-280 252.9746,-226 252.9746,-226 252.9746,-220 258.9746,-214 264.9746,-214 264.9746,-214 392.0762,-214 392.0762,-214 398.0762,-214 404.0762,-220 404.0762,-226 404.0762,-226 404.0762,-280 404.0762,-280 404.0762,-286 398.0762,-292 392.0762,-292\"/>\n",
       "<text text-anchor=\"start\" x=\"284.9976\" y=\"-276.8\" font-family=\"Helvetica,sans-Serif\" font-size=\"14.00\" fill=\"#000000\">exercise ≤ 6.5</text>\n",
       "<text text-anchor=\"start\" x=\"292.1343\" y=\"-262.8\" font-family=\"Helvetica,sans-Serif\" font-size=\"14.00\" fill=\"#000000\">gini = 0.493</text>\n",
       "<text text-anchor=\"start\" x=\"270.7412\" y=\"-248.8\" font-family=\"Helvetica,sans-Serif\" font-size=\"14.00\" fill=\"#000000\">samples = 100.0%</text>\n",
       "<text text-anchor=\"start\" x=\"261\" y=\"-234.8\" font-family=\"Helvetica,sans-Serif\" font-size=\"14.00\" fill=\"#000000\">value = [0.559, 0.441]</text>\n",
       "<text text-anchor=\"start\" x=\"294.8687\" y=\"-220.8\" font-family=\"Helvetica,sans-Serif\" font-size=\"14.00\" fill=\"#000000\">class = 0.0</text>\n",
       "</g>\n",
       "<!-- 1 -->\n",
       "<g id=\"node2\" class=\"node\">\n",
       "<title>1</title>\n",
       "<path fill=\"#e58139\" fill-opacity=\"0.384314\" stroke=\"#000000\" d=\"M300.5048,-178C300.5048,-178 188.546,-178 188.546,-178 182.546,-178 176.546,-172 176.546,-166 176.546,-166 176.546,-112 176.546,-112 176.546,-106 182.546,-100 188.546,-100 188.546,-100 300.5048,-100 300.5048,-100 306.5048,-100 312.5048,-106 312.5048,-112 312.5048,-112 312.5048,-166 312.5048,-166 312.5048,-172 306.5048,-178 300.5048,-178\"/>\n",
       "<text text-anchor=\"start\" x=\"200.9873\" y=\"-162.8\" font-family=\"Helvetica,sans-Serif\" font-size=\"14.00\" fill=\"#000000\">clubbing ≤ 5.5</text>\n",
       "<text text-anchor=\"start\" x=\"208.1343\" y=\"-148.8\" font-family=\"Helvetica,sans-Serif\" font-size=\"14.00\" fill=\"#000000\">gini = 0.471</text>\n",
       "<text text-anchor=\"start\" x=\"190.6343\" y=\"-134.8\" font-family=\"Helvetica,sans-Serif\" font-size=\"14.00\" fill=\"#000000\">samples = 45.2%</text>\n",
       "<text text-anchor=\"start\" x=\"184.7861\" y=\"-120.8\" font-family=\"Helvetica,sans-Serif\" font-size=\"14.00\" fill=\"#000000\">value = [0.62, 0.38]</text>\n",
       "<text text-anchor=\"start\" x=\"210.8687\" y=\"-106.8\" font-family=\"Helvetica,sans-Serif\" font-size=\"14.00\" fill=\"#000000\">class = 0.0</text>\n",
       "</g>\n",
       "<!-- 0&#45;&gt;1 -->\n",
       "<g id=\"edge1\" class=\"edge\">\n",
       "<title>0&#45;&gt;1</title>\n",
       "<path fill=\"none\" stroke=\"#000000\" d=\"M299.6174,-213.7677C293.1498,-204.9903 286.222,-195.5883 279.5373,-186.5161\"/>\n",
       "<polygon fill=\"#000000\" stroke=\"#000000\" points=\"282.2364,-184.279 273.4867,-178.3046 276.601,-188.4314 282.2364,-184.279\"/>\n",
       "<text text-anchor=\"middle\" x=\"269.7416\" y=\"-198.8225\" font-family=\"Helvetica,sans-Serif\" font-size=\"14.00\" fill=\"#000000\">True</text>\n",
       "</g>\n",
       "<!-- 4 -->\n",
       "<g id=\"node5\" class=\"node\">\n",
       "<title>4</title>\n",
       "<path fill=\"#e58139\" fill-opacity=\"0.035294\" stroke=\"#000000\" d=\"M477.0762,-178C477.0762,-178 349.9746,-178 349.9746,-178 343.9746,-178 337.9746,-172 337.9746,-166 337.9746,-166 337.9746,-112 337.9746,-112 337.9746,-106 343.9746,-100 349.9746,-100 349.9746,-100 477.0762,-100 477.0762,-100 483.0762,-100 489.0762,-106 489.0762,-112 489.0762,-112 489.0762,-166 489.0762,-166 489.0762,-172 483.0762,-178 477.0762,-178\"/>\n",
       "<text text-anchor=\"start\" x=\"377.3804\" y=\"-162.8\" font-family=\"Helvetica,sans-Serif\" font-size=\"14.00\" fill=\"#000000\">dining ≤ 9.5</text>\n",
       "<text text-anchor=\"start\" x=\"384.9204\" y=\"-148.8\" font-family=\"Helvetica,sans-Serif\" font-size=\"14.00\" fill=\"#000000\">gini = 0.5</text>\n",
       "<text text-anchor=\"start\" x=\"359.6343\" y=\"-134.8\" font-family=\"Helvetica,sans-Serif\" font-size=\"14.00\" fill=\"#000000\">samples = 54.8%</text>\n",
       "<text text-anchor=\"start\" x=\"346\" y=\"-120.8\" font-family=\"Helvetica,sans-Serif\" font-size=\"14.00\" fill=\"#000000\">value = [0.509, 0.491]</text>\n",
       "<text text-anchor=\"start\" x=\"379.8687\" y=\"-106.8\" font-family=\"Helvetica,sans-Serif\" font-size=\"14.00\" fill=\"#000000\">class = 0.0</text>\n",
       "</g>\n",
       "<!-- 0&#45;&gt;4 -->\n",
       "<g id=\"edge4\" class=\"edge\">\n",
       "<title>0&#45;&gt;4</title>\n",
       "<path fill=\"none\" stroke=\"#000000\" d=\"M357.7776,-213.7677C364.3221,-204.9903 371.3324,-195.5883 378.0967,-186.5161\"/>\n",
       "<polygon fill=\"#000000\" stroke=\"#000000\" points=\"381.0477,-188.4136 384.2193,-178.3046 375.4359,-184.2294 381.0477,-188.4136\"/>\n",
       "<text text-anchor=\"middle\" x=\"387.8244\" y=\"-198.8433\" font-family=\"Helvetica,sans-Serif\" font-size=\"14.00\" fill=\"#000000\">False</text>\n",
       "</g>\n",
       "<!-- 2 -->\n",
       "<g id=\"node3\" class=\"node\">\n",
       "<title>2</title>\n",
       "<path fill=\"#e58139\" fill-opacity=\"0.588235\" stroke=\"#000000\" d=\"M139.0762,-64C139.0762,-64 11.9746,-64 11.9746,-64 5.9746,-64 -.0254,-58 -.0254,-52 -.0254,-52 -.0254,-12 -.0254,-12 -.0254,-6 5.9746,0 11.9746,0 11.9746,0 139.0762,0 139.0762,0 145.0762,0 151.0762,-6 151.0762,-12 151.0762,-12 151.0762,-52 151.0762,-52 151.0762,-58 145.0762,-64 139.0762,-64\"/>\n",
       "<text text-anchor=\"start\" x=\"39.1343\" y=\"-48.8\" font-family=\"Helvetica,sans-Serif\" font-size=\"14.00\" fill=\"#000000\">gini = 0.413</text>\n",
       "<text text-anchor=\"start\" x=\"21.6343\" y=\"-34.8\" font-family=\"Helvetica,sans-Serif\" font-size=\"14.00\" fill=\"#000000\">samples = 20.7%</text>\n",
       "<text text-anchor=\"start\" x=\"8\" y=\"-20.8\" font-family=\"Helvetica,sans-Serif\" font-size=\"14.00\" fill=\"#000000\">value = [0.708, 0.292]</text>\n",
       "<text text-anchor=\"start\" x=\"41.8687\" y=\"-6.8\" font-family=\"Helvetica,sans-Serif\" font-size=\"14.00\" fill=\"#000000\">class = 0.0</text>\n",
       "</g>\n",
       "<!-- 1&#45;&gt;2 -->\n",
       "<g id=\"edge2\" class=\"edge\">\n",
       "<title>1&#45;&gt;2</title>\n",
       "<path fill=\"none\" stroke=\"#000000\" d=\"M182.5557,-99.7647C166.8972,-89.8508 150.1251,-79.2318 134.6129,-69.4105\"/>\n",
       "<polygon fill=\"#000000\" stroke=\"#000000\" points=\"136.461,-66.438 126.1397,-64.0458 132.7164,-72.3523 136.461,-66.438\"/>\n",
       "</g>\n",
       "<!-- 3 -->\n",
       "<g id=\"node4\" class=\"node\">\n",
       "<title>3</title>\n",
       "<path fill=\"#e58139\" fill-opacity=\"0.164706\" stroke=\"#000000\" d=\"M308.0762,-64C308.0762,-64 180.9746,-64 180.9746,-64 174.9746,-64 168.9746,-58 168.9746,-52 168.9746,-52 168.9746,-12 168.9746,-12 168.9746,-6 174.9746,0 180.9746,0 180.9746,0 308.0762,0 308.0762,0 314.0762,0 320.0762,-6 320.0762,-12 320.0762,-12 320.0762,-52 320.0762,-52 320.0762,-58 314.0762,-64 308.0762,-64\"/>\n",
       "<text text-anchor=\"start\" x=\"208.1343\" y=\"-48.8\" font-family=\"Helvetica,sans-Serif\" font-size=\"14.00\" fill=\"#000000\">gini = 0.496</text>\n",
       "<text text-anchor=\"start\" x=\"190.6343\" y=\"-34.8\" font-family=\"Helvetica,sans-Serif\" font-size=\"14.00\" fill=\"#000000\">samples = 24.5%</text>\n",
       "<text text-anchor=\"start\" x=\"177\" y=\"-20.8\" font-family=\"Helvetica,sans-Serif\" font-size=\"14.00\" fill=\"#000000\">value = [0.544, 0.456]</text>\n",
       "<text text-anchor=\"start\" x=\"210.8687\" y=\"-6.8\" font-family=\"Helvetica,sans-Serif\" font-size=\"14.00\" fill=\"#000000\">class = 0.0</text>\n",
       "</g>\n",
       "<!-- 1&#45;&gt;3 -->\n",
       "<g id=\"edge3\" class=\"edge\">\n",
       "<title>1&#45;&gt;3</title>\n",
       "<path fill=\"none\" stroke=\"#000000\" d=\"M244.5254,-99.7647C244.5254,-91.4537 244.5254,-82.6472 244.5254,-74.2305\"/>\n",
       "<polygon fill=\"#000000\" stroke=\"#000000\" points=\"248.0255,-74.2168 244.5254,-64.2169 241.0255,-74.2169 248.0255,-74.2168\"/>\n",
       "</g>\n",
       "<!-- 5 -->\n",
       "<g id=\"node6\" class=\"node\">\n",
       "<title>5</title>\n",
       "<path fill=\"#e58139\" fill-opacity=\"0.098039\" stroke=\"#000000\" d=\"M477.0762,-64C477.0762,-64 349.9746,-64 349.9746,-64 343.9746,-64 337.9746,-58 337.9746,-52 337.9746,-52 337.9746,-12 337.9746,-12 337.9746,-6 343.9746,0 349.9746,0 349.9746,0 477.0762,0 477.0762,0 483.0762,0 489.0762,-6 489.0762,-12 489.0762,-12 489.0762,-52 489.0762,-52 489.0762,-58 483.0762,-64 477.0762,-64\"/>\n",
       "<text text-anchor=\"start\" x=\"377.1343\" y=\"-48.8\" font-family=\"Helvetica,sans-Serif\" font-size=\"14.00\" fill=\"#000000\">gini = 0.499</text>\n",
       "<text text-anchor=\"start\" x=\"359.6343\" y=\"-34.8\" font-family=\"Helvetica,sans-Serif\" font-size=\"14.00\" fill=\"#000000\">samples = 46.2%</text>\n",
       "<text text-anchor=\"start\" x=\"346\" y=\"-20.8\" font-family=\"Helvetica,sans-Serif\" font-size=\"14.00\" fill=\"#000000\">value = [0.526, 0.474]</text>\n",
       "<text text-anchor=\"start\" x=\"379.8687\" y=\"-6.8\" font-family=\"Helvetica,sans-Serif\" font-size=\"14.00\" fill=\"#000000\">class = 0.0</text>\n",
       "</g>\n",
       "<!-- 4&#45;&gt;5 -->\n",
       "<g id=\"edge5\" class=\"edge\">\n",
       "<title>4&#45;&gt;5</title>\n",
       "<path fill=\"none\" stroke=\"#000000\" d=\"M413.5254,-99.7647C413.5254,-91.4537 413.5254,-82.6472 413.5254,-74.2305\"/>\n",
       "<polygon fill=\"#000000\" stroke=\"#000000\" points=\"417.0255,-74.2168 413.5254,-64.2169 410.0255,-74.2169 417.0255,-74.2168\"/>\n",
       "</g>\n",
       "<!-- 6 -->\n",
       "<g id=\"node7\" class=\"node\">\n",
       "<title>6</title>\n",
       "<path fill=\"#399de5\" fill-opacity=\"0.286275\" stroke=\"#000000\" d=\"M646.0762,-64C646.0762,-64 518.9746,-64 518.9746,-64 512.9746,-64 506.9746,-58 506.9746,-52 506.9746,-52 506.9746,-12 506.9746,-12 506.9746,-6 512.9746,0 518.9746,0 518.9746,0 646.0762,0 646.0762,0 652.0762,0 658.0762,-6 658.0762,-12 658.0762,-12 658.0762,-52 658.0762,-52 658.0762,-58 652.0762,-64 646.0762,-64\"/>\n",
       "<text text-anchor=\"start\" x=\"546.1343\" y=\"-48.8\" font-family=\"Helvetica,sans-Serif\" font-size=\"14.00\" fill=\"#000000\">gini = 0.486</text>\n",
       "<text text-anchor=\"start\" x=\"532.5273\" y=\"-34.8\" font-family=\"Helvetica,sans-Serif\" font-size=\"14.00\" fill=\"#000000\">samples = 8.6%</text>\n",
       "<text text-anchor=\"start\" x=\"515\" y=\"-20.8\" font-family=\"Helvetica,sans-Serif\" font-size=\"14.00\" fill=\"#000000\">value = [0.417, 0.583]</text>\n",
       "<text text-anchor=\"start\" x=\"548.8687\" y=\"-6.8\" font-family=\"Helvetica,sans-Serif\" font-size=\"14.00\" fill=\"#000000\">class = 1.0</text>\n",
       "</g>\n",
       "<!-- 4&#45;&gt;6 -->\n",
       "<g id=\"edge6\" class=\"edge\">\n",
       "<title>4&#45;&gt;6</title>\n",
       "<path fill=\"none\" stroke=\"#000000\" d=\"M475.4951,-99.7647C491.1536,-89.8508 507.9256,-79.2318 523.4378,-69.4105\"/>\n",
       "<polygon fill=\"#000000\" stroke=\"#000000\" points=\"525.3344,-72.3523 531.9111,-64.0458 521.5898,-66.438 525.3344,-72.3523\"/>\n",
       "</g>\n",
       "</g>\n",
       "</svg>\n"
      ],
      "text/plain": [
       "<graphviz.files.Source at 0x1a13731550>"
      ]
     },
     "execution_count": 160,
     "metadata": {},
     "output_type": "execute_result"
    }
   ],
   "source": [
    "import graphviz\n",
    "dot_data = sk.tree.export_graphviz(dtc, out_file=None, \n",
    "                         feature_names=list(X_m_i.columns),  \n",
    "                        #class_names = ['1.0' if i == 1 else '0.0' for i in y.unique()] ,\n",
    "                         class_names = ['1.0' if i == 1 else '0.0' for i in dtc.classes_] ,\n",
    "                        #class_names =[i for i in temp1['match'].unique()],\n",
    "                         filled=True, rounded=True,  \n",
    "                         special_characters=True, \n",
    "                         proportion=True,\n",
    "                        )  \n",
    "graph = graphviz.Source(dot_data)  \n",
    "graph"
   ]
  },
  {
   "cell_type": "markdown",
   "metadata": {},
   "source": [
    "Classification over interest on minor race group: European/Caucasian-American"
   ]
  },
  {
   "cell_type": "code",
   "execution_count": 73,
   "metadata": {
    "collapsed": true
   },
   "outputs": [],
   "source": [
    "wave_n_i = sd[(sd['race']==1)|(sd['race']==5)].loc[:, interest]"
   ]
  },
  {
   "cell_type": "code",
   "execution_count": 74,
   "metadata": {},
   "outputs": [
    {
     "data": {
      "text/plain": [
       "SelectKBest(k=5, score_func=<function f_classif at 0x1a1177aae8>)"
      ]
     },
     "execution_count": 74,
     "metadata": {},
     "output_type": "execute_result"
    },
    {
     "name": "stdout",
     "output_type": "stream",
     "text": [
      "  Feat_names   F_Scores\n",
      "2     hiking  32.002426\n",
      "0    museums  20.829335\n",
      "4       yoga  20.387507\n",
      "1        art  19.893374\n",
      "3    theater  12.018080\n"
     ]
    }
   ],
   "source": [
    "wave_n_i=wave_n_i.dropna(axis=0, how='any')\n",
    "\n",
    "X_n_i, y_n_i = wave_n_i.drop(['dec_o'], axis=1), wave_n_i['dec_o']\n",
    "\n",
    "kb = fs.SelectKBest(k=5)\n",
    "kb.fit(X_n_i, y_n_i)\n",
    "\n",
    "names = X_n_i.columns.values[kb.get_support()]\n",
    "scores = kb.scores_[kb.get_support()]\n",
    "names_scores = list(zip(names, scores))\n",
    "ns_df = pd.DataFrame(data = names_scores, columns=['Feat_names', 'F_Scores'])\n",
    "#Sort the dataframe for better visualization\n",
    "ns_df_sorted = ns_df.sort_values(['F_Scores', 'Feat_names'], ascending = [False, True])\n",
    "print(ns_df_sorted)"
   ]
  },
  {
   "cell_type": "code",
   "execution_count": 75,
   "metadata": {
    "collapsed": true
   },
   "outputs": [],
   "source": [
    "interest_best = ['dec_o','hiking','museums','art','theater','yoga']\n",
    "wave_n_i = sd[(sd['race']==1)|(sd['race']==5)].loc[:, interest_best]"
   ]
  },
  {
   "cell_type": "code",
   "execution_count": 76,
   "metadata": {},
   "outputs": [
    {
     "data": {
      "text/plain": [
       "dec_o      0\n",
       "hiking     0\n",
       "museums    0\n",
       "art        0\n",
       "theater    0\n",
       "yoga       0\n",
       "dtype: int64"
      ]
     },
     "execution_count": 76,
     "metadata": {},
     "output_type": "execute_result"
    },
    {
     "data": {
      "text/plain": [
       "129"
      ]
     },
     "execution_count": 76,
     "metadata": {},
     "output_type": "execute_result"
    },
    {
     "data": {
      "text/plain": [
       "181"
      ]
     },
     "execution_count": 76,
     "metadata": {},
     "output_type": "execute_result"
    }
   ],
   "source": [
    "wave_n_i=wave_n_i.dropna(axis=0, how='any')\n",
    "wave_n_i.isnull().sum()\n",
    "len(wave_n_i[wave_n_i['dec_o']==1])\n",
    "len(wave_n_i[wave_n_i['dec_o']==0])"
   ]
  },
  {
   "cell_type": "code",
   "execution_count": 77,
   "metadata": {},
   "outputs": [
    {
     "data": {
      "text/plain": [
       "array([0, 0, 0, 0, 0, 0, 0, 0, 0, 0, 0, 0, 0, 0, 0, 0, 0, 0, 0, 0, 0, 0, 0,\n",
       "       0, 0, 0, 0, 0, 0, 0, 0, 0, 0, 0, 0, 0, 0, 0, 0, 0, 0, 0, 0, 0, 0, 0,\n",
       "       0, 0, 0, 0, 0, 0, 0, 0, 0, 0, 0, 0, 0, 0, 0, 0, 0, 0, 0, 0, 0, 0, 0,\n",
       "       0, 0, 0, 0, 0, 0, 0, 0, 0, 0, 0, 0, 0, 0, 0, 0, 0, 0, 0, 0, 0, 0, 0,\n",
       "       0, 0, 0, 0, 0, 0, 0, 0, 0, 0, 0, 0, 0, 0, 0, 0, 1, 1, 1, 1, 1, 1, 1,\n",
       "       1, 1, 1, 1, 1, 1, 1, 1, 1, 0, 0, 0, 0, 0, 0, 0, 0, 0, 0, 0, 0, 0, 0,\n",
       "       0, 0, 1, 1, 1, 1, 1, 1, 1, 1, 1, 1, 0, 0, 0, 0, 0, 0, 0, 0, 0, 0, 0,\n",
       "       0, 0, 0, 0, 0, 0, 0, 0, 0, 0, 0, 0, 0, 0, 0, 0, 0, 0, 0, 1, 1, 1, 1,\n",
       "       1, 1, 1, 1, 1, 1, 1, 1, 1, 1, 1, 1, 1, 1, 1, 1, 0, 0, 0, 0, 0, 0, 0,\n",
       "       0, 0, 0, 0, 0, 0, 0, 0, 0, 0, 0, 0, 0, 0, 0, 0, 0, 0, 0, 0, 0, 0, 0,\n",
       "       0, 0, 0, 0, 0, 0, 0, 0, 0, 0, 0, 0, 0, 0, 0, 0, 0, 0, 0, 0, 0, 0, 0,\n",
       "       0, 0, 0, 0, 0, 0, 0, 0, 0, 0, 0, 0, 0, 0, 0, 0, 0, 0, 0, 0, 0, 0, 0,\n",
       "       0, 0, 0, 0, 0, 0, 0, 0, 0, 0, 0, 0, 0, 0, 0, 0, 0, 0, 0, 0, 0, 0, 0,\n",
       "       0, 0, 0, 0, 0, 0, 0, 0, 0, 0, 0])"
      ]
     },
     "execution_count": 77,
     "metadata": {},
     "output_type": "execute_result"
    }
   ],
   "source": [
    "X_n_i, y_n_i = wave_n_i.drop(['dec_o'], axis=1), wave_n_i['dec_o']\n",
    "\n",
    "dtc = tree.DecisionTreeClassifier(max_depth=2).fit(X_n_i, y_n_i)\n",
    "dtc_labels = dtc.predict(X_n_i)\n",
    "dtc_labels"
   ]
  },
  {
   "cell_type": "code",
   "execution_count": 78,
   "metadata": {},
   "outputs": [
    {
     "data": {
      "image/svg+xml": [
       "<?xml version=\"1.0\" encoding=\"UTF-8\" standalone=\"no\"?>\n",
       "<!DOCTYPE svg PUBLIC \"-//W3C//DTD SVG 1.1//EN\"\n",
       " \"http://www.w3.org/Graphics/SVG/1.1/DTD/svg11.dtd\">\n",
       "<!-- Generated by graphviz version 2.40.1 (20161225.0304)\n",
       " -->\n",
       "<!-- Title: Tree Pages: 1 -->\n",
       "<svg width=\"634pt\" height=\"300pt\"\n",
       " viewBox=\"0.00 0.00 634.48 300.00\" xmlns=\"http://www.w3.org/2000/svg\" xmlns:xlink=\"http://www.w3.org/1999/xlink\">\n",
       "<g id=\"graph0\" class=\"graph\" transform=\"scale(1 1) rotate(0) translate(4 296)\">\n",
       "<title>Tree</title>\n",
       "<polygon fill=\"#ffffff\" stroke=\"transparent\" points=\"-4,4 -4,-296 630.4785,-296 630.4785,4 -4,4\"/>\n",
       "<!-- 0 -->\n",
       "<g id=\"node1\" class=\"node\">\n",
       "<title>0</title>\n",
       "<path fill=\"#e58139\" fill-opacity=\"0.286275\" stroke=\"#000000\" d=\"M392.0762,-292C392.0762,-292 264.9746,-292 264.9746,-292 258.9746,-292 252.9746,-286 252.9746,-280 252.9746,-280 252.9746,-226 252.9746,-226 252.9746,-220 258.9746,-214 264.9746,-214 264.9746,-214 392.0762,-214 392.0762,-214 398.0762,-214 404.0762,-220 404.0762,-226 404.0762,-226 404.0762,-280 404.0762,-280 404.0762,-286 398.0762,-292 392.0762,-292\"/>\n",
       "<text text-anchor=\"start\" x=\"302.894\" y=\"-276.8\" font-family=\"Helvetica,sans-Serif\" font-size=\"14.00\" fill=\"#000000\">art ≤ 8.5</text>\n",
       "<text text-anchor=\"start\" x=\"292.1343\" y=\"-262.8\" font-family=\"Helvetica,sans-Serif\" font-size=\"14.00\" fill=\"#000000\">gini = 0.486</text>\n",
       "<text text-anchor=\"start\" x=\"270.7412\" y=\"-248.8\" font-family=\"Helvetica,sans-Serif\" font-size=\"14.00\" fill=\"#000000\">samples = 100.0%</text>\n",
       "<text text-anchor=\"start\" x=\"261\" y=\"-234.8\" font-family=\"Helvetica,sans-Serif\" font-size=\"14.00\" fill=\"#000000\">value = [0.584, 0.416]</text>\n",
       "<text text-anchor=\"start\" x=\"294.8687\" y=\"-220.8\" font-family=\"Helvetica,sans-Serif\" font-size=\"14.00\" fill=\"#000000\">class = 0.0</text>\n",
       "</g>\n",
       "<!-- 1 -->\n",
       "<g id=\"node2\" class=\"node\">\n",
       "<title>1</title>\n",
       "<path fill=\"#e58139\" fill-opacity=\"0.454902\" stroke=\"#000000\" d=\"M308.0762,-178C308.0762,-178 180.9746,-178 180.9746,-178 174.9746,-178 168.9746,-172 168.9746,-166 168.9746,-166 168.9746,-112 168.9746,-112 168.9746,-106 174.9746,-100 180.9746,-100 180.9746,-100 308.0762,-100 308.0762,-100 314.0762,-100 320.0762,-106 320.0762,-112 320.0762,-112 320.0762,-166 320.0762,-166 320.0762,-172 314.0762,-178 308.0762,-178\"/>\n",
       "<text text-anchor=\"start\" x=\"208.7734\" y=\"-162.8\" font-family=\"Helvetica,sans-Serif\" font-size=\"14.00\" fill=\"#000000\">hiking ≤ 2.5</text>\n",
       "<text text-anchor=\"start\" x=\"208.1343\" y=\"-148.8\" font-family=\"Helvetica,sans-Serif\" font-size=\"14.00\" fill=\"#000000\">gini = 0.456</text>\n",
       "<text text-anchor=\"start\" x=\"190.6343\" y=\"-134.8\" font-family=\"Helvetica,sans-Serif\" font-size=\"14.00\" fill=\"#000000\">samples = 85.2%</text>\n",
       "<text text-anchor=\"start\" x=\"177\" y=\"-120.8\" font-family=\"Helvetica,sans-Serif\" font-size=\"14.00\" fill=\"#000000\">value = [0.648, 0.352]</text>\n",
       "<text text-anchor=\"start\" x=\"210.8687\" y=\"-106.8\" font-family=\"Helvetica,sans-Serif\" font-size=\"14.00\" fill=\"#000000\">class = 0.0</text>\n",
       "</g>\n",
       "<!-- 0&#45;&gt;1 -->\n",
       "<g id=\"edge1\" class=\"edge\">\n",
       "<title>0&#45;&gt;1</title>\n",
       "<path fill=\"none\" stroke=\"#000000\" d=\"M299.6174,-213.7677C293.1498,-204.9903 286.222,-195.5883 279.5373,-186.5161\"/>\n",
       "<polygon fill=\"#000000\" stroke=\"#000000\" points=\"282.2364,-184.279 273.4867,-178.3046 276.601,-188.4314 282.2364,-184.279\"/>\n",
       "<text text-anchor=\"middle\" x=\"269.7416\" y=\"-198.8225\" font-family=\"Helvetica,sans-Serif\" font-size=\"14.00\" fill=\"#000000\">True</text>\n",
       "</g>\n",
       "<!-- 4 -->\n",
       "<g id=\"node5\" class=\"node\">\n",
       "<title>4</title>\n",
       "<path fill=\"#399de5\" fill-opacity=\"0.721569\" stroke=\"#000000\" d=\"M477.0762,-178C477.0762,-178 349.9746,-178 349.9746,-178 343.9746,-178 337.9746,-172 337.9746,-166 337.9746,-166 337.9746,-112 337.9746,-112 337.9746,-106 343.9746,-100 349.9746,-100 349.9746,-100 477.0762,-100 477.0762,-100 483.0762,-100 489.0762,-106 489.0762,-112 489.0762,-112 489.0762,-166 489.0762,-166 489.0762,-172 483.0762,-178 477.0762,-178\"/>\n",
       "<text text-anchor=\"start\" x=\"377.7734\" y=\"-162.8\" font-family=\"Helvetica,sans-Serif\" font-size=\"14.00\" fill=\"#000000\">hiking ≤ 9.0</text>\n",
       "<text text-anchor=\"start\" x=\"381.0273\" y=\"-148.8\" font-family=\"Helvetica,sans-Serif\" font-size=\"14.00\" fill=\"#000000\">gini = 0.34</text>\n",
       "<text text-anchor=\"start\" x=\"359.6343\" y=\"-134.8\" font-family=\"Helvetica,sans-Serif\" font-size=\"14.00\" fill=\"#000000\">samples = 14.8%</text>\n",
       "<text text-anchor=\"start\" x=\"346\" y=\"-120.8\" font-family=\"Helvetica,sans-Serif\" font-size=\"14.00\" fill=\"#000000\">value = [0.217, 0.783]</text>\n",
       "<text text-anchor=\"start\" x=\"379.8687\" y=\"-106.8\" font-family=\"Helvetica,sans-Serif\" font-size=\"14.00\" fill=\"#000000\">class = 1.0</text>\n",
       "</g>\n",
       "<!-- 0&#45;&gt;4 -->\n",
       "<g id=\"edge4\" class=\"edge\">\n",
       "<title>0&#45;&gt;4</title>\n",
       "<path fill=\"none\" stroke=\"#000000\" d=\"M357.7776,-213.7677C364.3221,-204.9903 371.3324,-195.5883 378.0967,-186.5161\"/>\n",
       "<polygon fill=\"#000000\" stroke=\"#000000\" points=\"381.0477,-188.4136 384.2193,-178.3046 375.4359,-184.2294 381.0477,-188.4136\"/>\n",
       "<text text-anchor=\"middle\" x=\"387.8244\" y=\"-198.8433\" font-family=\"Helvetica,sans-Serif\" font-size=\"14.00\" fill=\"#000000\">False</text>\n",
       "</g>\n",
       "<!-- 2 -->\n",
       "<g id=\"node3\" class=\"node\">\n",
       "<title>2</title>\n",
       "<path fill=\"#e58139\" fill-opacity=\"0.756863\" stroke=\"#000000\" d=\"M139.0762,-64C139.0762,-64 11.9746,-64 11.9746,-64 5.9746,-64 -.0254,-58 -.0254,-52 -.0254,-52 -.0254,-12 -.0254,-12 -.0254,-6 5.9746,0 11.9746,0 11.9746,0 139.0762,0 139.0762,0 145.0762,0 151.0762,-6 151.0762,-12 151.0762,-12 151.0762,-52 151.0762,-52 151.0762,-58 145.0762,-64 139.0762,-64\"/>\n",
       "<text text-anchor=\"start\" x=\"39.1343\" y=\"-48.8\" font-family=\"Helvetica,sans-Serif\" font-size=\"14.00\" fill=\"#000000\">gini = 0.313</text>\n",
       "<text text-anchor=\"start\" x=\"21.6343\" y=\"-34.8\" font-family=\"Helvetica,sans-Serif\" font-size=\"14.00\" fill=\"#000000\">samples = 23.2%</text>\n",
       "<text text-anchor=\"start\" x=\"8\" y=\"-20.8\" font-family=\"Helvetica,sans-Serif\" font-size=\"14.00\" fill=\"#000000\">value = [0.806, 0.194]</text>\n",
       "<text text-anchor=\"start\" x=\"41.8687\" y=\"-6.8\" font-family=\"Helvetica,sans-Serif\" font-size=\"14.00\" fill=\"#000000\">class = 0.0</text>\n",
       "</g>\n",
       "<!-- 1&#45;&gt;2 -->\n",
       "<g id=\"edge2\" class=\"edge\">\n",
       "<title>1&#45;&gt;2</title>\n",
       "<path fill=\"none\" stroke=\"#000000\" d=\"M182.5557,-99.7647C166.8972,-89.8508 150.1251,-79.2318 134.6129,-69.4105\"/>\n",
       "<polygon fill=\"#000000\" stroke=\"#000000\" points=\"136.461,-66.438 126.1397,-64.0458 132.7164,-72.3523 136.461,-66.438\"/>\n",
       "</g>\n",
       "<!-- 3 -->\n",
       "<g id=\"node4\" class=\"node\">\n",
       "<title>3</title>\n",
       "<path fill=\"#e58139\" fill-opacity=\"0.301961\" stroke=\"#000000\" d=\"M307.5439,-64C307.5439,-64 181.5068,-64 181.5068,-64 175.5068,-64 169.5068,-58 169.5068,-52 169.5068,-52 169.5068,-12 169.5068,-12 169.5068,-6 175.5068,0 181.5068,0 181.5068,0 307.5439,0 307.5439,0 313.5439,0 319.5439,-6 319.5439,-12 319.5439,-12 319.5439,-52 319.5439,-52 319.5439,-58 313.5439,-64 307.5439,-64\"/>\n",
       "<text text-anchor=\"start\" x=\"208.1343\" y=\"-48.8\" font-family=\"Helvetica,sans-Serif\" font-size=\"14.00\" fill=\"#000000\">gini = 0.484</text>\n",
       "<text text-anchor=\"start\" x=\"190.6343\" y=\"-34.8\" font-family=\"Helvetica,sans-Serif\" font-size=\"14.00\" fill=\"#000000\">samples = 61.9%</text>\n",
       "<text text-anchor=\"start\" x=\"177.5161\" y=\"-20.8\" font-family=\"Helvetica,sans-Serif\" font-size=\"14.00\" fill=\"#000000\">value = [0.589, 0.411]</text>\n",
       "<text text-anchor=\"start\" x=\"210.8687\" y=\"-6.8\" font-family=\"Helvetica,sans-Serif\" font-size=\"14.00\" fill=\"#000000\">class = 0.0</text>\n",
       "</g>\n",
       "<!-- 1&#45;&gt;3 -->\n",
       "<g id=\"edge3\" class=\"edge\">\n",
       "<title>1&#45;&gt;3</title>\n",
       "<path fill=\"none\" stroke=\"#000000\" d=\"M244.5254,-99.7647C244.5254,-91.4537 244.5254,-82.6472 244.5254,-74.2305\"/>\n",
       "<polygon fill=\"#000000\" stroke=\"#000000\" points=\"248.0255,-74.2168 244.5254,-64.2169 241.0255,-74.2169 248.0255,-74.2168\"/>\n",
       "</g>\n",
       "<!-- 5 -->\n",
       "<g id=\"node6\" class=\"node\">\n",
       "<title>5</title>\n",
       "<path fill=\"#399de5\" fill-opacity=\"0.376471\" stroke=\"#000000\" d=\"M477.0762,-64C477.0762,-64 349.9746,-64 349.9746,-64 343.9746,-64 337.9746,-58 337.9746,-52 337.9746,-52 337.9746,-12 337.9746,-12 337.9746,-6 343.9746,0 349.9746,0 349.9746,0 477.0762,0 477.0762,0 483.0762,0 489.0762,-6 489.0762,-12 489.0762,-12 489.0762,-52 489.0762,-52 489.0762,-58 483.0762,-64 477.0762,-64\"/>\n",
       "<text text-anchor=\"start\" x=\"377.1343\" y=\"-48.8\" font-family=\"Helvetica,sans-Serif\" font-size=\"14.00\" fill=\"#000000\">gini = 0.473</text>\n",
       "<text text-anchor=\"start\" x=\"363.5273\" y=\"-34.8\" font-family=\"Helvetica,sans-Serif\" font-size=\"14.00\" fill=\"#000000\">samples = 8.4%</text>\n",
       "<text text-anchor=\"start\" x=\"346\" y=\"-20.8\" font-family=\"Helvetica,sans-Serif\" font-size=\"14.00\" fill=\"#000000\">value = [0.385, 0.615]</text>\n",
       "<text text-anchor=\"start\" x=\"379.8687\" y=\"-6.8\" font-family=\"Helvetica,sans-Serif\" font-size=\"14.00\" fill=\"#000000\">class = 1.0</text>\n",
       "</g>\n",
       "<!-- 4&#45;&gt;5 -->\n",
       "<g id=\"edge5\" class=\"edge\">\n",
       "<title>4&#45;&gt;5</title>\n",
       "<path fill=\"none\" stroke=\"#000000\" d=\"M413.5254,-99.7647C413.5254,-91.4537 413.5254,-82.6472 413.5254,-74.2305\"/>\n",
       "<polygon fill=\"#000000\" stroke=\"#000000\" points=\"417.0255,-74.2168 413.5254,-64.2169 410.0255,-74.2169 417.0255,-74.2168\"/>\n",
       "</g>\n",
       "<!-- 6 -->\n",
       "<g id=\"node7\" class=\"node\">\n",
       "<title>6</title>\n",
       "<path fill=\"#399de5\" stroke=\"#000000\" d=\"M614.4317,-64C614.4317,-64 518.6191,-64 518.6191,-64 512.6191,-64 506.6191,-58 506.6191,-52 506.6191,-52 506.6191,-12 506.6191,-12 506.6191,-6 512.6191,0 518.6191,0 518.6191,0 614.4317,0 614.4317,0 620.4317,0 626.4317,-6 626.4317,-12 626.4317,-12 626.4317,-52 626.4317,-52 626.4317,-58 620.4317,-64 614.4317,-64\"/>\n",
       "<text text-anchor=\"start\" x=\"537.9204\" y=\"-48.8\" font-family=\"Helvetica,sans-Serif\" font-size=\"14.00\" fill=\"#000000\">gini = 0.0</text>\n",
       "<text text-anchor=\"start\" x=\"516.5273\" y=\"-34.8\" font-family=\"Helvetica,sans-Serif\" font-size=\"14.00\" fill=\"#000000\">samples = 6.5%</text>\n",
       "<text text-anchor=\"start\" x=\"514.5723\" y=\"-20.8\" font-family=\"Helvetica,sans-Serif\" font-size=\"14.00\" fill=\"#000000\">value = [0.0, 1.0]</text>\n",
       "<text text-anchor=\"start\" x=\"532.8687\" y=\"-6.8\" font-family=\"Helvetica,sans-Serif\" font-size=\"14.00\" fill=\"#000000\">class = 1.0</text>\n",
       "</g>\n",
       "<!-- 4&#45;&gt;6 -->\n",
       "<g id=\"edge6\" class=\"edge\">\n",
       "<title>4&#45;&gt;6</title>\n",
       "<path fill=\"none\" stroke=\"#000000\" d=\"M469.6282,-99.7647C483.4711,-90.0838 498.2752,-79.7305 512.04,-70.1042\"/>\n",
       "<polygon fill=\"#000000\" stroke=\"#000000\" points=\"514.2693,-72.8161 520.4583,-64.2169 510.2575,-67.0797 514.2693,-72.8161\"/>\n",
       "</g>\n",
       "</g>\n",
       "</svg>\n"
      ],
      "text/plain": [
       "<graphviz.files.Source at 0x1a11c3eda0>"
      ]
     },
     "execution_count": 78,
     "metadata": {},
     "output_type": "execute_result"
    }
   ],
   "source": [
    "import graphviz\n",
    "dot_data = sk.tree.export_graphviz(dtc, out_file=None, \n",
    "                         feature_names=list(X_n_i.columns),  \n",
    "                        #class_names = ['1.0' if i == 1 else '0.0' for i in y.unique()] ,\n",
    "                         class_names = ['1.0' if i == 1 else '0.0' for i in dtc.classes_] ,\n",
    "                        #class_names =[i for i in temp1['match'].unique()],\n",
    "                         filled=True, rounded=True,  \n",
    "                         special_characters=True, \n",
    "                         proportion=True,\n",
    "                        )  \n",
    "graph = graphviz.Source(dot_data)  \n",
    "graph"
   ]
  },
  {
   "cell_type": "markdown",
   "metadata": {},
   "source": [
    "# --------------------------------------------------------------------"
   ]
  },
  {
   "cell_type": "code",
   "execution_count": 123,
   "metadata": {
    "collapsed": true
   },
   "outputs": [],
   "source": [
    "attributes=['dec_o','gender','attr_o', 'sinc_o', 'intel_o','fun_o', \n",
    "            'amb_o', 'shar_o','prob_o','met_o']"
   ]
  },
  {
   "cell_type": "code",
   "execution_count": 113,
   "metadata": {},
   "outputs": [
    {
     "data": {
      "text/plain": [
       "3236"
      ]
     },
     "execution_count": 113,
     "metadata": {},
     "output_type": "execute_result"
    },
    {
     "data": {
      "text/plain": [
       "dec_o        0\n",
       "gender       0\n",
       "attr_o      59\n",
       "sinc_o      96\n",
       "intel_o    103\n",
       "fun_o      123\n",
       "amb_o      272\n",
       "shar_o     403\n",
       "prob_o     104\n",
       "met_o      131\n",
       "dtype: int64"
      ]
     },
     "execution_count": 113,
     "metadata": {},
     "output_type": "execute_result"
    }
   ],
   "source": [
    "wave_m_a = sd[sd['race']==2].loc[:, attributes]\n",
    "len(wave_m_a)\n",
    "wave_m_a.isnull().sum()"
   ]
  },
  {
   "cell_type": "code",
   "execution_count": 114,
   "metadata": {
    "collapsed": true
   },
   "outputs": [],
   "source": [
    "wave_m_a=wave_m_a.dropna(axis=0, how='any')\n"
   ]
  },
  {
   "cell_type": "code",
   "execution_count": 116,
   "metadata": {},
   "outputs": [
    {
     "data": {
      "text/plain": [
       "SelectKBest(k=5, score_func=<function f_classif at 0x1a1177aae8>)"
      ]
     },
     "execution_count": 116,
     "metadata": {},
     "output_type": "execute_result"
    },
    {
     "name": "stdout",
     "output_type": "stream",
     "text": [
      "  Feat_names    F_Scores\n",
      "0     attr_o  928.302977\n",
      "2      fun_o  672.504795\n",
      "3     shar_o  578.232503\n",
      "4     prob_o  343.995135\n",
      "1     sinc_o  193.838583\n"
     ]
    }
   ],
   "source": [
    "X_m_a, y_m_a = wave_m_a.drop(['dec_o'], axis=1), wave_m_a['dec_o']\n",
    "\n",
    "kb = fs.SelectKBest(k=5)\n",
    "kb.fit(X_m_a, y_m_a)\n",
    "\n",
    "names = X_m_a.columns.values[kb.get_support()]\n",
    "scores = kb.scores_[kb.get_support()]\n",
    "names_scores = list(zip(names, scores))\n",
    "ns_df = pd.DataFrame(data = names_scores, columns=['Feat_names', 'F_Scores'])\n",
    "#Sort the dataframe for better visualization\n",
    "ns_df_sorted = ns_df.sort_values(['F_Scores', 'Feat_names'], ascending = [False, True])\n",
    "print(ns_df_sorted)"
   ]
  },
  {
   "cell_type": "code",
   "execution_count": 117,
   "metadata": {},
   "outputs": [
    {
     "data": {
      "text/plain": [
       "dec_o       0\n",
       "attr_o     59\n",
       "fun_o     123\n",
       "shar_o    403\n",
       "prob_o    104\n",
       "dtype: int64"
      ]
     },
     "execution_count": 117,
     "metadata": {},
     "output_type": "execute_result"
    }
   ],
   "source": [
    "attributes_best = ['dec_o','attr_o','fun_o', 'shar_o','prob_o']\n",
    "wave_m_a = sd[sd['race']==2].loc[:, attributes_best]\n",
    "wave_m_a.isnull().sum()"
   ]
  },
  {
   "cell_type": "code",
   "execution_count": 118,
   "metadata": {},
   "outputs": [
    {
     "data": {
      "text/html": [
       "<div>\n",
       "<style>\n",
       "    .dataframe thead tr:only-child th {\n",
       "        text-align: right;\n",
       "    }\n",
       "\n",
       "    .dataframe thead th {\n",
       "        text-align: left;\n",
       "    }\n",
       "\n",
       "    .dataframe tbody tr th {\n",
       "        vertical-align: top;\n",
       "    }\n",
       "</style>\n",
       "<table border=\"1\" class=\"dataframe\">\n",
       "  <thead>\n",
       "    <tr style=\"text-align: right;\">\n",
       "      <th></th>\n",
       "      <th>dec_o</th>\n",
       "      <th>attr_o</th>\n",
       "      <th>fun_o</th>\n",
       "      <th>shar_o</th>\n",
       "      <th>prob_o</th>\n",
       "    </tr>\n",
       "  </thead>\n",
       "  <tbody>\n",
       "    <tr>\n",
       "      <th>10</th>\n",
       "      <td>0</td>\n",
       "      <td>8.0</td>\n",
       "      <td>9.0</td>\n",
       "      <td>4.0</td>\n",
       "      <td>2.0</td>\n",
       "    </tr>\n",
       "    <tr>\n",
       "      <th>11</th>\n",
       "      <td>0</td>\n",
       "      <td>7.0</td>\n",
       "      <td>6.0</td>\n",
       "      <td>5.0</td>\n",
       "      <td>4.0</td>\n",
       "    </tr>\n",
       "    <tr>\n",
       "      <th>12</th>\n",
       "      <td>1</td>\n",
       "      <td>10.0</td>\n",
       "      <td>10.0</td>\n",
       "      <td>10.0</td>\n",
       "      <td>10.0</td>\n",
       "    </tr>\n",
       "    <tr>\n",
       "      <th>13</th>\n",
       "      <td>1</td>\n",
       "      <td>9.0</td>\n",
       "      <td>9.0</td>\n",
       "      <td>9.0</td>\n",
       "      <td>7.0</td>\n",
       "    </tr>\n",
       "    <tr>\n",
       "      <th>14</th>\n",
       "      <td>1</td>\n",
       "      <td>10.0</td>\n",
       "      <td>10.0</td>\n",
       "      <td>8.0</td>\n",
       "      <td>1.0</td>\n",
       "    </tr>\n",
       "  </tbody>\n",
       "</table>\n",
       "</div>"
      ],
      "text/plain": [
       "    dec_o  attr_o  fun_o  shar_o  prob_o\n",
       "10      0     8.0    9.0     4.0     2.0\n",
       "11      0     7.0    6.0     5.0     4.0\n",
       "12      1    10.0   10.0    10.0    10.0\n",
       "13      1     9.0    9.0     9.0     7.0\n",
       "14      1    10.0   10.0     8.0     1.0"
      ]
     },
     "execution_count": 118,
     "metadata": {},
     "output_type": "execute_result"
    }
   ],
   "source": [
    "wave_m_a=wave_m_a.dropna(axis=0, how='any')\n",
    "wave_m_a.head()"
   ]
  },
  {
   "cell_type": "code",
   "execution_count": 119,
   "metadata": {},
   "outputs": [
    {
     "data": {
      "text/plain": [
       "dec_o     0\n",
       "attr_o    0\n",
       "fun_o     0\n",
       "shar_o    0\n",
       "prob_o    0\n",
       "dtype: int64"
      ]
     },
     "execution_count": 119,
     "metadata": {},
     "output_type": "execute_result"
    },
    {
     "data": {
      "text/plain": [
       "1271"
      ]
     },
     "execution_count": 119,
     "metadata": {},
     "output_type": "execute_result"
    },
    {
     "data": {
      "text/plain": [
       "1509"
      ]
     },
     "execution_count": 119,
     "metadata": {},
     "output_type": "execute_result"
    },
    {
     "data": {
      "text/plain": [
       "array([0, 1, 1, ..., 0, 1, 0])"
      ]
     },
     "execution_count": 119,
     "metadata": {},
     "output_type": "execute_result"
    },
    {
     "data": {
      "image/svg+xml": [
       "<?xml version=\"1.0\" encoding=\"UTF-8\" standalone=\"no\"?>\n",
       "<!DOCTYPE svg PUBLIC \"-//W3C//DTD SVG 1.1//EN\"\n",
       " \"http://www.w3.org/Graphics/SVG/1.1/DTD/svg11.dtd\">\n",
       "<!-- Generated by graphviz version 2.40.1 (20161225.0304)\n",
       " -->\n",
       "<!-- Title: Tree Pages: 1 -->\n",
       "<svg width=\"666pt\" height=\"300pt\"\n",
       " viewBox=\"0.00 0.00 666.05 300.00\" xmlns=\"http://www.w3.org/2000/svg\" xmlns:xlink=\"http://www.w3.org/1999/xlink\">\n",
       "<g id=\"graph0\" class=\"graph\" transform=\"scale(1 1) rotate(0) translate(4 296)\">\n",
       "<title>Tree</title>\n",
       "<polygon fill=\"#ffffff\" stroke=\"transparent\" points=\"-4,4 -4,-296 662.0508,-296 662.0508,4 -4,4\"/>\n",
       "<!-- 0 -->\n",
       "<g id=\"node1\" class=\"node\">\n",
       "<title>0</title>\n",
       "<path fill=\"#e58139\" fill-opacity=\"0.156863\" stroke=\"#000000\" d=\"M392.0762,-292C392.0762,-292 264.9746,-292 264.9746,-292 258.9746,-292 252.9746,-286 252.9746,-280 252.9746,-280 252.9746,-226 252.9746,-226 252.9746,-220 258.9746,-214 264.9746,-214 264.9746,-214 392.0762,-214 392.0762,-214 398.0762,-214 404.0762,-220 404.0762,-226 404.0762,-226 404.0762,-280 404.0762,-280 404.0762,-286 398.0762,-292 392.0762,-292\"/>\n",
       "<text text-anchor=\"start\" x=\"289.27\" y=\"-276.8\" font-family=\"Helvetica,sans-Serif\" font-size=\"14.00\" fill=\"#000000\">attr_o ≤ 6.25</text>\n",
       "<text text-anchor=\"start\" x=\"292.1343\" y=\"-262.8\" font-family=\"Helvetica,sans-Serif\" font-size=\"14.00\" fill=\"#000000\">gini = 0.496</text>\n",
       "<text text-anchor=\"start\" x=\"270.7412\" y=\"-248.8\" font-family=\"Helvetica,sans-Serif\" font-size=\"14.00\" fill=\"#000000\">samples = 100.0%</text>\n",
       "<text text-anchor=\"start\" x=\"261\" y=\"-234.8\" font-family=\"Helvetica,sans-Serif\" font-size=\"14.00\" fill=\"#000000\">value = [0.543, 0.457]</text>\n",
       "<text text-anchor=\"start\" x=\"294.8687\" y=\"-220.8\" font-family=\"Helvetica,sans-Serif\" font-size=\"14.00\" fill=\"#000000\">class = 0.0</text>\n",
       "</g>\n",
       "<!-- 1 -->\n",
       "<g id=\"node2\" class=\"node\">\n",
       "<title>1</title>\n",
       "<path fill=\"#e58139\" fill-opacity=\"0.717647\" stroke=\"#000000\" d=\"M300.5048,-178C300.5048,-178 188.546,-178 188.546,-178 182.546,-178 176.546,-172 176.546,-166 176.546,-166 176.546,-112 176.546,-112 176.546,-106 182.546,-100 188.546,-100 188.546,-100 300.5048,-100 300.5048,-100 306.5048,-100 312.5048,-106 312.5048,-112 312.5048,-112 312.5048,-166 312.5048,-166 312.5048,-172 306.5048,-178 300.5048,-178\"/>\n",
       "<text text-anchor=\"start\" x=\"209.1631\" y=\"-162.8\" font-family=\"Helvetica,sans-Serif\" font-size=\"14.00\" fill=\"#000000\">attr_o ≤ 5.5</text>\n",
       "<text text-anchor=\"start\" x=\"208.1343\" y=\"-148.8\" font-family=\"Helvetica,sans-Serif\" font-size=\"14.00\" fill=\"#000000\">gini = 0.343</text>\n",
       "<text text-anchor=\"start\" x=\"190.6343\" y=\"-134.8\" font-family=\"Helvetica,sans-Serif\" font-size=\"14.00\" fill=\"#000000\">samples = 50.3%</text>\n",
       "<text text-anchor=\"start\" x=\"184.7861\" y=\"-120.8\" font-family=\"Helvetica,sans-Serif\" font-size=\"14.00\" fill=\"#000000\">value = [0.78, 0.22]</text>\n",
       "<text text-anchor=\"start\" x=\"210.8687\" y=\"-106.8\" font-family=\"Helvetica,sans-Serif\" font-size=\"14.00\" fill=\"#000000\">class = 0.0</text>\n",
       "</g>\n",
       "<!-- 0&#45;&gt;1 -->\n",
       "<g id=\"edge1\" class=\"edge\">\n",
       "<title>0&#45;&gt;1</title>\n",
       "<path fill=\"none\" stroke=\"#000000\" d=\"M299.6174,-213.7677C293.1498,-204.9903 286.222,-195.5883 279.5373,-186.5161\"/>\n",
       "<polygon fill=\"#000000\" stroke=\"#000000\" points=\"282.2364,-184.279 273.4867,-178.3046 276.601,-188.4314 282.2364,-184.279\"/>\n",
       "<text text-anchor=\"middle\" x=\"269.7416\" y=\"-198.8225\" font-family=\"Helvetica,sans-Serif\" font-size=\"14.00\" fill=\"#000000\">True</text>\n",
       "</g>\n",
       "<!-- 4 -->\n",
       "<g id=\"node5\" class=\"node\">\n",
       "<title>4</title>\n",
       "<path fill=\"#399de5\" fill-opacity=\"0.564706\" stroke=\"#000000\" d=\"M477.0762,-178C477.0762,-178 349.9746,-178 349.9746,-178 343.9746,-178 337.9746,-172 337.9746,-166 337.9746,-166 337.9746,-112 337.9746,-112 337.9746,-106 343.9746,-100 349.9746,-100 349.9746,-100 477.0762,-100 477.0762,-100 483.0762,-100 489.0762,-106 489.0762,-112 489.0762,-112 489.0762,-166 489.0762,-166 489.0762,-172 483.0762,-178 477.0762,-178\"/>\n",
       "<text text-anchor=\"start\" x=\"374.6597\" y=\"-162.8\" font-family=\"Helvetica,sans-Serif\" font-size=\"14.00\" fill=\"#000000\">shar_o ≤ 4.5</text>\n",
       "<text text-anchor=\"start\" x=\"377.1343\" y=\"-148.8\" font-family=\"Helvetica,sans-Serif\" font-size=\"14.00\" fill=\"#000000\">gini = 0.422</text>\n",
       "<text text-anchor=\"start\" x=\"359.6343\" y=\"-134.8\" font-family=\"Helvetica,sans-Serif\" font-size=\"14.00\" fill=\"#000000\">samples = 49.7%</text>\n",
       "<text text-anchor=\"start\" x=\"346\" y=\"-120.8\" font-family=\"Helvetica,sans-Serif\" font-size=\"14.00\" fill=\"#000000\">value = [0.303, 0.697]</text>\n",
       "<text text-anchor=\"start\" x=\"379.8687\" y=\"-106.8\" font-family=\"Helvetica,sans-Serif\" font-size=\"14.00\" fill=\"#000000\">class = 1.0</text>\n",
       "</g>\n",
       "<!-- 0&#45;&gt;4 -->\n",
       "<g id=\"edge4\" class=\"edge\">\n",
       "<title>0&#45;&gt;4</title>\n",
       "<path fill=\"none\" stroke=\"#000000\" d=\"M357.7776,-213.7677C364.3221,-204.9903 371.3324,-195.5883 378.0967,-186.5161\"/>\n",
       "<polygon fill=\"#000000\" stroke=\"#000000\" points=\"381.0477,-188.4136 384.2193,-178.3046 375.4359,-184.2294 381.0477,-188.4136\"/>\n",
       "<text text-anchor=\"middle\" x=\"387.8244\" y=\"-198.8433\" font-family=\"Helvetica,sans-Serif\" font-size=\"14.00\" fill=\"#000000\">False</text>\n",
       "</g>\n",
       "<!-- 2 -->\n",
       "<g id=\"node3\" class=\"node\">\n",
       "<title>2</title>\n",
       "<path fill=\"#e58139\" fill-opacity=\"0.850980\" stroke=\"#000000\" d=\"M139.0762,-64C139.0762,-64 11.9746,-64 11.9746,-64 5.9746,-64 -.0254,-58 -.0254,-52 -.0254,-52 -.0254,-12 -.0254,-12 -.0254,-6 5.9746,0 11.9746,0 11.9746,0 139.0762,0 139.0762,0 145.0762,0 151.0762,-6 151.0762,-12 151.0762,-12 151.0762,-52 151.0762,-52 151.0762,-58 145.0762,-64 139.0762,-64\"/>\n",
       "<text text-anchor=\"start\" x=\"39.1343\" y=\"-48.8\" font-family=\"Helvetica,sans-Serif\" font-size=\"14.00\" fill=\"#000000\">gini = 0.225</text>\n",
       "<text text-anchor=\"start\" x=\"21.6343\" y=\"-34.8\" font-family=\"Helvetica,sans-Serif\" font-size=\"14.00\" fill=\"#000000\">samples = 30.4%</text>\n",
       "<text text-anchor=\"start\" x=\"8\" y=\"-20.8\" font-family=\"Helvetica,sans-Serif\" font-size=\"14.00\" fill=\"#000000\">value = [0.871, 0.129]</text>\n",
       "<text text-anchor=\"start\" x=\"41.8687\" y=\"-6.8\" font-family=\"Helvetica,sans-Serif\" font-size=\"14.00\" fill=\"#000000\">class = 0.0</text>\n",
       "</g>\n",
       "<!-- 1&#45;&gt;2 -->\n",
       "<g id=\"edge2\" class=\"edge\">\n",
       "<title>1&#45;&gt;2</title>\n",
       "<path fill=\"none\" stroke=\"#000000\" d=\"M182.5557,-99.7647C166.8972,-89.8508 150.1251,-79.2318 134.6129,-69.4105\"/>\n",
       "<polygon fill=\"#000000\" stroke=\"#000000\" points=\"136.461,-66.438 126.1397,-64.0458 132.7164,-72.3523 136.461,-66.438\"/>\n",
       "</g>\n",
       "<!-- 3 -->\n",
       "<g id=\"node4\" class=\"node\">\n",
       "<title>3</title>\n",
       "<path fill=\"#e58139\" fill-opacity=\"0.439216\" stroke=\"#000000\" d=\"M308.0762,-64C308.0762,-64 180.9746,-64 180.9746,-64 174.9746,-64 168.9746,-58 168.9746,-52 168.9746,-52 168.9746,-12 168.9746,-12 168.9746,-6 174.9746,0 180.9746,0 180.9746,0 308.0762,0 308.0762,0 314.0762,0 320.0762,-6 320.0762,-12 320.0762,-12 320.0762,-52 320.0762,-52 320.0762,-58 314.0762,-64 308.0762,-64\"/>\n",
       "<text text-anchor=\"start\" x=\"212.0273\" y=\"-48.8\" font-family=\"Helvetica,sans-Serif\" font-size=\"14.00\" fill=\"#000000\">gini = 0.46</text>\n",
       "<text text-anchor=\"start\" x=\"190.6343\" y=\"-34.8\" font-family=\"Helvetica,sans-Serif\" font-size=\"14.00\" fill=\"#000000\">samples = 19.9%</text>\n",
       "<text text-anchor=\"start\" x=\"177\" y=\"-20.8\" font-family=\"Helvetica,sans-Serif\" font-size=\"14.00\" fill=\"#000000\">value = [0.641, 0.359]</text>\n",
       "<text text-anchor=\"start\" x=\"210.8687\" y=\"-6.8\" font-family=\"Helvetica,sans-Serif\" font-size=\"14.00\" fill=\"#000000\">class = 0.0</text>\n",
       "</g>\n",
       "<!-- 1&#45;&gt;3 -->\n",
       "<g id=\"edge3\" class=\"edge\">\n",
       "<title>1&#45;&gt;3</title>\n",
       "<path fill=\"none\" stroke=\"#000000\" d=\"M244.5254,-99.7647C244.5254,-91.4537 244.5254,-82.6472 244.5254,-74.2305\"/>\n",
       "<polygon fill=\"#000000\" stroke=\"#000000\" points=\"248.0255,-74.2168 244.5254,-64.2169 241.0255,-74.2169 248.0255,-74.2168\"/>\n",
       "</g>\n",
       "<!-- 5 -->\n",
       "<g id=\"node6\" class=\"node\">\n",
       "<title>5</title>\n",
       "<path fill=\"#e58139\" fill-opacity=\"0.407843\" stroke=\"#000000\" d=\"M477.0762,-64C477.0762,-64 349.9746,-64 349.9746,-64 343.9746,-64 337.9746,-58 337.9746,-52 337.9746,-52 337.9746,-12 337.9746,-12 337.9746,-6 343.9746,0 349.9746,0 349.9746,0 477.0762,0 477.0762,0 483.0762,0 489.0762,-6 489.0762,-12 489.0762,-12 489.0762,-52 489.0762,-52 489.0762,-58 483.0762,-64 477.0762,-64\"/>\n",
       "<text text-anchor=\"start\" x=\"377.1343\" y=\"-48.8\" font-family=\"Helvetica,sans-Serif\" font-size=\"14.00\" fill=\"#000000\">gini = 0.467</text>\n",
       "<text text-anchor=\"start\" x=\"363.5273\" y=\"-34.8\" font-family=\"Helvetica,sans-Serif\" font-size=\"14.00\" fill=\"#000000\">samples = 7.6%</text>\n",
       "<text text-anchor=\"start\" x=\"346\" y=\"-20.8\" font-family=\"Helvetica,sans-Serif\" font-size=\"14.00\" fill=\"#000000\">value = [0.629, 0.371]</text>\n",
       "<text text-anchor=\"start\" x=\"379.8687\" y=\"-6.8\" font-family=\"Helvetica,sans-Serif\" font-size=\"14.00\" fill=\"#000000\">class = 0.0</text>\n",
       "</g>\n",
       "<!-- 4&#45;&gt;5 -->\n",
       "<g id=\"edge5\" class=\"edge\">\n",
       "<title>4&#45;&gt;5</title>\n",
       "<path fill=\"none\" stroke=\"#000000\" d=\"M413.5254,-99.7647C413.5254,-91.4537 413.5254,-82.6472 413.5254,-74.2305\"/>\n",
       "<polygon fill=\"#000000\" stroke=\"#000000\" points=\"417.0255,-74.2168 413.5254,-64.2169 410.0255,-74.2169 417.0255,-74.2168\"/>\n",
       "</g>\n",
       "<!-- 6 -->\n",
       "<g id=\"node7\" class=\"node\">\n",
       "<title>6</title>\n",
       "<path fill=\"#399de5\" fill-opacity=\"0.674510\" stroke=\"#000000\" d=\"M646.0762,-64C646.0762,-64 518.9746,-64 518.9746,-64 512.9746,-64 506.9746,-58 506.9746,-52 506.9746,-52 506.9746,-12 506.9746,-12 506.9746,-6 512.9746,0 518.9746,0 518.9746,0 646.0762,0 646.0762,0 652.0762,0 658.0762,-6 658.0762,-12 658.0762,-12 658.0762,-52 658.0762,-52 658.0762,-58 652.0762,-64 646.0762,-64\"/>\n",
       "<text text-anchor=\"start\" x=\"550.0273\" y=\"-48.8\" font-family=\"Helvetica,sans-Serif\" font-size=\"14.00\" fill=\"#000000\">gini = 0.37</text>\n",
       "<text text-anchor=\"start\" x=\"528.6343\" y=\"-34.8\" font-family=\"Helvetica,sans-Serif\" font-size=\"14.00\" fill=\"#000000\">samples = 42.2%</text>\n",
       "<text text-anchor=\"start\" x=\"515\" y=\"-20.8\" font-family=\"Helvetica,sans-Serif\" font-size=\"14.00\" fill=\"#000000\">value = [0.245, 0.755]</text>\n",
       "<text text-anchor=\"start\" x=\"548.8687\" y=\"-6.8\" font-family=\"Helvetica,sans-Serif\" font-size=\"14.00\" fill=\"#000000\">class = 1.0</text>\n",
       "</g>\n",
       "<!-- 4&#45;&gt;6 -->\n",
       "<g id=\"edge6\" class=\"edge\">\n",
       "<title>4&#45;&gt;6</title>\n",
       "<path fill=\"none\" stroke=\"#000000\" d=\"M475.4951,-99.7647C491.1536,-89.8508 507.9256,-79.2318 523.4378,-69.4105\"/>\n",
       "<polygon fill=\"#000000\" stroke=\"#000000\" points=\"525.3344,-72.3523 531.9111,-64.0458 521.5898,-66.438 525.3344,-72.3523\"/>\n",
       "</g>\n",
       "</g>\n",
       "</svg>\n"
      ],
      "text/plain": [
       "<graphviz.files.Source at 0x1a1342b978>"
      ]
     },
     "execution_count": 119,
     "metadata": {},
     "output_type": "execute_result"
    }
   ],
   "source": [
    "wave_m_a.isnull().sum()\n",
    "len(wave_m_a[wave_m_a['dec_o']==1])\n",
    "len(wave_m_a[wave_m_a['dec_o']==0])\n",
    "\n",
    "X_m_a, y_m_a = wave_m_a.drop(['dec_o'], axis=1), wave_m_a['dec_o']\n",
    "\n",
    "dtc = tree.DecisionTreeClassifier(max_depth=2).fit(X_m_a, y_m_a)\n",
    "dtc_labels = dtc.predict(X_m_a)\n",
    "dtc_labels\n",
    "\n",
    "import graphviz\n",
    "dot_data = sk.tree.export_graphviz(dtc, out_file=None, \n",
    "                         feature_names=list(X_m_a.columns),  \n",
    "                         class_names = ['1.0' if i == 1 else '0.0' for i in dtc.classes_] ,\n",
    "                        #class_names =[i for i in temp1['match'].unique()],\n",
    "                         filled=True, rounded=True,  \n",
    "                         special_characters=True, \n",
    "                         proportion=True,\n",
    "                        )  \n",
    "graph = graphviz.Source(dot_data)  \n",
    "graph"
   ]
  },
  {
   "cell_type": "code",
   "execution_count": null,
   "metadata": {
    "collapsed": true
   },
   "outputs": [],
   "source": []
  },
  {
   "cell_type": "code",
   "execution_count": 124,
   "metadata": {
    "collapsed": true
   },
   "outputs": [],
   "source": [
    "wave_n_a = sd[(sd['race']==1)|(sd['race']==5)].loc[:, attributes]"
   ]
  },
  {
   "cell_type": "code",
   "execution_count": 127,
   "metadata": {
    "collapsed": true
   },
   "outputs": [],
   "source": [
    "wave_n_a=wave_n_a.dropna(axis=0, how='any')\n",
    "\n",
    "X_n_a, y_n_a = wave_n_a.drop(['dec_o'], axis=1), wave_n_a['dec_o']"
   ]
  },
  {
   "cell_type": "code",
   "execution_count": 128,
   "metadata": {},
   "outputs": [
    {
     "data": {
      "text/plain": [
       "SelectKBest(k=5, score_func=<function f_classif at 0x1a1177aae8>)"
      ]
     },
     "execution_count": 128,
     "metadata": {},
     "output_type": "execute_result"
    },
    {
     "name": "stdout",
     "output_type": "stream",
     "text": [
      "  Feat_names   F_Scores\n",
      "0     attr_o  56.977138\n",
      "3     shar_o  53.763641\n",
      "1      fun_o  50.393934\n",
      "4     prob_o  31.619309\n",
      "2      amb_o  14.992479\n"
     ]
    }
   ],
   "source": [
    "kb = fs.SelectKBest(k=5)\n",
    "kb.fit(X_n_a, y_n_a)\n",
    "\n",
    "names = X_n_a.columns.values[kb.get_support()]\n",
    "scores = kb.scores_[kb.get_support()]\n",
    "names_scores = list(zip(names, scores))\n",
    "ns_df = pd.DataFrame(data = names_scores, columns=['Feat_names', 'F_Scores'])\n",
    "#Sort the dataframe for better visualization\n",
    "ns_df_sorted = ns_df.sort_values(['F_Scores', 'Feat_names'], ascending = [False, True])\n",
    "print(ns_df_sorted)"
   ]
  },
  {
   "cell_type": "code",
   "execution_count": 129,
   "metadata": {
    "collapsed": true
   },
   "outputs": [],
   "source": [
    "attributes_best = ['dec_o','attr_o','fun_o', 'shar_o','prob_o']\n",
    "wave_n_a = sd[(sd['race']==1)|(sd['race']==5)].loc[:, attributes_best]"
   ]
  },
  {
   "cell_type": "code",
   "execution_count": 130,
   "metadata": {},
   "outputs": [
    {
     "data": {
      "text/plain": [
       "dec_o     0\n",
       "attr_o    0\n",
       "fun_o     0\n",
       "shar_o    0\n",
       "prob_o    0\n",
       "dtype: int64"
      ]
     },
     "execution_count": 130,
     "metadata": {},
     "output_type": "execute_result"
    },
    {
     "data": {
      "text/plain": [
       "114"
      ]
     },
     "execution_count": 130,
     "metadata": {},
     "output_type": "execute_result"
    },
    {
     "data": {
      "text/plain": [
       "159"
      ]
     },
     "execution_count": 130,
     "metadata": {},
     "output_type": "execute_result"
    }
   ],
   "source": [
    "wave_n_a=wave_n_a.dropna(axis=0, how='any')\n",
    "wave_n_a.isnull().sum()\n",
    "len(wave_n_a[wave_n_a['dec_o']==1])\n",
    "len(wave_n_a[wave_n_a['dec_o']==0])"
   ]
  },
  {
   "cell_type": "code",
   "execution_count": 131,
   "metadata": {},
   "outputs": [
    {
     "data": {
      "text/plain": [
       "array([0, 0, 0, 0, 0, 0, 0, 0, 0, 0, 0, 0, 1, 0, 0, 1, 1, 0, 0, 0, 1, 0, 0,\n",
       "       0, 1, 0, 0, 1, 1, 0, 0, 0, 1, 1, 0, 0, 0, 1, 0, 0, 1, 0, 1, 0, 0, 0,\n",
       "       0, 0, 0, 1, 1, 0, 0, 0, 0, 0, 0, 1, 0, 1, 0, 0, 0, 0, 0, 0, 0, 0, 1,\n",
       "       1, 0, 1, 1, 1, 0, 0, 0, 0, 0, 1, 0, 0, 1, 1, 0, 1, 0, 0, 0, 1, 1, 0,\n",
       "       0, 0, 1, 0, 0, 1, 0, 0, 0, 0, 1, 1, 0, 1, 0, 0, 0, 1, 0, 1, 0, 0, 0,\n",
       "       0, 0, 1, 0, 1, 1, 1, 0, 0, 0, 0, 0, 1, 0, 0, 0, 0, 0, 0, 0, 0, 0, 0,\n",
       "       0, 0, 0, 1, 0, 0, 0, 1, 1, 0, 0, 0, 0, 1, 0, 0, 0, 0, 1, 1, 0, 1, 1,\n",
       "       0, 0, 0, 0, 0, 0, 1, 0, 0, 1, 1, 0, 0, 0, 0, 0, 0, 0, 1, 0, 0, 0, 0,\n",
       "       1, 0, 0, 0, 0, 0, 1, 0, 0, 1, 1, 1, 0, 0, 0, 0, 0, 1, 0, 0, 1, 1, 1,\n",
       "       0, 0, 0, 0, 0, 1, 0, 0, 0, 0, 0, 1, 0, 0, 1, 0, 0, 1, 0, 0, 0, 0, 1,\n",
       "       0, 0, 0, 0, 0, 0, 0, 0, 0, 1, 0, 0, 0, 0, 1, 0, 0, 1, 1, 1, 0, 1, 0,\n",
       "       0, 1, 0, 0, 0, 0, 0, 0, 0, 0, 0, 0, 0, 0, 0, 0, 0, 0, 0, 0])"
      ]
     },
     "execution_count": 131,
     "metadata": {},
     "output_type": "execute_result"
    },
    {
     "data": {
      "image/svg+xml": [
       "<?xml version=\"1.0\" encoding=\"UTF-8\" standalone=\"no\"?>\n",
       "<!DOCTYPE svg PUBLIC \"-//W3C//DTD SVG 1.1//EN\"\n",
       " \"http://www.w3.org/Graphics/SVG/1.1/DTD/svg11.dtd\">\n",
       "<!-- Generated by graphviz version 2.40.1 (20161225.0304)\n",
       " -->\n",
       "<!-- Title: Tree Pages: 1 -->\n",
       "<svg width=\"626pt\" height=\"300pt\"\n",
       " viewBox=\"0.00 0.00 626.42 300.00\" xmlns=\"http://www.w3.org/2000/svg\" xmlns:xlink=\"http://www.w3.org/1999/xlink\">\n",
       "<g id=\"graph0\" class=\"graph\" transform=\"scale(1 1) rotate(0) translate(4 296)\">\n",
       "<title>Tree</title>\n",
       "<polygon fill=\"#ffffff\" stroke=\"transparent\" points=\"-4,4 -4,-296 622.4165,-296 622.4165,4 -4,4\"/>\n",
       "<!-- 0 -->\n",
       "<g id=\"node1\" class=\"node\">\n",
       "<title>0</title>\n",
       "<path fill=\"#e58139\" fill-opacity=\"0.282353\" stroke=\"#000000\" d=\"M362.4419,-292C362.4419,-292 235.3403,-292 235.3403,-292 229.3403,-292 223.3403,-286 223.3403,-280 223.3403,-280 223.3403,-226 223.3403,-226 223.3403,-220 229.3403,-214 235.3403,-214 235.3403,-214 362.4419,-214 362.4419,-214 368.4419,-214 374.4419,-220 374.4419,-226 374.4419,-226 374.4419,-280 374.4419,-280 374.4419,-286 368.4419,-292 362.4419,-292\"/>\n",
       "<text text-anchor=\"start\" x=\"263.5288\" y=\"-276.8\" font-family=\"Helvetica,sans-Serif\" font-size=\"14.00\" fill=\"#000000\">attr_o ≤ 5.5</text>\n",
       "<text text-anchor=\"start\" x=\"262.5\" y=\"-262.8\" font-family=\"Helvetica,sans-Serif\" font-size=\"14.00\" fill=\"#000000\">gini = 0.486</text>\n",
       "<text text-anchor=\"start\" x=\"241.1069\" y=\"-248.8\" font-family=\"Helvetica,sans-Serif\" font-size=\"14.00\" fill=\"#000000\">samples = 100.0%</text>\n",
       "<text text-anchor=\"start\" x=\"231.3657\" y=\"-234.8\" font-family=\"Helvetica,sans-Serif\" font-size=\"14.00\" fill=\"#000000\">value = [0.582, 0.418]</text>\n",
       "<text text-anchor=\"start\" x=\"265.2344\" y=\"-220.8\" font-family=\"Helvetica,sans-Serif\" font-size=\"14.00\" fill=\"#000000\">class = 0.0</text>\n",
       "</g>\n",
       "<!-- 1 -->\n",
       "<g id=\"node2\" class=\"node\">\n",
       "<title>1</title>\n",
       "<path fill=\"#e58139\" fill-opacity=\"0.886275\" stroke=\"#000000\" d=\"M278.4419,-178C278.4419,-178 151.3403,-178 151.3403,-178 145.3403,-178 139.3403,-172 139.3403,-166 139.3403,-166 139.3403,-112 139.3403,-112 139.3403,-106 145.3403,-100 151.3403,-100 151.3403,-100 278.4419,-100 278.4419,-100 284.4419,-100 290.4419,-106 290.4419,-112 290.4419,-112 290.4419,-166 290.4419,-166 290.4419,-172 284.4419,-178 278.4419,-178\"/>\n",
       "<text text-anchor=\"start\" x=\"179.5288\" y=\"-162.8\" font-family=\"Helvetica,sans-Serif\" font-size=\"14.00\" fill=\"#000000\">attr_o ≤ 4.5</text>\n",
       "<text text-anchor=\"start\" x=\"178.5\" y=\"-148.8\" font-family=\"Helvetica,sans-Serif\" font-size=\"14.00\" fill=\"#000000\">gini = 0.184</text>\n",
       "<text text-anchor=\"start\" x=\"161\" y=\"-134.8\" font-family=\"Helvetica,sans-Serif\" font-size=\"14.00\" fill=\"#000000\">samples = 32.2%</text>\n",
       "<text text-anchor=\"start\" x=\"147.3657\" y=\"-120.8\" font-family=\"Helvetica,sans-Serif\" font-size=\"14.00\" fill=\"#000000\">value = [0.898, 0.102]</text>\n",
       "<text text-anchor=\"start\" x=\"181.2344\" y=\"-106.8\" font-family=\"Helvetica,sans-Serif\" font-size=\"14.00\" fill=\"#000000\">class = 0.0</text>\n",
       "</g>\n",
       "<!-- 0&#45;&gt;1 -->\n",
       "<g id=\"edge1\" class=\"edge\">\n",
       "<title>0&#45;&gt;1</title>\n",
       "<path fill=\"none\" stroke=\"#000000\" d=\"M269.9831,-213.7677C263.5155,-204.9903 256.5878,-195.5883 249.903,-186.5161\"/>\n",
       "<polygon fill=\"#000000\" stroke=\"#000000\" points=\"252.6022,-184.279 243.8524,-178.3046 246.9668,-188.4314 252.6022,-184.279\"/>\n",
       "<text text-anchor=\"middle\" x=\"240.1073\" y=\"-198.8225\" font-family=\"Helvetica,sans-Serif\" font-size=\"14.00\" fill=\"#000000\">True</text>\n",
       "</g>\n",
       "<!-- 4 -->\n",
       "<g id=\"node5\" class=\"node\">\n",
       "<title>4</title>\n",
       "<path fill=\"#399de5\" fill-opacity=\"0.239216\" stroke=\"#000000\" d=\"M447.4419,-178C447.4419,-178 320.3403,-178 320.3403,-178 314.3403,-178 308.3403,-172 308.3403,-166 308.3403,-166 308.3403,-112 308.3403,-112 308.3403,-106 314.3403,-100 320.3403,-100 320.3403,-100 447.4419,-100 447.4419,-100 453.4419,-100 459.4419,-106 459.4419,-112 459.4419,-112 459.4419,-166 459.4419,-166 459.4419,-172 453.4419,-178 447.4419,-178\"/>\n",
       "<text text-anchor=\"start\" x=\"345.0254\" y=\"-162.8\" font-family=\"Helvetica,sans-Serif\" font-size=\"14.00\" fill=\"#000000\">shar_o ≤ 6.5</text>\n",
       "<text text-anchor=\"start\" x=\"347.5\" y=\"-148.8\" font-family=\"Helvetica,sans-Serif\" font-size=\"14.00\" fill=\"#000000\">gini = 0.491</text>\n",
       "<text text-anchor=\"start\" x=\"330\" y=\"-134.8\" font-family=\"Helvetica,sans-Serif\" font-size=\"14.00\" fill=\"#000000\">samples = 67.8%</text>\n",
       "<text text-anchor=\"start\" x=\"316.3657\" y=\"-120.8\" font-family=\"Helvetica,sans-Serif\" font-size=\"14.00\" fill=\"#000000\">value = [0.432, 0.568]</text>\n",
       "<text text-anchor=\"start\" x=\"350.2344\" y=\"-106.8\" font-family=\"Helvetica,sans-Serif\" font-size=\"14.00\" fill=\"#000000\">class = 1.0</text>\n",
       "</g>\n",
       "<!-- 0&#45;&gt;4 -->\n",
       "<g id=\"edge4\" class=\"edge\">\n",
       "<title>0&#45;&gt;4</title>\n",
       "<path fill=\"none\" stroke=\"#000000\" d=\"M328.1433,-213.7677C334.6878,-204.9903 341.6981,-195.5883 348.4624,-186.5161\"/>\n",
       "<polygon fill=\"#000000\" stroke=\"#000000\" points=\"351.4134,-188.4136 354.585,-178.3046 345.8016,-184.2294 351.4134,-188.4136\"/>\n",
       "<text text-anchor=\"middle\" x=\"358.1902\" y=\"-198.8433\" font-family=\"Helvetica,sans-Serif\" font-size=\"14.00\" fill=\"#000000\">False</text>\n",
       "</g>\n",
       "<!-- 2 -->\n",
       "<g id=\"node3\" class=\"node\">\n",
       "<title>2</title>\n",
       "<path fill=\"#e58139\" stroke=\"#000000\" d=\"M111.6735,-64C111.6735,-64 12.1087,-64 12.1087,-64 6.1087,-64 .1087,-58 .1087,-52 .1087,-52 .1087,-12 .1087,-12 .1087,-6 6.1087,0 12.1087,0 12.1087,0 111.6735,0 111.6735,0 117.6735,0 123.6735,-6 123.6735,-12 123.6735,-12 123.6735,-52 123.6735,-52 123.6735,-58 117.6735,-64 111.6735,-64\"/>\n",
       "<text text-anchor=\"start\" x=\"33.2861\" y=\"-48.8\" font-family=\"Helvetica,sans-Serif\" font-size=\"14.00\" fill=\"#000000\">gini = 0.0</text>\n",
       "<text text-anchor=\"start\" x=\"8\" y=\"-34.8\" font-family=\"Helvetica,sans-Serif\" font-size=\"14.00\" fill=\"#000000\">samples = 18.3%</text>\n",
       "<text text-anchor=\"start\" x=\"9.938\" y=\"-20.8\" font-family=\"Helvetica,sans-Serif\" font-size=\"14.00\" fill=\"#000000\">value = [1.0, 0.0]</text>\n",
       "<text text-anchor=\"start\" x=\"28.2344\" y=\"-6.8\" font-family=\"Helvetica,sans-Serif\" font-size=\"14.00\" fill=\"#000000\">class = 0.0</text>\n",
       "</g>\n",
       "<!-- 1&#45;&gt;2 -->\n",
       "<g id=\"edge2\" class=\"edge\">\n",
       "<title>1&#45;&gt;2</title>\n",
       "<path fill=\"none\" stroke=\"#000000\" d=\"M158.7883,-99.7647C144.9455,-90.0838 130.1413,-79.7305 116.3765,-70.1042\"/>\n",
       "<polygon fill=\"#000000\" stroke=\"#000000\" points=\"118.159,-67.0797 107.9582,-64.2169 114.1472,-72.8161 118.159,-67.0797\"/>\n",
       "</g>\n",
       "<!-- 3 -->\n",
       "<g id=\"node4\" class=\"node\">\n",
       "<title>3</title>\n",
       "<path fill=\"#e58139\" fill-opacity=\"0.690196\" stroke=\"#000000\" d=\"M280.4419,-64C280.4419,-64 153.3403,-64 153.3403,-64 147.3403,-64 141.3403,-58 141.3403,-52 141.3403,-52 141.3403,-12 141.3403,-12 141.3403,-6 147.3403,0 153.3403,0 153.3403,0 280.4419,0 280.4419,0 286.4419,0 292.4419,-6 292.4419,-12 292.4419,-12 292.4419,-52 292.4419,-52 292.4419,-58 286.4419,-64 280.4419,-64\"/>\n",
       "<text text-anchor=\"start\" x=\"180.5\" y=\"-48.8\" font-family=\"Helvetica,sans-Serif\" font-size=\"14.00\" fill=\"#000000\">gini = 0.361</text>\n",
       "<text text-anchor=\"start\" x=\"163\" y=\"-34.8\" font-family=\"Helvetica,sans-Serif\" font-size=\"14.00\" fill=\"#000000\">samples = 13.9%</text>\n",
       "<text text-anchor=\"start\" x=\"149.3657\" y=\"-20.8\" font-family=\"Helvetica,sans-Serif\" font-size=\"14.00\" fill=\"#000000\">value = [0.763, 0.237]</text>\n",
       "<text text-anchor=\"start\" x=\"183.2344\" y=\"-6.8\" font-family=\"Helvetica,sans-Serif\" font-size=\"14.00\" fill=\"#000000\">class = 0.0</text>\n",
       "</g>\n",
       "<!-- 1&#45;&gt;3 -->\n",
       "<g id=\"edge3\" class=\"edge\">\n",
       "<title>1&#45;&gt;3</title>\n",
       "<path fill=\"none\" stroke=\"#000000\" d=\"M215.6245,-99.7647C215.7798,-91.4537 215.9444,-82.6472 216.1018,-74.2305\"/>\n",
       "<polygon fill=\"#000000\" stroke=\"#000000\" points=\"219.6013,-74.2806 216.2889,-64.2169 212.6026,-74.1497 219.6013,-74.2806\"/>\n",
       "</g>\n",
       "<!-- 5 -->\n",
       "<g id=\"node6\" class=\"node\">\n",
       "<title>5</title>\n",
       "<path fill=\"#e58139\" fill-opacity=\"0.149020\" stroke=\"#000000\" d=\"M437.8705,-64C437.8705,-64 325.9117,-64 325.9117,-64 319.9117,-64 313.9117,-58 313.9117,-52 313.9117,-52 313.9117,-12 313.9117,-12 313.9117,-6 319.9117,0 325.9117,0 325.9117,0 437.8705,0 437.8705,0 443.8705,0 449.8705,-6 449.8705,-12 449.8705,-12 449.8705,-52 449.8705,-52 449.8705,-58 443.8705,-64 437.8705,-64\"/>\n",
       "<text text-anchor=\"start\" x=\"345.5\" y=\"-48.8\" font-family=\"Helvetica,sans-Serif\" font-size=\"14.00\" fill=\"#000000\">gini = 0.497</text>\n",
       "<text text-anchor=\"start\" x=\"328\" y=\"-34.8\" font-family=\"Helvetica,sans-Serif\" font-size=\"14.00\" fill=\"#000000\">samples = 41.4%</text>\n",
       "<text text-anchor=\"start\" x=\"322.1519\" y=\"-20.8\" font-family=\"Helvetica,sans-Serif\" font-size=\"14.00\" fill=\"#000000\">value = [0.54, 0.46]</text>\n",
       "<text text-anchor=\"start\" x=\"348.2344\" y=\"-6.8\" font-family=\"Helvetica,sans-Serif\" font-size=\"14.00\" fill=\"#000000\">class = 0.0</text>\n",
       "</g>\n",
       "<!-- 4&#45;&gt;5 -->\n",
       "<g id=\"edge5\" class=\"edge\">\n",
       "<title>4&#45;&gt;5</title>\n",
       "<path fill=\"none\" stroke=\"#000000\" d=\"M383.1577,-99.7647C383.0024,-91.4537 382.8378,-82.6472 382.6805,-74.2305\"/>\n",
       "<polygon fill=\"#000000\" stroke=\"#000000\" points=\"386.1797,-74.1497 382.4933,-64.2169 379.1809,-74.2806 386.1797,-74.1497\"/>\n",
       "</g>\n",
       "<!-- 6 -->\n",
       "<g id=\"node7\" class=\"node\">\n",
       "<title>6</title>\n",
       "<path fill=\"#399de5\" fill-opacity=\"0.643137\" stroke=\"#000000\" d=\"M606.4419,-64C606.4419,-64 479.3403,-64 479.3403,-64 473.3403,-64 467.3403,-58 467.3403,-52 467.3403,-52 467.3403,-12 467.3403,-12 467.3403,-6 473.3403,0 479.3403,0 479.3403,0 606.4419,0 606.4419,0 612.4419,0 618.4419,-6 618.4419,-12 618.4419,-12 618.4419,-52 618.4419,-52 618.4419,-58 612.4419,-64 606.4419,-64\"/>\n",
       "<text text-anchor=\"start\" x=\"506.5\" y=\"-48.8\" font-family=\"Helvetica,sans-Serif\" font-size=\"14.00\" fill=\"#000000\">gini = 0.389</text>\n",
       "<text text-anchor=\"start\" x=\"489\" y=\"-34.8\" font-family=\"Helvetica,sans-Serif\" font-size=\"14.00\" fill=\"#000000\">samples = 26.4%</text>\n",
       "<text text-anchor=\"start\" x=\"475.3657\" y=\"-20.8\" font-family=\"Helvetica,sans-Serif\" font-size=\"14.00\" fill=\"#000000\">value = [0.264, 0.736]</text>\n",
       "<text text-anchor=\"start\" x=\"509.2344\" y=\"-6.8\" font-family=\"Helvetica,sans-Serif\" font-size=\"14.00\" fill=\"#000000\">class = 1.0</text>\n",
       "</g>\n",
       "<!-- 4&#45;&gt;6 -->\n",
       "<g id=\"edge6\" class=\"edge\">\n",
       "<title>4&#45;&gt;6</title>\n",
       "<path fill=\"none\" stroke=\"#000000\" d=\"M442.194,-99.7647C456.7895,-89.9426 472.4134,-79.4284 486.8942,-69.6835\"/>\n",
       "<polygon fill=\"#000000\" stroke=\"#000000\" points=\"488.9294,-72.5326 495.2717,-64.0458 485.0213,-66.7252 488.9294,-72.5326\"/>\n",
       "</g>\n",
       "</g>\n",
       "</svg>\n"
      ],
      "text/plain": [
       "<graphviz.files.Source at 0x1a1577bcc0>"
      ]
     },
     "execution_count": 131,
     "metadata": {},
     "output_type": "execute_result"
    }
   ],
   "source": [
    "X_n_a, y_n_a = wave_n_a.drop(['dec_o'], axis=1), wave_n_a['dec_o']\n",
    "\n",
    "dtc = tree.DecisionTreeClassifier(max_depth=2).fit(X_n_a, y_n_a)\n",
    "dtc_labels = dtc.predict(X_n_a)\n",
    "dtc_labels\n",
    "\n",
    "import graphviz\n",
    "dot_data = sk.tree.export_graphviz(dtc, out_file=None, \n",
    "                         feature_names=list(X_n_a.columns),  \n",
    "                         class_names = ['1.0' if i == 1 else '0.0' for i in dtc.classes_] ,\n",
    "                        #class_names =[i for i in temp1['match'].unique()],\n",
    "                         filled=True, rounded=True,  \n",
    "                         special_characters=True, \n",
    "                         proportion=True,\n",
    "                        )  \n",
    "graph = graphviz.Source(dot_data)  \n",
    "graph"
   ]
  },
  {
   "cell_type": "markdown",
   "metadata": {
    "collapsed": true
   },
   "source": [
    "# -----------------------------------------------------------------"
   ]
  },
  {
   "cell_type": "code",
   "execution_count": 144,
   "metadata": {
    "collapsed": true
   },
   "outputs": [],
   "source": [
    "attributes1=['dec','gender','attr', 'sinc', 'intel','fun', \n",
    "            'amb', 'shar','prob','met']"
   ]
  },
  {
   "cell_type": "code",
   "execution_count": 141,
   "metadata": {},
   "outputs": [
    {
     "data": {
      "text/plain": [
       "3236"
      ]
     },
     "execution_count": 141,
     "metadata": {},
     "output_type": "execute_result"
    },
    {
     "data": {
      "text/plain": [
       "dec         0\n",
       "gender      0\n",
       "attr       58\n",
       "sinc       88\n",
       "intel     114\n",
       "fun       140\n",
       "amb       273\n",
       "shar      390\n",
       "prob       86\n",
       "met       112\n",
       "dtype: int64"
      ]
     },
     "execution_count": 141,
     "metadata": {},
     "output_type": "execute_result"
    },
    {
     "data": {
      "text/plain": [
       "SelectKBest(k=5, score_func=<function f_classif at 0x1a1177aae8>)"
      ]
     },
     "execution_count": 141,
     "metadata": {},
     "output_type": "execute_result"
    },
    {
     "name": "stdout",
     "output_type": "stream",
     "text": [
      "  Feat_names    F_Scores\n",
      "0       attr  937.901471\n",
      "2        fun  531.835286\n",
      "3       shar  458.642195\n",
      "4       prob  266.415686\n",
      "1       sinc  109.775990\n"
     ]
    }
   ],
   "source": [
    "wave1_m_a = sd[sd['race']==2].loc[:, attributes1]\n",
    "len(wave1_m_a)\n",
    "wave1_m_a.isnull().sum()\n",
    "wave1_m_a=wave1_m_a.dropna(axis=0, how='any')\n",
    "X1_m_a, y1_m_a = wave1_m_a.drop(['dec'], axis=1), wave1_m_a['dec']\n",
    "\n",
    "kb = fs.SelectKBest(k=5)\n",
    "kb.fit(X1_m_a, y1_m_a)\n",
    "\n",
    "names = X1_m_a.columns.values[kb.get_support()]\n",
    "scores = kb.scores_[kb.get_support()]\n",
    "names_scores = list(zip(names, scores))\n",
    "ns_df = pd.DataFrame(data = names_scores, columns=['Feat_names', 'F_Scores'])\n",
    "#Sort the dataframe for better visualization\n",
    "ns_df_sorted = ns_df.sort_values(['F_Scores', 'Feat_names'], ascending = [False, True])\n",
    "print(ns_df_sorted)"
   ]
  },
  {
   "cell_type": "code",
   "execution_count": 142,
   "metadata": {},
   "outputs": [
    {
     "data": {
      "text/plain": [
       "dec       0\n",
       "attr     58\n",
       "fun     140\n",
       "shar    390\n",
       "prob     86\n",
       "dtype: int64"
      ]
     },
     "execution_count": 142,
     "metadata": {},
     "output_type": "execute_result"
    },
    {
     "data": {
      "text/plain": [
       "dec     0\n",
       "attr    0\n",
       "fun     0\n",
       "shar    0\n",
       "prob    0\n",
       "dtype: int64"
      ]
     },
     "execution_count": 142,
     "metadata": {},
     "output_type": "execute_result"
    },
    {
     "data": {
      "text/plain": [
       "1145"
      ]
     },
     "execution_count": 142,
     "metadata": {},
     "output_type": "execute_result"
    },
    {
     "data": {
      "text/plain": [
       "1642"
      ]
     },
     "execution_count": 142,
     "metadata": {},
     "output_type": "execute_result"
    },
    {
     "data": {
      "image/svg+xml": [
       "<?xml version=\"1.0\" encoding=\"UTF-8\" standalone=\"no\"?>\n",
       "<!DOCTYPE svg PUBLIC \"-//W3C//DTD SVG 1.1//EN\"\n",
       " \"http://www.w3.org/Graphics/SVG/1.1/DTD/svg11.dtd\">\n",
       "<!-- Generated by graphviz version 2.40.1 (20161225.0304)\n",
       " -->\n",
       "<!-- Title: Tree Pages: 1 -->\n",
       "<svg width=\"638pt\" height=\"300pt\"\n",
       " viewBox=\"0.00 0.00 638.42 300.00\" xmlns=\"http://www.w3.org/2000/svg\" xmlns:xlink=\"http://www.w3.org/1999/xlink\">\n",
       "<g id=\"graph0\" class=\"graph\" transform=\"scale(1 1) rotate(0) translate(4 296)\">\n",
       "<title>Tree</title>\n",
       "<polygon fill=\"#ffffff\" stroke=\"transparent\" points=\"-4,4 -4,-296 634.4165,-296 634.4165,4 -4,4\"/>\n",
       "<!-- 0 -->\n",
       "<g id=\"node1\" class=\"node\">\n",
       "<title>0</title>\n",
       "<path fill=\"#e58139\" fill-opacity=\"0.301961\" stroke=\"#000000\" d=\"M363.9097,-292C363.9097,-292 237.8726,-292 237.8726,-292 231.8726,-292 225.8726,-286 225.8726,-280 225.8726,-280 225.8726,-226 225.8726,-226 225.8726,-220 231.8726,-214 237.8726,-214 237.8726,-214 363.9097,-214 363.9097,-214 369.9097,-214 375.9097,-220 375.9097,-226 375.9097,-226 375.9097,-280 375.9097,-280 375.9097,-286 369.9097,-292 363.9097,-292\"/>\n",
       "<text text-anchor=\"start\" x=\"269.4219\" y=\"-276.8\" font-family=\"Helvetica,sans-Serif\" font-size=\"14.00\" fill=\"#000000\">attr ≤ 6.25</text>\n",
       "<text text-anchor=\"start\" x=\"264.5\" y=\"-262.8\" font-family=\"Helvetica,sans-Serif\" font-size=\"14.00\" fill=\"#000000\">gini = 0.484</text>\n",
       "<text text-anchor=\"start\" x=\"243.1069\" y=\"-248.8\" font-family=\"Helvetica,sans-Serif\" font-size=\"14.00\" fill=\"#000000\">samples = 100.0%</text>\n",
       "<text text-anchor=\"start\" x=\"233.8818\" y=\"-234.8\" font-family=\"Helvetica,sans-Serif\" font-size=\"14.00\" fill=\"#000000\">value = [0.589, 0.411]</text>\n",
       "<text text-anchor=\"start\" x=\"267.2344\" y=\"-220.8\" font-family=\"Helvetica,sans-Serif\" font-size=\"14.00\" fill=\"#000000\">class = 0.0</text>\n",
       "</g>\n",
       "<!-- 1 -->\n",
       "<g id=\"node2\" class=\"node\">\n",
       "<title>1</title>\n",
       "<path fill=\"#e58139\" fill-opacity=\"0.768627\" stroke=\"#000000\" d=\"M280.4419,-178C280.4419,-178 153.3403,-178 153.3403,-178 147.3403,-178 141.3403,-172 141.3403,-166 141.3403,-166 141.3403,-112 141.3403,-112 141.3403,-106 147.3403,-100 153.3403,-100 153.3403,-100 280.4419,-100 280.4419,-100 286.4419,-100 292.4419,-106 292.4419,-112 292.4419,-112 292.4419,-166 292.4419,-166 292.4419,-172 286.4419,-178 280.4419,-178\"/>\n",
       "<text text-anchor=\"start\" x=\"189.3149\" y=\"-162.8\" font-family=\"Helvetica,sans-Serif\" font-size=\"14.00\" fill=\"#000000\">attr ≤ 5.5</text>\n",
       "<text text-anchor=\"start\" x=\"180.5\" y=\"-148.8\" font-family=\"Helvetica,sans-Serif\" font-size=\"14.00\" fill=\"#000000\">gini = 0.305</text>\n",
       "<text text-anchor=\"start\" x=\"163\" y=\"-134.8\" font-family=\"Helvetica,sans-Serif\" font-size=\"14.00\" fill=\"#000000\">samples = 52.5%</text>\n",
       "<text text-anchor=\"start\" x=\"149.3657\" y=\"-120.8\" font-family=\"Helvetica,sans-Serif\" font-size=\"14.00\" fill=\"#000000\">value = [0.812, 0.188]</text>\n",
       "<text text-anchor=\"start\" x=\"183.2344\" y=\"-106.8\" font-family=\"Helvetica,sans-Serif\" font-size=\"14.00\" fill=\"#000000\">class = 0.0</text>\n",
       "</g>\n",
       "<!-- 0&#45;&gt;1 -->\n",
       "<g id=\"edge1\" class=\"edge\">\n",
       "<title>0&#45;&gt;1</title>\n",
       "<path fill=\"none\" stroke=\"#000000\" d=\"M271.9831,-213.7677C265.5155,-204.9903 258.5878,-195.5883 251.903,-186.5161\"/>\n",
       "<polygon fill=\"#000000\" stroke=\"#000000\" points=\"254.6022,-184.279 245.8524,-178.3046 248.9668,-188.4314 254.6022,-184.279\"/>\n",
       "<text text-anchor=\"middle\" x=\"242.1073\" y=\"-198.8225\" font-family=\"Helvetica,sans-Serif\" font-size=\"14.00\" fill=\"#000000\">True</text>\n",
       "</g>\n",
       "<!-- 4 -->\n",
       "<g id=\"node5\" class=\"node\">\n",
       "<title>4</title>\n",
       "<path fill=\"#399de5\" fill-opacity=\"0.478431\" stroke=\"#000000\" d=\"M449.4419,-178C449.4419,-178 322.3403,-178 322.3403,-178 316.3403,-178 310.3403,-172 310.3403,-166 310.3403,-166 310.3403,-112 310.3403,-112 310.3403,-106 316.3403,-100 322.3403,-100 322.3403,-100 449.4419,-100 449.4419,-100 455.4419,-100 461.4419,-106 461.4419,-112 461.4419,-112 461.4419,-166 461.4419,-166 461.4419,-172 455.4419,-178 449.4419,-178\"/>\n",
       "<text text-anchor=\"start\" x=\"354.4185\" y=\"-162.8\" font-family=\"Helvetica,sans-Serif\" font-size=\"14.00\" fill=\"#000000\">prob ≤ 3.5</text>\n",
       "<text text-anchor=\"start\" x=\"353.3931\" y=\"-148.8\" font-family=\"Helvetica,sans-Serif\" font-size=\"14.00\" fill=\"#000000\">gini = 0.45</text>\n",
       "<text text-anchor=\"start\" x=\"332\" y=\"-134.8\" font-family=\"Helvetica,sans-Serif\" font-size=\"14.00\" fill=\"#000000\">samples = 47.5%</text>\n",
       "<text text-anchor=\"start\" x=\"318.3657\" y=\"-120.8\" font-family=\"Helvetica,sans-Serif\" font-size=\"14.00\" fill=\"#000000\">value = [0.342, 0.658]</text>\n",
       "<text text-anchor=\"start\" x=\"352.2344\" y=\"-106.8\" font-family=\"Helvetica,sans-Serif\" font-size=\"14.00\" fill=\"#000000\">class = 1.0</text>\n",
       "</g>\n",
       "<!-- 0&#45;&gt;4 -->\n",
       "<g id=\"edge4\" class=\"edge\">\n",
       "<title>0&#45;&gt;4</title>\n",
       "<path fill=\"none\" stroke=\"#000000\" d=\"M330.1433,-213.7677C336.6878,-204.9903 343.6981,-195.5883 350.4624,-186.5161\"/>\n",
       "<polygon fill=\"#000000\" stroke=\"#000000\" points=\"353.4134,-188.4136 356.585,-178.3046 347.8016,-184.2294 353.4134,-188.4136\"/>\n",
       "<text text-anchor=\"middle\" x=\"360.1902\" y=\"-198.8433\" font-family=\"Helvetica,sans-Serif\" font-size=\"14.00\" fill=\"#000000\">False</text>\n",
       "</g>\n",
       "<!-- 2 -->\n",
       "<g id=\"node3\" class=\"node\">\n",
       "<title>2</title>\n",
       "<path fill=\"#e58139\" fill-opacity=\"0.890196\" stroke=\"#000000\" d=\"M111.6735,-64C111.6735,-64 12.1087,-64 12.1087,-64 6.1087,-64 .1087,-58 .1087,-52 .1087,-52 .1087,-12 .1087,-12 .1087,-6 6.1087,0 12.1087,0 12.1087,0 111.6735,0 111.6735,0 117.6735,0 123.6735,-6 123.6735,-12 123.6735,-12 123.6735,-52 123.6735,-52 123.6735,-58 117.6735,-64 111.6735,-64\"/>\n",
       "<text text-anchor=\"start\" x=\"29.3931\" y=\"-48.8\" font-family=\"Helvetica,sans-Serif\" font-size=\"14.00\" fill=\"#000000\">gini = 0.18</text>\n",
       "<text text-anchor=\"start\" x=\"8\" y=\"-34.8\" font-family=\"Helvetica,sans-Serif\" font-size=\"14.00\" fill=\"#000000\">samples = 32.2%</text>\n",
       "<text text-anchor=\"start\" x=\"9.938\" y=\"-20.8\" font-family=\"Helvetica,sans-Serif\" font-size=\"14.00\" fill=\"#000000\">value = [0.9, 0.1]</text>\n",
       "<text text-anchor=\"start\" x=\"28.2344\" y=\"-6.8\" font-family=\"Helvetica,sans-Serif\" font-size=\"14.00\" fill=\"#000000\">class = 0.0</text>\n",
       "</g>\n",
       "<!-- 1&#45;&gt;2 -->\n",
       "<g id=\"edge2\" class=\"edge\">\n",
       "<title>1&#45;&gt;2</title>\n",
       "<path fill=\"none\" stroke=\"#000000\" d=\"M160.055,-99.7647C146.0311,-90.0838 131.0334,-79.7305 117.0888,-70.1042\"/>\n",
       "<polygon fill=\"#000000\" stroke=\"#000000\" points=\"118.7784,-67.0176 108.5604,-64.2169 114.8016,-72.7783 118.7784,-67.0176\"/>\n",
       "</g>\n",
       "<!-- 3 -->\n",
       "<g id=\"node4\" class=\"node\">\n",
       "<title>3</title>\n",
       "<path fill=\"#e58139\" fill-opacity=\"0.513725\" stroke=\"#000000\" d=\"M280.4419,-64C280.4419,-64 153.3403,-64 153.3403,-64 147.3403,-64 141.3403,-58 141.3403,-52 141.3403,-52 141.3403,-12 141.3403,-12 141.3403,-6 147.3403,0 153.3403,0 153.3403,0 280.4419,0 280.4419,0 286.4419,0 292.4419,-6 292.4419,-12 292.4419,-12 292.4419,-52 292.4419,-52 292.4419,-58 286.4419,-64 280.4419,-64\"/>\n",
       "<text text-anchor=\"start\" x=\"184.3931\" y=\"-48.8\" font-family=\"Helvetica,sans-Serif\" font-size=\"14.00\" fill=\"#000000\">gini = 0.44</text>\n",
       "<text text-anchor=\"start\" x=\"163\" y=\"-34.8\" font-family=\"Helvetica,sans-Serif\" font-size=\"14.00\" fill=\"#000000\">samples = 20.3%</text>\n",
       "<text text-anchor=\"start\" x=\"149.3657\" y=\"-20.8\" font-family=\"Helvetica,sans-Serif\" font-size=\"14.00\" fill=\"#000000\">value = [0.673, 0.327]</text>\n",
       "<text text-anchor=\"start\" x=\"183.2344\" y=\"-6.8\" font-family=\"Helvetica,sans-Serif\" font-size=\"14.00\" fill=\"#000000\">class = 0.0</text>\n",
       "</g>\n",
       "<!-- 1&#45;&gt;3 -->\n",
       "<g id=\"edge3\" class=\"edge\">\n",
       "<title>1&#45;&gt;3</title>\n",
       "<path fill=\"none\" stroke=\"#000000\" d=\"M216.8911,-99.7647C216.8911,-91.4537 216.8911,-82.6472 216.8911,-74.2305\"/>\n",
       "<polygon fill=\"#000000\" stroke=\"#000000\" points=\"220.3912,-74.2168 216.8911,-64.2169 213.3912,-74.2169 220.3912,-74.2168\"/>\n",
       "</g>\n",
       "<!-- 5 -->\n",
       "<g id=\"node6\" class=\"node\">\n",
       "<title>5</title>\n",
       "<path fill=\"#e58139\" fill-opacity=\"0.513725\" stroke=\"#000000\" d=\"M449.4419,-64C449.4419,-64 322.3403,-64 322.3403,-64 316.3403,-64 310.3403,-58 310.3403,-52 310.3403,-52 310.3403,-12 310.3403,-12 310.3403,-6 316.3403,0 322.3403,0 322.3403,0 449.4419,0 449.4419,0 455.4419,0 461.4419,-6 461.4419,-12 461.4419,-12 461.4419,-52 461.4419,-52 461.4419,-58 455.4419,-64 449.4419,-64\"/>\n",
       "<text text-anchor=\"start\" x=\"353.3931\" y=\"-48.8\" font-family=\"Helvetica,sans-Serif\" font-size=\"14.00\" fill=\"#000000\">gini = 0.44</text>\n",
       "<text text-anchor=\"start\" x=\"335.8931\" y=\"-34.8\" font-family=\"Helvetica,sans-Serif\" font-size=\"14.00\" fill=\"#000000\">samples = 7.2%</text>\n",
       "<text text-anchor=\"start\" x=\"318.3657\" y=\"-20.8\" font-family=\"Helvetica,sans-Serif\" font-size=\"14.00\" fill=\"#000000\">value = [0.673, 0.327]</text>\n",
       "<text text-anchor=\"start\" x=\"352.2344\" y=\"-6.8\" font-family=\"Helvetica,sans-Serif\" font-size=\"14.00\" fill=\"#000000\">class = 0.0</text>\n",
       "</g>\n",
       "<!-- 4&#45;&gt;5 -->\n",
       "<g id=\"edge5\" class=\"edge\">\n",
       "<title>4&#45;&gt;5</title>\n",
       "<path fill=\"none\" stroke=\"#000000\" d=\"M385.8911,-99.7647C385.8911,-91.4537 385.8911,-82.6472 385.8911,-74.2305\"/>\n",
       "<polygon fill=\"#000000\" stroke=\"#000000\" points=\"389.3912,-74.2168 385.8911,-64.2169 382.3912,-74.2169 389.3912,-74.2168\"/>\n",
       "</g>\n",
       "<!-- 6 -->\n",
       "<g id=\"node7\" class=\"node\">\n",
       "<title>6</title>\n",
       "<path fill=\"#399de5\" fill-opacity=\"0.603922\" stroke=\"#000000\" d=\"M618.4419,-64C618.4419,-64 491.3403,-64 491.3403,-64 485.3403,-64 479.3403,-58 479.3403,-52 479.3403,-52 479.3403,-12 479.3403,-12 479.3403,-6 485.3403,0 491.3403,0 491.3403,0 618.4419,0 618.4419,0 624.4419,0 630.4419,-6 630.4419,-12 630.4419,-12 630.4419,-52 630.4419,-52 630.4419,-58 624.4419,-64 618.4419,-64\"/>\n",
       "<text text-anchor=\"start\" x=\"518.5\" y=\"-48.8\" font-family=\"Helvetica,sans-Serif\" font-size=\"14.00\" fill=\"#000000\">gini = 0.406</text>\n",
       "<text text-anchor=\"start\" x=\"501\" y=\"-34.8\" font-family=\"Helvetica,sans-Serif\" font-size=\"14.00\" fill=\"#000000\">samples = 40.2%</text>\n",
       "<text text-anchor=\"start\" x=\"487.3657\" y=\"-20.8\" font-family=\"Helvetica,sans-Serif\" font-size=\"14.00\" fill=\"#000000\">value = [0.283, 0.717]</text>\n",
       "<text text-anchor=\"start\" x=\"521.2344\" y=\"-6.8\" font-family=\"Helvetica,sans-Serif\" font-size=\"14.00\" fill=\"#000000\">class = 1.0</text>\n",
       "</g>\n",
       "<!-- 4&#45;&gt;6 -->\n",
       "<g id=\"edge6\" class=\"edge\">\n",
       "<title>4&#45;&gt;6</title>\n",
       "<path fill=\"none\" stroke=\"#000000\" d=\"M447.8608,-99.7647C463.5193,-89.8508 480.2914,-79.2318 495.8036,-69.4105\"/>\n",
       "<polygon fill=\"#000000\" stroke=\"#000000\" points=\"497.7001,-72.3523 504.2768,-64.0458 493.9555,-66.438 497.7001,-72.3523\"/>\n",
       "</g>\n",
       "</g>\n",
       "</svg>\n"
      ],
      "text/plain": [
       "<graphviz.files.Source at 0x1a13136c18>"
      ]
     },
     "execution_count": 142,
     "metadata": {},
     "output_type": "execute_result"
    }
   ],
   "source": [
    "attributes_best = ['dec','attr','fun', 'shar','prob']\n",
    "wave1_m_a = sd[sd['race']==2].loc[:, attributes_best]\n",
    "wave1_m_a.isnull().sum()\n",
    "wave1_m_a=wave1_m_a.dropna(axis=0, how='any')\n",
    "\n",
    "wave1_m_a.isnull().sum()\n",
    "len(wave1_m_a[wave1_m_a['dec']==1])\n",
    "len(wave1_m_a[wave1_m_a['dec']==0])\n",
    "\n",
    "X1_m_a, y1_m_a = wave1_m_a.drop(['dec'], axis=1), wave1_m_a['dec']\n",
    "\n",
    "dtc = tree.DecisionTreeClassifier(max_depth=2).fit(X1_m_a, y1_m_a)\n",
    "\n",
    "import graphviz\n",
    "dot_data = sk.tree.export_graphviz(dtc, out_file=None, \n",
    "                         feature_names=list(X1_m_a.columns),  \n",
    "                         class_names = ['1.0' if i == 1 else '0.0' for i in dtc.classes_] ,\n",
    "                        #class_names =[i for i in temp1['match'].unique()],\n",
    "                         filled=True, rounded=True,  \n",
    "                         special_characters=True, \n",
    "                         proportion=True,\n",
    "                        )  \n",
    "graph = graphviz.Source(dot_data)  \n",
    "graph"
   ]
  },
  {
   "cell_type": "code",
   "execution_count": null,
   "metadata": {
    "collapsed": true
   },
   "outputs": [],
   "source": []
  },
  {
   "cell_type": "code",
   "execution_count": 145,
   "metadata": {},
   "outputs": [
    {
     "data": {
      "text/plain": [
       "310"
      ]
     },
     "execution_count": 145,
     "metadata": {},
     "output_type": "execute_result"
    },
    {
     "data": {
      "text/plain": [
       "dec        0\n",
       "gender     0\n",
       "attr       7\n",
       "sinc      25\n",
       "intel     22\n",
       "fun       29\n",
       "amb       37\n",
       "shar      45\n",
       "prob      23\n",
       "met       25\n",
       "dtype: int64"
      ]
     },
     "execution_count": 145,
     "metadata": {},
     "output_type": "execute_result"
    },
    {
     "data": {
      "text/plain": [
       "SelectKBest(k=5, score_func=<function f_classif at 0x1a1177aae8>)"
      ]
     },
     "execution_count": 145,
     "metadata": {},
     "output_type": "execute_result"
    },
    {
     "name": "stdout",
     "output_type": "stream",
     "text": [
      "  Feat_names   F_Scores\n",
      "0       attr  85.604421\n",
      "3       shar  65.003006\n",
      "2        fun  61.316777\n",
      "4       prob  46.917270\n",
      "1       sinc  23.956295\n"
     ]
    }
   ],
   "source": [
    "wave1_n_a = sd[(sd['race']==1)|(sd['race']==5)].loc[:, attributes1]\n",
    "len(wave1_n_a)\n",
    "wave1_n_a.isnull().sum()\n",
    "wave1_n_a=wave1_n_a.dropna(axis=0, how='any')\n",
    "X1_n_a, y1_n_a = wave1_n_a.drop(['dec'], axis=1), wave1_n_a['dec']\n",
    "\n",
    "kb = fs.SelectKBest(k=5)\n",
    "kb.fit(X1_n_a, y1_n_a)\n",
    "\n",
    "names = X1_n_a.columns.values[kb.get_support()]\n",
    "scores = kb.scores_[kb.get_support()]\n",
    "names_scores = list(zip(names, scores))\n",
    "ns_df = pd.DataFrame(data = names_scores, columns=['Feat_names', 'F_Scores'])\n",
    "#Sort the dataframe for better visualization\n",
    "ns_df_sorted = ns_df.sort_values(['F_Scores', 'Feat_names'], ascending = [False, True])\n",
    "print(ns_df_sorted)"
   ]
  },
  {
   "cell_type": "code",
   "execution_count": 146,
   "metadata": {},
   "outputs": [
    {
     "data": {
      "text/plain": [
       "dec      0\n",
       "attr     7\n",
       "fun     29\n",
       "shar    45\n",
       "prob    23\n",
       "dtype: int64"
      ]
     },
     "execution_count": 146,
     "metadata": {},
     "output_type": "execute_result"
    },
    {
     "data": {
      "text/plain": [
       "dec     0\n",
       "attr    0\n",
       "fun     0\n",
       "shar    0\n",
       "prob    0\n",
       "dtype: int64"
      ]
     },
     "execution_count": 146,
     "metadata": {},
     "output_type": "execute_result"
    },
    {
     "data": {
      "text/plain": [
       "145"
      ]
     },
     "execution_count": 146,
     "metadata": {},
     "output_type": "execute_result"
    },
    {
     "data": {
      "text/plain": [
       "114"
      ]
     },
     "execution_count": 146,
     "metadata": {},
     "output_type": "execute_result"
    },
    {
     "data": {
      "image/svg+xml": [
       "<?xml version=\"1.0\" encoding=\"UTF-8\" standalone=\"no\"?>\n",
       "<!DOCTYPE svg PUBLIC \"-//W3C//DTD SVG 1.1//EN\"\n",
       " \"http://www.w3.org/Graphics/SVG/1.1/DTD/svg11.dtd\">\n",
       "<!-- Generated by graphviz version 2.40.1 (20161225.0304)\n",
       " -->\n",
       "<!-- Title: Tree Pages: 1 -->\n",
       "<svg width=\"664pt\" height=\"300pt\"\n",
       " viewBox=\"0.00 0.00 664.02 300.00\" xmlns=\"http://www.w3.org/2000/svg\" xmlns:xlink=\"http://www.w3.org/1999/xlink\">\n",
       "<g id=\"graph0\" class=\"graph\" transform=\"scale(1 1) rotate(0) translate(4 296)\">\n",
       "<title>Tree</title>\n",
       "<polygon fill=\"#ffffff\" stroke=\"transparent\" points=\"-4,4 -4,-296 660.0186,-296 660.0186,4 -4,4\"/>\n",
       "<!-- 0 -->\n",
       "<g id=\"node1\" class=\"node\">\n",
       "<title>0</title>\n",
       "<path fill=\"#399de5\" fill-opacity=\"0.215686\" stroke=\"#000000\" d=\"M384.5048,-292C384.5048,-292 272.546,-292 272.546,-292 266.546,-292 260.546,-286 260.546,-280 260.546,-280 260.546,-226 260.546,-226 260.546,-220 266.546,-214 272.546,-214 272.546,-214 384.5048,-214 384.5048,-214 390.5048,-214 396.5048,-220 396.5048,-226 396.5048,-226 396.5048,-280 396.5048,-280 396.5048,-286 390.5048,-292 384.5048,-292\"/>\n",
       "<text text-anchor=\"start\" x=\"300.9492\" y=\"-276.8\" font-family=\"Helvetica,sans-Serif\" font-size=\"14.00\" fill=\"#000000\">attr ≤ 6.5</text>\n",
       "<text text-anchor=\"start\" x=\"292.1343\" y=\"-262.8\" font-family=\"Helvetica,sans-Serif\" font-size=\"14.00\" fill=\"#000000\">gini = 0.493</text>\n",
       "<text text-anchor=\"start\" x=\"270.7412\" y=\"-248.8\" font-family=\"Helvetica,sans-Serif\" font-size=\"14.00\" fill=\"#000000\">samples = 100.0%</text>\n",
       "<text text-anchor=\"start\" x=\"268.7861\" y=\"-234.8\" font-family=\"Helvetica,sans-Serif\" font-size=\"14.00\" fill=\"#000000\">value = [0.44, 0.56]</text>\n",
       "<text text-anchor=\"start\" x=\"294.8687\" y=\"-220.8\" font-family=\"Helvetica,sans-Serif\" font-size=\"14.00\" fill=\"#000000\">class = 1.0</text>\n",
       "</g>\n",
       "<!-- 1 -->\n",
       "<g id=\"node2\" class=\"node\">\n",
       "<title>1</title>\n",
       "<path fill=\"#e58139\" fill-opacity=\"0.647059\" stroke=\"#000000\" d=\"M308.0762,-178C308.0762,-178 180.9746,-178 180.9746,-178 174.9746,-178 168.9746,-172 168.9746,-166 168.9746,-166 168.9746,-112 168.9746,-112 168.9746,-106 174.9746,-100 180.9746,-100 180.9746,-100 308.0762,-100 308.0762,-100 314.0762,-100 320.0762,-106 320.0762,-112 320.0762,-112 320.0762,-166 320.0762,-166 320.0762,-172 314.0762,-178 308.0762,-178\"/>\n",
       "<text text-anchor=\"start\" x=\"217.332\" y=\"-162.8\" font-family=\"Helvetica,sans-Serif\" font-size=\"14.00\" fill=\"#000000\">fun ≤ 5.5</text>\n",
       "<text text-anchor=\"start\" x=\"208.1343\" y=\"-148.8\" font-family=\"Helvetica,sans-Serif\" font-size=\"14.00\" fill=\"#000000\">gini = 0.385</text>\n",
       "<text text-anchor=\"start\" x=\"190.6343\" y=\"-134.8\" font-family=\"Helvetica,sans-Serif\" font-size=\"14.00\" fill=\"#000000\">samples = 45.9%</text>\n",
       "<text text-anchor=\"start\" x=\"177\" y=\"-120.8\" font-family=\"Helvetica,sans-Serif\" font-size=\"14.00\" fill=\"#000000\">value = [0.739, 0.261]</text>\n",
       "<text text-anchor=\"start\" x=\"210.8687\" y=\"-106.8\" font-family=\"Helvetica,sans-Serif\" font-size=\"14.00\" fill=\"#000000\">class = 0.0</text>\n",
       "</g>\n",
       "<!-- 0&#45;&gt;1 -->\n",
       "<g id=\"edge1\" class=\"edge\">\n",
       "<title>0&#45;&gt;1</title>\n",
       "<path fill=\"none\" stroke=\"#000000\" d=\"M299.6174,-213.7677C293.1498,-204.9903 286.222,-195.5883 279.5373,-186.5161\"/>\n",
       "<polygon fill=\"#000000\" stroke=\"#000000\" points=\"282.2364,-184.279 273.4867,-178.3046 276.601,-188.4314 282.2364,-184.279\"/>\n",
       "<text text-anchor=\"middle\" x=\"269.7416\" y=\"-198.8225\" font-family=\"Helvetica,sans-Serif\" font-size=\"14.00\" fill=\"#000000\">True</text>\n",
       "</g>\n",
       "<!-- 4 -->\n",
       "<g id=\"node5\" class=\"node\">\n",
       "<title>4</title>\n",
       "<path fill=\"#399de5\" fill-opacity=\"0.772549\" stroke=\"#000000\" d=\"M477.0762,-178C477.0762,-178 349.9746,-178 349.9746,-178 343.9746,-178 337.9746,-172 337.9746,-166 337.9746,-166 337.9746,-112 337.9746,-112 337.9746,-106 343.9746,-100 349.9746,-100 349.9746,-100 477.0762,-100 477.0762,-100 483.0762,-100 489.0762,-106 489.0762,-112 489.0762,-112 489.0762,-166 489.0762,-166 489.0762,-172 483.0762,-178 477.0762,-178\"/>\n",
       "<text text-anchor=\"start\" x=\"382.4458\" y=\"-162.8\" font-family=\"Helvetica,sans-Serif\" font-size=\"14.00\" fill=\"#000000\">shar ≤ 4.5</text>\n",
       "<text text-anchor=\"start\" x=\"377.1343\" y=\"-148.8\" font-family=\"Helvetica,sans-Serif\" font-size=\"14.00\" fill=\"#000000\">gini = 0.302</text>\n",
       "<text text-anchor=\"start\" x=\"359.6343\" y=\"-134.8\" font-family=\"Helvetica,sans-Serif\" font-size=\"14.00\" fill=\"#000000\">samples = 54.1%</text>\n",
       "<text text-anchor=\"start\" x=\"346\" y=\"-120.8\" font-family=\"Helvetica,sans-Serif\" font-size=\"14.00\" fill=\"#000000\">value = [0.186, 0.814]</text>\n",
       "<text text-anchor=\"start\" x=\"379.8687\" y=\"-106.8\" font-family=\"Helvetica,sans-Serif\" font-size=\"14.00\" fill=\"#000000\">class = 1.0</text>\n",
       "</g>\n",
       "<!-- 0&#45;&gt;4 -->\n",
       "<g id=\"edge4\" class=\"edge\">\n",
       "<title>0&#45;&gt;4</title>\n",
       "<path fill=\"none\" stroke=\"#000000\" d=\"M357.7776,-213.7677C364.3221,-204.9903 371.3324,-195.5883 378.0967,-186.5161\"/>\n",
       "<polygon fill=\"#000000\" stroke=\"#000000\" points=\"381.0477,-188.4136 384.2193,-178.3046 375.4359,-184.2294 381.0477,-188.4136\"/>\n",
       "<text text-anchor=\"middle\" x=\"387.8244\" y=\"-198.8433\" font-family=\"Helvetica,sans-Serif\" font-size=\"14.00\" fill=\"#000000\">False</text>\n",
       "</g>\n",
       "<!-- 2 -->\n",
       "<g id=\"node3\" class=\"node\">\n",
       "<title>2</title>\n",
       "<path fill=\"#e58139\" fill-opacity=\"0.929412\" stroke=\"#000000\" d=\"M139.0762,-64C139.0762,-64 11.9746,-64 11.9746,-64 5.9746,-64 -.0254,-58 -.0254,-52 -.0254,-52 -.0254,-12 -.0254,-12 -.0254,-6 5.9746,0 11.9746,0 11.9746,0 139.0762,0 139.0762,0 145.0762,0 151.0762,-6 151.0762,-12 151.0762,-12 151.0762,-52 151.0762,-52 151.0762,-58 145.0762,-64 139.0762,-64\"/>\n",
       "<text text-anchor=\"start\" x=\"39.1343\" y=\"-48.8\" font-family=\"Helvetica,sans-Serif\" font-size=\"14.00\" fill=\"#000000\">gini = 0.122</text>\n",
       "<text text-anchor=\"start\" x=\"21.6343\" y=\"-34.8\" font-family=\"Helvetica,sans-Serif\" font-size=\"14.00\" fill=\"#000000\">samples = 17.8%</text>\n",
       "<text text-anchor=\"start\" x=\"8\" y=\"-20.8\" font-family=\"Helvetica,sans-Serif\" font-size=\"14.00\" fill=\"#000000\">value = [0.935, 0.065]</text>\n",
       "<text text-anchor=\"start\" x=\"41.8687\" y=\"-6.8\" font-family=\"Helvetica,sans-Serif\" font-size=\"14.00\" fill=\"#000000\">class = 0.0</text>\n",
       "</g>\n",
       "<!-- 1&#45;&gt;2 -->\n",
       "<g id=\"edge2\" class=\"edge\">\n",
       "<title>1&#45;&gt;2</title>\n",
       "<path fill=\"none\" stroke=\"#000000\" d=\"M182.5557,-99.7647C166.8972,-89.8508 150.1251,-79.2318 134.6129,-69.4105\"/>\n",
       "<polygon fill=\"#000000\" stroke=\"#000000\" points=\"136.461,-66.438 126.1397,-64.0458 132.7164,-72.3523 136.461,-66.438\"/>\n",
       "</g>\n",
       "<!-- 3 -->\n",
       "<g id=\"node4\" class=\"node\">\n",
       "<title>3</title>\n",
       "<path fill=\"#e58139\" fill-opacity=\"0.376471\" stroke=\"#000000\" d=\"M308.0762,-64C308.0762,-64 180.9746,-64 180.9746,-64 174.9746,-64 168.9746,-58 168.9746,-52 168.9746,-52 168.9746,-12 168.9746,-12 168.9746,-6 174.9746,0 180.9746,0 180.9746,0 308.0762,0 308.0762,0 314.0762,0 320.0762,-6 320.0762,-12 320.0762,-12 320.0762,-52 320.0762,-52 320.0762,-58 314.0762,-64 308.0762,-64\"/>\n",
       "<text text-anchor=\"start\" x=\"208.1343\" y=\"-48.8\" font-family=\"Helvetica,sans-Serif\" font-size=\"14.00\" fill=\"#000000\">gini = 0.473</text>\n",
       "<text text-anchor=\"start\" x=\"190.6343\" y=\"-34.8\" font-family=\"Helvetica,sans-Serif\" font-size=\"14.00\" fill=\"#000000\">samples = 28.2%</text>\n",
       "<text text-anchor=\"start\" x=\"177\" y=\"-20.8\" font-family=\"Helvetica,sans-Serif\" font-size=\"14.00\" fill=\"#000000\">value = [0.616, 0.384]</text>\n",
       "<text text-anchor=\"start\" x=\"210.8687\" y=\"-6.8\" font-family=\"Helvetica,sans-Serif\" font-size=\"14.00\" fill=\"#000000\">class = 0.0</text>\n",
       "</g>\n",
       "<!-- 1&#45;&gt;3 -->\n",
       "<g id=\"edge3\" class=\"edge\">\n",
       "<title>1&#45;&gt;3</title>\n",
       "<path fill=\"none\" stroke=\"#000000\" d=\"M244.5254,-99.7647C244.5254,-91.4537 244.5254,-82.6472 244.5254,-74.2305\"/>\n",
       "<polygon fill=\"#000000\" stroke=\"#000000\" points=\"248.0255,-74.2168 244.5254,-64.2169 241.0255,-74.2169 248.0255,-74.2168\"/>\n",
       "</g>\n",
       "<!-- 5 -->\n",
       "<g id=\"node6\" class=\"node\">\n",
       "<title>5</title>\n",
       "<path fill=\"#e58139\" fill-opacity=\"0.231373\" stroke=\"#000000\" d=\"M477.0762,-64C477.0762,-64 349.9746,-64 349.9746,-64 343.9746,-64 337.9746,-58 337.9746,-52 337.9746,-52 337.9746,-12 337.9746,-12 337.9746,-6 343.9746,0 349.9746,0 349.9746,0 477.0762,0 477.0762,0 483.0762,0 489.0762,-6 489.0762,-12 489.0762,-12 489.0762,-52 489.0762,-52 489.0762,-58 483.0762,-64 477.0762,-64\"/>\n",
       "<text text-anchor=\"start\" x=\"377.1343\" y=\"-48.8\" font-family=\"Helvetica,sans-Serif\" font-size=\"14.00\" fill=\"#000000\">gini = 0.491</text>\n",
       "<text text-anchor=\"start\" x=\"363.5273\" y=\"-34.8\" font-family=\"Helvetica,sans-Serif\" font-size=\"14.00\" fill=\"#000000\">samples = 8.9%</text>\n",
       "<text text-anchor=\"start\" x=\"346\" y=\"-20.8\" font-family=\"Helvetica,sans-Serif\" font-size=\"14.00\" fill=\"#000000\">value = [0.565, 0.435]</text>\n",
       "<text text-anchor=\"start\" x=\"379.8687\" y=\"-6.8\" font-family=\"Helvetica,sans-Serif\" font-size=\"14.00\" fill=\"#000000\">class = 0.0</text>\n",
       "</g>\n",
       "<!-- 4&#45;&gt;5 -->\n",
       "<g id=\"edge5\" class=\"edge\">\n",
       "<title>4&#45;&gt;5</title>\n",
       "<path fill=\"none\" stroke=\"#000000\" d=\"M413.5254,-99.7647C413.5254,-91.4537 413.5254,-82.6472 413.5254,-74.2305\"/>\n",
       "<polygon fill=\"#000000\" stroke=\"#000000\" points=\"417.0255,-74.2168 413.5254,-64.2169 410.0255,-74.2169 417.0255,-74.2168\"/>\n",
       "</g>\n",
       "<!-- 6 -->\n",
       "<g id=\"node7\" class=\"node\">\n",
       "<title>6</title>\n",
       "<path fill=\"#399de5\" fill-opacity=\"0.874510\" stroke=\"#000000\" d=\"M644.0117,-64C644.0117,-64 519.0391,-64 519.0391,-64 513.0391,-64 507.0391,-58 507.0391,-52 507.0391,-52 507.0391,-12 507.0391,-12 507.0391,-6 513.0391,0 519.0391,0 519.0391,0 644.0117,0 644.0117,0 650.0117,0 656.0117,-6 656.0117,-12 656.0117,-12 656.0117,-52 656.0117,-52 656.0117,-58 650.0117,-64 644.0117,-64\"/>\n",
       "<text text-anchor=\"start\" x=\"545.1343\" y=\"-48.8\" font-family=\"Helvetica,sans-Serif\" font-size=\"14.00\" fill=\"#000000\">gini = 0.198</text>\n",
       "<text text-anchor=\"start\" x=\"527.6343\" y=\"-34.8\" font-family=\"Helvetica,sans-Serif\" font-size=\"14.00\" fill=\"#000000\">samples = 45.2%</text>\n",
       "<text text-anchor=\"start\" x=\"515.0322\" y=\"-20.8\" font-family=\"Helvetica,sans-Serif\" font-size=\"14.00\" fill=\"#000000\">value = [0.111, 0.889]</text>\n",
       "<text text-anchor=\"start\" x=\"547.8687\" y=\"-6.8\" font-family=\"Helvetica,sans-Serif\" font-size=\"14.00\" fill=\"#000000\">class = 1.0</text>\n",
       "</g>\n",
       "<!-- 4&#45;&gt;6 -->\n",
       "<g id=\"edge6\" class=\"edge\">\n",
       "<title>4&#45;&gt;6</title>\n",
       "<path fill=\"none\" stroke=\"#000000\" d=\"M475.1284,-99.7647C490.5502,-89.9426 507.0584,-79.4284 522.3588,-69.6835\"/>\n",
       "<polygon fill=\"#000000\" stroke=\"#000000\" points=\"524.6562,-72.3699 531.2106,-64.0458 520.8958,-66.4657 524.6562,-72.3699\"/>\n",
       "</g>\n",
       "</g>\n",
       "</svg>\n"
      ],
      "text/plain": [
       "<graphviz.files.Source at 0x1a158b2198>"
      ]
     },
     "execution_count": 146,
     "metadata": {},
     "output_type": "execute_result"
    }
   ],
   "source": [
    "attributes_best = ['dec','attr','fun', 'shar','prob']\n",
    "wave1_n_a = sd[(sd['race']==1)|(sd['race']==5)].loc[:, attributes_best]\n",
    "wave1_n_a.isnull().sum()\n",
    "wave1_n_a=wave1_n_a.dropna(axis=0, how='any')\n",
    "\n",
    "wave1_n_a.isnull().sum()\n",
    "len(wave1_n_a[wave1_n_a['dec']==1])\n",
    "len(wave1_n_a[wave1_n_a['dec']==0])\n",
    "\n",
    "X1_n_a, y1_n_a = wave1_n_a.drop(['dec'], axis=1), wave1_n_a['dec']\n",
    "\n",
    "dtc = tree.DecisionTreeClassifier(max_depth=2).fit(X1_n_a, y1_n_a)\n",
    "\n",
    "import graphviz\n",
    "dot_data = sk.tree.export_graphviz(dtc, out_file=None, \n",
    "                         feature_names=list(X1_n_a.columns),  \n",
    "                         class_names = ['1.0' if i == 1 else '0.0' for i in dtc.classes_] ,\n",
    "                        #class_names =[i for i in temp1['match'].unique()],\n",
    "                         filled=True, rounded=True,  \n",
    "                         special_characters=True, \n",
    "                         proportion=True,\n",
    "                        )  \n",
    "graph = graphviz.Source(dot_data)  \n",
    "graph"
   ]
  },
  {
   "cell_type": "code",
   "execution_count": null,
   "metadata": {
    "collapsed": true
   },
   "outputs": [],
   "source": []
  },
  {
   "cell_type": "code",
   "execution_count": 163,
   "metadata": {},
   "outputs": [
    {
     "data": {
      "text/plain": [
       "<matplotlib.axes._subplots.AxesSubplot at 0x1a15ab15c0>"
      ]
     },
     "execution_count": 163,
     "metadata": {},
     "output_type": "execute_result"
    },
    {
     "data": {
      "image/png": "[encoded data removed]",
      "text/plain": [
       "<matplotlib.figure.Figure at 0x1a15ba3198>"
      ]
     },
     "metadata": {},
     "output_type": "display_data"
    }
   ],
   "source": [
    "sns.distplot(sd['sports'].dropna())"
   ]
  },
  {
   "cell_type": "code",
   "execution_count": 164,
   "metadata": {},
   "outputs": [
    {
     "data": {
      "text/plain": [
       "<matplotlib.axes._subplots.AxesSubplot at 0x1a157dc780>"
      ]
     },
     "execution_count": 164,
     "metadata": {},
     "output_type": "execute_result"
    },
    {
     "data": {
      "image/png": "[encoded data removed]",
      "text/plain": [
       "<matplotlib.figure.Figure at 0x1a157ce550>"
      ]
     },
     "metadata": {},
     "output_type": "display_data"
    }
   ],
   "source": [
    "sns.distplot(sd['exercise'].dropna())"
   ]
  },
  {
   "cell_type": "code",
   "execution_count": null,
   "metadata": {
    "collapsed": true
   },
   "outputs": [],
   "source": []
  },
  {
   "cell_type": "code",
   "execution_count": null,
   "metadata": {
    "collapsed": true
   },
   "outputs": [],
   "source": []
  },
  {
   "cell_type": "code",
   "execution_count": null,
   "metadata": {
    "collapsed": true
   },
   "outputs": [],
   "source": []
  },
  {
   "cell_type": "code",
   "execution_count": null,
   "metadata": {
    "collapsed": true
   },
   "outputs": [],
   "source": []
  },
  {
   "cell_type": "code",
   "execution_count": null,
   "metadata": {
    "collapsed": true
   },
   "outputs": [],
   "source": []
  },
  {
   "cell_type": "code",
   "execution_count": null,
   "metadata": {
    "collapsed": true
   },
   "outputs": [],
   "source": []
  }
 ],
 "metadata": {
  "kernelspec": {
   "display_name": "Python 3",
   "language": "python",
   "name": "python3"
  },
  "language_info": {
   "codemirror_mode": {
    "name": "ipython",
    "version": 3
   },
   "file_extension": ".py",
   "mimetype": "text/x-python",
   "name": "python",
   "nbconvert_exporter": "python",
   "pygments_lexer": "ipython3",
   "version": "3.6.3"
  },
  "varInspector": {
   "cols": {
    "lenName": 16,
    "lenType": 16,
    "lenVar": 40
   },
   "kernels_config": {
    "python": {
     "delete_cmd_postfix": "",
     "delete_cmd_prefix": "del ",
     "library": "var_list.py",
     "varRefreshCmd": "print(var_dic_list())"
    },
    "r": {
     "delete_cmd_postfix": ") ",
     "delete_cmd_prefix": "rm(",
     "library": "var_list.r",
     "varRefreshCmd": "cat(var_dic_list()) "
    }
   },
   "types_to_exclude": [
    "module",
    "function",
    "builtin_function_or_method",
    "instance",
    "_Feature"
   ],
   "window_display": false
  }
 },
 "nbformat": 4,
 "nbformat_minor": 2
}
