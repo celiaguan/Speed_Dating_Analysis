{
 "cells": [
  {
   "cell_type": "markdown",
   "metadata": {},
   "source": [
    "# Speed Dating "
   ]
  },
  {
   "cell_type": "markdown",
   "metadata": {},
   "source": [
    "### Cleanning data "
   ]
  },
  {
   "cell_type": "code",
   "execution_count": 75,
   "metadata": {
    "collapsed": true
   },
   "outputs": [],
   "source": [
    "import pandas as pd\n",
    "import seaborn as sns\n",
    "import matplotlib.pyplot as plt\n",
    "import datetime\n",
    "import numpy as np\n",
    "from IPython.core.interactiveshell import InteractiveShell\n",
    "InteractiveShell.ast_node_interactivity = 'all'\n",
    "%matplotlib inline"
   ]
  },
  {
   "cell_type": "code",
   "execution_count": 76,
   "metadata": {
    "collapsed": true
   },
   "outputs": [],
   "source": [
    "import sklearn as sk\n",
    "import sklearn.tree as tree\n",
    "import sklearn.preprocessing as pp\n",
    "import sklearn.metrics as sm\n",
    "import sklearn.feature_selection as fs\n",
    "from sklearn.pipeline import make_pipeline\n",
    "from sklearn.tree import DecisionTreeClassifier"
   ]
  },
  {
   "cell_type": "code",
   "execution_count": 77,
   "metadata": {
    "collapsed": true
   },
   "outputs": [],
   "source": [
    "data = pd.read_csv('Speed Dating Data.csv',encoding=\"ISO-8859-1\").rename(columns=lambda x: x.strip())\n",
    "sd_org=data.copy()"
   ]
  },
  {
   "cell_type": "code",
   "execution_count": 78,
   "metadata": {},
   "outputs": [
    {
     "data": {
      "text/plain": [
       "array([ 1,  2,  3,  4,  5,  7,  8,  9, 10, 11, 13, 14, 15, 17])"
      ]
     },
     "execution_count": 78,
     "metadata": {},
     "output_type": "execute_result"
    }
   ],
   "source": [
    "# select waves that had been used in the paper \n",
    "wave=[6,12,16,18,19,20,21]\n",
    "sd = sd_org[~sd_org['wave'].isin(wave)]\n",
    "sd.wave.unique()"
   ]
  },
  {
   "cell_type": "code",
   "execution_count": 79,
   "metadata": {},
   "outputs": [
    {
     "name": "stderr",
     "output_type": "stream",
     "text": [
      "/anaconda3/lib/python3.6/site-packages/ipykernel_launcher.py:2: SettingWithCopyWarning: \n",
      "A value is trying to be set on a copy of a slice from a DataFrame.\n",
      "Try using .loc[row_indexer,col_indexer] = value instead\n",
      "\n",
      "See the caveats in the documentation: http://pandas.pydata.org/pandas-docs/stable/indexing.html#indexing-view-versus-copy\n",
      "  \n",
      "/anaconda3/lib/python3.6/site-packages/ipykernel_launcher.py:3: SettingWithCopyWarning: \n",
      "A value is trying to be set on a copy of a slice from a DataFrame.\n",
      "Try using .loc[row_indexer,col_indexer] = value instead\n",
      "\n",
      "See the caveats in the documentation: http://pandas.pydata.org/pandas-docs/stable/indexing.html#indexing-view-versus-copy\n",
      "  This is separate from the ipykernel package so we can avoid doing imports until\n"
     ]
    }
   ],
   "source": [
    "# convert income to numeric values\n",
    "sd['income'] = sd['income'].str.replace(',', '')\n",
    "sd['income']= pd.to_numeric(sd['income'])"
   ]
  },
  {
   "cell_type": "code",
   "execution_count": 80,
   "metadata": {
    "collapsed": true
   },
   "outputs": [],
   "source": [
    "# Drop those colunms for 'half way through' period \n",
    "sd= sd.drop(['attr1_s', 'sinc1_s', 'intel1_s', 'fun1_s', 'amb1_s', 'shar1_s',\n",
    "             'attr3_s', 'sinc3_s', 'intel3_s', 'fun3_s', 'amb3_s'],axis=1)"
   ]
  },
  {
   "cell_type": "code",
   "execution_count": 81,
   "metadata": {
    "collapsed": true
   },
   "outputs": [],
   "source": [
    "# Drop those colunms for 'follow-up 2' period, becuase these were filled out after 3-4 \n",
    "# weeks after the event. A lot of them were NaN values and we think that participants \n",
    "# might not remember very clearly by that time. \n",
    "\n",
    "sd= sd.drop(['attr1_3', 'sinc1_3', 'intel1_3', 'fun1_3', 'amb1_3', 'shar1_3',\n",
    "             'attr2_3', 'sinc2_3', 'intel2_3', 'fun2_3', 'amb2_3', 'shar2_3',\n",
    "             'attr3_3', 'sinc3_3', 'intel3_3', 'fun3_3', 'amb3_3',\n",
    "             'attr4_3', 'sinc4_3', 'intel4_3', 'fun4_3', 'amb4_3', 'shar4_3',\n",
    "             'attr5_3', 'sinc5_3', 'intel5_3', 'fun5_3', 'amb5_3', \n",
    "             'attr7_3', 'sinc7_3', 'intel7_3', 'fun7_3', 'amb7_3', 'shar7_3',],axis=1)"
   ]
  },
  {
   "cell_type": "code",
   "execution_count": 82,
   "metadata": {
    "collapsed": true
   },
   "outputs": [],
   "source": [
    "# Drop attr7_2, because it doesn't pair up with the question asked in the correspoding sign up period.\n",
    "sd= sd.drop('attr7_2',axis=1)"
   ]
  },
  {
   "cell_type": "code",
   "execution_count": 83,
   "metadata": {
    "collapsed": true
   },
   "outputs": [],
   "source": [
    "# Drop those columns that won't be used in this analysis \n",
    "sd= sd.drop(['id', 'idg', 'wave','round','condtn', 'position', 'positin1','partner','pid','int_corr',\n",
    "             'age_o','race_o','from','zipcode','career','career_c','satis_2','length',\n",
    "             'pf_o_att','pf_o_sin','pf_o_int','pf_o_fun','pf_o_amb','pf_o_sha','field',\n",
    "             'undergra','mn_sat','tuition','exphappy','expnum','numdat_2','samerace',\n",
    "             'match_es','you_call','them_cal','date_3','numdat_3','num_in_3'],axis=1)"
   ]
  },
  {
   "cell_type": "code",
   "execution_count": 84,
   "metadata": {
    "collapsed": true
   },
   "outputs": [],
   "source": [
    "# group those attributes suing 1-10 scales\n",
    "ten = ['attr3_1', 'sinc3_1',\n",
    "       'fun3_1', 'intel3_1', 'amb3_1', 'attr5_1', 'sinc5_1', 'intel5_1',\n",
    "       'fun5_1', 'amb5_1','attr3_2', 'sinc3_2', 'intel3_2', 'fun3_2', 'amb3_2',\n",
    "       'attr5_2', 'sinc5_2', 'intel5_2', 'fun5_2', 'amb5_2']\n",
    "\n",
    "# group those attributes using 100 point system\n",
    "hrd = ['attr1_1', 'sinc1_1',\n",
    "       'intel1_1', 'fun1_1', 'amb1_1', 'shar1_1', 'attr4_1', 'sinc4_1',\n",
    "       'intel4_1', 'fun4_1', 'amb4_1', 'shar4_1', 'attr2_1', 'sinc2_1',\n",
    "       'intel2_1', 'fun2_1', 'amb2_1', 'shar2_1','sinc7_2', 'intel7_2', 'fun7_2', 'amb7_2',\n",
    "       'shar7_2', 'attr1_2', 'sinc1_2', 'intel1_2', 'fun1_2', 'amb1_2',\n",
    "       'shar1_2', 'attr4_2', 'sinc4_2', 'intel4_2', 'fun4_2', 'amb4_2',\n",
    "       'shar4_2', 'attr2_2', 'sinc2_2', 'intel2_2', 'fun2_2', 'amb2_2',\n",
    "       'shar2_2']"
   ]
  },
  {
   "cell_type": "code",
   "execution_count": 85,
   "metadata": {
    "collapsed": true
   },
   "outputs": [],
   "source": [
    "# Normalize two different scales \n",
    "\n",
    "# Normalize 10 point scale\n",
    "sd[ten]=sd[ten].apply(lambda x: ((x-1)/9))\n",
    "\n",
    "# Normalize 100 point scale\n",
    "sd[hrd]=sd[hrd].apply(lambda x: x/100)"
   ]
  },
  {
   "cell_type": "code",
   "execution_count": 86,
   "metadata": {},
   "outputs": [
    {
     "data": {
      "text/plain": [
       "Index(['iid', 'gender', 'order', 'match', 'dec_o', 'attr_o', 'sinc_o',\n",
       "       'intel_o', 'fun_o', 'amb_o',\n",
       "       ...\n",
       "       'attr3_2', 'sinc3_2', 'intel3_2', 'fun3_2', 'amb3_2', 'attr5_2',\n",
       "       'sinc5_2', 'intel5_2', 'fun5_2', 'amb5_2'],\n",
       "      dtype='object', length=111)"
      ]
     },
     "execution_count": 86,
     "metadata": {},
     "output_type": "execute_result"
    }
   ],
   "source": [
    "# final columns to keep \n",
    "sd.columns"
   ]
  },
  {
   "cell_type": "markdown",
   "metadata": {},
   "source": [
    "### Descriptive Analysis "
   ]
  },
  {
   "cell_type": "code",
   "execution_count": null,
   "metadata": {
    "collapsed": true
   },
   "outputs": [],
   "source": []
  },
  {
   "cell_type": "markdown",
   "metadata": {},
   "source": [
    "### Clustering\n"
   ]
  },
  {
   "cell_type": "markdown",
   "metadata": {},
   "source": [
    "We wanted to classify match/no match based on participants' interests and character attributes from the sign up period. Our initial approach was to check the correlations amoung these variables and drop one variable in pairs with high correlations "
   ]
  },
  {
   "cell_type": "code",
   "execution_count": null,
   "metadata": {
    "collapsed": true
   },
   "outputs": [],
   "source": []
  },
  {
   "cell_type": "code",
   "execution_count": 18,
   "metadata": {
    "collapsed": true
   },
   "outputs": [],
   "source": [
    "# features we want to include in our analysis for sign up period\n",
    "features =['gender','match','round','order','age','field_cd','race','imprace','imprelig','date','go_out',\n",
    "           'sports','tvsports','exercise','dining','museums','art','hiking','gaming',\n",
    "           'clubbing','reading','tv','theater','movies','music','shopping','yoga',\n",
    "           'attr1_1', 'sinc1_1', 'intel1_1', 'fun1_1', 'amb1_1', 'shar1_1',\n",
    "           'attr2_1', 'sinc2_1','intel2_1', 'fun2_1', 'amb2_1', 'shar2_1', 'attr3_1',\n",
    "           'sinc3_1','fun3_1', 'intel3_1', 'amb3_1']"
   ]
  },
  {
   "cell_type": "code",
   "execution_count": 19,
   "metadata": {},
   "outputs": [
    {
     "ename": "KeyError",
     "evalue": "\"['round'] not in index\"",
     "output_type": "error",
     "traceback": [
      "\u001b[0;31m---------------------------------------------------------------------------\u001b[0m",
      "\u001b[0;31mKeyError\u001b[0m                                  Traceback (most recent call last)",
      "\u001b[0;32m<ipython-input-19-e912f1db19b8>\u001b[0m in \u001b[0;36m<module>\u001b[0;34m()\u001b[0m\n\u001b[1;32m      1\u001b[0m \u001b[0;31m# correlations between features\u001b[0m\u001b[0;34m\u001b[0m\u001b[0;34m\u001b[0m\u001b[0m\n\u001b[0;32m----> 2\u001b[0;31m \u001b[0msd\u001b[0m\u001b[0;34m[\u001b[0m\u001b[0mfeatures\u001b[0m\u001b[0;34m]\u001b[0m\u001b[0;34m.\u001b[0m\u001b[0mcorr\u001b[0m\u001b[0;34m(\u001b[0m\u001b[0;34m)\u001b[0m\u001b[0;34m.\u001b[0m\u001b[0mhead\u001b[0m\u001b[0;34m(\u001b[0m\u001b[0;34m)\u001b[0m\u001b[0;34m\u001b[0m\u001b[0m\n\u001b[0m",
      "\u001b[0;32m/anaconda3/lib/python3.6/site-packages/pandas/core/frame.py\u001b[0m in \u001b[0;36m__getitem__\u001b[0;34m(self, key)\u001b[0m\n\u001b[1;32m   1956\u001b[0m         \u001b[0;32mif\u001b[0m \u001b[0misinstance\u001b[0m\u001b[0;34m(\u001b[0m\u001b[0mkey\u001b[0m\u001b[0;34m,\u001b[0m \u001b[0;34m(\u001b[0m\u001b[0mSeries\u001b[0m\u001b[0;34m,\u001b[0m \u001b[0mnp\u001b[0m\u001b[0;34m.\u001b[0m\u001b[0mndarray\u001b[0m\u001b[0;34m,\u001b[0m \u001b[0mIndex\u001b[0m\u001b[0;34m,\u001b[0m \u001b[0mlist\u001b[0m\u001b[0;34m)\u001b[0m\u001b[0;34m)\u001b[0m\u001b[0;34m:\u001b[0m\u001b[0;34m\u001b[0m\u001b[0m\n\u001b[1;32m   1957\u001b[0m             \u001b[0;31m# either boolean or fancy integer index\u001b[0m\u001b[0;34m\u001b[0m\u001b[0;34m\u001b[0m\u001b[0m\n\u001b[0;32m-> 1958\u001b[0;31m             \u001b[0;32mreturn\u001b[0m \u001b[0mself\u001b[0m\u001b[0;34m.\u001b[0m\u001b[0m_getitem_array\u001b[0m\u001b[0;34m(\u001b[0m\u001b[0mkey\u001b[0m\u001b[0;34m)\u001b[0m\u001b[0;34m\u001b[0m\u001b[0m\n\u001b[0m\u001b[1;32m   1959\u001b[0m         \u001b[0;32melif\u001b[0m \u001b[0misinstance\u001b[0m\u001b[0;34m(\u001b[0m\u001b[0mkey\u001b[0m\u001b[0;34m,\u001b[0m \u001b[0mDataFrame\u001b[0m\u001b[0;34m)\u001b[0m\u001b[0;34m:\u001b[0m\u001b[0;34m\u001b[0m\u001b[0m\n\u001b[1;32m   1960\u001b[0m             \u001b[0;32mreturn\u001b[0m \u001b[0mself\u001b[0m\u001b[0;34m.\u001b[0m\u001b[0m_getitem_frame\u001b[0m\u001b[0;34m(\u001b[0m\u001b[0mkey\u001b[0m\u001b[0;34m)\u001b[0m\u001b[0;34m\u001b[0m\u001b[0m\n",
      "\u001b[0;32m/anaconda3/lib/python3.6/site-packages/pandas/core/frame.py\u001b[0m in \u001b[0;36m_getitem_array\u001b[0;34m(self, key)\u001b[0m\n\u001b[1;32m   2000\u001b[0m             \u001b[0;32mreturn\u001b[0m \u001b[0mself\u001b[0m\u001b[0;34m.\u001b[0m\u001b[0mtake\u001b[0m\u001b[0;34m(\u001b[0m\u001b[0mindexer\u001b[0m\u001b[0;34m,\u001b[0m \u001b[0maxis\u001b[0m\u001b[0;34m=\u001b[0m\u001b[0;36m0\u001b[0m\u001b[0;34m,\u001b[0m \u001b[0mconvert\u001b[0m\u001b[0;34m=\u001b[0m\u001b[0;32mFalse\u001b[0m\u001b[0;34m)\u001b[0m\u001b[0;34m\u001b[0m\u001b[0m\n\u001b[1;32m   2001\u001b[0m         \u001b[0;32melse\u001b[0m\u001b[0;34m:\u001b[0m\u001b[0;34m\u001b[0m\u001b[0m\n\u001b[0;32m-> 2002\u001b[0;31m             \u001b[0mindexer\u001b[0m \u001b[0;34m=\u001b[0m \u001b[0mself\u001b[0m\u001b[0;34m.\u001b[0m\u001b[0mloc\u001b[0m\u001b[0;34m.\u001b[0m\u001b[0m_convert_to_indexer\u001b[0m\u001b[0;34m(\u001b[0m\u001b[0mkey\u001b[0m\u001b[0;34m,\u001b[0m \u001b[0maxis\u001b[0m\u001b[0;34m=\u001b[0m\u001b[0;36m1\u001b[0m\u001b[0;34m)\u001b[0m\u001b[0;34m\u001b[0m\u001b[0m\n\u001b[0m\u001b[1;32m   2003\u001b[0m             \u001b[0;32mreturn\u001b[0m \u001b[0mself\u001b[0m\u001b[0;34m.\u001b[0m\u001b[0mtake\u001b[0m\u001b[0;34m(\u001b[0m\u001b[0mindexer\u001b[0m\u001b[0;34m,\u001b[0m \u001b[0maxis\u001b[0m\u001b[0;34m=\u001b[0m\u001b[0;36m1\u001b[0m\u001b[0;34m,\u001b[0m \u001b[0mconvert\u001b[0m\u001b[0;34m=\u001b[0m\u001b[0;32mTrue\u001b[0m\u001b[0;34m)\u001b[0m\u001b[0;34m\u001b[0m\u001b[0m\n\u001b[1;32m   2004\u001b[0m \u001b[0;34m\u001b[0m\u001b[0m\n",
      "\u001b[0;32m/anaconda3/lib/python3.6/site-packages/pandas/core/indexing.py\u001b[0m in \u001b[0;36m_convert_to_indexer\u001b[0;34m(self, obj, axis, is_setter)\u001b[0m\n\u001b[1;32m   1229\u001b[0m                 \u001b[0mmask\u001b[0m \u001b[0;34m=\u001b[0m \u001b[0mcheck\u001b[0m \u001b[0;34m==\u001b[0m \u001b[0;34m-\u001b[0m\u001b[0;36m1\u001b[0m\u001b[0;34m\u001b[0m\u001b[0m\n\u001b[1;32m   1230\u001b[0m                 \u001b[0;32mif\u001b[0m \u001b[0mmask\u001b[0m\u001b[0;34m.\u001b[0m\u001b[0many\u001b[0m\u001b[0;34m(\u001b[0m\u001b[0;34m)\u001b[0m\u001b[0;34m:\u001b[0m\u001b[0;34m\u001b[0m\u001b[0m\n\u001b[0;32m-> 1231\u001b[0;31m                     \u001b[0;32mraise\u001b[0m \u001b[0mKeyError\u001b[0m\u001b[0;34m(\u001b[0m\u001b[0;34m'%s not in index'\u001b[0m \u001b[0;34m%\u001b[0m \u001b[0mobjarr\u001b[0m\u001b[0;34m[\u001b[0m\u001b[0mmask\u001b[0m\u001b[0;34m]\u001b[0m\u001b[0;34m)\u001b[0m\u001b[0;34m\u001b[0m\u001b[0m\n\u001b[0m\u001b[1;32m   1232\u001b[0m \u001b[0;34m\u001b[0m\u001b[0m\n\u001b[1;32m   1233\u001b[0m                 \u001b[0;32mreturn\u001b[0m \u001b[0m_values_from_object\u001b[0m\u001b[0;34m(\u001b[0m\u001b[0mindexer\u001b[0m\u001b[0;34m)\u001b[0m\u001b[0;34m\u001b[0m\u001b[0m\n",
      "\u001b[0;31mKeyError\u001b[0m: \"['round'] not in index\""
     ]
    }
   ],
   "source": [
    "# correlations between features\n",
    "sd[features].corr().head()"
   ]
  },
  {
   "cell_type": "code",
   "execution_count": null,
   "metadata": {},
   "outputs": [],
   "source": [
    "# heatmap of the correlations\n",
    "fig, ax = plt.subplots(figsize=(20,20)) \n",
    "sns.heatmap(sd[features].corr(),linewidths=.5, ax=ax)"
   ]
  },
  {
   "cell_type": "code",
   "execution_count": null,
   "metadata": {
    "collapsed": true
   },
   "outputs": [],
   "source": [
    "# drop one feature in the pairs that have high correlation\n",
    "keep =['gender','match','order','age','field_cd','race','imprace','income','date',\n",
    "       'exercise','museums','hiking','gaming','clubbing','reading','tv','music','yoga',\n",
    "       'sinc1_1', 'intel1_1','fun1_1', 'amb1_1', 'shar1_1','intel2_1', 'fun2_1',\n",
    "       'sinc3_1','fun3_1', 'intel3_1']"
   ]
  },
  {
   "cell_type": "code",
   "execution_count": null,
   "metadata": {},
   "outputs": [],
   "source": [
    "fig, ax = plt.subplots(figsize=(20,20)) \n",
    "sns.heatmap(sd[keep].corr(),linewidths=.5, ax=ax)"
   ]
  },
  {
   "cell_type": "code",
   "execution_count": null,
   "metadata": {
    "collapsed": true
   },
   "outputs": [],
   "source": [
    "from sklearn import metrics\n",
    "from sklearn.cluster import KMeans\n",
    "from sklearn.cluster import Birch\n",
    "from sklearn.cluster import AgglomerativeClustering\n",
    "\n",
    "bestSil = -1\n",
    "for k in range(2,6):\n",
    "    clus = [KMeans(n_clusters=k,n_jobs=-1), Birch(n_clusters=k), \n",
    "            AgglomerativeClustering(n_clusters=k)]\n",
    "    for cl in clus:\n",
    "        res = cl.fit(temp1)\n",
    "        sil = metrics.silhouette_score(temp1, res.labels_)\n",
    "        print (str(cl)[:10] + ' with k =' +str(k) + \": \" + str(round(sil,4)))\n",
    "        if (sil > bestSil):\n",
    "            bestSil = sil\n",
    "            bestCl = cl"
   ]
  },
  {
   "cell_type": "code",
   "execution_count": null,
   "metadata": {
    "collapsed": true
   },
   "outputs": [],
   "source": [
    "kmeans = KMeans(n_clusters=4)"
   ]
  },
  {
   "cell_type": "code",
   "execution_count": null,
   "metadata": {
    "collapsed": true
   },
   "outputs": [],
   "source": [
    "cluster = kmeans.fit_predict(temp1)"
   ]
  },
  {
   "cell_type": "code",
   "execution_count": null,
   "metadata": {
    "collapsed": true
   },
   "outputs": [],
   "source": [
    "temp1['cluster']=cluster"
   ]
  },
  {
   "cell_type": "code",
   "execution_count": null,
   "metadata": {
    "collapsed": true
   },
   "outputs": [],
   "source": [
    "temp1.groupby('cluster').mean()"
   ]
  },
  {
   "cell_type": "markdown",
   "metadata": {},
   "source": [
    "### Classification"
   ]
  },
  {
   "cell_type": "code",
   "execution_count": 89,
   "metadata": {
    "collapsed": true
   },
   "outputs": [],
   "source": [
    "# select interests\n",
    "interest = ['dec_o','sports','tvsports','exercise','dining','museums','art','hiking',\n",
    "            'gaming','clubbing','reading','tv','theater','movies','music','shopping',\n",
    "            'yoga']"
   ]
  },
  {
   "cell_type": "markdown",
   "metadata": {},
   "source": [
    "Classification over interest on major race group: European/Caucasian-American"
   ]
  },
  {
   "cell_type": "code",
   "execution_count": 90,
   "metadata": {
    "collapsed": true
   },
   "outputs": [],
   "source": [
    "# include waves 1-14\n",
    "# Majority group & interest \n",
    "wave_m_i = sd[sd['race']==2].loc[:, interest]"
   ]
  },
  {
   "cell_type": "code",
   "execution_count": 91,
   "metadata": {},
   "outputs": [
    {
     "data": {
      "text/plain": [
       "3654"
      ]
     },
     "execution_count": 91,
     "metadata": {},
     "output_type": "execute_result"
    },
    {
     "data": {
      "text/plain": [
       "dec_o        0\n",
       "sports      16\n",
       "tvsports    16\n",
       "exercise    16\n",
       "dining      16\n",
       "museums     16\n",
       "art         16\n",
       "hiking      16\n",
       "gaming      16\n",
       "clubbing    16\n",
       "reading     16\n",
       "tv          16\n",
       "theater     16\n",
       "movies      16\n",
       "music       16\n",
       "shopping    16\n",
       "yoga        16\n",
       "dtype: int64"
      ]
     },
     "execution_count": 91,
     "metadata": {},
     "output_type": "execute_result"
    }
   ],
   "source": [
    "# check how many rows we have \n",
    "len(wave_m_i)\n",
    "# see if there is any NaN values\n",
    "wave_m_i.isnull().sum()"
   ]
  },
  {
   "cell_type": "code",
   "execution_count": null,
   "metadata": {
    "collapsed": true
   },
   "outputs": [],
   "source": [
    "# drop all NaN values\n",
    "wave_m_i=wave_m_i.dropna(axis=0, how='any')"
   ]
  },
  {
   "cell_type": "code",
   "execution_count": 92,
   "metadata": {},
   "outputs": [
    {
     "data": {
      "text/plain": [
       "SelectKBest(k=5, score_func=<function f_classif at 0x117bb48c8>)"
      ]
     },
     "execution_count": 92,
     "metadata": {},
     "output_type": "execute_result"
    },
    {
     "name": "stdout",
     "output_type": "stream",
     "text": [
      "  Feat_names   F_Scores\n",
      "0   exercise  28.897477\n",
      "1     dining  21.748872\n",
      "2   clubbing  18.565484\n",
      "4   shopping  16.132498\n",
      "3    reading  12.118425\n"
     ]
    }
   ],
   "source": [
    "# define our X and y\n",
    "X_m_i, y_m_i = wave_m_i.drop(['dec_o'], axis=1), wave_m_i['dec_o']\n",
    "\n",
    "kb = fs.SelectKBest(k=5)\n",
    "kb.fit(X_m_i, y_m_i)\n",
    "\n",
    "names = X_m_i.columns.values[kb.get_support()]\n",
    "scores = kb.scores_[kb.get_support()]\n",
    "names_scores = list(zip(names, scores))\n",
    "ns_df = pd.DataFrame(data = names_scores, columns=['Feat_names', 'F_Scores'])\n",
    "#Sort the dataframe for better visualization\n",
    "ns_df_sorted = ns_df.sort_values(['F_Scores', 'Feat_names'], ascending = [False, True])\n",
    "print(ns_df_sorted)"
   ]
  },
  {
   "cell_type": "code",
   "execution_count": 24,
   "metadata": {},
   "outputs": [
    {
     "data": {
      "text/plain": [
       "RandomForestRegressor(bootstrap=True, criterion='mse', max_depth=None,\n",
       "           max_features='auto', max_leaf_nodes=None,\n",
       "           min_impurity_decrease=0.0, min_impurity_split=None,\n",
       "           min_samples_leaf=1, min_samples_split=2,\n",
       "           min_weight_fraction_leaf=0.0, n_estimators=100, n_jobs=-1,\n",
       "           oob_score=True, random_state=42, verbose=0, warm_start=False)"
      ]
     },
     "execution_count": 24,
     "metadata": {},
     "output_type": "execute_result"
    },
    {
     "data": {
      "text/plain": [
       "0.69039952676839178"
      ]
     },
     "execution_count": 24,
     "metadata": {},
     "output_type": "execute_result"
    }
   ],
   "source": [
    "# Random Forest \n",
    "from sklearn.ensemble import RandomForestRegressor\n",
    "from sklearn.metrics import roc_auc_score\n",
    "model = RandomForestRegressor(100, oob_score=True, n_jobs=-1, random_state=42)\n",
    "model.fit(X_m_i, y_m_i)\n",
    "roc_auc_score(y_m_i,model.oob_prediction_)"
   ]
  },
  {
   "cell_type": "code",
   "execution_count": 25,
   "metadata": {
    "collapsed": true
   },
   "outputs": [],
   "source": [
    "feature_importances = pd.Series(model.feature_importances_, index = X_m_i.columns)\n",
    "feature_importances.sort_values(inplace=True)"
   ]
  },
  {
   "cell_type": "code",
   "execution_count": 26,
   "metadata": {},
   "outputs": [
    {
     "data": {
      "text/plain": [
       "<matplotlib.axes._subplots.AxesSubplot at 0x11cfc3400>"
      ]
     },
     "execution_count": 26,
     "metadata": {},
     "output_type": "execute_result"
    },
    {
     "data": {
      "image/png": "[encoded data removed]",
      "text/plain": [
       "<matplotlib.figure.Figure at 0x11cfc3fd0>"
      ]
     },
     "metadata": {},
     "output_type": "display_data"
    }
   ],
   "source": [
    "feature_importances.plot(kind='barh', figsize=(10,8))"
   ]
  },
  {
   "cell_type": "code",
   "execution_count": 93,
   "metadata": {
    "collapsed": true
   },
   "outputs": [],
   "source": [
    "# best \n",
    "interest_best = ['dec_o','dining','clubbing','shopping','exercise','reading']\n",
    "#interest_best = ['dec_o','yoga','clubbing','gaming','exercise','tv']\n",
    "wave6_m_i = sd[sd['race']==2].loc[:, interest_best]"
   ]
  },
  {
   "cell_type": "code",
   "execution_count": 94,
   "metadata": {},
   "outputs": [
    {
     "data": {
      "text/plain": [
       "dec_o       0\n",
       "dining      0\n",
       "clubbing    0\n",
       "shopping    0\n",
       "exercise    0\n",
       "reading     0\n",
       "dtype: int64"
      ]
     },
     "execution_count": 94,
     "metadata": {},
     "output_type": "execute_result"
    },
    {
     "data": {
      "text/plain": [
       "1664"
      ]
     },
     "execution_count": 94,
     "metadata": {},
     "output_type": "execute_result"
    },
    {
     "data": {
      "text/plain": [
       "1974"
      ]
     },
     "execution_count": 94,
     "metadata": {},
     "output_type": "execute_result"
    }
   ],
   "source": [
    "wave6_m_i=wave6_m_i.dropna(axis=0, how='any')\n",
    "wave6_m_i.isnull().sum()\n",
    "len(wave6_m_i[wave6_m_i['dec_o']==1])\n",
    "len(wave6_m_i[wave6_m_i['dec_o']==0])"
   ]
  },
  {
   "cell_type": "code",
   "execution_count": 95,
   "metadata": {},
   "outputs": [
    {
     "data": {
      "text/plain": [
       "array([1, 1, 1, ..., 1, 1, 1])"
      ]
     },
     "execution_count": 95,
     "metadata": {},
     "output_type": "execute_result"
    }
   ],
   "source": [
    "X_m_i, y_m_i = wave6_m_i.drop(['dec_o'], axis=1), wave6_m_i['dec_o']\n",
    "\n",
    "dtc = tree.DecisionTreeClassifier(max_depth=2).fit(X_m_i, y_m_i)\n",
    "dtc_labels = dtc.predict(X_m_i)\n",
    "dtc_labels"
   ]
  },
  {
   "cell_type": "code",
   "execution_count": 96,
   "metadata": {},
   "outputs": [
    {
     "data": {
      "image/svg+xml": [
       "<?xml version=\"1.0\" encoding=\"UTF-8\" standalone=\"no\"?>\n",
       "<!DOCTYPE svg PUBLIC \"-//W3C//DTD SVG 1.1//EN\"\n",
       " \"http://www.w3.org/Graphics/SVG/1.1/DTD/svg11.dtd\">\n",
       "<!-- Generated by graphviz version 2.40.1 (20161225.0304)\n",
       " -->\n",
       "<!-- Title: Tree Pages: 1 -->\n",
       "<svg width=\"650pt\" height=\"300pt\"\n",
       " viewBox=\"0.00 0.00 650.26 300.00\" xmlns=\"http://www.w3.org/2000/svg\" xmlns:xlink=\"http://www.w3.org/1999/xlink\">\n",
       "<g id=\"graph0\" class=\"graph\" transform=\"scale(1 1) rotate(0) translate(4 296)\">\n",
       "<title>Tree</title>\n",
       "<polygon fill=\"#ffffff\" stroke=\"transparent\" points=\"-4,4 -4,-296 646.2646,-296 646.2646,4 -4,4\"/>\n",
       "<!-- 0 -->\n",
       "<g id=\"node1\" class=\"node\">\n",
       "<title>0</title>\n",
       "<path fill=\"#e58139\" fill-opacity=\"0.156863\" stroke=\"#000000\" d=\"M392.0762,-292C392.0762,-292 264.9746,-292 264.9746,-292 258.9746,-292 252.9746,-286 252.9746,-280 252.9746,-280 252.9746,-226 252.9746,-226 252.9746,-220 258.9746,-214 264.9746,-214 264.9746,-214 392.0762,-214 392.0762,-214 398.0762,-214 404.0762,-220 404.0762,-226 404.0762,-226 404.0762,-280 404.0762,-280 404.0762,-286 398.0762,-292 392.0762,-292\"/>\n",
       "<text text-anchor=\"start\" x=\"284.9976\" y=\"-276.8\" font-family=\"Helvetica,sans-Serif\" font-size=\"14.00\" fill=\"#000000\">exercise ≤ 6.5</text>\n",
       "<text text-anchor=\"start\" x=\"292.1343\" y=\"-262.8\" font-family=\"Helvetica,sans-Serif\" font-size=\"14.00\" fill=\"#000000\">gini = 0.496</text>\n",
       "<text text-anchor=\"start\" x=\"270.7412\" y=\"-248.8\" font-family=\"Helvetica,sans-Serif\" font-size=\"14.00\" fill=\"#000000\">samples = 100.0%</text>\n",
       "<text text-anchor=\"start\" x=\"261\" y=\"-234.8\" font-family=\"Helvetica,sans-Serif\" font-size=\"14.00\" fill=\"#000000\">value = [0.543, 0.457]</text>\n",
       "<text text-anchor=\"start\" x=\"294.8687\" y=\"-220.8\" font-family=\"Helvetica,sans-Serif\" font-size=\"14.00\" fill=\"#000000\">class = 0.0</text>\n",
       "</g>\n",
       "<!-- 1 -->\n",
       "<g id=\"node2\" class=\"node\">\n",
       "<title>1</title>\n",
       "<path fill=\"#e58139\" fill-opacity=\"0.349020\" stroke=\"#000000\" d=\"M308.0762,-178C308.0762,-178 180.9746,-178 180.9746,-178 174.9746,-178 168.9746,-172 168.9746,-166 168.9746,-166 168.9746,-112 168.9746,-112 168.9746,-106 174.9746,-100 180.9746,-100 180.9746,-100 308.0762,-100 308.0762,-100 314.0762,-100 320.0762,-106 320.0762,-112 320.0762,-112 320.0762,-166 320.0762,-166 320.0762,-172 314.0762,-178 308.0762,-178\"/>\n",
       "<text text-anchor=\"start\" x=\"200.9873\" y=\"-162.8\" font-family=\"Helvetica,sans-Serif\" font-size=\"14.00\" fill=\"#000000\">clubbing ≤ 8.5</text>\n",
       "<text text-anchor=\"start\" x=\"208.1343\" y=\"-148.8\" font-family=\"Helvetica,sans-Serif\" font-size=\"14.00\" fill=\"#000000\">gini = 0.477</text>\n",
       "<text text-anchor=\"start\" x=\"190.6343\" y=\"-134.8\" font-family=\"Helvetica,sans-Serif\" font-size=\"14.00\" fill=\"#000000\">samples = 45.1%</text>\n",
       "<text text-anchor=\"start\" x=\"177\" y=\"-120.8\" font-family=\"Helvetica,sans-Serif\" font-size=\"14.00\" fill=\"#000000\">value = [0.606, 0.394]</text>\n",
       "<text text-anchor=\"start\" x=\"210.8687\" y=\"-106.8\" font-family=\"Helvetica,sans-Serif\" font-size=\"14.00\" fill=\"#000000\">class = 0.0</text>\n",
       "</g>\n",
       "<!-- 0&#45;&gt;1 -->\n",
       "<g id=\"edge1\" class=\"edge\">\n",
       "<title>0&#45;&gt;1</title>\n",
       "<path fill=\"none\" stroke=\"#000000\" d=\"M299.6174,-213.7677C293.1498,-204.9903 286.222,-195.5883 279.5373,-186.5161\"/>\n",
       "<polygon fill=\"#000000\" stroke=\"#000000\" points=\"282.2364,-184.279 273.4867,-178.3046 276.601,-188.4314 282.2364,-184.279\"/>\n",
       "<text text-anchor=\"middle\" x=\"269.7416\" y=\"-198.8225\" font-family=\"Helvetica,sans-Serif\" font-size=\"14.00\" fill=\"#000000\">True</text>\n",
       "</g>\n",
       "<!-- 4 -->\n",
       "<g id=\"node5\" class=\"node\">\n",
       "<title>4</title>\n",
       "<path fill=\"#399de5\" fill-opacity=\"0.039216\" stroke=\"#000000\" d=\"M469.5048,-178C469.5048,-178 357.546,-178 357.546,-178 351.546,-178 345.546,-172 345.546,-166 345.546,-166 345.546,-112 345.546,-112 345.546,-106 351.546,-100 357.546,-100 357.546,-100 469.5048,-100 469.5048,-100 475.5048,-100 481.5048,-106 481.5048,-112 481.5048,-112 481.5048,-166 481.5048,-166 481.5048,-172 475.5048,-178 469.5048,-178\"/>\n",
       "<text text-anchor=\"start\" x=\"377.3804\" y=\"-162.8\" font-family=\"Helvetica,sans-Serif\" font-size=\"14.00\" fill=\"#000000\">dining ≤ 7.5</text>\n",
       "<text text-anchor=\"start\" x=\"384.9204\" y=\"-148.8\" font-family=\"Helvetica,sans-Serif\" font-size=\"14.00\" fill=\"#000000\">gini = 0.5</text>\n",
       "<text text-anchor=\"start\" x=\"359.6343\" y=\"-134.8\" font-family=\"Helvetica,sans-Serif\" font-size=\"14.00\" fill=\"#000000\">samples = 54.9%</text>\n",
       "<text text-anchor=\"start\" x=\"353.7861\" y=\"-120.8\" font-family=\"Helvetica,sans-Serif\" font-size=\"14.00\" fill=\"#000000\">value = [0.49, 0.51]</text>\n",
       "<text text-anchor=\"start\" x=\"379.8687\" y=\"-106.8\" font-family=\"Helvetica,sans-Serif\" font-size=\"14.00\" fill=\"#000000\">class = 1.0</text>\n",
       "</g>\n",
       "<!-- 0&#45;&gt;4 -->\n",
       "<g id=\"edge4\" class=\"edge\">\n",
       "<title>0&#45;&gt;4</title>\n",
       "<path fill=\"none\" stroke=\"#000000\" d=\"M357.7776,-213.7677C364.3221,-204.9903 371.3324,-195.5883 378.0967,-186.5161\"/>\n",
       "<polygon fill=\"#000000\" stroke=\"#000000\" points=\"381.0477,-188.4136 384.2193,-178.3046 375.4359,-184.2294 381.0477,-188.4136\"/>\n",
       "<text text-anchor=\"middle\" x=\"387.8244\" y=\"-198.8433\" font-family=\"Helvetica,sans-Serif\" font-size=\"14.00\" fill=\"#000000\">False</text>\n",
       "</g>\n",
       "<!-- 2 -->\n",
       "<g id=\"node3\" class=\"node\">\n",
       "<title>2</title>\n",
       "<path fill=\"#e58139\" fill-opacity=\"0.392157\" stroke=\"#000000\" d=\"M139.0762,-64C139.0762,-64 11.9746,-64 11.9746,-64 5.9746,-64 -.0254,-58 -.0254,-52 -.0254,-52 -.0254,-12 -.0254,-12 -.0254,-6 5.9746,0 11.9746,0 11.9746,0 139.0762,0 139.0762,0 145.0762,0 151.0762,-6 151.0762,-12 151.0762,-12 151.0762,-52 151.0762,-52 151.0762,-58 145.0762,-64 139.0762,-64\"/>\n",
       "<text text-anchor=\"start\" x=\"43.0273\" y=\"-48.8\" font-family=\"Helvetica,sans-Serif\" font-size=\"14.00\" fill=\"#000000\">gini = 0.47</text>\n",
       "<text text-anchor=\"start\" x=\"21.6343\" y=\"-34.8\" font-family=\"Helvetica,sans-Serif\" font-size=\"14.00\" fill=\"#000000\">samples = 42.2%</text>\n",
       "<text text-anchor=\"start\" x=\"8\" y=\"-20.8\" font-family=\"Helvetica,sans-Serif\" font-size=\"14.00\" fill=\"#000000\">value = [0.622, 0.378]</text>\n",
       "<text text-anchor=\"start\" x=\"41.8687\" y=\"-6.8\" font-family=\"Helvetica,sans-Serif\" font-size=\"14.00\" fill=\"#000000\">class = 0.0</text>\n",
       "</g>\n",
       "<!-- 1&#45;&gt;2 -->\n",
       "<g id=\"edge2\" class=\"edge\">\n",
       "<title>1&#45;&gt;2</title>\n",
       "<path fill=\"none\" stroke=\"#000000\" d=\"M182.5557,-99.7647C166.8972,-89.8508 150.1251,-79.2318 134.6129,-69.4105\"/>\n",
       "<polygon fill=\"#000000\" stroke=\"#000000\" points=\"136.461,-66.438 126.1397,-64.0458 132.7164,-72.3523 136.461,-66.438\"/>\n",
       "</g>\n",
       "<!-- 3 -->\n",
       "<g id=\"node4\" class=\"node\">\n",
       "<title>3</title>\n",
       "<path fill=\"#399de5\" fill-opacity=\"0.400000\" stroke=\"#000000\" d=\"M308.0762,-64C308.0762,-64 180.9746,-64 180.9746,-64 174.9746,-64 168.9746,-58 168.9746,-52 168.9746,-52 168.9746,-12 168.9746,-12 168.9746,-6 174.9746,0 180.9746,0 180.9746,0 308.0762,0 308.0762,0 314.0762,0 320.0762,-6 320.0762,-12 320.0762,-12 320.0762,-52 320.0762,-52 320.0762,-58 314.0762,-64 308.0762,-64\"/>\n",
       "<text text-anchor=\"start\" x=\"208.1343\" y=\"-48.8\" font-family=\"Helvetica,sans-Serif\" font-size=\"14.00\" fill=\"#000000\">gini = 0.469</text>\n",
       "<text text-anchor=\"start\" x=\"194.5273\" y=\"-34.8\" font-family=\"Helvetica,sans-Serif\" font-size=\"14.00\" fill=\"#000000\">samples = 2.9%</text>\n",
       "<text text-anchor=\"start\" x=\"177\" y=\"-20.8\" font-family=\"Helvetica,sans-Serif\" font-size=\"14.00\" fill=\"#000000\">value = [0.375, 0.625]</text>\n",
       "<text text-anchor=\"start\" x=\"210.8687\" y=\"-6.8\" font-family=\"Helvetica,sans-Serif\" font-size=\"14.00\" fill=\"#000000\">class = 1.0</text>\n",
       "</g>\n",
       "<!-- 1&#45;&gt;3 -->\n",
       "<g id=\"edge3\" class=\"edge\">\n",
       "<title>1&#45;&gt;3</title>\n",
       "<path fill=\"none\" stroke=\"#000000\" d=\"M244.5254,-99.7647C244.5254,-91.4537 244.5254,-82.6472 244.5254,-74.2305\"/>\n",
       "<polygon fill=\"#000000\" stroke=\"#000000\" points=\"248.0255,-74.2168 244.5254,-64.2169 241.0255,-74.2169 248.0255,-74.2168\"/>\n",
       "</g>\n",
       "<!-- 5 -->\n",
       "<g id=\"node6\" class=\"node\">\n",
       "<title>5</title>\n",
       "<path fill=\"#e58139\" fill-opacity=\"0.121569\" stroke=\"#000000\" d=\"M477.0762,-64C477.0762,-64 349.9746,-64 349.9746,-64 343.9746,-64 337.9746,-58 337.9746,-52 337.9746,-52 337.9746,-12 337.9746,-12 337.9746,-6 343.9746,0 349.9746,0 349.9746,0 477.0762,0 477.0762,0 483.0762,0 489.0762,-6 489.0762,-12 489.0762,-12 489.0762,-52 489.0762,-52 489.0762,-58 483.0762,-64 477.0762,-64\"/>\n",
       "<text text-anchor=\"start\" x=\"377.1343\" y=\"-48.8\" font-family=\"Helvetica,sans-Serif\" font-size=\"14.00\" fill=\"#000000\">gini = 0.498</text>\n",
       "<text text-anchor=\"start\" x=\"359.6343\" y=\"-34.8\" font-family=\"Helvetica,sans-Serif\" font-size=\"14.00\" fill=\"#000000\">samples = 22.6%</text>\n",
       "<text text-anchor=\"start\" x=\"346\" y=\"-20.8\" font-family=\"Helvetica,sans-Serif\" font-size=\"14.00\" fill=\"#000000\">value = [0.533, 0.467]</text>\n",
       "<text text-anchor=\"start\" x=\"379.8687\" y=\"-6.8\" font-family=\"Helvetica,sans-Serif\" font-size=\"14.00\" fill=\"#000000\">class = 0.0</text>\n",
       "</g>\n",
       "<!-- 4&#45;&gt;5 -->\n",
       "<g id=\"edge5\" class=\"edge\">\n",
       "<title>4&#45;&gt;5</title>\n",
       "<path fill=\"none\" stroke=\"#000000\" d=\"M413.5254,-99.7647C413.5254,-91.4537 413.5254,-82.6472 413.5254,-74.2305\"/>\n",
       "<polygon fill=\"#000000\" stroke=\"#000000\" points=\"417.0255,-74.2168 413.5254,-64.2169 410.0255,-74.2169 417.0255,-74.2168\"/>\n",
       "</g>\n",
       "<!-- 6 -->\n",
       "<g id=\"node7\" class=\"node\">\n",
       "<title>6</title>\n",
       "<path fill=\"#399de5\" fill-opacity=\"0.145098\" stroke=\"#000000\" d=\"M630.5048,-64C630.5048,-64 518.546,-64 518.546,-64 512.546,-64 506.546,-58 506.546,-52 506.546,-52 506.546,-12 506.546,-12 506.546,-6 512.546,0 518.546,0 518.546,0 630.5048,0 630.5048,0 636.5048,0 642.5048,-6 642.5048,-12 642.5048,-12 642.5048,-52 642.5048,-52 642.5048,-58 636.5048,-64 630.5048,-64\"/>\n",
       "<text text-anchor=\"start\" x=\"538.1343\" y=\"-48.8\" font-family=\"Helvetica,sans-Serif\" font-size=\"14.00\" fill=\"#000000\">gini = 0.497</text>\n",
       "<text text-anchor=\"start\" x=\"520.6343\" y=\"-34.8\" font-family=\"Helvetica,sans-Serif\" font-size=\"14.00\" fill=\"#000000\">samples = 32.2%</text>\n",
       "<text text-anchor=\"start\" x=\"514.7861\" y=\"-20.8\" font-family=\"Helvetica,sans-Serif\" font-size=\"14.00\" fill=\"#000000\">value = [0.46, 0.54]</text>\n",
       "<text text-anchor=\"start\" x=\"540.8687\" y=\"-6.8\" font-family=\"Helvetica,sans-Serif\" font-size=\"14.00\" fill=\"#000000\">class = 1.0</text>\n",
       "</g>\n",
       "<!-- 4&#45;&gt;6 -->\n",
       "<g id=\"edge6\" class=\"edge\">\n",
       "<title>4&#45;&gt;6</title>\n",
       "<path fill=\"none\" stroke=\"#000000\" d=\"M472.5616,-99.7647C487.3408,-89.9426 503.1612,-79.4284 517.8241,-69.6835\"/>\n",
       "<polygon fill=\"#000000\" stroke=\"#000000\" points=\"519.9158,-72.4958 526.307,-64.0458 516.0412,-66.6659 519.9158,-72.4958\"/>\n",
       "</g>\n",
       "</g>\n",
       "</svg>\n"
      ],
      "text/plain": [
       "<graphviz.files.Source at 0x119a26908>"
      ]
     },
     "execution_count": 96,
     "metadata": {},
     "output_type": "execute_result"
    }
   ],
   "source": [
    "import graphviz\n",
    "dot_data = sk.tree.export_graphviz(dtc, out_file=None, \n",
    "                         feature_names=list(X_m_i.columns),  \n",
    "                        #class_names = ['1.0' if i == 1 else '0.0' for i in y.unique()] ,\n",
    "                         class_names = ['1.0' if i == 1 else '0.0' for i in dtc.classes_] ,\n",
    "                        #class_names =[i for i in temp1['match'].unique()],\n",
    "                         filled=True, rounded=True,  \n",
    "                         special_characters=True, \n",
    "                         proportion=True,\n",
    "                        )  \n",
    "graph = graphviz.Source(dot_data)  \n",
    "graph"
   ]
  },
  {
   "cell_type": "markdown",
   "metadata": {},
   "source": [
    "Classification over interest on minor race group: European/Caucasian-American"
   ]
  },
  {
   "cell_type": "code",
   "execution_count": 97,
   "metadata": {
    "collapsed": true
   },
   "outputs": [],
   "source": [
    "wave_n_i = sd[(sd['race']==1)|(sd['race']==5)].loc[:, interest]"
   ]
  },
  {
   "cell_type": "code",
   "execution_count": 98,
   "metadata": {},
   "outputs": [
    {
     "data": {
      "text/plain": [
       "SelectKBest(k=5, score_func=<function f_classif at 0x117bb48c8>)"
      ]
     },
     "execution_count": 98,
     "metadata": {},
     "output_type": "execute_result"
    },
    {
     "name": "stdout",
     "output_type": "stream",
     "text": [
      "  Feat_names   F_Scores\n",
      "2     hiking  36.192543\n",
      "0    museums  17.223820\n",
      "1        art  13.870620\n",
      "4       yoga   8.376817\n",
      "3    reading   8.220813\n"
     ]
    }
   ],
   "source": [
    "wave_n_i=wave_n_i.dropna(axis=0, how='any')\n",
    "\n",
    "X_n_i, y_n_i = wave_n_i.drop(['dec_o'], axis=1), wave_n_i['dec_o']\n",
    "\n",
    "kb = fs.SelectKBest(k=5)\n",
    "kb.fit(X_n_i, y_n_i)\n",
    "\n",
    "names = X_n_i.columns.values[kb.get_support()]\n",
    "scores = kb.scores_[kb.get_support()]\n",
    "names_scores = list(zip(names, scores))\n",
    "ns_df = pd.DataFrame(data = names_scores, columns=['Feat_names', 'F_Scores'])\n",
    "#Sort the dataframe for better visualization\n",
    "ns_df_sorted = ns_df.sort_values(['F_Scores', 'Feat_names'], ascending = [False, True])\n",
    "print(ns_df_sorted)"
   ]
  },
  {
   "cell_type": "code",
   "execution_count": 100,
   "metadata": {
    "collapsed": true
   },
   "outputs": [],
   "source": [
    "interest_best = ['dec_o','hiking','museums','art','reading','yoga']\n",
    "wave_n_i = sd[(sd['race']==1)|(sd['race']==5)].loc[:, interest_best]"
   ]
  },
  {
   "cell_type": "code",
   "execution_count": 101,
   "metadata": {},
   "outputs": [
    {
     "data": {
      "text/plain": [
       "dec_o      0\n",
       "hiking     0\n",
       "museums    0\n",
       "art        0\n",
       "reading    0\n",
       "yoga       0\n",
       "dtype: int64"
      ]
     },
     "execution_count": 101,
     "metadata": {},
     "output_type": "execute_result"
    },
    {
     "data": {
      "text/plain": [
       "143"
      ]
     },
     "execution_count": 101,
     "metadata": {},
     "output_type": "execute_result"
    },
    {
     "data": {
      "text/plain": [
       "218"
      ]
     },
     "execution_count": 101,
     "metadata": {},
     "output_type": "execute_result"
    }
   ],
   "source": [
    "wave_n_i=wave_n_i.dropna(axis=0, how='any')\n",
    "wave_n_i.isnull().sum()\n",
    "len(wave_n_i[wave_n_i['dec_o']==1])\n",
    "len(wave_n_i[wave_n_i['dec_o']==0])"
   ]
  },
  {
   "cell_type": "code",
   "execution_count": 102,
   "metadata": {},
   "outputs": [
    {
     "data": {
      "text/plain": [
       "array([0, 0, 0, 0, 0, 0, 0, 0, 0, 0, 0, 0, 0, 0, 0, 0, 0, 0, 0, 0, 0, 0, 0,\n",
       "       0, 0, 0, 0, 0, 0, 0, 0, 0, 0, 0, 0, 0, 0, 0, 0, 0, 0, 0, 0, 0, 0, 0,\n",
       "       0, 0, 0, 0, 0, 0, 0, 0, 0, 0, 0, 0, 0, 0, 0, 0, 0, 0, 0, 0, 0, 0, 0,\n",
       "       0, 0, 0, 0, 0, 0, 0, 0, 0, 0, 0, 0, 0, 0, 0, 0, 0, 0, 0, 0, 0, 0, 0,\n",
       "       0, 0, 0, 0, 0, 0, 0, 0, 0, 0, 0, 0, 0, 0, 0, 0, 1, 1, 1, 1, 1, 1, 1,\n",
       "       1, 1, 1, 1, 1, 1, 1, 1, 1, 0, 0, 0, 0, 0, 0, 0, 0, 0, 0, 0, 0, 0, 0,\n",
       "       0, 0, 1, 1, 1, 1, 1, 1, 1, 1, 1, 1, 0, 0, 0, 0, 0, 0, 0, 0, 0, 0, 0,\n",
       "       0, 0, 0, 0, 0, 0, 0, 0, 0, 0, 0, 0, 0, 0, 0, 0, 0, 0, 0, 1, 1, 1, 1,\n",
       "       1, 1, 1, 1, 1, 1, 1, 1, 1, 1, 1, 1, 1, 1, 1, 1, 0, 0, 0, 0, 0, 0, 0,\n",
       "       0, 0, 0, 0, 0, 0, 0, 0, 0, 0, 0, 0, 0, 0, 0, 0, 0, 0, 0, 0, 0, 0, 0,\n",
       "       0, 0, 0, 0, 0, 0, 0, 0, 0, 0, 0, 0, 0, 0, 0, 0, 0, 0, 0, 0, 0, 0, 0,\n",
       "       0, 0, 0, 0, 0, 0, 0, 0, 0, 0, 0, 0, 0, 0, 0, 0, 0, 0, 0, 0, 0, 0, 0,\n",
       "       0, 0, 0, 0, 0, 0, 0, 0, 0, 0, 0, 0, 0, 0, 0, 0, 0, 0, 0, 0, 0, 0, 0,\n",
       "       0, 0, 0, 0, 0, 0, 0, 0, 0, 0, 0, 0, 0, 0, 0, 0, 0, 0, 0, 0, 0, 0, 0,\n",
       "       0, 0, 0, 0, 0, 0, 0, 0, 0, 0, 0, 0, 0, 0, 0, 0, 0, 0, 0, 0, 0, 0, 0,\n",
       "       0, 0, 0, 0, 0, 0, 0, 0, 0, 0, 0, 0, 0, 0, 0, 0])"
      ]
     },
     "execution_count": 102,
     "metadata": {},
     "output_type": "execute_result"
    }
   ],
   "source": [
    "X_n_i, y_n_i = wave_n_i.drop(['dec_o'], axis=1), wave_n_i['dec_o']\n",
    "\n",
    "dtc = tree.DecisionTreeClassifier(max_depth=2).fit(X_n_i, y_n_i)\n",
    "dtc_labels = dtc.predict(X_n_i)\n",
    "dtc_labels"
   ]
  },
  {
   "cell_type": "code",
   "execution_count": 103,
   "metadata": {},
   "outputs": [
    {
     "data": {
      "image/svg+xml": [
       "<?xml version=\"1.0\" encoding=\"UTF-8\" standalone=\"no\"?>\n",
       "<!DOCTYPE svg PUBLIC \"-//W3C//DTD SVG 1.1//EN\"\n",
       " \"http://www.w3.org/Graphics/SVG/1.1/DTD/svg11.dtd\">\n",
       "<!-- Generated by graphviz version 2.40.1 (20161225.0304)\n",
       " -->\n",
       "<!-- Title: Tree Pages: 1 -->\n",
       "<svg width=\"638pt\" height=\"300pt\"\n",
       " viewBox=\"0.00 0.00 638.05 300.00\" xmlns=\"http://www.w3.org/2000/svg\" xmlns:xlink=\"http://www.w3.org/1999/xlink\">\n",
       "<g id=\"graph0\" class=\"graph\" transform=\"scale(1 1) rotate(0) translate(4 296)\">\n",
       "<title>Tree</title>\n",
       "<polygon fill=\"#ffffff\" stroke=\"transparent\" points=\"-4,4 -4,-296 634.0508,-296 634.0508,4 -4,4\"/>\n",
       "<!-- 0 -->\n",
       "<g id=\"node1\" class=\"node\">\n",
       "<title>0</title>\n",
       "<path fill=\"#e58139\" fill-opacity=\"0.345098\" stroke=\"#000000\" d=\"M386.0762,-292C386.0762,-292 258.9746,-292 258.9746,-292 252.9746,-292 246.9746,-286 246.9746,-280 246.9746,-280 246.9746,-226 246.9746,-226 246.9746,-220 252.9746,-214 258.9746,-214 258.9746,-214 386.0762,-214 386.0762,-214 392.0762,-214 398.0762,-220 398.0762,-226 398.0762,-226 398.0762,-280 398.0762,-280 398.0762,-286 392.0762,-292 386.0762,-292\"/>\n",
       "<text text-anchor=\"start\" x=\"274.7217\" y=\"-276.8\" font-family=\"Helvetica,sans-Serif\" font-size=\"14.00\" fill=\"#000000\">museums ≤ 8.5</text>\n",
       "<text text-anchor=\"start\" x=\"286.1343\" y=\"-262.8\" font-family=\"Helvetica,sans-Serif\" font-size=\"14.00\" fill=\"#000000\">gini = 0.478</text>\n",
       "<text text-anchor=\"start\" x=\"264.7412\" y=\"-248.8\" font-family=\"Helvetica,sans-Serif\" font-size=\"14.00\" fill=\"#000000\">samples = 100.0%</text>\n",
       "<text text-anchor=\"start\" x=\"255\" y=\"-234.8\" font-family=\"Helvetica,sans-Serif\" font-size=\"14.00\" fill=\"#000000\">value = [0.604, 0.396]</text>\n",
       "<text text-anchor=\"start\" x=\"288.8687\" y=\"-220.8\" font-family=\"Helvetica,sans-Serif\" font-size=\"14.00\" fill=\"#000000\">class = 0.0</text>\n",
       "</g>\n",
       "<!-- 1 -->\n",
       "<g id=\"node2\" class=\"node\">\n",
       "<title>1</title>\n",
       "<path fill=\"#e58139\" fill-opacity=\"0.486275\" stroke=\"#000000\" d=\"M298.5048,-178C298.5048,-178 186.546,-178 186.546,-178 180.546,-178 174.546,-172 174.546,-166 174.546,-166 174.546,-112 174.546,-112 174.546,-106 180.546,-100 186.546,-100 186.546,-100 298.5048,-100 298.5048,-100 304.5048,-100 310.5048,-106 310.5048,-112 310.5048,-112 310.5048,-166 310.5048,-166 310.5048,-172 304.5048,-178 298.5048,-178\"/>\n",
       "<text text-anchor=\"start\" x=\"206.7734\" y=\"-162.8\" font-family=\"Helvetica,sans-Serif\" font-size=\"14.00\" fill=\"#000000\">hiking ≤ 6.5</text>\n",
       "<text text-anchor=\"start\" x=\"206.1343\" y=\"-148.8\" font-family=\"Helvetica,sans-Serif\" font-size=\"14.00\" fill=\"#000000\">gini = 0.449</text>\n",
       "<text text-anchor=\"start\" x=\"188.6343\" y=\"-134.8\" font-family=\"Helvetica,sans-Serif\" font-size=\"14.00\" fill=\"#000000\">samples = 87.3%</text>\n",
       "<text text-anchor=\"start\" x=\"182.7861\" y=\"-120.8\" font-family=\"Helvetica,sans-Serif\" font-size=\"14.00\" fill=\"#000000\">value = [0.66, 0.34]</text>\n",
       "<text text-anchor=\"start\" x=\"208.8687\" y=\"-106.8\" font-family=\"Helvetica,sans-Serif\" font-size=\"14.00\" fill=\"#000000\">class = 0.0</text>\n",
       "</g>\n",
       "<!-- 0&#45;&gt;1 -->\n",
       "<g id=\"edge1\" class=\"edge\">\n",
       "<title>0&#45;&gt;1</title>\n",
       "<path fill=\"none\" stroke=\"#000000\" d=\"M294.9939,-213.7677C288.8344,-204.9903 282.2365,-195.5883 275.87,-186.5161\"/>\n",
       "<polygon fill=\"#000000\" stroke=\"#000000\" points=\"278.7169,-184.4797 270.1076,-178.3046 272.9869,-188.5007 278.7169,-184.4797\"/>\n",
       "<text text-anchor=\"middle\" x=\"265.7919\" y=\"-198.7293\" font-family=\"Helvetica,sans-Serif\" font-size=\"14.00\" fill=\"#000000\">True</text>\n",
       "</g>\n",
       "<!-- 4 -->\n",
       "<g id=\"node5\" class=\"node\">\n",
       "<title>4</title>\n",
       "<path fill=\"#399de5\" fill-opacity=\"0.721569\" stroke=\"#000000\" d=\"M467.0762,-178C467.0762,-178 339.9746,-178 339.9746,-178 333.9746,-178 327.9746,-172 327.9746,-166 327.9746,-166 327.9746,-112 327.9746,-112 327.9746,-106 333.9746,-100 339.9746,-100 339.9746,-100 467.0762,-100 467.0762,-100 473.0762,-100 479.0762,-106 479.0762,-112 479.0762,-112 479.0762,-166 479.0762,-166 479.0762,-172 473.0762,-178 467.0762,-178\"/>\n",
       "<text text-anchor=\"start\" x=\"362.7114\" y=\"-162.8\" font-family=\"Helvetica,sans-Serif\" font-size=\"14.00\" fill=\"#000000\">reading ≤ 8.5</text>\n",
       "<text text-anchor=\"start\" x=\"371.0273\" y=\"-148.8\" font-family=\"Helvetica,sans-Serif\" font-size=\"14.00\" fill=\"#000000\">gini = 0.34</text>\n",
       "<text text-anchor=\"start\" x=\"349.6343\" y=\"-134.8\" font-family=\"Helvetica,sans-Serif\" font-size=\"14.00\" fill=\"#000000\">samples = 12.7%</text>\n",
       "<text text-anchor=\"start\" x=\"336\" y=\"-120.8\" font-family=\"Helvetica,sans-Serif\" font-size=\"14.00\" fill=\"#000000\">value = [0.217, 0.783]</text>\n",
       "<text text-anchor=\"start\" x=\"369.8687\" y=\"-106.8\" font-family=\"Helvetica,sans-Serif\" font-size=\"14.00\" fill=\"#000000\">class = 1.0</text>\n",
       "</g>\n",
       "<!-- 0&#45;&gt;4 -->\n",
       "<g id=\"edge4\" class=\"edge\">\n",
       "<title>0&#45;&gt;4</title>\n",
       "<path fill=\"none\" stroke=\"#000000\" d=\"M350.401,-213.7677C356.6376,-204.9903 363.3179,-195.5883 369.7639,-186.5161\"/>\n",
       "<polygon fill=\"#000000\" stroke=\"#000000\" points=\"372.6594,-188.4837 375.5984,-178.3046 366.9532,-184.4292 372.6594,-188.4837\"/>\n",
       "<text text-anchor=\"middle\" x=\"379.7699\" y=\"-198.7542\" font-family=\"Helvetica,sans-Serif\" font-size=\"14.00\" fill=\"#000000\">False</text>\n",
       "</g>\n",
       "<!-- 2 -->\n",
       "<g id=\"node3\" class=\"node\">\n",
       "<title>2</title>\n",
       "<path fill=\"#e58139\" fill-opacity=\"0.588235\" stroke=\"#000000\" d=\"M139.0762,-64C139.0762,-64 11.9746,-64 11.9746,-64 5.9746,-64 -.0254,-58 -.0254,-52 -.0254,-52 -.0254,-12 -.0254,-12 -.0254,-6 5.9746,0 11.9746,0 11.9746,0 139.0762,0 139.0762,0 145.0762,0 151.0762,-6 151.0762,-12 151.0762,-12 151.0762,-52 151.0762,-52 151.0762,-58 145.0762,-64 139.0762,-64\"/>\n",
       "<text text-anchor=\"start\" x=\"39.1343\" y=\"-48.8\" font-family=\"Helvetica,sans-Serif\" font-size=\"14.00\" fill=\"#000000\">gini = 0.413</text>\n",
       "<text text-anchor=\"start\" x=\"21.6343\" y=\"-34.8\" font-family=\"Helvetica,sans-Serif\" font-size=\"14.00\" fill=\"#000000\">samples = 65.7%</text>\n",
       "<text text-anchor=\"start\" x=\"8\" y=\"-20.8\" font-family=\"Helvetica,sans-Serif\" font-size=\"14.00\" fill=\"#000000\">value = [0.709, 0.291]</text>\n",
       "<text text-anchor=\"start\" x=\"41.8687\" y=\"-6.8\" font-family=\"Helvetica,sans-Serif\" font-size=\"14.00\" fill=\"#000000\">class = 0.0</text>\n",
       "</g>\n",
       "<!-- 1&#45;&gt;2 -->\n",
       "<g id=\"edge2\" class=\"edge\">\n",
       "<title>1&#45;&gt;2</title>\n",
       "<path fill=\"none\" stroke=\"#000000\" d=\"M181.289,-99.7647C165.9591,-89.9426 149.5491,-79.4284 134.3398,-69.6835\"/>\n",
       "<polygon fill=\"#000000\" stroke=\"#000000\" points=\"135.8489,-66.4936 125.5407,-64.0458 132.0725,-72.3876 135.8489,-66.4936\"/>\n",
       "</g>\n",
       "<!-- 3 -->\n",
       "<g id=\"node4\" class=\"node\">\n",
       "<title>3</title>\n",
       "<path fill=\"#e58139\" fill-opacity=\"0.050980\" stroke=\"#000000\" d=\"M308.0762,-64C308.0762,-64 180.9746,-64 180.9746,-64 174.9746,-64 168.9746,-58 168.9746,-52 168.9746,-52 168.9746,-12 168.9746,-12 168.9746,-6 174.9746,0 180.9746,0 180.9746,0 308.0762,0 308.0762,0 314.0762,0 320.0762,-6 320.0762,-12 320.0762,-12 320.0762,-52 320.0762,-52 320.0762,-58 314.0762,-64 308.0762,-64\"/>\n",
       "<text text-anchor=\"start\" x=\"215.9204\" y=\"-48.8\" font-family=\"Helvetica,sans-Serif\" font-size=\"14.00\" fill=\"#000000\">gini = 0.5</text>\n",
       "<text text-anchor=\"start\" x=\"190.6343\" y=\"-34.8\" font-family=\"Helvetica,sans-Serif\" font-size=\"14.00\" fill=\"#000000\">samples = 21.6%</text>\n",
       "<text text-anchor=\"start\" x=\"177\" y=\"-20.8\" font-family=\"Helvetica,sans-Serif\" font-size=\"14.00\" fill=\"#000000\">value = [0.513, 0.487]</text>\n",
       "<text text-anchor=\"start\" x=\"210.8687\" y=\"-6.8\" font-family=\"Helvetica,sans-Serif\" font-size=\"14.00\" fill=\"#000000\">class = 0.0</text>\n",
       "</g>\n",
       "<!-- 1&#45;&gt;3 -->\n",
       "<g id=\"edge3\" class=\"edge\">\n",
       "<title>1&#45;&gt;3</title>\n",
       "<path fill=\"none\" stroke=\"#000000\" d=\"M243.2588,-99.7647C243.4141,-91.4537 243.5787,-82.6472 243.736,-74.2305\"/>\n",
       "<polygon fill=\"#000000\" stroke=\"#000000\" points=\"247.2356,-74.2806 243.9232,-64.2169 240.2368,-74.1497 247.2356,-74.2806\"/>\n",
       "</g>\n",
       "<!-- 5 -->\n",
       "<g id=\"node6\" class=\"node\">\n",
       "<title>5</title>\n",
       "<path fill=\"#399de5\" stroke=\"#000000\" d=\"M449.4317,-64C449.4317,-64 353.6191,-64 353.6191,-64 347.6191,-64 341.6191,-58 341.6191,-52 341.6191,-52 341.6191,-12 341.6191,-12 341.6191,-6 347.6191,0 353.6191,0 353.6191,0 449.4317,0 449.4317,0 455.4317,0 461.4317,-6 461.4317,-12 461.4317,-12 461.4317,-52 461.4317,-52 461.4317,-58 455.4317,-64 449.4317,-64\"/>\n",
       "<text text-anchor=\"start\" x=\"372.9204\" y=\"-48.8\" font-family=\"Helvetica,sans-Serif\" font-size=\"14.00\" fill=\"#000000\">gini = 0.0</text>\n",
       "<text text-anchor=\"start\" x=\"351.5273\" y=\"-34.8\" font-family=\"Helvetica,sans-Serif\" font-size=\"14.00\" fill=\"#000000\">samples = 5.5%</text>\n",
       "<text text-anchor=\"start\" x=\"349.5723\" y=\"-20.8\" font-family=\"Helvetica,sans-Serif\" font-size=\"14.00\" fill=\"#000000\">value = [0.0, 1.0]</text>\n",
       "<text text-anchor=\"start\" x=\"367.8687\" y=\"-6.8\" font-family=\"Helvetica,sans-Serif\" font-size=\"14.00\" fill=\"#000000\">class = 1.0</text>\n",
       "</g>\n",
       "<!-- 4&#45;&gt;5 -->\n",
       "<g id=\"edge5\" class=\"edge\">\n",
       "<title>4&#45;&gt;5</title>\n",
       "<path fill=\"none\" stroke=\"#000000\" d=\"M402.792,-99.7647C402.6367,-91.4537 402.4721,-82.6472 402.3147,-74.2305\"/>\n",
       "<polygon fill=\"#000000\" stroke=\"#000000\" points=\"405.8139,-74.1497 402.1276,-64.2169 398.8152,-74.2806 405.8139,-74.1497\"/>\n",
       "</g>\n",
       "<!-- 6 -->\n",
       "<g id=\"node7\" class=\"node\">\n",
       "<title>6</title>\n",
       "<path fill=\"#399de5\" fill-opacity=\"0.376471\" stroke=\"#000000\" d=\"M618.0762,-64C618.0762,-64 490.9746,-64 490.9746,-64 484.9746,-64 478.9746,-58 478.9746,-52 478.9746,-52 478.9746,-12 478.9746,-12 478.9746,-6 484.9746,0 490.9746,0 490.9746,0 618.0762,0 618.0762,0 624.0762,0 630.0762,-6 630.0762,-12 630.0762,-12 630.0762,-52 630.0762,-52 630.0762,-58 624.0762,-64 618.0762,-64\"/>\n",
       "<text text-anchor=\"start\" x=\"518.1343\" y=\"-48.8\" font-family=\"Helvetica,sans-Serif\" font-size=\"14.00\" fill=\"#000000\">gini = 0.473</text>\n",
       "<text text-anchor=\"start\" x=\"504.5273\" y=\"-34.8\" font-family=\"Helvetica,sans-Serif\" font-size=\"14.00\" fill=\"#000000\">samples = 7.2%</text>\n",
       "<text text-anchor=\"start\" x=\"487\" y=\"-20.8\" font-family=\"Helvetica,sans-Serif\" font-size=\"14.00\" fill=\"#000000\">value = [0.385, 0.615]</text>\n",
       "<text text-anchor=\"start\" x=\"520.8687\" y=\"-6.8\" font-family=\"Helvetica,sans-Serif\" font-size=\"14.00\" fill=\"#000000\">class = 1.0</text>\n",
       "</g>\n",
       "<!-- 4&#45;&gt;6 -->\n",
       "<g id=\"edge6\" class=\"edge\">\n",
       "<title>4&#45;&gt;6</title>\n",
       "<path fill=\"none\" stroke=\"#000000\" d=\"M458.8948,-99.7647C472.5567,-90.0838 487.1674,-79.7305 500.7522,-70.1042\"/>\n",
       "<polygon fill=\"#000000\" stroke=\"#000000\" points=\"502.9249,-72.8543 509.0605,-64.2169 498.8777,-67.1429 502.9249,-72.8543\"/>\n",
       "</g>\n",
       "</g>\n",
       "</svg>\n"
      ],
      "text/plain": [
       "<graphviz.files.Source at 0x119c265f8>"
      ]
     },
     "execution_count": 103,
     "metadata": {},
     "output_type": "execute_result"
    }
   ],
   "source": [
    "import graphviz\n",
    "dot_data = sk.tree.export_graphviz(dtc, out_file=None, \n",
    "                         feature_names=list(X_n_i.columns),  \n",
    "                        #class_names = ['1.0' if i == 1 else '0.0' for i in y.unique()] ,\n",
    "                         class_names = ['1.0' if i == 1 else '0.0' for i in dtc.classes_] ,\n",
    "                        #class_names =[i for i in temp1['match'].unique()],\n",
    "                         filled=True, rounded=True,  \n",
    "                         special_characters=True, \n",
    "                         proportion=True,\n",
    "                        )  \n",
    "graph = graphviz.Source(dot_data)  \n",
    "graph"
   ]
  },
  {
   "cell_type": "markdown",
   "metadata": {},
   "source": [
    "# --------------------------------------------------------------------"
   ]
  },
  {
   "cell_type": "code",
   "execution_count": 104,
   "metadata": {
    "collapsed": true
   },
   "outputs": [],
   "source": [
    "attributes=['dec_o','gender','attr_o', 'sinc_o', 'intel_o','fun_o', \n",
    "            'amb_o', 'shar_o','prob_o','met_o']"
   ]
  },
  {
   "cell_type": "code",
   "execution_count": 105,
   "metadata": {},
   "outputs": [
    {
     "data": {
      "text/plain": [
       "3654"
      ]
     },
     "execution_count": 105,
     "metadata": {},
     "output_type": "execute_result"
    },
    {
     "data": {
      "text/plain": [
       "dec_o        0\n",
       "gender       0\n",
       "attr_o      77\n",
       "sinc_o     116\n",
       "intel_o    121\n",
       "fun_o      151\n",
       "amb_o      344\n",
       "shar_o     523\n",
       "prob_o     129\n",
       "met_o      167\n",
       "dtype: int64"
      ]
     },
     "execution_count": 105,
     "metadata": {},
     "output_type": "execute_result"
    }
   ],
   "source": [
    "wave_m_a = sd[sd['race']==2].loc[:, attributes]\n",
    "len(wave_m_a)\n",
    "wave_m_a.isnull().sum()"
   ]
  },
  {
   "cell_type": "code",
   "execution_count": 106,
   "metadata": {
    "collapsed": true
   },
   "outputs": [],
   "source": [
    "wave_m_a=wave_m_a.dropna(axis=0, how='any')\n"
   ]
  },
  {
   "cell_type": "code",
   "execution_count": 107,
   "metadata": {},
   "outputs": [
    {
     "data": {
      "text/plain": [
       "SelectKBest(k=4, score_func=<function f_classif at 0x117bb48c8>)"
      ]
     },
     "execution_count": 107,
     "metadata": {},
     "output_type": "execute_result"
    },
    {
     "name": "stdout",
     "output_type": "stream",
     "text": [
      "  Feat_names    F_Scores\n",
      "0     attr_o  918.213659\n",
      "1      fun_o  643.311543\n",
      "2     shar_o  553.036362\n",
      "3     prob_o  341.224529\n"
     ]
    }
   ],
   "source": [
    "X_m_a, y_m_a = wave_m_a.drop(['dec_o'], axis=1), wave_m_a['dec_o']\n",
    "\n",
    "kb = fs.SelectKBest(k=4)\n",
    "kb.fit(X_m_a, y_m_a)\n",
    "\n",
    "names = X_m_a.columns.values[kb.get_support()]\n",
    "scores = kb.scores_[kb.get_support()]\n",
    "names_scores = list(zip(names, scores))\n",
    "ns_df = pd.DataFrame(data = names_scores, columns=['Feat_names', 'F_Scores'])\n",
    "#Sort the dataframe for better visualization\n",
    "ns_df_sorted = ns_df.sort_values(['F_Scores', 'Feat_names'], ascending = [False, True])\n",
    "print(ns_df_sorted)"
   ]
  },
  {
   "cell_type": "code",
   "execution_count": 108,
   "metadata": {},
   "outputs": [
    {
     "data": {
      "text/plain": [
       "dec_o       0\n",
       "attr_o     77\n",
       "fun_o     151\n",
       "shar_o    523\n",
       "prob_o    129\n",
       "dtype: int64"
      ]
     },
     "execution_count": 108,
     "metadata": {},
     "output_type": "execute_result"
    }
   ],
   "source": [
    "attributes_best = ['dec_o','attr_o','fun_o', 'shar_o','prob_o']\n",
    "wave_m_a = sd[sd['race']==2].loc[:, attributes_best]\n",
    "wave_m_a.isnull().sum()"
   ]
  },
  {
   "cell_type": "code",
   "execution_count": 109,
   "metadata": {},
   "outputs": [
    {
     "data": {
      "text/html": [
       "<div>\n",
       "<style>\n",
       "    .dataframe thead tr:only-child th {\n",
       "        text-align: right;\n",
       "    }\n",
       "\n",
       "    .dataframe thead th {\n",
       "        text-align: left;\n",
       "    }\n",
       "\n",
       "    .dataframe tbody tr th {\n",
       "        vertical-align: top;\n",
       "    }\n",
       "</style>\n",
       "<table border=\"1\" class=\"dataframe\">\n",
       "  <thead>\n",
       "    <tr style=\"text-align: right;\">\n",
       "      <th></th>\n",
       "      <th>dec_o</th>\n",
       "      <th>attr_o</th>\n",
       "      <th>fun_o</th>\n",
       "      <th>shar_o</th>\n",
       "      <th>prob_o</th>\n",
       "    </tr>\n",
       "  </thead>\n",
       "  <tbody>\n",
       "    <tr>\n",
       "      <th>10</th>\n",
       "      <td>0</td>\n",
       "      <td>8.0</td>\n",
       "      <td>9.0</td>\n",
       "      <td>4.0</td>\n",
       "      <td>2.0</td>\n",
       "    </tr>\n",
       "    <tr>\n",
       "      <th>11</th>\n",
       "      <td>0</td>\n",
       "      <td>7.0</td>\n",
       "      <td>6.0</td>\n",
       "      <td>5.0</td>\n",
       "      <td>4.0</td>\n",
       "    </tr>\n",
       "    <tr>\n",
       "      <th>12</th>\n",
       "      <td>1</td>\n",
       "      <td>10.0</td>\n",
       "      <td>10.0</td>\n",
       "      <td>10.0</td>\n",
       "      <td>10.0</td>\n",
       "    </tr>\n",
       "    <tr>\n",
       "      <th>13</th>\n",
       "      <td>1</td>\n",
       "      <td>9.0</td>\n",
       "      <td>9.0</td>\n",
       "      <td>9.0</td>\n",
       "      <td>7.0</td>\n",
       "    </tr>\n",
       "    <tr>\n",
       "      <th>14</th>\n",
       "      <td>1</td>\n",
       "      <td>10.0</td>\n",
       "      <td>10.0</td>\n",
       "      <td>8.0</td>\n",
       "      <td>1.0</td>\n",
       "    </tr>\n",
       "  </tbody>\n",
       "</table>\n",
       "</div>"
      ],
      "text/plain": [
       "    dec_o  attr_o  fun_o  shar_o  prob_o\n",
       "10      0     8.0    9.0     4.0     2.0\n",
       "11      0     7.0    6.0     5.0     4.0\n",
       "12      1    10.0   10.0    10.0    10.0\n",
       "13      1     9.0    9.0     9.0     7.0\n",
       "14      1    10.0   10.0     8.0     1.0"
      ]
     },
     "execution_count": 109,
     "metadata": {},
     "output_type": "execute_result"
    }
   ],
   "source": [
    "wave_m_a=wave_m_a.dropna(axis=0, how='any')\n",
    "wave_m_a.head()"
   ]
  },
  {
   "cell_type": "code",
   "execution_count": 110,
   "metadata": {},
   "outputs": [
    {
     "data": {
      "text/plain": [
       "dec_o     0\n",
       "attr_o    0\n",
       "fun_o     0\n",
       "shar_o    0\n",
       "prob_o    0\n",
       "dtype: int64"
      ]
     },
     "execution_count": 110,
     "metadata": {},
     "output_type": "execute_result"
    },
    {
     "data": {
      "text/plain": [
       "1447"
      ]
     },
     "execution_count": 110,
     "metadata": {},
     "output_type": "execute_result"
    },
    {
     "data": {
      "text/plain": [
       "1630"
      ]
     },
     "execution_count": 110,
     "metadata": {},
     "output_type": "execute_result"
    },
    {
     "data": {
      "text/plain": [
       "array([0, 1, 1, ..., 1, 0, 0])"
      ]
     },
     "execution_count": 110,
     "metadata": {},
     "output_type": "execute_result"
    },
    {
     "data": {
      "image/svg+xml": [
       "<?xml version=\"1.0\" encoding=\"UTF-8\" standalone=\"no\"?>\n",
       "<!DOCTYPE svg PUBLIC \"-//W3C//DTD SVG 1.1//EN\"\n",
       " \"http://www.w3.org/Graphics/SVG/1.1/DTD/svg11.dtd\">\n",
       "<!-- Generated by graphviz version 2.40.1 (20161225.0304)\n",
       " -->\n",
       "<!-- Title: Tree Pages: 1 -->\n",
       "<svg width=\"654pt\" height=\"300pt\"\n",
       " viewBox=\"0.00 0.00 654.05 300.00\" xmlns=\"http://www.w3.org/2000/svg\" xmlns:xlink=\"http://www.w3.org/1999/xlink\">\n",
       "<g id=\"graph0\" class=\"graph\" transform=\"scale(1 1) rotate(0) translate(4 296)\">\n",
       "<title>Tree</title>\n",
       "<polygon fill=\"#ffffff\" stroke=\"transparent\" points=\"-4,4 -4,-296 650.0508,-296 650.0508,4 -4,4\"/>\n",
       "<!-- 0 -->\n",
       "<g id=\"node1\" class=\"node\">\n",
       "<title>0</title>\n",
       "<path fill=\"#e58139\" fill-opacity=\"0.113725\" stroke=\"#000000\" d=\"M374.5048,-292C374.5048,-292 262.546,-292 262.546,-292 256.546,-292 250.546,-286 250.546,-280 250.546,-280 250.546,-226 250.546,-226 250.546,-220 256.546,-214 262.546,-214 262.546,-214 374.5048,-214 374.5048,-214 380.5048,-214 386.5048,-220 386.5048,-226 386.5048,-226 386.5048,-280 386.5048,-280 386.5048,-286 380.5048,-292 374.5048,-292\"/>\n",
       "<text text-anchor=\"start\" x=\"279.27\" y=\"-276.8\" font-family=\"Helvetica,sans-Serif\" font-size=\"14.00\" fill=\"#000000\">attr_o ≤ 6.25</text>\n",
       "<text text-anchor=\"start\" x=\"282.1343\" y=\"-262.8\" font-family=\"Helvetica,sans-Serif\" font-size=\"14.00\" fill=\"#000000\">gini = 0.498</text>\n",
       "<text text-anchor=\"start\" x=\"260.7412\" y=\"-248.8\" font-family=\"Helvetica,sans-Serif\" font-size=\"14.00\" fill=\"#000000\">samples = 100.0%</text>\n",
       "<text text-anchor=\"start\" x=\"258.7861\" y=\"-234.8\" font-family=\"Helvetica,sans-Serif\" font-size=\"14.00\" fill=\"#000000\">value = [0.53, 0.47]</text>\n",
       "<text text-anchor=\"start\" x=\"284.8687\" y=\"-220.8\" font-family=\"Helvetica,sans-Serif\" font-size=\"14.00\" fill=\"#000000\">class = 0.0</text>\n",
       "</g>\n",
       "<!-- 1 -->\n",
       "<g id=\"node2\" class=\"node\">\n",
       "<title>1</title>\n",
       "<path fill=\"#e58139\" fill-opacity=\"0.686275\" stroke=\"#000000\" d=\"M298.0762,-178C298.0762,-178 170.9746,-178 170.9746,-178 164.9746,-178 158.9746,-172 158.9746,-166 158.9746,-166 158.9746,-112 158.9746,-112 158.9746,-106 164.9746,-100 170.9746,-100 170.9746,-100 298.0762,-100 298.0762,-100 304.0762,-100 310.0762,-106 310.0762,-112 310.0762,-112 310.0762,-166 310.0762,-166 310.0762,-172 304.0762,-178 298.0762,-178\"/>\n",
       "<text text-anchor=\"start\" x=\"199.1631\" y=\"-162.8\" font-family=\"Helvetica,sans-Serif\" font-size=\"14.00\" fill=\"#000000\">attr_o ≤ 4.5</text>\n",
       "<text text-anchor=\"start\" x=\"198.1343\" y=\"-148.8\" font-family=\"Helvetica,sans-Serif\" font-size=\"14.00\" fill=\"#000000\">gini = 0.363</text>\n",
       "<text text-anchor=\"start\" x=\"180.6343\" y=\"-134.8\" font-family=\"Helvetica,sans-Serif\" font-size=\"14.00\" fill=\"#000000\">samples = 49.0%</text>\n",
       "<text text-anchor=\"start\" x=\"167\" y=\"-120.8\" font-family=\"Helvetica,sans-Serif\" font-size=\"14.00\" fill=\"#000000\">value = [0.762, 0.238]</text>\n",
       "<text text-anchor=\"start\" x=\"200.8687\" y=\"-106.8\" font-family=\"Helvetica,sans-Serif\" font-size=\"14.00\" fill=\"#000000\">class = 0.0</text>\n",
       "</g>\n",
       "<!-- 0&#45;&gt;1 -->\n",
       "<g id=\"edge1\" class=\"edge\">\n",
       "<title>0&#45;&gt;1</title>\n",
       "<path fill=\"none\" stroke=\"#000000\" d=\"M289.6174,-213.7677C283.1498,-204.9903 276.222,-195.5883 269.5373,-186.5161\"/>\n",
       "<polygon fill=\"#000000\" stroke=\"#000000\" points=\"272.2364,-184.279 263.4867,-178.3046 266.601,-188.4314 272.2364,-184.279\"/>\n",
       "<text text-anchor=\"middle\" x=\"259.7416\" y=\"-198.8225\" font-family=\"Helvetica,sans-Serif\" font-size=\"14.00\" fill=\"#000000\">True</text>\n",
       "</g>\n",
       "<!-- 4 -->\n",
       "<g id=\"node5\" class=\"node\">\n",
       "<title>4</title>\n",
       "<path fill=\"#399de5\" fill-opacity=\"0.556863\" stroke=\"#000000\" d=\"M467.0762,-178C467.0762,-178 339.9746,-178 339.9746,-178 333.9746,-178 327.9746,-172 327.9746,-166 327.9746,-166 327.9746,-112 327.9746,-112 327.9746,-106 333.9746,-100 339.9746,-100 339.9746,-100 467.0762,-100 467.0762,-100 473.0762,-100 479.0762,-106 479.0762,-112 479.0762,-112 479.0762,-166 479.0762,-166 479.0762,-172 473.0762,-178 467.0762,-178\"/>\n",
       "<text text-anchor=\"start\" x=\"364.6597\" y=\"-162.8\" font-family=\"Helvetica,sans-Serif\" font-size=\"14.00\" fill=\"#000000\">shar_o ≤ 4.5</text>\n",
       "<text text-anchor=\"start\" x=\"367.1343\" y=\"-148.8\" font-family=\"Helvetica,sans-Serif\" font-size=\"14.00\" fill=\"#000000\">gini = 0.425</text>\n",
       "<text text-anchor=\"start\" x=\"349.6343\" y=\"-134.8\" font-family=\"Helvetica,sans-Serif\" font-size=\"14.00\" fill=\"#000000\">samples = 51.0%</text>\n",
       "<text text-anchor=\"start\" x=\"336\" y=\"-120.8\" font-family=\"Helvetica,sans-Serif\" font-size=\"14.00\" fill=\"#000000\">value = [0.306, 0.694]</text>\n",
       "<text text-anchor=\"start\" x=\"369.8687\" y=\"-106.8\" font-family=\"Helvetica,sans-Serif\" font-size=\"14.00\" fill=\"#000000\">class = 1.0</text>\n",
       "</g>\n",
       "<!-- 0&#45;&gt;4 -->\n",
       "<g id=\"edge4\" class=\"edge\">\n",
       "<title>0&#45;&gt;4</title>\n",
       "<path fill=\"none\" stroke=\"#000000\" d=\"M347.7776,-213.7677C354.3221,-204.9903 361.3324,-195.5883 368.0967,-186.5161\"/>\n",
       "<polygon fill=\"#000000\" stroke=\"#000000\" points=\"371.0477,-188.4136 374.2193,-178.3046 365.4359,-184.2294 371.0477,-188.4136\"/>\n",
       "<text text-anchor=\"middle\" x=\"377.8244\" y=\"-198.8433\" font-family=\"Helvetica,sans-Serif\" font-size=\"14.00\" fill=\"#000000\">False</text>\n",
       "</g>\n",
       "<!-- 2 -->\n",
       "<g id=\"node3\" class=\"node\">\n",
       "<title>2</title>\n",
       "<path fill=\"#e58139\" fill-opacity=\"0.921569\" stroke=\"#000000\" d=\"M139.0762,-64C139.0762,-64 11.9746,-64 11.9746,-64 5.9746,-64 -.0254,-58 -.0254,-52 -.0254,-52 -.0254,-12 -.0254,-12 -.0254,-6 5.9746,0 11.9746,0 11.9746,0 139.0762,0 139.0762,0 145.0762,0 151.0762,-6 151.0762,-12 151.0762,-12 151.0762,-52 151.0762,-52 151.0762,-58 145.0762,-64 139.0762,-64\"/>\n",
       "<text text-anchor=\"start\" x=\"39.1343\" y=\"-48.8\" font-family=\"Helvetica,sans-Serif\" font-size=\"14.00\" fill=\"#000000\">gini = 0.133</text>\n",
       "<text text-anchor=\"start\" x=\"21.6343\" y=\"-34.8\" font-family=\"Helvetica,sans-Serif\" font-size=\"14.00\" fill=\"#000000\">samples = 14.9%</text>\n",
       "<text text-anchor=\"start\" x=\"8\" y=\"-20.8\" font-family=\"Helvetica,sans-Serif\" font-size=\"14.00\" fill=\"#000000\">value = [0.928, 0.072]</text>\n",
       "<text text-anchor=\"start\" x=\"41.8687\" y=\"-6.8\" font-family=\"Helvetica,sans-Serif\" font-size=\"14.00\" fill=\"#000000\">class = 0.0</text>\n",
       "</g>\n",
       "<!-- 1&#45;&gt;2 -->\n",
       "<g id=\"edge2\" class=\"edge\">\n",
       "<title>1&#45;&gt;2</title>\n",
       "<path fill=\"none\" stroke=\"#000000\" d=\"M176.2225,-99.7647C161.627,-89.9426 146.0031,-79.4284 131.5223,-69.6835\"/>\n",
       "<polygon fill=\"#000000\" stroke=\"#000000\" points=\"133.3952,-66.7252 123.1448,-64.0458 129.4871,-72.5326 133.3952,-66.7252\"/>\n",
       "</g>\n",
       "<!-- 3 -->\n",
       "<g id=\"node4\" class=\"node\">\n",
       "<title>3</title>\n",
       "<path fill=\"#e58139\" fill-opacity=\"0.549020\" stroke=\"#000000\" d=\"M292.5048,-64C292.5048,-64 180.546,-64 180.546,-64 174.546,-64 168.546,-58 168.546,-52 168.546,-52 168.546,-12 168.546,-12 168.546,-6 174.546,0 180.546,0 180.546,0 292.5048,0 292.5048,0 298.5048,0 304.5048,-6 304.5048,-12 304.5048,-12 304.5048,-52 304.5048,-52 304.5048,-58 298.5048,-64 292.5048,-64\"/>\n",
       "<text text-anchor=\"start\" x=\"200.1343\" y=\"-48.8\" font-family=\"Helvetica,sans-Serif\" font-size=\"14.00\" fill=\"#000000\">gini = 0.428</text>\n",
       "<text text-anchor=\"start\" x=\"182.6343\" y=\"-34.8\" font-family=\"Helvetica,sans-Serif\" font-size=\"14.00\" fill=\"#000000\">samples = 34.1%</text>\n",
       "<text text-anchor=\"start\" x=\"176.7861\" y=\"-20.8\" font-family=\"Helvetica,sans-Serif\" font-size=\"14.00\" fill=\"#000000\">value = [0.69, 0.31]</text>\n",
       "<text text-anchor=\"start\" x=\"202.8687\" y=\"-6.8\" font-family=\"Helvetica,sans-Serif\" font-size=\"14.00\" fill=\"#000000\">class = 0.0</text>\n",
       "</g>\n",
       "<!-- 1&#45;&gt;3 -->\n",
       "<g id=\"edge3\" class=\"edge\">\n",
       "<title>1&#45;&gt;3</title>\n",
       "<path fill=\"none\" stroke=\"#000000\" d=\"M235.2588,-99.7647C235.4141,-91.4537 235.5787,-82.6472 235.736,-74.2305\"/>\n",
       "<polygon fill=\"#000000\" stroke=\"#000000\" points=\"239.2356,-74.2806 235.9232,-64.2169 232.2368,-74.1497 239.2356,-74.2806\"/>\n",
       "</g>\n",
       "<!-- 5 -->\n",
       "<g id=\"node6\" class=\"node\">\n",
       "<title>5</title>\n",
       "<path fill=\"#e58139\" fill-opacity=\"0.286275\" stroke=\"#000000\" d=\"M465.0762,-64C465.0762,-64 337.9746,-64 337.9746,-64 331.9746,-64 325.9746,-58 325.9746,-52 325.9746,-52 325.9746,-12 325.9746,-12 325.9746,-6 331.9746,0 337.9746,0 337.9746,0 465.0762,0 465.0762,0 471.0762,0 477.0762,-6 477.0762,-12 477.0762,-12 477.0762,-52 477.0762,-52 477.0762,-58 471.0762,-64 465.0762,-64\"/>\n",
       "<text text-anchor=\"start\" x=\"365.1343\" y=\"-48.8\" font-family=\"Helvetica,sans-Serif\" font-size=\"14.00\" fill=\"#000000\">gini = 0.486</text>\n",
       "<text text-anchor=\"start\" x=\"351.5273\" y=\"-34.8\" font-family=\"Helvetica,sans-Serif\" font-size=\"14.00\" fill=\"#000000\">samples = 7.7%</text>\n",
       "<text text-anchor=\"start\" x=\"334\" y=\"-20.8\" font-family=\"Helvetica,sans-Serif\" font-size=\"14.00\" fill=\"#000000\">value = [0.584, 0.416]</text>\n",
       "<text text-anchor=\"start\" x=\"367.8687\" y=\"-6.8\" font-family=\"Helvetica,sans-Serif\" font-size=\"14.00\" fill=\"#000000\">class = 0.0</text>\n",
       "</g>\n",
       "<!-- 4&#45;&gt;5 -->\n",
       "<g id=\"edge5\" class=\"edge\">\n",
       "<title>4&#45;&gt;5</title>\n",
       "<path fill=\"none\" stroke=\"#000000\" d=\"M402.792,-99.7647C402.6367,-91.4537 402.4721,-82.6472 402.3147,-74.2305\"/>\n",
       "<polygon fill=\"#000000\" stroke=\"#000000\" points=\"405.8139,-74.1497 402.1276,-64.2169 398.8152,-74.2806 405.8139,-74.1497\"/>\n",
       "</g>\n",
       "<!-- 6 -->\n",
       "<g id=\"node7\" class=\"node\">\n",
       "<title>6</title>\n",
       "<path fill=\"#399de5\" fill-opacity=\"0.654902\" stroke=\"#000000\" d=\"M634.0762,-64C634.0762,-64 506.9746,-64 506.9746,-64 500.9746,-64 494.9746,-58 494.9746,-52 494.9746,-52 494.9746,-12 494.9746,-12 494.9746,-6 500.9746,0 506.9746,0 506.9746,0 634.0762,0 634.0762,0 640.0762,0 646.0762,-6 646.0762,-12 646.0762,-12 646.0762,-52 646.0762,-52 646.0762,-58 640.0762,-64 634.0762,-64\"/>\n",
       "<text text-anchor=\"start\" x=\"534.1343\" y=\"-48.8\" font-family=\"Helvetica,sans-Serif\" font-size=\"14.00\" fill=\"#000000\">gini = 0.381</text>\n",
       "<text text-anchor=\"start\" x=\"516.6343\" y=\"-34.8\" font-family=\"Helvetica,sans-Serif\" font-size=\"14.00\" fill=\"#000000\">samples = 43.2%</text>\n",
       "<text text-anchor=\"start\" x=\"503\" y=\"-20.8\" font-family=\"Helvetica,sans-Serif\" font-size=\"14.00\" fill=\"#000000\">value = [0.256, 0.744]</text>\n",
       "<text text-anchor=\"start\" x=\"536.8687\" y=\"-6.8\" font-family=\"Helvetica,sans-Serif\" font-size=\"14.00\" fill=\"#000000\">class = 1.0</text>\n",
       "</g>\n",
       "<!-- 4&#45;&gt;6 -->\n",
       "<g id=\"edge6\" class=\"edge\">\n",
       "<title>4&#45;&gt;6</title>\n",
       "<path fill=\"none\" stroke=\"#000000\" d=\"M464.7618,-99.7647C480.0917,-89.9426 496.5016,-79.4284 511.711,-69.6835\"/>\n",
       "<polygon fill=\"#000000\" stroke=\"#000000\" points=\"513.9783,-72.3876 520.51,-64.0458 510.2019,-66.4936 513.9783,-72.3876\"/>\n",
       "</g>\n",
       "</g>\n",
       "</svg>\n"
      ],
      "text/plain": [
       "<graphviz.files.Source at 0x119c25d68>"
      ]
     },
     "execution_count": 110,
     "metadata": {},
     "output_type": "execute_result"
    }
   ],
   "source": [
    "wave_m_a.isnull().sum()\n",
    "len(wave_m_a[wave_m_a['dec_o']==1])\n",
    "len(wave_m_a[wave_m_a['dec_o']==0])\n",
    "\n",
    "X_m_a, y_m_a = wave_m_a.drop(['dec_o'], axis=1), wave_m_a['dec_o']\n",
    "\n",
    "dtc = tree.DecisionTreeClassifier(max_depth=2).fit(X_m_a, y_m_a)\n",
    "dtc_labels = dtc.predict(X_m_a)\n",
    "dtc_labels\n",
    "\n",
    "import graphviz\n",
    "dot_data = sk.tree.export_graphviz(dtc, out_file=None, \n",
    "                         feature_names=list(X_m_a.columns),  \n",
    "                         class_names = ['1.0' if i == 1 else '0.0' for i in dtc.classes_] ,\n",
    "                        #class_names =[i for i in temp1['match'].unique()],\n",
    "                         filled=True, rounded=True,  \n",
    "                         special_characters=True, \n",
    "                         proportion=True,\n",
    "                        )  \n",
    "graph = graphviz.Source(dot_data)  \n",
    "graph"
   ]
  },
  {
   "cell_type": "code",
   "execution_count": null,
   "metadata": {
    "collapsed": true
   },
   "outputs": [],
   "source": []
  },
  {
   "cell_type": "code",
   "execution_count": 118,
   "metadata": {
    "collapsed": true
   },
   "outputs": [],
   "source": [
    "wave_n_a = sd[(sd['race']==1)|(sd['race']==5)].loc[:, attributes]"
   ]
  },
  {
   "cell_type": "code",
   "execution_count": 119,
   "metadata": {
    "collapsed": true
   },
   "outputs": [],
   "source": [
    "wave_n_a=wave_n_a.dropna(axis=0, how='any')\n",
    "\n",
    "X_n_a, y_n_a = wave_n_a.drop(['dec_o'], axis=1), wave_n_a['dec_o']"
   ]
  },
  {
   "cell_type": "code",
   "execution_count": 120,
   "metadata": {},
   "outputs": [
    {
     "data": {
      "text/plain": [
       "SelectKBest(k=4, score_func=<function f_classif at 0x117bb48c8>)"
      ]
     },
     "execution_count": 120,
     "metadata": {},
     "output_type": "execute_result"
    },
    {
     "name": "stdout",
     "output_type": "stream",
     "text": [
      "  Feat_names   F_Scores\n",
      "0     attr_o  61.687932\n",
      "1      fun_o  50.253904\n",
      "2     shar_o  44.618446\n",
      "3     prob_o  29.139577\n"
     ]
    }
   ],
   "source": [
    "kb = fs.SelectKBest(k=4)\n",
    "kb.fit(X_n_a, y_n_a)\n",
    "\n",
    "names = X_n_a.columns.values[kb.get_support()]\n",
    "scores = kb.scores_[kb.get_support()]\n",
    "names_scores = list(zip(names, scores))\n",
    "ns_df = pd.DataFrame(data = names_scores, columns=['Feat_names', 'F_Scores'])\n",
    "#Sort the dataframe for better visualization\n",
    "ns_df_sorted = ns_df.sort_values(['F_Scores', 'Feat_names'], ascending = [False, True])\n",
    "print(ns_df_sorted)"
   ]
  },
  {
   "cell_type": "code",
   "execution_count": 121,
   "metadata": {
    "collapsed": true
   },
   "outputs": [],
   "source": [
    "attributes_best = ['dec_o','attr_o','fun_o', 'shar_o','prob_o']\n",
    "wave_n_a = sd[(sd['race']==1)|(sd['race']==5)].loc[:, attributes_best]"
   ]
  },
  {
   "cell_type": "code",
   "execution_count": 122,
   "metadata": {},
   "outputs": [
    {
     "data": {
      "text/plain": [
       "dec_o     0\n",
       "attr_o    0\n",
       "fun_o     0\n",
       "shar_o    0\n",
       "prob_o    0\n",
       "dtype: int64"
      ]
     },
     "execution_count": 122,
     "metadata": {},
     "output_type": "execute_result"
    },
    {
     "data": {
      "text/plain": [
       "127"
      ]
     },
     "execution_count": 122,
     "metadata": {},
     "output_type": "execute_result"
    },
    {
     "data": {
      "text/plain": [
       "191"
      ]
     },
     "execution_count": 122,
     "metadata": {},
     "output_type": "execute_result"
    }
   ],
   "source": [
    "wave_n_a=wave_n_a.dropna(axis=0, how='any')\n",
    "wave_n_a.isnull().sum()\n",
    "len(wave_n_a[wave_n_a['dec_o']==1])\n",
    "len(wave_n_a[wave_n_a['dec_o']==0])"
   ]
  },
  {
   "cell_type": "code",
   "execution_count": 123,
   "metadata": {},
   "outputs": [
    {
     "data": {
      "text/plain": [
       "array([0, 0, 0, 0, 0, 0, 0, 0, 0, 0, 0, 0, 1, 0, 0, 1, 1, 0, 1, 1, 0, 0, 1,\n",
       "       0, 1, 0, 0, 1, 1, 0, 0, 0, 1, 1, 1, 0, 0, 1, 0, 1, 1, 0, 0, 0, 1, 0,\n",
       "       0, 0, 0, 1, 1, 1, 0, 0, 1, 0, 0, 1, 0, 0, 1, 0, 0, 0, 0, 0, 0, 0, 1,\n",
       "       0, 0, 1, 1, 1, 0, 0, 0, 1, 0, 1, 0, 0, 1, 1, 0, 0, 0, 0, 0, 0, 1, 0,\n",
       "       0, 1, 1, 1, 0, 1, 0, 0, 0, 0, 1, 0, 1, 0, 0, 1, 0, 1, 1, 1, 1, 1, 0,\n",
       "       0, 0, 1, 0, 1, 1, 1, 1, 0, 0, 1, 0, 0, 1, 1, 0, 0, 0, 0, 0, 0, 0, 0,\n",
       "       0, 0, 0, 1, 0, 0, 1, 1, 1, 0, 0, 0, 0, 1, 0, 0, 0, 0, 1, 1, 1, 0, 1,\n",
       "       1, 1, 1, 0, 1, 1, 1, 1, 0, 1, 1, 1, 0, 0, 1, 0, 0, 0, 1, 0, 0, 0, 0,\n",
       "       1, 0, 0, 0, 0, 0, 0, 0, 0, 1, 0, 1, 1, 1, 1, 1, 0, 1, 0, 0, 0, 0, 1,\n",
       "       0, 0, 1, 0, 0, 0, 0, 0, 0, 0, 1, 1, 0, 0, 1, 0, 1, 0, 0, 0, 0, 0, 1,\n",
       "       0, 0, 0, 0, 0, 0, 0, 1, 0, 1, 0, 0, 0, 0, 1, 1, 0, 0, 0, 1, 0, 1, 0,\n",
       "       0, 0, 0, 0, 0, 0, 0, 0, 0, 0, 0, 0, 0, 0, 0, 0, 0, 0, 0, 0, 0, 0, 0,\n",
       "       0, 0, 0, 0, 0, 0, 0, 1, 1, 0, 0, 1, 0, 1, 0, 0, 0, 0, 0, 1, 0, 0, 0,\n",
       "       0, 0, 0, 0, 1, 0, 1, 1, 0, 0, 0, 0, 0, 0, 1, 0, 0, 0, 0])"
      ]
     },
     "execution_count": 123,
     "metadata": {},
     "output_type": "execute_result"
    },
    {
     "data": {
      "image/svg+xml": [
       "<?xml version=\"1.0\" encoding=\"UTF-8\" standalone=\"no\"?>\n",
       "<!DOCTYPE svg PUBLIC \"-//W3C//DTD SVG 1.1//EN\"\n",
       " \"http://www.w3.org/Graphics/SVG/1.1/DTD/svg11.dtd\">\n",
       "<!-- Generated by graphviz version 2.40.1 (20161225.0304)\n",
       " -->\n",
       "<!-- Title: Tree Pages: 1 -->\n",
       "<svg width=\"638pt\" height=\"300pt\"\n",
       " viewBox=\"0.00 0.00 638.42 300.00\" xmlns=\"http://www.w3.org/2000/svg\" xmlns:xlink=\"http://www.w3.org/1999/xlink\">\n",
       "<g id=\"graph0\" class=\"graph\" transform=\"scale(1 1) rotate(0) translate(4 296)\">\n",
       "<title>Tree</title>\n",
       "<polygon fill=\"#ffffff\" stroke=\"transparent\" points=\"-4,4 -4,-296 634.4165,-296 634.4165,4 -4,4\"/>\n",
       "<!-- 0 -->\n",
       "<g id=\"node1\" class=\"node\">\n",
       "<title>0</title>\n",
       "<path fill=\"#e58139\" fill-opacity=\"0.333333\" stroke=\"#000000\" d=\"M364.4419,-292C364.4419,-292 237.3403,-292 237.3403,-292 231.3403,-292 225.3403,-286 225.3403,-280 225.3403,-280 225.3403,-226 225.3403,-226 225.3403,-220 231.3403,-214 237.3403,-214 237.3403,-214 364.4419,-214 364.4419,-214 370.4419,-214 376.4419,-220 376.4419,-226 376.4419,-226 376.4419,-280 376.4419,-280 376.4419,-286 370.4419,-292 364.4419,-292\"/>\n",
       "<text text-anchor=\"start\" x=\"265.5288\" y=\"-276.8\" font-family=\"Helvetica,sans-Serif\" font-size=\"14.00\" fill=\"#000000\">attr_o ≤ 5.5</text>\n",
       "<text text-anchor=\"start\" x=\"268.3931\" y=\"-262.8\" font-family=\"Helvetica,sans-Serif\" font-size=\"14.00\" fill=\"#000000\">gini = 0.48</text>\n",
       "<text text-anchor=\"start\" x=\"243.1069\" y=\"-248.8\" font-family=\"Helvetica,sans-Serif\" font-size=\"14.00\" fill=\"#000000\">samples = 100.0%</text>\n",
       "<text text-anchor=\"start\" x=\"233.3657\" y=\"-234.8\" font-family=\"Helvetica,sans-Serif\" font-size=\"14.00\" fill=\"#000000\">value = [0.601, 0.399]</text>\n",
       "<text text-anchor=\"start\" x=\"267.2344\" y=\"-220.8\" font-family=\"Helvetica,sans-Serif\" font-size=\"14.00\" fill=\"#000000\">class = 0.0</text>\n",
       "</g>\n",
       "<!-- 1 -->\n",
       "<g id=\"node2\" class=\"node\">\n",
       "<title>1</title>\n",
       "<path fill=\"#e58139\" fill-opacity=\"0.866667\" stroke=\"#000000\" d=\"M279.9097,-178C279.9097,-178 153.8726,-178 153.8726,-178 147.8726,-178 141.8726,-172 141.8726,-166 141.8726,-166 141.8726,-112 141.8726,-112 141.8726,-106 147.8726,-100 153.8726,-100 153.8726,-100 279.9097,-100 279.9097,-100 285.9097,-100 291.9097,-106 291.9097,-112 291.9097,-112 291.9097,-166 291.9097,-166 291.9097,-172 285.9097,-178 279.9097,-178\"/>\n",
       "<text text-anchor=\"start\" x=\"181.5288\" y=\"-162.8\" font-family=\"Helvetica,sans-Serif\" font-size=\"14.00\" fill=\"#000000\">attr_o ≤ 4.5</text>\n",
       "<text text-anchor=\"start\" x=\"180.5\" y=\"-148.8\" font-family=\"Helvetica,sans-Serif\" font-size=\"14.00\" fill=\"#000000\">gini = 0.208</text>\n",
       "<text text-anchor=\"start\" x=\"163\" y=\"-134.8\" font-family=\"Helvetica,sans-Serif\" font-size=\"14.00\" fill=\"#000000\">samples = 34.6%</text>\n",
       "<text text-anchor=\"start\" x=\"149.8818\" y=\"-120.8\" font-family=\"Helvetica,sans-Serif\" font-size=\"14.00\" fill=\"#000000\">value = [0.882, 0.118]</text>\n",
       "<text text-anchor=\"start\" x=\"183.2344\" y=\"-106.8\" font-family=\"Helvetica,sans-Serif\" font-size=\"14.00\" fill=\"#000000\">class = 0.0</text>\n",
       "</g>\n",
       "<!-- 0&#45;&gt;1 -->\n",
       "<g id=\"edge1\" class=\"edge\">\n",
       "<title>0&#45;&gt;1</title>\n",
       "<path fill=\"none\" stroke=\"#000000\" d=\"M271.9831,-213.7677C265.5155,-204.9903 258.5878,-195.5883 251.903,-186.5161\"/>\n",
       "<polygon fill=\"#000000\" stroke=\"#000000\" points=\"254.6022,-184.279 245.8524,-178.3046 248.9668,-188.4314 254.6022,-184.279\"/>\n",
       "<text text-anchor=\"middle\" x=\"242.1073\" y=\"-198.8225\" font-family=\"Helvetica,sans-Serif\" font-size=\"14.00\" fill=\"#000000\">True</text>\n",
       "</g>\n",
       "<!-- 4 -->\n",
       "<g id=\"node5\" class=\"node\">\n",
       "<title>4</title>\n",
       "<path fill=\"#399de5\" fill-opacity=\"0.176471\" stroke=\"#000000\" d=\"M449.4419,-178C449.4419,-178 322.3403,-178 322.3403,-178 316.3403,-178 310.3403,-172 310.3403,-166 310.3403,-166 310.3403,-112 310.3403,-112 310.3403,-106 316.3403,-100 322.3403,-100 322.3403,-100 449.4419,-100 449.4419,-100 455.4419,-100 461.4419,-106 461.4419,-112 461.4419,-112 461.4419,-166 461.4419,-166 461.4419,-172 455.4419,-178 449.4419,-178\"/>\n",
       "<text text-anchor=\"start\" x=\"350.9116\" y=\"-162.8\" font-family=\"Helvetica,sans-Serif\" font-size=\"14.00\" fill=\"#000000\">fun_o ≤ 7.5</text>\n",
       "<text text-anchor=\"start\" x=\"349.5\" y=\"-148.8\" font-family=\"Helvetica,sans-Serif\" font-size=\"14.00\" fill=\"#000000\">gini = 0.495</text>\n",
       "<text text-anchor=\"start\" x=\"332\" y=\"-134.8\" font-family=\"Helvetica,sans-Serif\" font-size=\"14.00\" fill=\"#000000\">samples = 65.4%</text>\n",
       "<text text-anchor=\"start\" x=\"318.3657\" y=\"-120.8\" font-family=\"Helvetica,sans-Serif\" font-size=\"14.00\" fill=\"#000000\">value = [0.452, 0.548]</text>\n",
       "<text text-anchor=\"start\" x=\"352.2344\" y=\"-106.8\" font-family=\"Helvetica,sans-Serif\" font-size=\"14.00\" fill=\"#000000\">class = 1.0</text>\n",
       "</g>\n",
       "<!-- 0&#45;&gt;4 -->\n",
       "<g id=\"edge4\" class=\"edge\">\n",
       "<title>0&#45;&gt;4</title>\n",
       "<path fill=\"none\" stroke=\"#000000\" d=\"M330.1433,-213.7677C336.6878,-204.9903 343.6981,-195.5883 350.4624,-186.5161\"/>\n",
       "<polygon fill=\"#000000\" stroke=\"#000000\" points=\"353.4134,-188.4136 356.585,-178.3046 347.8016,-184.2294 353.4134,-188.4136\"/>\n",
       "<text text-anchor=\"middle\" x=\"360.1902\" y=\"-198.8433\" font-family=\"Helvetica,sans-Serif\" font-size=\"14.00\" fill=\"#000000\">False</text>\n",
       "</g>\n",
       "<!-- 2 -->\n",
       "<g id=\"node3\" class=\"node\">\n",
       "<title>2</title>\n",
       "<path fill=\"#e58139\" stroke=\"#000000\" d=\"M111.6735,-64C111.6735,-64 12.1087,-64 12.1087,-64 6.1087,-64 .1087,-58 .1087,-52 .1087,-52 .1087,-12 .1087,-12 .1087,-6 6.1087,0 12.1087,0 12.1087,0 111.6735,0 111.6735,0 117.6735,0 123.6735,-6 123.6735,-12 123.6735,-12 123.6735,-52 123.6735,-52 123.6735,-58 117.6735,-64 111.6735,-64\"/>\n",
       "<text text-anchor=\"start\" x=\"33.2861\" y=\"-48.8\" font-family=\"Helvetica,sans-Serif\" font-size=\"14.00\" fill=\"#000000\">gini = 0.0</text>\n",
       "<text text-anchor=\"start\" x=\"8\" y=\"-34.8\" font-family=\"Helvetica,sans-Serif\" font-size=\"14.00\" fill=\"#000000\">samples = 17.6%</text>\n",
       "<text text-anchor=\"start\" x=\"9.938\" y=\"-20.8\" font-family=\"Helvetica,sans-Serif\" font-size=\"14.00\" fill=\"#000000\">value = [1.0, 0.0]</text>\n",
       "<text text-anchor=\"start\" x=\"28.2344\" y=\"-6.8\" font-family=\"Helvetica,sans-Serif\" font-size=\"14.00\" fill=\"#000000\">class = 0.0</text>\n",
       "</g>\n",
       "<!-- 1&#45;&gt;2 -->\n",
       "<g id=\"edge2\" class=\"edge\">\n",
       "<title>1&#45;&gt;2</title>\n",
       "<path fill=\"none\" stroke=\"#000000\" d=\"M160.055,-99.7647C146.0311,-90.0838 131.0334,-79.7305 117.0888,-70.1042\"/>\n",
       "<polygon fill=\"#000000\" stroke=\"#000000\" points=\"118.7784,-67.0176 108.5604,-64.2169 114.8016,-72.7783 118.7784,-67.0176\"/>\n",
       "</g>\n",
       "<!-- 3 -->\n",
       "<g id=\"node4\" class=\"node\">\n",
       "<title>3</title>\n",
       "<path fill=\"#e58139\" fill-opacity=\"0.682353\" stroke=\"#000000\" d=\"M280.4419,-64C280.4419,-64 153.3403,-64 153.3403,-64 147.3403,-64 141.3403,-58 141.3403,-52 141.3403,-52 141.3403,-12 141.3403,-12 141.3403,-6 147.3403,0 153.3403,0 153.3403,0 280.4419,0 280.4419,0 286.4419,0 292.4419,-6 292.4419,-12 292.4419,-12 292.4419,-52 292.4419,-52 292.4419,-58 286.4419,-64 280.4419,-64\"/>\n",
       "<text text-anchor=\"start\" x=\"180.5\" y=\"-48.8\" font-family=\"Helvetica,sans-Serif\" font-size=\"14.00\" fill=\"#000000\">gini = 0.366</text>\n",
       "<text text-anchor=\"start\" x=\"163\" y=\"-34.8\" font-family=\"Helvetica,sans-Serif\" font-size=\"14.00\" fill=\"#000000\">samples = 17.0%</text>\n",
       "<text text-anchor=\"start\" x=\"149.3657\" y=\"-20.8\" font-family=\"Helvetica,sans-Serif\" font-size=\"14.00\" fill=\"#000000\">value = [0.759, 0.241]</text>\n",
       "<text text-anchor=\"start\" x=\"183.2344\" y=\"-6.8\" font-family=\"Helvetica,sans-Serif\" font-size=\"14.00\" fill=\"#000000\">class = 0.0</text>\n",
       "</g>\n",
       "<!-- 1&#45;&gt;3 -->\n",
       "<g id=\"edge3\" class=\"edge\">\n",
       "<title>1&#45;&gt;3</title>\n",
       "<path fill=\"none\" stroke=\"#000000\" d=\"M216.8911,-99.7647C216.8911,-91.4537 216.8911,-82.6472 216.8911,-74.2305\"/>\n",
       "<polygon fill=\"#000000\" stroke=\"#000000\" points=\"220.3912,-74.2168 216.8911,-64.2169 213.3912,-74.2169 220.3912,-74.2168\"/>\n",
       "</g>\n",
       "<!-- 5 -->\n",
       "<g id=\"node6\" class=\"node\">\n",
       "<title>5</title>\n",
       "<path fill=\"#e58139\" fill-opacity=\"0.290196\" stroke=\"#000000\" d=\"M449.4419,-64C449.4419,-64 322.3403,-64 322.3403,-64 316.3403,-64 310.3403,-58 310.3403,-52 310.3403,-52 310.3403,-12 310.3403,-12 310.3403,-6 316.3403,0 322.3403,0 322.3403,0 449.4419,0 449.4419,0 455.4419,0 461.4419,-6 461.4419,-12 461.4419,-12 461.4419,-52 461.4419,-52 461.4419,-58 455.4419,-64 449.4419,-64\"/>\n",
       "<text text-anchor=\"start\" x=\"349.5\" y=\"-48.8\" font-family=\"Helvetica,sans-Serif\" font-size=\"14.00\" fill=\"#000000\">gini = 0.486</text>\n",
       "<text text-anchor=\"start\" x=\"332\" y=\"-34.8\" font-family=\"Helvetica,sans-Serif\" font-size=\"14.00\" fill=\"#000000\">samples = 33.3%</text>\n",
       "<text text-anchor=\"start\" x=\"318.3657\" y=\"-20.8\" font-family=\"Helvetica,sans-Serif\" font-size=\"14.00\" fill=\"#000000\">value = [0.585, 0.415]</text>\n",
       "<text text-anchor=\"start\" x=\"352.2344\" y=\"-6.8\" font-family=\"Helvetica,sans-Serif\" font-size=\"14.00\" fill=\"#000000\">class = 0.0</text>\n",
       "</g>\n",
       "<!-- 4&#45;&gt;5 -->\n",
       "<g id=\"edge5\" class=\"edge\">\n",
       "<title>4&#45;&gt;5</title>\n",
       "<path fill=\"none\" stroke=\"#000000\" d=\"M385.8911,-99.7647C385.8911,-91.4537 385.8911,-82.6472 385.8911,-74.2305\"/>\n",
       "<polygon fill=\"#000000\" stroke=\"#000000\" points=\"389.3912,-74.2168 385.8911,-64.2169 382.3912,-74.2169 389.3912,-74.2168\"/>\n",
       "</g>\n",
       "<!-- 6 -->\n",
       "<g id=\"node7\" class=\"node\">\n",
       "<title>6</title>\n",
       "<path fill=\"#399de5\" fill-opacity=\"0.541176\" stroke=\"#000000\" d=\"M618.4419,-64C618.4419,-64 491.3403,-64 491.3403,-64 485.3403,-64 479.3403,-58 479.3403,-52 479.3403,-52 479.3403,-12 479.3403,-12 479.3403,-6 485.3403,0 491.3403,0 491.3403,0 618.4419,0 618.4419,0 624.4419,0 630.4419,-6 630.4419,-12 630.4419,-12 630.4419,-52 630.4419,-52 630.4419,-58 624.4419,-64 618.4419,-64\"/>\n",
       "<text text-anchor=\"start\" x=\"518.5\" y=\"-48.8\" font-family=\"Helvetica,sans-Serif\" font-size=\"14.00\" fill=\"#000000\">gini = 0.431</text>\n",
       "<text text-anchor=\"start\" x=\"501\" y=\"-34.8\" font-family=\"Helvetica,sans-Serif\" font-size=\"14.00\" fill=\"#000000\">samples = 32.1%</text>\n",
       "<text text-anchor=\"start\" x=\"487.3657\" y=\"-20.8\" font-family=\"Helvetica,sans-Serif\" font-size=\"14.00\" fill=\"#000000\">value = [0.314, 0.686]</text>\n",
       "<text text-anchor=\"start\" x=\"521.2344\" y=\"-6.8\" font-family=\"Helvetica,sans-Serif\" font-size=\"14.00\" fill=\"#000000\">class = 1.0</text>\n",
       "</g>\n",
       "<!-- 4&#45;&gt;6 -->\n",
       "<g id=\"edge6\" class=\"edge\">\n",
       "<title>4&#45;&gt;6</title>\n",
       "<path fill=\"none\" stroke=\"#000000\" d=\"M447.8608,-99.7647C463.5193,-89.8508 480.2914,-79.2318 495.8036,-69.4105\"/>\n",
       "<polygon fill=\"#000000\" stroke=\"#000000\" points=\"497.7001,-72.3523 504.2768,-64.0458 493.9555,-66.438 497.7001,-72.3523\"/>\n",
       "</g>\n",
       "</g>\n",
       "</svg>\n"
      ],
      "text/plain": [
       "<graphviz.files.Source at 0x118ce6828>"
      ]
     },
     "execution_count": 123,
     "metadata": {},
     "output_type": "execute_result"
    }
   ],
   "source": [
    "X_n_a, y_n_a = wave_n_a.drop(['dec_o'], axis=1), wave_n_a['dec_o']\n",
    "\n",
    "dtc = tree.DecisionTreeClassifier(max_depth=2).fit(X_n_a, y_n_a)\n",
    "dtc_labels = dtc.predict(X_n_a)\n",
    "dtc_labels\n",
    "\n",
    "import graphviz\n",
    "dot_data = sk.tree.export_graphviz(dtc, out_file=None, \n",
    "                         feature_names=list(X_n_a.columns),  \n",
    "                         class_names = ['1.0' if i == 1 else '0.0' for i in dtc.classes_] ,\n",
    "                        #class_names =[i for i in temp1['match'].unique()],\n",
    "                         filled=True, rounded=True,  \n",
    "                         special_characters=True, \n",
    "                         proportion=True,\n",
    "                        )  \n",
    "graph = graphviz.Source(dot_data)  \n",
    "graph"
   ]
  },
  {
   "cell_type": "markdown",
   "metadata": {
    "collapsed": true
   },
   "source": [
    "# -----------------------------------------------------------------"
   ]
  },
  {
   "cell_type": "code",
   "execution_count": 124,
   "metadata": {
    "collapsed": true
   },
   "outputs": [],
   "source": [
    "attributes1=['dec','gender','attr', 'sinc', 'intel','fun', \n",
    "            'amb', 'shar','prob','met']"
   ]
  },
  {
   "cell_type": "code",
   "execution_count": 125,
   "metadata": {},
   "outputs": [
    {
     "data": {
      "text/plain": [
       "3654"
      ]
     },
     "execution_count": 125,
     "metadata": {},
     "output_type": "execute_result"
    },
    {
     "data": {
      "text/plain": [
       "dec         0\n",
       "gender      0\n",
       "attr       76\n",
       "sinc      108\n",
       "intel     127\n",
       "fun       166\n",
       "amb       339\n",
       "shar      497\n",
       "prob      106\n",
       "met       139\n",
       "dtype: int64"
      ]
     },
     "execution_count": 125,
     "metadata": {},
     "output_type": "execute_result"
    },
    {
     "data": {
      "text/plain": [
       "SelectKBest(k=5, score_func=<function f_classif at 0x117bb48c8>)"
      ]
     },
     "execution_count": 125,
     "metadata": {},
     "output_type": "execute_result"
    },
    {
     "name": "stdout",
     "output_type": "stream",
     "text": [
      "  Feat_names    F_Scores\n",
      "0       attr  922.931205\n",
      "2        fun  501.190334\n",
      "3       shar  433.954878\n",
      "4       prob  253.455001\n",
      "1      intel   98.377240\n"
     ]
    }
   ],
   "source": [
    "wave1_m_a = sd[sd['race']==2].loc[:, attributes1]\n",
    "len(wave1_m_a)\n",
    "wave1_m_a.isnull().sum()\n",
    "wave1_m_a=wave1_m_a.dropna(axis=0, how='any')\n",
    "X1_m_a, y1_m_a = wave1_m_a.drop(['dec'], axis=1), wave1_m_a['dec']\n",
    "\n",
    "kb = fs.SelectKBest(k=5)\n",
    "kb.fit(X1_m_a, y1_m_a)\n",
    "\n",
    "names = X1_m_a.columns.values[kb.get_support()]\n",
    "scores = kb.scores_[kb.get_support()]\n",
    "names_scores = list(zip(names, scores))\n",
    "ns_df = pd.DataFrame(data = names_scores, columns=['Feat_names', 'F_Scores'])\n",
    "#Sort the dataframe for better visualization\n",
    "ns_df_sorted = ns_df.sort_values(['F_Scores', 'Feat_names'], ascending = [False, True])\n",
    "print(ns_df_sorted)"
   ]
  },
  {
   "cell_type": "code",
   "execution_count": 126,
   "metadata": {},
   "outputs": [
    {
     "data": {
      "text/plain": [
       "dec       0\n",
       "attr     76\n",
       "fun     166\n",
       "shar    497\n",
       "prob    106\n",
       "dtype: int64"
      ]
     },
     "execution_count": 126,
     "metadata": {},
     "output_type": "execute_result"
    },
    {
     "data": {
      "text/plain": [
       "dec     0\n",
       "attr    0\n",
       "fun     0\n",
       "shar    0\n",
       "prob    0\n",
       "dtype: int64"
      ]
     },
     "execution_count": 126,
     "metadata": {},
     "output_type": "execute_result"
    },
    {
     "data": {
      "text/plain": [
       "1296"
      ]
     },
     "execution_count": 126,
     "metadata": {},
     "output_type": "execute_result"
    },
    {
     "data": {
      "text/plain": [
       "1805"
      ]
     },
     "execution_count": 126,
     "metadata": {},
     "output_type": "execute_result"
    },
    {
     "data": {
      "image/svg+xml": [
       "<?xml version=\"1.0\" encoding=\"UTF-8\" standalone=\"no\"?>\n",
       "<!DOCTYPE svg PUBLIC \"-//W3C//DTD SVG 1.1//EN\"\n",
       " \"http://www.w3.org/Graphics/SVG/1.1/DTD/svg11.dtd\">\n",
       "<!-- Generated by graphviz version 2.40.1 (20161225.0304)\n",
       " -->\n",
       "<!-- Title: Tree Pages: 1 -->\n",
       "<svg width=\"654pt\" height=\"300pt\"\n",
       " viewBox=\"0.00 0.00 654.05 300.00\" xmlns=\"http://www.w3.org/2000/svg\" xmlns:xlink=\"http://www.w3.org/1999/xlink\">\n",
       "<g id=\"graph0\" class=\"graph\" transform=\"scale(1 1) rotate(0) translate(4 296)\">\n",
       "<title>Tree</title>\n",
       "<polygon fill=\"#ffffff\" stroke=\"transparent\" points=\"-4,4 -4,-296 650.0508,-296 650.0508,4 -4,4\"/>\n",
       "<!-- 0 -->\n",
       "<g id=\"node1\" class=\"node\">\n",
       "<title>0</title>\n",
       "<path fill=\"#e58139\" fill-opacity=\"0.282353\" stroke=\"#000000\" d=\"M382.0762,-292C382.0762,-292 254.9746,-292 254.9746,-292 248.9746,-292 242.9746,-286 242.9746,-280 242.9746,-280 242.9746,-226 242.9746,-226 242.9746,-220 248.9746,-214 254.9746,-214 254.9746,-214 382.0762,-214 382.0762,-214 388.0762,-214 394.0762,-220 394.0762,-226 394.0762,-226 394.0762,-280 394.0762,-280 394.0762,-286 388.0762,-292 382.0762,-292\"/>\n",
       "<text text-anchor=\"start\" x=\"287.0562\" y=\"-276.8\" font-family=\"Helvetica,sans-Serif\" font-size=\"14.00\" fill=\"#000000\">attr ≤ 6.25</text>\n",
       "<text text-anchor=\"start\" x=\"282.1343\" y=\"-262.8\" font-family=\"Helvetica,sans-Serif\" font-size=\"14.00\" fill=\"#000000\">gini = 0.487</text>\n",
       "<text text-anchor=\"start\" x=\"260.7412\" y=\"-248.8\" font-family=\"Helvetica,sans-Serif\" font-size=\"14.00\" fill=\"#000000\">samples = 100.0%</text>\n",
       "<text text-anchor=\"start\" x=\"251\" y=\"-234.8\" font-family=\"Helvetica,sans-Serif\" font-size=\"14.00\" fill=\"#000000\">value = [0.582, 0.418]</text>\n",
       "<text text-anchor=\"start\" x=\"284.8687\" y=\"-220.8\" font-family=\"Helvetica,sans-Serif\" font-size=\"14.00\" fill=\"#000000\">class = 0.0</text>\n",
       "</g>\n",
       "<!-- 1 -->\n",
       "<g id=\"node2\" class=\"node\">\n",
       "<title>1</title>\n",
       "<path fill=\"#e58139\" fill-opacity=\"0.745098\" stroke=\"#000000\" d=\"M298.0762,-178C298.0762,-178 170.9746,-178 170.9746,-178 164.9746,-178 158.9746,-172 158.9746,-166 158.9746,-166 158.9746,-112 158.9746,-112 158.9746,-106 164.9746,-100 170.9746,-100 170.9746,-100 298.0762,-100 298.0762,-100 304.0762,-100 310.0762,-106 310.0762,-112 310.0762,-112 310.0762,-166 310.0762,-166 310.0762,-172 304.0762,-178 298.0762,-178\"/>\n",
       "<text text-anchor=\"start\" x=\"206.9492\" y=\"-162.8\" font-family=\"Helvetica,sans-Serif\" font-size=\"14.00\" fill=\"#000000\">attr ≤ 5.5</text>\n",
       "<text text-anchor=\"start\" x=\"198.1343\" y=\"-148.8\" font-family=\"Helvetica,sans-Serif\" font-size=\"14.00\" fill=\"#000000\">gini = 0.324</text>\n",
       "<text text-anchor=\"start\" x=\"180.6343\" y=\"-134.8\" font-family=\"Helvetica,sans-Serif\" font-size=\"14.00\" fill=\"#000000\">samples = 51.5%</text>\n",
       "<text text-anchor=\"start\" x=\"167\" y=\"-120.8\" font-family=\"Helvetica,sans-Serif\" font-size=\"14.00\" fill=\"#000000\">value = [0.797, 0.203]</text>\n",
       "<text text-anchor=\"start\" x=\"200.8687\" y=\"-106.8\" font-family=\"Helvetica,sans-Serif\" font-size=\"14.00\" fill=\"#000000\">class = 0.0</text>\n",
       "</g>\n",
       "<!-- 0&#45;&gt;1 -->\n",
       "<g id=\"edge1\" class=\"edge\">\n",
       "<title>0&#45;&gt;1</title>\n",
       "<path fill=\"none\" stroke=\"#000000\" d=\"M289.6174,-213.7677C283.1498,-204.9903 276.222,-195.5883 269.5373,-186.5161\"/>\n",
       "<polygon fill=\"#000000\" stroke=\"#000000\" points=\"272.2364,-184.279 263.4867,-178.3046 266.601,-188.4314 272.2364,-184.279\"/>\n",
       "<text text-anchor=\"middle\" x=\"259.7416\" y=\"-198.8225\" font-family=\"Helvetica,sans-Serif\" font-size=\"14.00\" fill=\"#000000\">True</text>\n",
       "</g>\n",
       "<!-- 4 -->\n",
       "<g id=\"node5\" class=\"node\">\n",
       "<title>4</title>\n",
       "<path fill=\"#399de5\" fill-opacity=\"0.450980\" stroke=\"#000000\" d=\"M467.0762,-178C467.0762,-178 339.9746,-178 339.9746,-178 333.9746,-178 327.9746,-172 327.9746,-166 327.9746,-166 327.9746,-112 327.9746,-112 327.9746,-106 333.9746,-100 339.9746,-100 339.9746,-100 467.0762,-100 467.0762,-100 473.0762,-100 479.0762,-106 479.0762,-112 479.0762,-112 479.0762,-166 479.0762,-166 479.0762,-172 473.0762,-178 467.0762,-178\"/>\n",
       "<text text-anchor=\"start\" x=\"372.0562\" y=\"-162.8\" font-family=\"Helvetica,sans-Serif\" font-size=\"14.00\" fill=\"#000000\">attr ≤ 7.25</text>\n",
       "<text text-anchor=\"start\" x=\"367.1343\" y=\"-148.8\" font-family=\"Helvetica,sans-Serif\" font-size=\"14.00\" fill=\"#000000\">gini = 0.457</text>\n",
       "<text text-anchor=\"start\" x=\"349.6343\" y=\"-134.8\" font-family=\"Helvetica,sans-Serif\" font-size=\"14.00\" fill=\"#000000\">samples = 48.5%</text>\n",
       "<text text-anchor=\"start\" x=\"336\" y=\"-120.8\" font-family=\"Helvetica,sans-Serif\" font-size=\"14.00\" fill=\"#000000\">value = [0.354, 0.646]</text>\n",
       "<text text-anchor=\"start\" x=\"369.8687\" y=\"-106.8\" font-family=\"Helvetica,sans-Serif\" font-size=\"14.00\" fill=\"#000000\">class = 1.0</text>\n",
       "</g>\n",
       "<!-- 0&#45;&gt;4 -->\n",
       "<g id=\"edge4\" class=\"edge\">\n",
       "<title>0&#45;&gt;4</title>\n",
       "<path fill=\"none\" stroke=\"#000000\" d=\"M347.7776,-213.7677C354.3221,-204.9903 361.3324,-195.5883 368.0967,-186.5161\"/>\n",
       "<polygon fill=\"#000000\" stroke=\"#000000\" points=\"371.0477,-188.4136 374.2193,-178.3046 365.4359,-184.2294 371.0477,-188.4136\"/>\n",
       "<text text-anchor=\"middle\" x=\"377.8244\" y=\"-198.8433\" font-family=\"Helvetica,sans-Serif\" font-size=\"14.00\" fill=\"#000000\">False</text>\n",
       "</g>\n",
       "<!-- 2 -->\n",
       "<g id=\"node3\" class=\"node\">\n",
       "<title>2</title>\n",
       "<path fill=\"#e58139\" fill-opacity=\"0.858824\" stroke=\"#000000\" d=\"M139.0762,-64C139.0762,-64 11.9746,-64 11.9746,-64 5.9746,-64 -.0254,-58 -.0254,-52 -.0254,-52 -.0254,-12 -.0254,-12 -.0254,-6 5.9746,0 11.9746,0 11.9746,0 139.0762,0 139.0762,0 145.0762,0 151.0762,-6 151.0762,-12 151.0762,-12 151.0762,-52 151.0762,-52 151.0762,-58 145.0762,-64 139.0762,-64\"/>\n",
       "<text text-anchor=\"start\" x=\"39.1343\" y=\"-48.8\" font-family=\"Helvetica,sans-Serif\" font-size=\"14.00\" fill=\"#000000\">gini = 0.215</text>\n",
       "<text text-anchor=\"start\" x=\"21.6343\" y=\"-34.8\" font-family=\"Helvetica,sans-Serif\" font-size=\"14.00\" fill=\"#000000\">samples = 31.4%</text>\n",
       "<text text-anchor=\"start\" x=\"8\" y=\"-20.8\" font-family=\"Helvetica,sans-Serif\" font-size=\"14.00\" fill=\"#000000\">value = [0.878, 0.122]</text>\n",
       "<text text-anchor=\"start\" x=\"41.8687\" y=\"-6.8\" font-family=\"Helvetica,sans-Serif\" font-size=\"14.00\" fill=\"#000000\">class = 0.0</text>\n",
       "</g>\n",
       "<!-- 1&#45;&gt;2 -->\n",
       "<g id=\"edge2\" class=\"edge\">\n",
       "<title>1&#45;&gt;2</title>\n",
       "<path fill=\"none\" stroke=\"#000000\" d=\"M176.2225,-99.7647C161.627,-89.9426 146.0031,-79.4284 131.5223,-69.6835\"/>\n",
       "<polygon fill=\"#000000\" stroke=\"#000000\" points=\"133.3952,-66.7252 123.1448,-64.0458 129.4871,-72.5326 133.3952,-66.7252\"/>\n",
       "</g>\n",
       "<!-- 3 -->\n",
       "<g id=\"node4\" class=\"node\">\n",
       "<title>3</title>\n",
       "<path fill=\"#e58139\" fill-opacity=\"0.509804\" stroke=\"#000000\" d=\"M292.5048,-64C292.5048,-64 180.546,-64 180.546,-64 174.546,-64 168.546,-58 168.546,-52 168.546,-52 168.546,-12 168.546,-12 168.546,-6 174.546,0 180.546,0 180.546,0 292.5048,0 292.5048,0 298.5048,0 304.5048,-6 304.5048,-12 304.5048,-12 304.5048,-52 304.5048,-52 304.5048,-58 298.5048,-64 292.5048,-64\"/>\n",
       "<text text-anchor=\"start\" x=\"200.1343\" y=\"-48.8\" font-family=\"Helvetica,sans-Serif\" font-size=\"14.00\" fill=\"#000000\">gini = 0.442</text>\n",
       "<text text-anchor=\"start\" x=\"182.6343\" y=\"-34.8\" font-family=\"Helvetica,sans-Serif\" font-size=\"14.00\" fill=\"#000000\">samples = 20.2%</text>\n",
       "<text text-anchor=\"start\" x=\"176.7861\" y=\"-20.8\" font-family=\"Helvetica,sans-Serif\" font-size=\"14.00\" fill=\"#000000\">value = [0.67, 0.33]</text>\n",
       "<text text-anchor=\"start\" x=\"202.8687\" y=\"-6.8\" font-family=\"Helvetica,sans-Serif\" font-size=\"14.00\" fill=\"#000000\">class = 0.0</text>\n",
       "</g>\n",
       "<!-- 1&#45;&gt;3 -->\n",
       "<g id=\"edge3\" class=\"edge\">\n",
       "<title>1&#45;&gt;3</title>\n",
       "<path fill=\"none\" stroke=\"#000000\" d=\"M235.2588,-99.7647C235.4141,-91.4537 235.5787,-82.6472 235.736,-74.2305\"/>\n",
       "<polygon fill=\"#000000\" stroke=\"#000000\" points=\"239.2356,-74.2806 235.9232,-64.2169 232.2368,-74.1497 239.2356,-74.2806\"/>\n",
       "</g>\n",
       "<!-- 5 -->\n",
       "<g id=\"node6\" class=\"node\">\n",
       "<title>5</title>\n",
       "<path fill=\"#e58139\" fill-opacity=\"0.007843\" stroke=\"#000000\" d=\"M465.0762,-64C465.0762,-64 337.9746,-64 337.9746,-64 331.9746,-64 325.9746,-58 325.9746,-52 325.9746,-52 325.9746,-12 325.9746,-12 325.9746,-6 331.9746,0 337.9746,0 337.9746,0 465.0762,0 465.0762,0 471.0762,0 477.0762,-6 477.0762,-12 477.0762,-12 477.0762,-52 477.0762,-52 477.0762,-58 471.0762,-64 465.0762,-64\"/>\n",
       "<text text-anchor=\"start\" x=\"372.9204\" y=\"-48.8\" font-family=\"Helvetica,sans-Serif\" font-size=\"14.00\" fill=\"#000000\">gini = 0.5</text>\n",
       "<text text-anchor=\"start\" x=\"347.6343\" y=\"-34.8\" font-family=\"Helvetica,sans-Serif\" font-size=\"14.00\" fill=\"#000000\">samples = 20.3%</text>\n",
       "<text text-anchor=\"start\" x=\"334\" y=\"-20.8\" font-family=\"Helvetica,sans-Serif\" font-size=\"14.00\" fill=\"#000000\">value = [0.502, 0.498]</text>\n",
       "<text text-anchor=\"start\" x=\"367.8687\" y=\"-6.8\" font-family=\"Helvetica,sans-Serif\" font-size=\"14.00\" fill=\"#000000\">class = 0.0</text>\n",
       "</g>\n",
       "<!-- 4&#45;&gt;5 -->\n",
       "<g id=\"edge5\" class=\"edge\">\n",
       "<title>4&#45;&gt;5</title>\n",
       "<path fill=\"none\" stroke=\"#000000\" d=\"M402.792,-99.7647C402.6367,-91.4537 402.4721,-82.6472 402.3147,-74.2305\"/>\n",
       "<polygon fill=\"#000000\" stroke=\"#000000\" points=\"405.8139,-74.1497 402.1276,-64.2169 398.8152,-74.2806 405.8139,-74.1497\"/>\n",
       "</g>\n",
       "<!-- 6 -->\n",
       "<g id=\"node7\" class=\"node\">\n",
       "<title>6</title>\n",
       "<path fill=\"#399de5\" fill-opacity=\"0.670588\" stroke=\"#000000\" d=\"M634.0762,-64C634.0762,-64 506.9746,-64 506.9746,-64 500.9746,-64 494.9746,-58 494.9746,-52 494.9746,-52 494.9746,-12 494.9746,-12 494.9746,-6 500.9746,0 506.9746,0 506.9746,0 634.0762,0 634.0762,0 640.0762,0 646.0762,-6 646.0762,-12 646.0762,-12 646.0762,-52 646.0762,-52 646.0762,-58 640.0762,-64 634.0762,-64\"/>\n",
       "<text text-anchor=\"start\" x=\"534.1343\" y=\"-48.8\" font-family=\"Helvetica,sans-Serif\" font-size=\"14.00\" fill=\"#000000\">gini = 0.372</text>\n",
       "<text text-anchor=\"start\" x=\"516.6343\" y=\"-34.8\" font-family=\"Helvetica,sans-Serif\" font-size=\"14.00\" fill=\"#000000\">samples = 28.2%</text>\n",
       "<text text-anchor=\"start\" x=\"503\" y=\"-20.8\" font-family=\"Helvetica,sans-Serif\" font-size=\"14.00\" fill=\"#000000\">value = [0.247, 0.753]</text>\n",
       "<text text-anchor=\"start\" x=\"536.8687\" y=\"-6.8\" font-family=\"Helvetica,sans-Serif\" font-size=\"14.00\" fill=\"#000000\">class = 1.0</text>\n",
       "</g>\n",
       "<!-- 4&#45;&gt;6 -->\n",
       "<g id=\"edge6\" class=\"edge\">\n",
       "<title>4&#45;&gt;6</title>\n",
       "<path fill=\"none\" stroke=\"#000000\" d=\"M464.7618,-99.7647C480.0917,-89.9426 496.5016,-79.4284 511.711,-69.6835\"/>\n",
       "<polygon fill=\"#000000\" stroke=\"#000000\" points=\"513.9783,-72.3876 520.51,-64.0458 510.2019,-66.4936 513.9783,-72.3876\"/>\n",
       "</g>\n",
       "</g>\n",
       "</svg>\n"
      ],
      "text/plain": [
       "<graphviz.files.Source at 0x119c0d470>"
      ]
     },
     "execution_count": 126,
     "metadata": {},
     "output_type": "execute_result"
    }
   ],
   "source": [
    "attributes_best = ['dec','attr','fun', 'shar','prob']\n",
    "wave1_m_a = sd[sd['race']==2].loc[:, attributes_best]\n",
    "wave1_m_a.isnull().sum()\n",
    "wave1_m_a=wave1_m_a.dropna(axis=0, how='any')\n",
    "\n",
    "wave1_m_a.isnull().sum()\n",
    "len(wave1_m_a[wave1_m_a['dec']==1])\n",
    "len(wave1_m_a[wave1_m_a['dec']==0])\n",
    "\n",
    "X1_m_a, y1_m_a = wave1_m_a.drop(['dec'], axis=1), wave1_m_a['dec']\n",
    "\n",
    "dtc = tree.DecisionTreeClassifier(max_depth=2).fit(X1_m_a, y1_m_a)\n",
    "\n",
    "import graphviz\n",
    "dot_data = sk.tree.export_graphviz(dtc, out_file=None, \n",
    "                         feature_names=list(X1_m_a.columns),  \n",
    "                         class_names = ['1.0' if i == 1 else '0.0' for i in dtc.classes_] ,\n",
    "                        #class_names =[i for i in temp1['match'].unique()],\n",
    "                         filled=True, rounded=True,  \n",
    "                         special_characters=True, \n",
    "                         proportion=True,\n",
    "                        )  \n",
    "graph = graphviz.Source(dot_data)  \n",
    "graph"
   ]
  },
  {
   "cell_type": "code",
   "execution_count": null,
   "metadata": {
    "collapsed": true
   },
   "outputs": [],
   "source": []
  },
  {
   "cell_type": "code",
   "execution_count": 53,
   "metadata": {},
   "outputs": [
    {
     "data": {
      "text/plain": [
       "420"
      ]
     },
     "execution_count": 53,
     "metadata": {},
     "output_type": "execute_result"
    },
    {
     "data": {
      "text/plain": [
       "dec        0\n",
       "gender     0\n",
       "attr      12\n",
       "sinc      31\n",
       "intel     29\n",
       "fun       35\n",
       "amb       45\n",
       "shar      58\n",
       "prob      32\n",
       "met       33\n",
       "dtype: int64"
      ]
     },
     "execution_count": 53,
     "metadata": {},
     "output_type": "execute_result"
    },
    {
     "data": {
      "text/plain": [
       "SelectKBest(k=5, score_func=<function f_classif at 0x117bb48c8>)"
      ]
     },
     "execution_count": 53,
     "metadata": {},
     "output_type": "execute_result"
    },
    {
     "name": "stdout",
     "output_type": "stream",
     "text": [
      "  Feat_names    F_Scores\n",
      "0       attr  132.188140\n",
      "2        fun   76.352018\n",
      "3       shar   73.157603\n",
      "4       prob   57.850695\n",
      "1       sinc   26.926417\n"
     ]
    }
   ],
   "source": [
    "wave1_n_a = sd[(sd['race']==1)|(sd['race']==5)].loc[:, attributes1]\n",
    "len(wave1_n_a)\n",
    "wave1_n_a.isnull().sum()\n",
    "wave1_n_a=wave1_n_a.dropna(axis=0, how='any')\n",
    "X1_n_a, y1_n_a = wave1_n_a.drop(['dec'], axis=1), wave1_n_a['dec']\n",
    "\n",
    "kb = fs.SelectKBest(k=5)\n",
    "kb.fit(X1_n_a, y1_n_a)\n",
    "\n",
    "names = X1_n_a.columns.values[kb.get_support()]\n",
    "scores = kb.scores_[kb.get_support()]\n",
    "names_scores = list(zip(names, scores))\n",
    "ns_df = pd.DataFrame(data = names_scores, columns=['Feat_names', 'F_Scores'])\n",
    "#Sort the dataframe for better visualization\n",
    "ns_df_sorted = ns_df.sort_values(['F_Scores', 'Feat_names'], ascending = [False, True])\n",
    "print(ns_df_sorted)"
   ]
  },
  {
   "cell_type": "code",
   "execution_count": 54,
   "metadata": {},
   "outputs": [
    {
     "data": {
      "text/plain": [
       "dec      0\n",
       "attr    12\n",
       "fun     35\n",
       "shar    58\n",
       "prob    32\n",
       "dtype: int64"
      ]
     },
     "execution_count": 54,
     "metadata": {},
     "output_type": "execute_result"
    },
    {
     "data": {
      "text/plain": [
       "dec     0\n",
       "attr    0\n",
       "fun     0\n",
       "shar    0\n",
       "prob    0\n",
       "dtype: int64"
      ]
     },
     "execution_count": 54,
     "metadata": {},
     "output_type": "execute_result"
    },
    {
     "data": {
      "text/plain": [
       "192"
      ]
     },
     "execution_count": 54,
     "metadata": {},
     "output_type": "execute_result"
    },
    {
     "data": {
      "text/plain": [
       "160"
      ]
     },
     "execution_count": 54,
     "metadata": {},
     "output_type": "execute_result"
    },
    {
     "data": {
      "image/svg+xml": [
       "<?xml version=\"1.0\" encoding=\"UTF-8\" standalone=\"no\"?>\n",
       "<!DOCTYPE svg PUBLIC \"-//W3C//DTD SVG 1.1//EN\"\n",
       " \"http://www.w3.org/Graphics/SVG/1.1/DTD/svg11.dtd\">\n",
       "<!-- Generated by graphviz version 2.40.1 (20161225.0304)\n",
       " -->\n",
       "<!-- Title: Tree Pages: 1 -->\n",
       "<svg width=\"650pt\" height=\"300pt\"\n",
       " viewBox=\"0.00 0.00 650.05 300.00\" xmlns=\"http://www.w3.org/2000/svg\" xmlns:xlink=\"http://www.w3.org/1999/xlink\">\n",
       "<g id=\"graph0\" class=\"graph\" transform=\"scale(1 1) rotate(0) translate(4 296)\">\n",
       "<title>Tree</title>\n",
       "<polygon fill=\"#ffffff\" stroke=\"transparent\" points=\"-4,4 -4,-296 646.0508,-296 646.0508,4 -4,4\"/>\n",
       "<!-- 0 -->\n",
       "<g id=\"node1\" class=\"node\">\n",
       "<title>0</title>\n",
       "<path fill=\"#399de5\" fill-opacity=\"0.164706\" stroke=\"#000000\" d=\"M380.0762,-292C380.0762,-292 252.9746,-292 252.9746,-292 246.9746,-292 240.9746,-286 240.9746,-280 240.9746,-280 240.9746,-226 240.9746,-226 240.9746,-220 246.9746,-214 252.9746,-214 252.9746,-214 380.0762,-214 380.0762,-214 386.0762,-214 392.0762,-220 392.0762,-226 392.0762,-226 392.0762,-280 392.0762,-280 392.0762,-286 386.0762,-292 380.0762,-292\"/>\n",
       "<text text-anchor=\"start\" x=\"288.9492\" y=\"-276.8\" font-family=\"Helvetica,sans-Serif\" font-size=\"14.00\" fill=\"#000000\">attr ≤ 6.5</text>\n",
       "<text text-anchor=\"start\" x=\"280.1343\" y=\"-262.8\" font-family=\"Helvetica,sans-Serif\" font-size=\"14.00\" fill=\"#000000\">gini = 0.496</text>\n",
       "<text text-anchor=\"start\" x=\"258.7412\" y=\"-248.8\" font-family=\"Helvetica,sans-Serif\" font-size=\"14.00\" fill=\"#000000\">samples = 100.0%</text>\n",
       "<text text-anchor=\"start\" x=\"249\" y=\"-234.8\" font-family=\"Helvetica,sans-Serif\" font-size=\"14.00\" fill=\"#000000\">value = [0.455, 0.545]</text>\n",
       "<text text-anchor=\"start\" x=\"282.8687\" y=\"-220.8\" font-family=\"Helvetica,sans-Serif\" font-size=\"14.00\" fill=\"#000000\">class = 1.0</text>\n",
       "</g>\n",
       "<!-- 1 -->\n",
       "<g id=\"node2\" class=\"node\">\n",
       "<title>1</title>\n",
       "<path fill=\"#e58139\" fill-opacity=\"0.666667\" stroke=\"#000000\" d=\"M292.5048,-178C292.5048,-178 180.546,-178 180.546,-178 174.546,-178 168.546,-172 168.546,-166 168.546,-166 168.546,-112 168.546,-112 168.546,-106 174.546,-100 180.546,-100 180.546,-100 292.5048,-100 292.5048,-100 298.5048,-100 304.5048,-106 304.5048,-112 304.5048,-112 304.5048,-166 304.5048,-166 304.5048,-172 298.5048,-178 292.5048,-178\"/>\n",
       "<text text-anchor=\"start\" x=\"205.4458\" y=\"-162.8\" font-family=\"Helvetica,sans-Serif\" font-size=\"14.00\" fill=\"#000000\">shar ≤ 5.5</text>\n",
       "<text text-anchor=\"start\" x=\"200.1343\" y=\"-148.8\" font-family=\"Helvetica,sans-Serif\" font-size=\"14.00\" fill=\"#000000\">gini = 0.375</text>\n",
       "<text text-anchor=\"start\" x=\"182.6343\" y=\"-134.8\" font-family=\"Helvetica,sans-Serif\" font-size=\"14.00\" fill=\"#000000\">samples = 46.6%</text>\n",
       "<text text-anchor=\"start\" x=\"176.7861\" y=\"-120.8\" font-family=\"Helvetica,sans-Serif\" font-size=\"14.00\" fill=\"#000000\">value = [0.75, 0.25]</text>\n",
       "<text text-anchor=\"start\" x=\"202.8687\" y=\"-106.8\" font-family=\"Helvetica,sans-Serif\" font-size=\"14.00\" fill=\"#000000\">class = 0.0</text>\n",
       "</g>\n",
       "<!-- 0&#45;&gt;1 -->\n",
       "<g id=\"edge1\" class=\"edge\">\n",
       "<title>0&#45;&gt;1</title>\n",
       "<path fill=\"none\" stroke=\"#000000\" d=\"M288.9939,-213.7677C282.8344,-204.9903 276.2365,-195.5883 269.87,-186.5161\"/>\n",
       "<polygon fill=\"#000000\" stroke=\"#000000\" points=\"272.7169,-184.4797 264.1076,-178.3046 266.9869,-188.5007 272.7169,-184.4797\"/>\n",
       "<text text-anchor=\"middle\" x=\"259.7919\" y=\"-198.7293\" font-family=\"Helvetica,sans-Serif\" font-size=\"14.00\" fill=\"#000000\">True</text>\n",
       "</g>\n",
       "<!-- 4 -->\n",
       "<g id=\"node5\" class=\"node\">\n",
       "<title>4</title>\n",
       "<path fill=\"#399de5\" fill-opacity=\"0.756863\" stroke=\"#000000\" d=\"M461.0762,-178C461.0762,-178 333.9746,-178 333.9746,-178 327.9746,-178 321.9746,-172 321.9746,-166 321.9746,-166 321.9746,-112 321.9746,-112 321.9746,-106 327.9746,-100 333.9746,-100 333.9746,-100 461.0762,-100 461.0762,-100 467.0762,-100 473.0762,-106 473.0762,-112 473.0762,-112 473.0762,-166 473.0762,-166 473.0762,-172 467.0762,-178 461.0762,-178\"/>\n",
       "<text text-anchor=\"start\" x=\"366.4458\" y=\"-162.8\" font-family=\"Helvetica,sans-Serif\" font-size=\"14.00\" fill=\"#000000\">shar ≤ 4.5</text>\n",
       "<text text-anchor=\"start\" x=\"361.1343\" y=\"-148.8\" font-family=\"Helvetica,sans-Serif\" font-size=\"14.00\" fill=\"#000000\">gini = 0.316</text>\n",
       "<text text-anchor=\"start\" x=\"343.6343\" y=\"-134.8\" font-family=\"Helvetica,sans-Serif\" font-size=\"14.00\" fill=\"#000000\">samples = 53.4%</text>\n",
       "<text text-anchor=\"start\" x=\"330\" y=\"-120.8\" font-family=\"Helvetica,sans-Serif\" font-size=\"14.00\" fill=\"#000000\">value = [0.197, 0.803]</text>\n",
       "<text text-anchor=\"start\" x=\"363.8687\" y=\"-106.8\" font-family=\"Helvetica,sans-Serif\" font-size=\"14.00\" fill=\"#000000\">class = 1.0</text>\n",
       "</g>\n",
       "<!-- 0&#45;&gt;4 -->\n",
       "<g id=\"edge4\" class=\"edge\">\n",
       "<title>0&#45;&gt;4</title>\n",
       "<path fill=\"none\" stroke=\"#000000\" d=\"M344.401,-213.7677C350.6376,-204.9903 357.3179,-195.5883 363.7639,-186.5161\"/>\n",
       "<polygon fill=\"#000000\" stroke=\"#000000\" points=\"366.6594,-188.4837 369.5984,-178.3046 360.9532,-184.4292 366.6594,-188.4837\"/>\n",
       "<text text-anchor=\"middle\" x=\"373.7699\" y=\"-198.7542\" font-family=\"Helvetica,sans-Serif\" font-size=\"14.00\" fill=\"#000000\">False</text>\n",
       "</g>\n",
       "<!-- 2 -->\n",
       "<g id=\"node3\" class=\"node\">\n",
       "<title>2</title>\n",
       "<path fill=\"#e58139\" fill-opacity=\"0.854902\" stroke=\"#000000\" d=\"M139.0762,-64C139.0762,-64 11.9746,-64 11.9746,-64 5.9746,-64 -.0254,-58 -.0254,-52 -.0254,-52 -.0254,-12 -.0254,-12 -.0254,-6 5.9746,0 11.9746,0 11.9746,0 139.0762,0 139.0762,0 145.0762,0 151.0762,-6 151.0762,-12 151.0762,-12 151.0762,-52 151.0762,-52 151.0762,-58 145.0762,-64 139.0762,-64\"/>\n",
       "<text text-anchor=\"start\" x=\"39.1343\" y=\"-48.8\" font-family=\"Helvetica,sans-Serif\" font-size=\"14.00\" fill=\"#000000\">gini = 0.221</text>\n",
       "<text text-anchor=\"start\" x=\"21.6343\" y=\"-34.8\" font-family=\"Helvetica,sans-Serif\" font-size=\"14.00\" fill=\"#000000\">samples = 27.0%</text>\n",
       "<text text-anchor=\"start\" x=\"8\" y=\"-20.8\" font-family=\"Helvetica,sans-Serif\" font-size=\"14.00\" fill=\"#000000\">value = [0.874, 0.126]</text>\n",
       "<text text-anchor=\"start\" x=\"41.8687\" y=\"-6.8\" font-family=\"Helvetica,sans-Serif\" font-size=\"14.00\" fill=\"#000000\">class = 0.0</text>\n",
       "</g>\n",
       "<!-- 1&#45;&gt;2 -->\n",
       "<g id=\"edge2\" class=\"edge\">\n",
       "<title>1&#45;&gt;2</title>\n",
       "<path fill=\"none\" stroke=\"#000000\" d=\"M177.4891,-99.7647C162.71,-89.9426 146.8896,-79.4284 132.2267,-69.6835\"/>\n",
       "<polygon fill=\"#000000\" stroke=\"#000000\" points=\"134.0095,-66.6659 123.7438,-64.0458 130.135,-72.4958 134.0095,-66.6659\"/>\n",
       "</g>\n",
       "<!-- 3 -->\n",
       "<g id=\"node4\" class=\"node\">\n",
       "<title>3</title>\n",
       "<path fill=\"#e58139\" fill-opacity=\"0.274510\" stroke=\"#000000\" d=\"M292.5048,-64C292.5048,-64 180.546,-64 180.546,-64 174.546,-64 168.546,-58 168.546,-52 168.546,-52 168.546,-12 168.546,-12 168.546,-6 174.546,0 180.546,0 180.546,0 292.5048,0 292.5048,0 298.5048,0 304.5048,-6 304.5048,-12 304.5048,-12 304.5048,-52 304.5048,-52 304.5048,-58 298.5048,-64 292.5048,-64\"/>\n",
       "<text text-anchor=\"start\" x=\"200.1343\" y=\"-48.8\" font-family=\"Helvetica,sans-Serif\" font-size=\"14.00\" fill=\"#000000\">gini = 0.487</text>\n",
       "<text text-anchor=\"start\" x=\"182.6343\" y=\"-34.8\" font-family=\"Helvetica,sans-Serif\" font-size=\"14.00\" fill=\"#000000\">samples = 19.6%</text>\n",
       "<text text-anchor=\"start\" x=\"176.7861\" y=\"-20.8\" font-family=\"Helvetica,sans-Serif\" font-size=\"14.00\" fill=\"#000000\">value = [0.58, 0.42]</text>\n",
       "<text text-anchor=\"start\" x=\"202.8687\" y=\"-6.8\" font-family=\"Helvetica,sans-Serif\" font-size=\"14.00\" fill=\"#000000\">class = 0.0</text>\n",
       "</g>\n",
       "<!-- 1&#45;&gt;3 -->\n",
       "<g id=\"edge3\" class=\"edge\">\n",
       "<title>1&#45;&gt;3</title>\n",
       "<path fill=\"none\" stroke=\"#000000\" d=\"M236.5254,-99.7647C236.5254,-91.4537 236.5254,-82.6472 236.5254,-74.2305\"/>\n",
       "<polygon fill=\"#000000\" stroke=\"#000000\" points=\"240.0255,-74.2168 236.5254,-64.2169 233.0255,-74.2169 240.0255,-74.2168\"/>\n",
       "</g>\n",
       "<!-- 5 -->\n",
       "<g id=\"node6\" class=\"node\">\n",
       "<title>5</title>\n",
       "<path fill=\"#e58139\" fill-opacity=\"0.250980\" stroke=\"#000000\" d=\"M461.0762,-64C461.0762,-64 333.9746,-64 333.9746,-64 327.9746,-64 321.9746,-58 321.9746,-52 321.9746,-52 321.9746,-12 321.9746,-12 321.9746,-6 327.9746,0 333.9746,0 333.9746,0 461.0762,0 461.0762,0 467.0762,0 473.0762,-6 473.0762,-12 473.0762,-12 473.0762,-52 473.0762,-52 473.0762,-58 467.0762,-64 461.0762,-64\"/>\n",
       "<text text-anchor=\"start\" x=\"365.0273\" y=\"-48.8\" font-family=\"Helvetica,sans-Serif\" font-size=\"14.00\" fill=\"#000000\">gini = 0.49</text>\n",
       "<text text-anchor=\"start\" x=\"347.5273\" y=\"-34.8\" font-family=\"Helvetica,sans-Serif\" font-size=\"14.00\" fill=\"#000000\">samples = 8.0%</text>\n",
       "<text text-anchor=\"start\" x=\"330\" y=\"-20.8\" font-family=\"Helvetica,sans-Serif\" font-size=\"14.00\" fill=\"#000000\">value = [0.571, 0.429]</text>\n",
       "<text text-anchor=\"start\" x=\"363.8687\" y=\"-6.8\" font-family=\"Helvetica,sans-Serif\" font-size=\"14.00\" fill=\"#000000\">class = 0.0</text>\n",
       "</g>\n",
       "<!-- 4&#45;&gt;5 -->\n",
       "<g id=\"edge5\" class=\"edge\">\n",
       "<title>4&#45;&gt;5</title>\n",
       "<path fill=\"none\" stroke=\"#000000\" d=\"M397.5254,-99.7647C397.5254,-91.4537 397.5254,-82.6472 397.5254,-74.2305\"/>\n",
       "<polygon fill=\"#000000\" stroke=\"#000000\" points=\"401.0255,-74.2168 397.5254,-64.2169 394.0255,-74.2169 401.0255,-74.2168\"/>\n",
       "</g>\n",
       "<!-- 6 -->\n",
       "<g id=\"node7\" class=\"node\">\n",
       "<title>6</title>\n",
       "<path fill=\"#399de5\" fill-opacity=\"0.847059\" stroke=\"#000000\" d=\"M630.0762,-64C630.0762,-64 502.9746,-64 502.9746,-64 496.9746,-64 490.9746,-58 490.9746,-52 490.9746,-52 490.9746,-12 490.9746,-12 490.9746,-6 496.9746,0 502.9746,0 502.9746,0 630.0762,0 630.0762,0 636.0762,0 642.0762,-6 642.0762,-12 642.0762,-12 642.0762,-52 642.0762,-52 642.0762,-58 636.0762,-64 630.0762,-64\"/>\n",
       "<text text-anchor=\"start\" x=\"530.1343\" y=\"-48.8\" font-family=\"Helvetica,sans-Serif\" font-size=\"14.00\" fill=\"#000000\">gini = 0.228</text>\n",
       "<text text-anchor=\"start\" x=\"512.6343\" y=\"-34.8\" font-family=\"Helvetica,sans-Serif\" font-size=\"14.00\" fill=\"#000000\">samples = 45.5%</text>\n",
       "<text text-anchor=\"start\" x=\"499\" y=\"-20.8\" font-family=\"Helvetica,sans-Serif\" font-size=\"14.00\" fill=\"#000000\">value = [0.131, 0.869]</text>\n",
       "<text text-anchor=\"start\" x=\"532.8687\" y=\"-6.8\" font-family=\"Helvetica,sans-Serif\" font-size=\"14.00\" fill=\"#000000\">class = 1.0</text>\n",
       "</g>\n",
       "<!-- 4&#45;&gt;6 -->\n",
       "<g id=\"edge6\" class=\"edge\">\n",
       "<title>4&#45;&gt;6</title>\n",
       "<path fill=\"none\" stroke=\"#000000\" d=\"M459.4951,-99.7647C475.1536,-89.8508 491.9256,-79.2318 507.4378,-69.4105\"/>\n",
       "<polygon fill=\"#000000\" stroke=\"#000000\" points=\"509.3344,-72.3523 515.9111,-64.0458 505.5898,-66.438 509.3344,-72.3523\"/>\n",
       "</g>\n",
       "</g>\n",
       "</svg>\n"
      ],
      "text/plain": [
       "<graphviz.files.Source at 0x118c04c88>"
      ]
     },
     "execution_count": 54,
     "metadata": {},
     "output_type": "execute_result"
    }
   ],
   "source": [
    "attributes_best = ['dec','attr','fun', 'shar','prob']\n",
    "wave1_n_a = sd[(sd['race']==1)|(sd['race']==5)].loc[:, attributes_best]\n",
    "wave1_n_a.isnull().sum()\n",
    "wave1_n_a=wave1_n_a.dropna(axis=0, how='any')\n",
    "\n",
    "wave1_n_a.isnull().sum()\n",
    "len(wave1_n_a[wave1_n_a['dec']==1])\n",
    "len(wave1_n_a[wave1_n_a['dec']==0])\n",
    "\n",
    "X1_n_a, y1_n_a = wave1_n_a.drop(['dec'], axis=1), wave1_n_a['dec']\n",
    "\n",
    "dtc = tree.DecisionTreeClassifier(max_depth=2).fit(X1_n_a, y1_n_a)\n",
    "\n",
    "import graphviz\n",
    "dot_data = sk.tree.export_graphviz(dtc, out_file=None, \n",
    "                         feature_names=list(X1_n_a.columns),  \n",
    "                         class_names = ['1.0' if i == 1 else '0.0' for i in dtc.classes_] ,\n",
    "                        #class_names =[i for i in temp1['match'].unique()],\n",
    "                         filled=True, rounded=True,  \n",
    "                         special_characters=True, \n",
    "                         proportion=True,\n",
    "                        )  \n",
    "graph = graphviz.Source(dot_data)  \n",
    "graph"
   ]
  },
  {
   "cell_type": "code",
   "execution_count": null,
   "metadata": {
    "collapsed": true
   },
   "outputs": [],
   "source": []
  },
  {
   "cell_type": "code",
   "execution_count": 55,
   "metadata": {},
   "outputs": [
    {
     "data": {
      "text/plain": [
       "<matplotlib.axes._subplots.AxesSubplot at 0x118c13198>"
      ]
     },
     "execution_count": 55,
     "metadata": {},
     "output_type": "execute_result"
    },
    {
     "data": {
      "image/png": "[encoded data removed]",
      "text/plain": [
       "<matplotlib.figure.Figure at 0x118c00cc0>"
      ]
     },
     "metadata": {},
     "output_type": "display_data"
    }
   ],
   "source": [
    "sns.distplot(sd['sports'].dropna())"
   ]
  },
  {
   "cell_type": "code",
   "execution_count": 56,
   "metadata": {},
   "outputs": [
    {
     "data": {
      "text/plain": [
       "<matplotlib.axes._subplots.AxesSubplot at 0x118c05ef0>"
      ]
     },
     "execution_count": 56,
     "metadata": {},
     "output_type": "execute_result"
    },
    {
     "data": {
      "image/png": "[encoded data removed]",
      "text/plain": [
       "<matplotlib.figure.Figure at 0x118c13860>"
      ]
     },
     "metadata": {},
     "output_type": "display_data"
    }
   ],
   "source": [
    "sns.distplot(sd['exercise'].dropna())"
   ]
  },
  {
   "cell_type": "code",
   "execution_count": null,
   "metadata": {
    "collapsed": true
   },
   "outputs": [],
   "source": []
  },
  {
   "cell_type": "code",
   "execution_count": null,
   "metadata": {
    "collapsed": true
   },
   "outputs": [],
   "source": []
  },
  {
   "cell_type": "code",
   "execution_count": null,
   "metadata": {
    "collapsed": true
   },
   "outputs": [],
   "source": []
  },
  {
   "cell_type": "code",
   "execution_count": null,
   "metadata": {
    "collapsed": true
   },
   "outputs": [],
   "source": []
  },
  {
   "cell_type": "code",
   "execution_count": null,
   "metadata": {
    "collapsed": true
   },
   "outputs": [],
   "source": []
  },
  {
   "cell_type": "code",
   "execution_count": null,
   "metadata": {
    "collapsed": true
   },
   "outputs": [],
   "source": []
  }
 ],
 "metadata": {
  "kernelspec": {
   "display_name": "Python 3",
   "language": "python",
   "name": "python3"
  },
  "language_info": {
   "codemirror_mode": {
    "name": "ipython",
    "version": 3
   },
   "file_extension": ".py",
   "mimetype": "text/x-python",
   "name": "python",
   "nbconvert_exporter": "python",
   "pygments_lexer": "ipython3",
   "version": "3.6.3"
  },
  "varInspector": {
   "cols": {
    "lenName": 16,
    "lenType": 16,
    "lenVar": 40
   },
   "kernels_config": {
    "python": {
     "delete_cmd_postfix": "",
     "delete_cmd_prefix": "del ",
     "library": "var_list.py",
     "varRefreshCmd": "print(var_dic_list())"
    },
    "r": {
     "delete_cmd_postfix": ") ",
     "delete_cmd_prefix": "rm(",
     "library": "var_list.r",
     "varRefreshCmd": "cat(var_dic_list()) "
    }
   },
   "types_to_exclude": [
    "module",
    "function",
    "builtin_function_or_method",
    "instance",
    "_Feature"
   ],
   "window_display": false
  }
 },
 "nbformat": 4,
 "nbformat_minor": 2
}
