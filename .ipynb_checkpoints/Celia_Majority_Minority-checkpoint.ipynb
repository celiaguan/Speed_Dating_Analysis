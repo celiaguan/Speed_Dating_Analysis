{
 "cells": [
  {
   "cell_type": "markdown",
   "metadata": {},
   "source": [
    "# Speed Dating "
   ]
  },
  {
   "cell_type": "markdown",
   "metadata": {},
   "source": [
    "### <u>Cleanning data </u>"
   ]
  },
  {
   "cell_type": "code",
   "execution_count": 1,
   "metadata": {
    "collapsed": true
   },
   "outputs": [],
   "source": [
    "import pandas as pd\n",
    "import seaborn as sns\n",
    "import matplotlib.pyplot as plt\n",
    "from matplotlib import pyplot\n",
    "import datetime\n",
    "import numpy as np\n",
    "from IPython.core.interactiveshell import InteractiveShell\n",
    "InteractiveShell.ast_node_interactivity = 'all'\n",
    "%matplotlib inline"
   ]
  },
  {
   "cell_type": "code",
   "execution_count": 2,
   "metadata": {
    "collapsed": true
   },
   "outputs": [],
   "source": [
    "import sklearn as sk\n",
    "import sklearn.tree as tree\n",
    "import sklearn.preprocessing as pp\n",
    "import sklearn.metrics as sm\n",
    "import sklearn.feature_selection as fs\n",
    "from sklearn.pipeline import make_pipeline\n",
    "from sklearn.tree import DecisionTreeClassifier"
   ]
  },
  {
   "cell_type": "code",
   "execution_count": 3,
   "metadata": {
    "collapsed": true
   },
   "outputs": [],
   "source": [
    "data = pd.read_csv('Speed Dating Data.csv',encoding=\"ISO-8859-1\").rename(columns=lambda x: x.strip())\n",
    "sd_org=data.copy()"
   ]
  },
  {
   "cell_type": "markdown",
   "metadata": {},
   "source": [
    "According to the paper, \"Seven waves have been omitted: one because we imposed a maximum number of acceptances, two because we were unable to attract sufficient participants, and four because they involved an experimental intervention where participants were asked to bring their favorite book.\" We identified those 7 waves based data key provided and exluded them."
   ]
  },
  {
   "cell_type": "code",
   "execution_count": 4,
   "metadata": {},
   "outputs": [
    {
     "data": {
      "text/plain": [
       "array([ 1,  2,  3,  4,  5,  7,  8,  9, 10, 11, 13, 14, 15, 17], dtype=int64)"
      ]
     },
     "execution_count": 4,
     "metadata": {},
     "output_type": "execute_result"
    }
   ],
   "source": [
    "# select waves that had been used in the paper \n",
    "wave=[6,12,16,18,19,20,21]\n",
    "sd = sd_org[~sd_org['wave'].isin(wave)]\n",
    "sd.wave.unique()"
   ]
  },
  {
   "cell_type": "code",
   "execution_count": 5,
   "metadata": {},
   "outputs": [
    {
     "name": "stderr",
     "output_type": "stream",
     "text": [
      "C:\\Users\\falih\\Anaconda3\\lib\\site-packages\\ipykernel_launcher.py:2: SettingWithCopyWarning: \n",
      "A value is trying to be set on a copy of a slice from a DataFrame.\n",
      "Try using .loc[row_indexer,col_indexer] = value instead\n",
      "\n",
      "See the caveats in the documentation: http://pandas.pydata.org/pandas-docs/stable/indexing.html#indexing-view-versus-copy\n",
      "  \n",
      "C:\\Users\\falih\\Anaconda3\\lib\\site-packages\\ipykernel_launcher.py:3: SettingWithCopyWarning: \n",
      "A value is trying to be set on a copy of a slice from a DataFrame.\n",
      "Try using .loc[row_indexer,col_indexer] = value instead\n",
      "\n",
      "See the caveats in the documentation: http://pandas.pydata.org/pandas-docs/stable/indexing.html#indexing-view-versus-copy\n",
      "  This is separate from the ipykernel package so we can avoid doing imports until\n"
     ]
    }
   ],
   "source": [
    "# convert income to numeric values\n",
    "sd['income'] = sd['income'].str.replace(',', '')\n",
    "sd['income']= pd.to_numeric(sd['income'])"
   ]
  },
  {
   "cell_type": "code",
   "execution_count": 6,
   "metadata": {
    "collapsed": true
   },
   "outputs": [],
   "source": [
    "# Drop those colunms for 'half way through' phase \n",
    "sd= sd.drop(['attr1_s', 'sinc1_s', 'intel1_s', 'fun1_s', 'amb1_s', 'shar1_s',\n",
    "             'attr3_s', 'sinc3_s', 'intel3_s', 'fun3_s', 'amb3_s'],axis=1)"
   ]
  },
  {
   "cell_type": "code",
   "execution_count": 7,
   "metadata": {
    "collapsed": true
   },
   "outputs": [],
   "source": [
    "# Drop those colunms for 'follow-up 2' phase, becuase these were filled out after 3-4 \n",
    "# weeks after the event. A lot of them were NaN values and we think that participants \n",
    "# might not remember very clearly by that time. \n",
    "\n",
    "sd= sd.drop(['attr1_3', 'sinc1_3', 'intel1_3', 'fun1_3', 'amb1_3', 'shar1_3',\n",
    "             'attr2_3', 'sinc2_3', 'intel2_3', 'fun2_3', 'amb2_3', 'shar2_3',\n",
    "             'attr3_3', 'sinc3_3', 'intel3_3', 'fun3_3', 'amb3_3',\n",
    "             'attr4_3', 'sinc4_3', 'intel4_3', 'fun4_3', 'amb4_3', 'shar4_3',\n",
    "             'attr5_3', 'sinc5_3', 'intel5_3', 'fun5_3', 'amb5_3', \n",
    "             'attr7_3', 'sinc7_3', 'intel7_3', 'fun7_3', 'amb7_3', 'shar7_3',],axis=1)"
   ]
  },
  {
   "cell_type": "code",
   "execution_count": 8,
   "metadata": {
    "collapsed": true
   },
   "outputs": [],
   "source": [
    "# Drop attr7_2, because it doesn't pair up with the question asked in the correspoding sign up phase.\n",
    "sd= sd.drop('attr7_2',axis=1)"
   ]
  },
  {
   "cell_type": "code",
   "execution_count": 9,
   "metadata": {
    "collapsed": true
   },
   "outputs": [],
   "source": [
    "# Drop those columns that won't be used in this analysis \n",
    "sd= sd.drop(['id', 'idg', 'wave','round','condtn', 'position', 'positin1','partner','pid','int_corr',\n",
    "             'age_o','race_o','from','zipcode','career','career_c','satis_2','length',\n",
    "             'pf_o_att','pf_o_sin','pf_o_int','pf_o_fun','pf_o_amb','pf_o_sha','field',\n",
    "             'undergra','mn_sat','tuition','exphappy','expnum','numdat_2','samerace',\n",
    "             'match_es','you_call','them_cal','date_3','numdat_3','num_in_3'],axis=1)"
   ]
  },
  {
   "cell_type": "code",
   "execution_count": 10,
   "metadata": {
    "collapsed": true
   },
   "outputs": [],
   "source": [
    "# group those attributes suing 1-10 scales\n",
    "ten = ['attr3_1', 'sinc3_1',\n",
    "       'fun3_1', 'intel3_1', 'amb3_1', 'attr5_1', 'sinc5_1', 'intel5_1',\n",
    "       'fun5_1', 'amb5_1','attr3_2', 'sinc3_2', 'intel3_2', 'fun3_2', 'amb3_2',\n",
    "       'attr5_2', 'sinc5_2', 'intel5_2', 'fun5_2', 'amb5_2']\n",
    "\n",
    "# group those attributes using 100 point system\n",
    "hrd = ['attr1_1', 'sinc1_1',\n",
    "       'intel1_1', 'fun1_1', 'amb1_1', 'shar1_1', 'attr4_1', 'sinc4_1',\n",
    "       'intel4_1', 'fun4_1', 'amb4_1', 'shar4_1', 'attr2_1', 'sinc2_1',\n",
    "       'intel2_1', 'fun2_1', 'amb2_1', 'shar2_1','sinc7_2', 'intel7_2', 'fun7_2', 'amb7_2',\n",
    "       'shar7_2', 'attr1_2', 'sinc1_2', 'intel1_2', 'fun1_2', 'amb1_2',\n",
    "       'shar1_2', 'attr4_2', 'sinc4_2', 'intel4_2', 'fun4_2', 'amb4_2',\n",
    "       'shar4_2', 'attr2_2', 'sinc2_2', 'intel2_2', 'fun2_2', 'amb2_2',\n",
    "       'shar2_2']"
   ]
  },
  {
   "cell_type": "code",
   "execution_count": 11,
   "metadata": {
    "collapsed": true
   },
   "outputs": [],
   "source": [
    "# Normalize two different scales \n",
    "\n",
    "# Normalize 10 point scale\n",
    "sd[ten]=sd[ten].apply(lambda x: ((x-1)/9))\n",
    "\n",
    "# Normalize 100 point scale\n",
    "sd[hrd]=sd[hrd].apply(lambda x: x/100)"
   ]
  },
  {
   "cell_type": "code",
   "execution_count": 12,
   "metadata": {},
   "outputs": [
    {
     "data": {
      "text/plain": [
       "Index(['iid', 'gender', 'order', 'match', 'dec_o', 'attr_o', 'sinc_o',\n",
       "       'intel_o', 'fun_o', 'amb_o',\n",
       "       ...\n",
       "       'attr3_2', 'sinc3_2', 'intel3_2', 'fun3_2', 'amb3_2', 'attr5_2',\n",
       "       'sinc5_2', 'intel5_2', 'fun5_2', 'amb5_2'],\n",
       "      dtype='object', length=111)"
      ]
     },
     "execution_count": 12,
     "metadata": {},
     "output_type": "execute_result"
    }
   ],
   "source": [
    "# final columns to keep \n",
    "sd.columns"
   ]
  },
  {
   "cell_type": "markdown",
   "metadata": {},
   "source": [
    "### Description of the columns <br><br>\n",
    "\n",
    "\n",
    "| Column | Description |\n",
    "|--------|-------------|\n",
    "|`dec_o`|1 = yes, 0 = no|\n",
    "|`sports`|scale of 1-10|\n",
    "|`tvsports`| scale of 1-10|\n",
    "|`exercise`| scale of 1-10|\n",
    "|`dining`| scale of 1-10|\n",
    "|`museums`| scale of 1-10|\n",
    "|`art`| scale of 1-10|\n",
    "|`hiking`| scale of 1-10|\n",
    "|`gaming`|scale of 1-10|\n",
    "|`clubbing`|scale of 1-10|\n",
    "|`reading`|scale of 1-10|\n",
    "|`tv`|scale of 1-10|\n",
    "|`theater`|scale of 1-10|\n",
    "|`movies`|scale of 1-10|\n",
    "|`music`|scale of 1-10|\n",
    "|`shopping`|scale of 1-10|\n",
    "|`yoga`|scale of 1-10|\n"
   ]
  },
  {
   "cell_type": "markdown",
   "metadata": {},
   "source": [
    "### <u> Descriptive Analysis </u>"
   ]
  },
  {
   "cell_type": "markdown",
   "metadata": {
    "collapsed": true
   },
   "source": [
    "### What do you look for in the opposite sex SIGNUP vs FOLLOWUP"
   ]
  },
  {
   "cell_type": "markdown",
   "metadata": {},
   "source": [
    "Six attributes were asked to be ranked by each participant-  Attractive, Sincere,Intelligent,Fun,Ambitious and Shared Interests.\n",
    "We wanted to know which attributes were given the most points by men and women at signup and followup to see if there are any differences in the gender or the two different times of the experiment.\n"
   ]
  },
  {
   "cell_type": "code",
   "execution_count": 19,
   "metadata": {
    "collapsed": true
   },
   "outputs": [],
   "source": [
    "#picking columns for the attributes\n",
    "signup=sd[['iid','gender','attr1_1','sinc1_1','intel1_1','fun1_1',\\\n",
    "        'amb1_1','shar1_1']]\n",
    "followup=sd[['iid','gender','attr2_1','sinc2_1','intel2_1','fun2_1',\\\n",
    "        'amb2_1','shar2_1']]"
   ]
  },
  {
   "cell_type": "code",
   "execution_count": 20,
   "metadata": {
    "collapsed": true
   },
   "outputs": [],
   "source": [
    "#dropping any null values\n",
    "signup=signup.dropna(axis=0,how='any')\n",
    "\n",
    "followup=followup.dropna(axis=0,how='any')\n"
   ]
  },
  {
   "cell_type": "code",
   "execution_count": 21,
   "metadata": {
    "collapsed": true
   },
   "outputs": [],
   "source": [
    "#each participant filled out only one form at signup and followup , but met multiple people,\n",
    "#hence the form values were duplicated in the dataset\n",
    "\n",
    "#removing duplicate valyes\n",
    "signup=signup.drop_duplicates(subset=None, keep='first', inplace=False)\n",
    "\n",
    "followup=followup.drop_duplicates(subset=None, keep='first', inplace=False)"
   ]
  },
  {
   "cell_type": "code",
   "execution_count": 22,
   "metadata": {},
   "outputs": [
    {
     "data": {
      "text/html": [
       "<div>\n",
       "<style>\n",
       "    .dataframe thead tr:only-child th {\n",
       "        text-align: right;\n",
       "    }\n",
       "\n",
       "    .dataframe thead th {\n",
       "        text-align: left;\n",
       "    }\n",
       "\n",
       "    .dataframe tbody tr th {\n",
       "        vertical-align: top;\n",
       "    }\n",
       "</style>\n",
       "<table border=\"1\" class=\"dataframe\">\n",
       "  <thead>\n",
       "    <tr style=\"text-align: right;\">\n",
       "      <th></th>\n",
       "      <th>gender</th>\n",
       "      <th>Attributes</th>\n",
       "      <th>AttributeValue</th>\n",
       "    </tr>\n",
       "  </thead>\n",
       "  <tbody>\n",
       "    <tr>\n",
       "      <th>0</th>\n",
       "      <td>0</td>\n",
       "      <td>attr1_1</td>\n",
       "      <td>0.15</td>\n",
       "    </tr>\n",
       "    <tr>\n",
       "      <th>1</th>\n",
       "      <td>0</td>\n",
       "      <td>attr1_1</td>\n",
       "      <td>0.45</td>\n",
       "    </tr>\n",
       "    <tr>\n",
       "      <th>2</th>\n",
       "      <td>0</td>\n",
       "      <td>attr1_1</td>\n",
       "      <td>0.35</td>\n",
       "    </tr>\n",
       "    <tr>\n",
       "      <th>3</th>\n",
       "      <td>0</td>\n",
       "      <td>attr1_1</td>\n",
       "      <td>0.20</td>\n",
       "    </tr>\n",
       "    <tr>\n",
       "      <th>4</th>\n",
       "      <td>0</td>\n",
       "      <td>attr1_1</td>\n",
       "      <td>0.20</td>\n",
       "    </tr>\n",
       "  </tbody>\n",
       "</table>\n",
       "</div>"
      ],
      "text/plain": [
       "   gender Attributes  AttributeValue\n",
       "0       0    attr1_1            0.15\n",
       "1       0    attr1_1            0.45\n",
       "2       0    attr1_1            0.35\n",
       "3       0    attr1_1            0.20\n",
       "4       0    attr1_1            0.20"
      ]
     },
     "execution_count": 22,
     "metadata": {},
     "output_type": "execute_result"
    },
    {
     "data": {
      "text/html": [
       "<div>\n",
       "<style>\n",
       "    .dataframe thead tr:only-child th {\n",
       "        text-align: right;\n",
       "    }\n",
       "\n",
       "    .dataframe thead th {\n",
       "        text-align: left;\n",
       "    }\n",
       "\n",
       "    .dataframe tbody tr th {\n",
       "        vertical-align: top;\n",
       "    }\n",
       "</style>\n",
       "<table border=\"1\" class=\"dataframe\">\n",
       "  <thead>\n",
       "    <tr style=\"text-align: right;\">\n",
       "      <th></th>\n",
       "      <th>gender</th>\n",
       "      <th>Attributes</th>\n",
       "      <th>AttributeValue</th>\n",
       "    </tr>\n",
       "  </thead>\n",
       "  <tbody>\n",
       "    <tr>\n",
       "      <th>0</th>\n",
       "      <td>0</td>\n",
       "      <td>attr2_1</td>\n",
       "      <td>0.35</td>\n",
       "    </tr>\n",
       "    <tr>\n",
       "      <th>1</th>\n",
       "      <td>0</td>\n",
       "      <td>attr2_1</td>\n",
       "      <td>0.65</td>\n",
       "    </tr>\n",
       "    <tr>\n",
       "      <th>2</th>\n",
       "      <td>0</td>\n",
       "      <td>attr2_1</td>\n",
       "      <td>0.50</td>\n",
       "    </tr>\n",
       "    <tr>\n",
       "      <th>3</th>\n",
       "      <td>0</td>\n",
       "      <td>attr2_1</td>\n",
       "      <td>0.30</td>\n",
       "    </tr>\n",
       "    <tr>\n",
       "      <th>4</th>\n",
       "      <td>0</td>\n",
       "      <td>attr2_1</td>\n",
       "      <td>0.50</td>\n",
       "    </tr>\n",
       "  </tbody>\n",
       "</table>\n",
       "</div>"
      ],
      "text/plain": [
       "   gender Attributes  AttributeValue\n",
       "0       0    attr2_1            0.35\n",
       "1       0    attr2_1            0.65\n",
       "2       0    attr2_1            0.50\n",
       "3       0    attr2_1            0.30\n",
       "4       0    attr2_1            0.50"
      ]
     },
     "execution_count": 22,
     "metadata": {},
     "output_type": "execute_result"
    }
   ],
   "source": [
    "#melting the dataset to transfrom the 6 columns into 1\n",
    "signupmelt=pd.melt(signup,id_vars=['gender'], value_vars=['attr1_1','sinc1_1','intel1_1','fun1_1',\\\n",
    "        'amb1_1','shar1_1'], var_name ='Attributes', value_name = 'AttributeValue')\n",
    "signupmelt.head()\n",
    "\n",
    "followupmelt=pd.melt(followup,id_vars=['gender'], value_vars=['attr2_1','sinc2_1','intel2_1','fun2_1',\\\n",
    "        'amb2_1','shar2_1'], var_name ='Attributes', value_name = 'AttributeValue')\n",
    "followupmelt.head()\n"
   ]
  },
  {
   "cell_type": "code",
   "execution_count": 66,
   "metadata": {},
   "outputs": [
    {
     "data": {
      "image/png": "iVBORw0KGgoAAAANSUhEUgAAAuEAAAKTCAYAAAC3qtZYAAAABHNCSVQICAgIfAhkiAAAAAlwSFlz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\nAAAAAElFTkSuQmCC\n",
      "text/plain": [
       "<matplotlib.figure.Figure at 0x21fc337ec50>"
      ]
     },
     "metadata": {},
     "output_type": "display_data"
    },
    {
     "data": {
      "image/png": "iVBORw0KGgoAAAANSUhEUgAAAuEAAAKTCAYAAAC3qtZYAAAABHNCSVQICAgIfAhkiAAAAAlwSFlz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\n",
      "text/plain": [
       "<matplotlib.figure.Figure at 0x21fbf776828>"
      ]
     },
     "metadata": {},
     "output_type": "display_data"
    }
   ],
   "source": [
    "#plotting the highest rated attribute for signup and follow up\n",
    "\n",
    "sns.set(font_scale = 2) #increasing the plot size\n",
    "a4_dims = (11.7, 8.27)\n",
    "fig, ax = pyplot.subplots(figsize=a4_dims)\n",
    "\n",
    "\n",
    "plot1 = sns.barplot(x=\"Attributes\", y=\"AttributeValue\", hue=\"gender\", data=signupmelt,palette=\"Set2\")\n",
    "plot1.set(xlabel='Attributes', ylabel='Importance')\n",
    "plot1.set_title(\"Signup\",fontsize=30)\n",
    "plot1.set_xticklabels(['Attractive','Sincere','Intelligent','Fun','Ambitious','Shared Interests'])#renaming the x axis ticks\n",
    "plot1.set_xticklabels(plot1.get_xticklabels(),rotation=60)\n",
    "plt.show();\n",
    "\n",
    "\n",
    "\n",
    "#plotting the followup data\n",
    "a4_dims = (11.7, 8.27) \n",
    "fig, ax = pyplot.subplots(figsize=a4_dims) \n",
    "\n",
    "plot2 = sns.barplot(x=\"Attributes\", y=\"AttributeValue\", hue=\"gender\", data=followupmelt, palette=\"Paired\")\n",
    "plot2.set(xlabel='Attributes', ylabel='Importance')\n",
    "plot2.set_title(\"Followup\", fontsize=30)\n",
    "plot2.set_xticklabels(['Attractive','Sincere','Intelligent','Fun','Ambitious','Shared Interests']) \n",
    "plot2.set_xticklabels(plot2.get_xticklabels(),rotation=60)\n",
    "plt.show();\n",
    "\n"
   ]
  },
  {
   "cell_type": "markdown",
   "metadata": {},
   "source": [
    "### <u>Clustering</u>\n"
   ]
  },
  {
   "cell_type": "markdown",
   "metadata": {},
   "source": [
    "We wanted to cluster the dataset using participants' interests and character attributes from the sign up phase. Our initial approach was to check the correlations among these variables and dropped one variable in pairs with high correlations."
   ]
  },
  {
   "cell_type": "code",
<<<<<<< HEAD
   "execution_count": 132,
=======
   "execution_count": null,
   "metadata": {
    "collapsed": true
   },
   "outputs": [],
   "source": []
  },
  {
   "cell_type": "code",
   "execution_count": null,
>>>>>>> f2cfab2cf088b7ff1cff12b6d8ede830cceda9af
   "metadata": {
    "collapsed": true
   },
   "outputs": [],
   "source": [
    "# features we want to include in our analysis for sign up phase\n",
    "features =['gender','match','order','age','field_cd','race','imprace','imprelig','date','go_out',\n",
    "           'sports','tvsports','exercise','dining','museums','art','hiking','gaming',\n",
    "           'clubbing','reading','tv','theater','movies','music','shopping','yoga',\n",
    "           'attr1_1', 'sinc1_1', 'intel1_1', 'fun1_1', 'amb1_1', 'shar1_1',\n",
    "           'attr2_1', 'sinc2_1','intel2_1', 'fun2_1', 'amb2_1', 'shar2_1', 'attr3_1',\n",
    "           'sinc3_1','fun3_1', 'intel3_1', 'amb3_1']"
   ]
  },
  {
   "cell_type": "code",
<<<<<<< HEAD
   "execution_count": 133,
   "metadata": {},
   "outputs": [
    {
     "data": {
      "text/html": [
       "<div>\n",
       "<style>\n",
       "    .dataframe thead tr:only-child th {\n",
       "        text-align: right;\n",
       "    }\n",
       "\n",
       "    .dataframe thead th {\n",
       "        text-align: left;\n",
       "    }\n",
       "\n",
       "    .dataframe tbody tr th {\n",
       "        vertical-align: top;\n",
       "    }\n",
       "</style>\n",
       "<table border=\"1\" class=\"dataframe\">\n",
       "  <thead>\n",
       "    <tr style=\"text-align: right;\">\n",
       "      <th></th>\n",
       "      <th>gender</th>\n",
       "      <th>match</th>\n",
       "      <th>order</th>\n",
       "      <th>age</th>\n",
       "      <th>field_cd</th>\n",
       "      <th>race</th>\n",
       "      <th>imprace</th>\n",
       "      <th>imprelig</th>\n",
       "      <th>date</th>\n",
       "      <th>go_out</th>\n",
       "      <th>...</th>\n",
       "      <th>sinc2_1</th>\n",
       "      <th>intel2_1</th>\n",
       "      <th>fun2_1</th>\n",
       "      <th>amb2_1</th>\n",
       "      <th>shar2_1</th>\n",
       "      <th>attr3_1</th>\n",
       "      <th>sinc3_1</th>\n",
       "      <th>fun3_1</th>\n",
       "      <th>intel3_1</th>\n",
       "      <th>amb3_1</th>\n",
       "    </tr>\n",
       "  </thead>\n",
       "  <tbody>\n",
       "    <tr>\n",
       "      <th>gender</th>\n",
       "      <td>1.000000</td>\n",
       "      <td>-0.000724</td>\n",
       "      <td>0.011169</td>\n",
       "      <td>0.050314</td>\n",
       "      <td>-0.044815</td>\n",
       "      <td>-0.015109</td>\n",
       "      <td>-0.120605</td>\n",
       "      <td>-0.221355</td>\n",
       "      <td>-0.115661</td>\n",
       "      <td>0.029871</td>\n",
       "      <td>...</td>\n",
       "      <td>0.259003</td>\n",
       "      <td>0.331696</td>\n",
       "      <td>-0.094029</td>\n",
       "      <td>0.330487</td>\n",
       "      <td>-0.140487</td>\n",
       "      <td>-0.143832</td>\n",
       "      <td>-0.124351</td>\n",
       "      <td>-0.141560</td>\n",
       "      <td>0.074327</td>\n",
       "      <td>-0.044746</td>\n",
       "    </tr>\n",
       "    <tr>\n",
       "      <th>match</th>\n",
       "      <td>-0.000724</td>\n",
       "      <td>1.000000</td>\n",
       "      <td>-0.049440</td>\n",
       "      <td>-0.041184</td>\n",
       "      <td>-0.025949</td>\n",
       "      <td>-0.006540</td>\n",
       "      <td>-0.065969</td>\n",
       "      <td>-0.039233</td>\n",
       "      <td>-0.062664</td>\n",
       "      <td>-0.074592</td>\n",
       "      <td>...</td>\n",
       "      <td>-0.014450</td>\n",
       "      <td>0.018337</td>\n",
       "      <td>-0.015835</td>\n",
       "      <td>-0.011426</td>\n",
       "      <td>-0.027185</td>\n",
       "      <td>0.055283</td>\n",
       "      <td>0.010663</td>\n",
       "      <td>0.075463</td>\n",
       "      <td>0.019851</td>\n",
       "      <td>0.020332</td>\n",
       "    </tr>\n",
       "    <tr>\n",
       "      <th>order</th>\n",
       "      <td>0.011169</td>\n",
       "      <td>-0.049440</td>\n",
       "      <td>1.000000</td>\n",
       "      <td>0.047034</td>\n",
       "      <td>0.044093</td>\n",
       "      <td>-0.043188</td>\n",
       "      <td>0.023882</td>\n",
       "      <td>0.047862</td>\n",
       "      <td>0.016869</td>\n",
       "      <td>0.022947</td>\n",
       "      <td>...</td>\n",
       "      <td>0.025100</td>\n",
       "      <td>0.018197</td>\n",
       "      <td>-0.043251</td>\n",
       "      <td>0.029522</td>\n",
       "      <td>0.018438</td>\n",
       "      <td>-0.001733</td>\n",
       "      <td>0.015296</td>\n",
       "      <td>-0.010031</td>\n",
       "      <td>0.042208</td>\n",
       "      <td>0.000035</td>\n",
       "    </tr>\n",
       "    <tr>\n",
       "      <th>age</th>\n",
       "      <td>0.050314</td>\n",
       "      <td>-0.041184</td>\n",
       "      <td>0.047034</td>\n",
       "      <td>1.000000</td>\n",
       "      <td>0.158803</td>\n",
       "      <td>-0.081850</td>\n",
       "      <td>-0.123832</td>\n",
       "      <td>-0.070267</td>\n",
       "      <td>0.038015</td>\n",
       "      <td>0.143562</td>\n",
       "      <td>...</td>\n",
       "      <td>0.008460</td>\n",
       "      <td>-0.058504</td>\n",
       "      <td>-0.036226</td>\n",
       "      <td>-0.034174</td>\n",
       "      <td>-0.045239</td>\n",
       "      <td>0.059097</td>\n",
       "      <td>-0.036548</td>\n",
       "      <td>-0.083703</td>\n",
       "      <td>-0.032883</td>\n",
       "      <td>-0.066498</td>\n",
       "    </tr>\n",
       "    <tr>\n",
       "      <th>field_cd</th>\n",
       "      <td>-0.044815</td>\n",
       "      <td>-0.025949</td>\n",
       "      <td>0.044093</td>\n",
       "      <td>0.158803</td>\n",
       "      <td>1.000000</td>\n",
       "      <td>0.027053</td>\n",
       "      <td>0.021084</td>\n",
       "      <td>-0.041499</td>\n",
       "      <td>-0.053468</td>\n",
       "      <td>-0.027092</td>\n",
       "      <td>...</td>\n",
       "      <td>0.093752</td>\n",
       "      <td>0.124108</td>\n",
       "      <td>-0.079170</td>\n",
       "      <td>0.107205</td>\n",
       "      <td>0.105485</td>\n",
       "      <td>0.076094</td>\n",
       "      <td>0.033112</td>\n",
       "      <td>0.050488</td>\n",
       "      <td>-0.054842</td>\n",
       "      <td>0.070902</td>\n",
       "    </tr>\n",
       "  </tbody>\n",
       "</table>\n",
       "<p>5 rows × 43 columns</p>\n",
       "</div>"
      ],
      "text/plain": [
       "            gender     match     order       age  field_cd      race  \\\n",
       "gender    1.000000 -0.000724  0.011169  0.050314 -0.044815 -0.015109   \n",
       "match    -0.000724  1.000000 -0.049440 -0.041184 -0.025949 -0.006540   \n",
       "order     0.011169 -0.049440  1.000000  0.047034  0.044093 -0.043188   \n",
       "age       0.050314 -0.041184  0.047034  1.000000  0.158803 -0.081850   \n",
       "field_cd -0.044815 -0.025949  0.044093  0.158803  1.000000  0.027053   \n",
       "\n",
       "           imprace  imprelig      date    go_out    ...      sinc2_1  \\\n",
       "gender   -0.120605 -0.221355 -0.115661  0.029871    ...     0.259003   \n",
       "match    -0.065969 -0.039233 -0.062664 -0.074592    ...    -0.014450   \n",
       "order     0.023882  0.047862  0.016869  0.022947    ...     0.025100   \n",
       "age      -0.123832 -0.070267  0.038015  0.143562    ...     0.008460   \n",
       "field_cd  0.021084 -0.041499 -0.053468 -0.027092    ...     0.093752   \n",
       "\n",
       "          intel2_1    fun2_1    amb2_1   shar2_1   attr3_1   sinc3_1  \\\n",
       "gender    0.331696 -0.094029  0.330487 -0.140487 -0.143832 -0.124351   \n",
       "match     0.018337 -0.015835 -0.011426 -0.027185  0.055283  0.010663   \n",
       "order     0.018197 -0.043251  0.029522  0.018438 -0.001733  0.015296   \n",
       "age      -0.058504 -0.036226 -0.034174 -0.045239  0.059097 -0.036548   \n",
       "field_cd  0.124108 -0.079170  0.107205  0.105485  0.076094  0.033112   \n",
       "\n",
       "            fun3_1  intel3_1    amb3_1  \n",
       "gender   -0.141560  0.074327 -0.044746  \n",
       "match     0.075463  0.019851  0.020332  \n",
       "order    -0.010031  0.042208  0.000035  \n",
       "age      -0.083703 -0.032883 -0.066498  \n",
       "field_cd  0.050488 -0.054842  0.070902  \n",
       "\n",
       "[5 rows x 43 columns]"
      ]
     },
     "execution_count": 133,
     "metadata": {},
     "output_type": "execute_result"
    }
   ],
=======
   "execution_count": null,
   "metadata": {},
   "outputs": [],
>>>>>>> f2cfab2cf088b7ff1cff12b6d8ede830cceda9af
   "source": [
    "# correlations between features\n",
    "sd[features].corr().head()"
   ]
  },
  {
   "cell_type": "code",
<<<<<<< HEAD
   "execution_count": 134,
   "metadata": {},
   "outputs": [
    {
     "data": {
      "text/plain": [
       "<matplotlib.axes._subplots.AxesSubplot at 0x1186dcbe0>"
      ]
     },
     "execution_count": 134,
     "metadata": {},
     "output_type": "execute_result"
    },
    {
     "data": {
      "image/png": "iVBORw0KGgoAAAANSUhEUgAABFAAAASICAYAAAA06jt+AAAABHNCSVQICAgIfAhkiAAAAAlwSFlz\nAAALEgAACxIB0t1+/AAAADl0RVh0U29mdHdhcmUAbWF0cGxvdGxpYiB2ZXJzaW9uIDIuMS4wLCBo\ndHRwOi8vbWF0cGxvdGxpYi5vcmcvpW3flQAAIABJREFUeJzs3Xu4XGV58P/vLcYDgtqKb0I4ZBeK\nB4qA5eCLoIAi5VAEORhCUhrkIiDlIG2kUJQiiiCN8iKIZKMS6OwcSECEgoClnAQPSZGDIGAb9s45\nbcQiIiqy798fs/L+tvvdYSJ5Zs/sPd/Pdc21Z9Y8c6/7WWvNWmvf11rPRGYiSZIkSZKkdXtVqxOQ\nJEmSJElqdxZQJEmSJEmSGrCAIkmSJEmS1IAFFEmSJEmSpAYsoEiSJEmSJDVgAUWSJEmSJKkBCyiS\nJEmSJEkNWECRJEmSJElqwAKKJEmSJElSA69udQItlq1OQJIkSZLUNNHqBJrlxTWLR+3/s2M226Yt\n11unF1B4cc3iYrHGbLYNV205pVg8gBOW1bh6i3Ixj1teA2De5pOLxZy4sgeAS7Yul+cZS2pcsVXZ\nZXny0hrndB1TLN4FvbMBOK7riGIxr+69HoBPFczzc72zqY0vuyynrKjxSNchxeLt2HszAHeMPbpY\nzP1XzwXgsxPKbeuf7uvh8AkfLhYP4Ia+m5gy4fCiMWt9N/CxriOLxftG7wIALp5Qbjs6s6++L1q4\nxUeKxdxt+TeLrm+or/PzCsY8r6++v/zrgvuNa6r9xv5bHVAs5h1Lb+PjXR8tFg/gq73XcXbBfduF\n1T54p3HvLRbz4VUPABT//qzed+9i8QDG3nUP53aV2y7P761vl6WPPUDR48+UFTV2H192Wf5wxT1N\n+Y5/ZOtyx8hvLqkfI596Z7nv+Nt+chsAK967b7GY4x+4i/ML74PP7espniPAmV2TisW8uHcOANML\nxpzRO6fo/hLq+8zSOQLcOK5cnoetqu83Sv9PIZXkLTySJEmSJEkNWECRJEmSJElqwAKKJEmSJElS\nAx0/BookSZIkSSNO/0utzqDjeAWKJEmSJElSAxZQJEmSJEmSGrCAIkmSJEmS1MCIGgMlImYB/5KZ\nC1qdiyRJkiRJLZP9rc6g44zqK1AiYkQViCRJkiRJUntqWoEhIj4NTAaWAmuAfwe+CXwFeCvwK+CE\nzHyiurLkF8CuwDjgzMxcEBEBXAZ8AHgaiAHxdwG+BGxSxZ+amSsj4m7gAWBP4Cbgi83qoyRJkiRJ\n6gxNKaBExK7AEcC7q3k8SL2A0g2clJk/jYj3AFdQL44AbA7sBbyDeuFjAfAR4O3Au4CxwOPANyJi\nDPXCyqGZ+d8RMRG4APhYFevNmbl3M/omSZIkSZI6T7OuQNkL+FZmvgAQETcDrwPeC8yvX1gCwGsH\nfObGzOwHHo+IsdW09wNzMvMlYEVE/Fs1/e3ADsB3qlgbASsHxJq3rsQiYhowDWDmzJkcd/h+r7iT\nkiRJkiS1RL9joAy3ZhVQYohprwL+JzN3XsdnfrOOz+c64j+WmXusI9bz60osM7upXwkDkC+uWbyu\nppIkSZIkSUDzBpH9LnBIRLwuIjYBDqY+5snTEXEUQNTt1CDOvcDREbFRRGwO7FtNfxJ4a0TsUcUa\nExF/1pSeSJIkSZKkjteUAkpmLqQ+jsnDwA3AIuBZ6oPKHh8RDwOPAYc2CPVN4KfAo8BXgXuq+L8F\njgS+UMV6iPrtQZIkSZIkScU182d+Z2TmeRGxMfUrSb6YmU8DBwxumJlTB73epPqbwClDBc/Mh6iP\nkTJ4+j4bnLkkSZIkSW2sPoSohlMzCyjdEbE99cFjr8nMB5s4L0mSJEmSpKZpWgElM49pVmxJkiRJ\nkqTh1KxBZCVJkiRJkkYNCyiSJEmSJEkNNHMMFEmSJEmS1Az9DiI73LwCRZIkSZIkqQELKJIkSZIk\nSQ1EZrY6h1bq6M5LkiRJ0igXrU6gWX677NFR+//sa7Z8V1uut44fA+WqLacUi3XCshovrllcLB7A\nmM224Ytbl8vx75bUALikYMwzqpiXb1Uu5ilLa8wsuG4ATlxW46IJ5WKe1Vfv96UFl+Xp1bK8uGCe\nZ/bVuLBgPICz+2pcu0W5mMcur/f76wXX+fHLmhNzVsF+A0xdXiuaI9TzbMb6Kdn3qU1a53PGTy4W\nD2DSip6m9Lv0/hLKL8srC+YIcNLSGj3jy8WcvKLe75J5nlQty9J5NmO/cVnBfp/apG0IoFZwWU5Z\n0Zxzg2acEzVjv9GMbb10nlcU3m+cvLTsvmhtv5uxD56/ebnjz1Ere5pybnDjuGOKxTts1WygOdt6\nM2KOWukYKMPNW3gkSZIkSZIasIAiSZIkSZLUgAUUSZIkSZKkBjp+DBRJkiRJkkac/pdanUHH8QoU\nSZIkSZKkBiygSJIkSZIkNWABRZIkSZIkqQHHQJEkSZIkaaTJ/lZn0HHa/gqUiNg5Ig5aj3a/HI58\nJEmSJElS52n7AgqwM9CwgCJJkiRJktQsw1JAiYiuiHgiIr4WET+OiJ6I2C8i7o+In0bE7tXjgYj4\nUfX37RHxGuB8YGJEPBQREyNik4i4OiIejYhHIuKIAfO5ICIejojvR8TY4eibJEmSJEka/YbzCpQ/\nBS4FdgTeARwD7AVMB/4BeAJ4f2a+GzgX+Hxm/rZ6Pi8zd87MecCngWcz812ZuSPwb1X8NwDfz8yd\ngHuBE4ZKIiKmRcSiiFjU3d3drL5KkiRJkqRRZDgHkX06Mx8FiIjHgDszMyPiUaALeBNwTURsByQw\nZh1x9gOOXvsiM39ePf0t8C/V838HPjTUhzOzG1hbOcmrzr/3FXdIkiRJkqSW6HcQ2eE2nFeg/GbA\n8/4Br/upF3I+C9yVmTsAhwCvW0ecoF5gGezFzFw7/SX8hSFJkiRJklRIOw0i+yZgefV86oDpzwGb\nDnh9B3DK2hcR8UdNz0ySJEmSJHW0diqgXAxcGBH3AxsNmH4XsP3aQWSBzwF/VA1G+zCwbwtylSRJ\nkiRJHWRYbnPJzF5ghwGvp67jvbcN+Ninq/efAXYbFPKvh5jHJgOeLwAWbFjWkiRJkiS1p0zHQBlu\n7XQFiiRJkiRJUluygCJJkiRJktSABRRJkiRJkqQG/KlfSZIkSZJGmn7HQBluXoEiSZIkSZLUgAUU\nSZIkSZKkBiIzW51DK3V05yVJkiRplItWJ9Asv/npA6P2/9nXbvfetlxvHT8GytVbTCkW67jlNb64\ndbl4AH+3pMaLaxYXizdms20AmDN+crGYk1b0NCXmJYWX5RlLalxbcH0fu7wGNGdZlt4uZxWMBzC1\ncMyp1bK8astyMU9YVo95+VblYp6ytMaVBeMBnLS0xtcL9hvg+GW14tsQlN8ugaJ9P35ZjcsKr59T\nlzZnW7+iYJ4nL63HnFlwWZ64rDnbejP6PRJiNmO7rI0vF3PKinq/R8K2XnI7h/q23ox+lz72AE05\nhynd95Fy7jYSzmFKHnOhftwtuV8/qdouewruiyavaN754KiVjoEy3LyFR5IkSZIkqQELKJIkSZIk\nSQ1YQJEkSZIkSWrAAookSZIkSVIDHT+IrCRJkiRJI07/S63OoON4BYokSZIkSVIDFlAkSZIkSZIa\nsIAiSZIkSZLUwIgaAyUipgK7ZuYprc5FkiRJkqSWyf5WZ9Bx2vYKlKjboPwiYkQViCRJkiRJUntq\naQElIv42In5cPT4REV0R8ZOIuAJ4ENgqIo6LiKci4h5gzwGffWtEXB8RC6vHntX08yKiOyLuAK5t\nTc8kSZIkSdJo0rIrNCJiF+A44D1AAD8A7gHeDhyXmSdHxObAZ4BdgGeBu4AfVSEuBS7JzO9GxNbA\n7cA7q/d2AfbKzBeGmO80YBrAzJkzGdOk/kmSJEmSpNGjlbe47AV8MzOfB4iIG4D3AX2Z+f2qzXuA\nuzPzv6s284C3Ve/tB2wfEWvjvTEiNq2e3zRU8QQgM7uB7rUvr/7MvQW7JEmSJEnSMOjv3DFQIuIA\n6hdVbAR8LTMvGvT+BOAbwFuBZ4ApmblsQ+fbygJKrGP684Ne5zravQrYY3ChpCqoDI4hSZIkSZJG\nuIjYCPgK8CFgGbAwIm7KzMcHNJsBXJuZ10TEB4ALgb/a0Hm3cgyUe4HDImLjiHgD8BHgvkFtfgDs\nExFviYgxwFED3rsD+L+/xhMROzc7YUmSJEmS1FK7A/+RmYsz87fAXODQQW22B+6snt81xPuvSMsK\nKJn5IDAL+CH1QsnXgJ8ParMSOA/4HvCv1AeWXes0YNeIeCQiHgdOan7WkiRJkiSpmSJiWkQsGvCY\nNuDtLYClA14vq6YN9DBwRPX8I8CmEfGWDc2rpT/zm5lfAr40aPIOg9pcDVw9xGfXABOHmH5ewRQl\nSZIkSWo/OXrHQBk0dulgQw0HMnjoj+nA5RExlfrdL8uB321oXi0toEiSJEmSJP0BlgFbDXi9JbBi\nYIPMXAEcDhARmwBHZOazGzrjVo6BIkmSJEmS9IdYCGwXEX8SEa8BjgZuGtggIjaLiLX1jrOp/yLP\nBrOAIkmSJEmSRoTM/B31H5S5HfgJcF1mPhYR50fEh6tm+wBPRsRTwFjgghLz9hYeSZIkSZI0YmTm\nrcCtg6adO+D5AmBB6flaQJEkSZIkaaTpH72DyLYrb+GRJEmSJElqIDIH/9pPR+nozkuSJEnSKDfU\nT96OCr955PZR+//sa3f8i7Zcb16BIkmSJEmS1EDHj4Eyb/PJxWJNXNnDJVtPKRYP4IwlNeaML5fj\npBU9ALy4ZnGxmGM22waA+8cdWSzmnqsWcMGEcv0GOKevh7O7jikW78Le2QBcNKHcOj+rrwZAz/hy\nMSevqHH32KOKxQPYZ/V8/r5rUrF4X+idA8A5BdfPBdX6ubjg+jmzr8bMLct+x09c1pz1829jP1os\n3gdWXwfQlH3RKV0Ti8W8vHceFxZc3wBn99W4dezRxeIdtHouAH/bVS7ml3rrMUsfz0ruh6C+L7ps\nq3IxT11a3182Y1nWCvZ9yooaV29Rdlket7zGLWPL7YMPXl3fB88qmOfU5fX1U/pY0YzveOn1DbCg\n4PfxyJX1/eXXCx5/jl9Wz3NGwfPW6UtqXFr4PPj0wjFPX1Lvd8nz9TOqmPMLrvOjVvY0ZVmWPLc+\np6++XTZjv96Mc+vRKvOlVqfQcbwCRZIkSZIkqQELKJIkSZIkSQ1YQJEkSZIkSWqg48dAkSRJkiRp\nxMn+VmfQcbwCRZIkSZIkqQELKJIkSZIkSQ1YQJEkSZIkSWrAMVAkSZIkSRpp+h0DZbh5BYokSZIk\nSVIDbV1AiYgbI+LfI+KxiJhWTTs+Ip6KiLsj4qqIuLya/taIuD4iFlaPPVubvSRJkiRJGi3a/Rae\nj2XmMxHxemBhRNwCfBr4c+A54N+Ah6u2lwKXZOZ3I2Jr4HbgnYMDVoWYaQAzZ87kTcPQCUmSJEmS\nNLK1ewHltIj4SPV8K+CvgHsy8xmAiJgPvK16fz9g+4hY+9k3RsSmmfncwICZ2Q10r3057x/vaWb+\nkiRJkiRpFGjbAkpE7EO9KLJHZv4qIu4GnmSIq0oqr6ravjA8GUqSJEmS1CLpILLDrZ3HQHkT8POq\nePIO4H8DGwN7R8QfRcSrgSMGtL8DOGXti4jYeVizlSRJkiRJo1Y7F1BuA14dEY8AnwW+DywHPg/8\nAPhX4HHg2ar9acCuEfFIRDwOnDT8KUuSJEmSpNGobW/hyczfAAcOnh4RizKzu7oC5ZvUrzwhM9cA\nE4c3S0mSJEmS1AnatoDyMs6LiP2A11EvntzY4nwkSZIkSRpe/S+1OoOOM+IKKJk5vdU5SJIkSZKk\nztLOY6BIkiRJkiS1BQsokiRJkiRJDYy4W3gkSZIkSep42d/qDDqOV6BIkiRJkiQ1EJnZ6hxaqaM7\nL0mSJEmjXLQ6gWb59Q/nj9r/Z1+3+1Ftud68AkWSJEmSJKmBjh8D5ZKtpxSLdcaSGpdvVS4ewClL\na8wZP7lYvEkregC4f9yRxWLuuWoBAC+uWVws5pjNtuHaLcouy2OX15hVMObU5TWg/DYEMKNgzOlN\n2i5nblku5onL6v0umecpS+sxvzXumGIxD101m5vHTSoWD+CQVXO4e+xRRWPus3p+0Zj7rJ4PwA0F\nl+Xhq2YDcFXB7eiEZTWuLrzfOG55jSsLbpcnLW3efmPe5uWOFRNX9hT97kD9+9OM7bIZ+/WS3/ND\nVs3hggnl1g3AOX1l18+h1ffxvIJ5ntdXP9+4rOD359SlNe4dV3Z/+f5V85uyb5veVW4bmtE7B4Bb\nxpaLefDqeszvjJ1YLOaHVs9ryrZ+29iji8U7YPVcAG4tGPOgKuaNBbejw1bNpja+7PFsyopa8eME\nlD9nheacb4xa/Y6BMty8AkWSJEmSJKkBCyiSJEmSJEkNWECRJEmSJElqwAKKJEmSJElSAx0/iKwk\nSZIkSSNOOojscPMKFEmSJEmSpAYsoEiSJEmSJDVgAUWSJEmSJKmBYgWUiDgtIn4SET+PiLMatJ0a\nEZev471fbmAeXRHx4w2JIUmSJElSW+vvH72PNlVyENmTgQMz8+mCMSVJkiRJklquyBUoEXElsA1w\nU0Scsfbqkoh4a0RcHxELq8eeQ3z2TyLie9X7n12PeZ0ZEY9GxMMRcVE1bZfq9feAvynRJ0mSJEmS\npLWKFFAy8yRgBbAv8PMBb10KXJKZuwFHAF8b4uOXAl+t2qx6uflExIHAYcB7MnMn4OLqrauB0zJz\nj0a5RsS0iFgUEYu6u7sbNZckSZIkSSp6C89Q9gO2j4i1r98YEZsOarMn9eIKwD8DX2gQ7+rM/BVA\nZj4TEW8C3pyZ9wyIceC6AmRmN7C2cpKXfO7e9e2LJEmSJEntoY3HChmtml1AeRWwR2a+MHDigILK\nWrme8WKItkNNkyRJkiRJKqbZP2N8B3DK2hcRsfMQbe4Hjq6eT16PeB+LiI2reH+cmf8DPBsRe61n\nDEmSJEmSpD9IswsopwG7RsQjEfE4cNIQbU4H/iYiFgJverlgmXkbcBOwKCIeAqZXbx0HfKUaRPaF\ndX1ekiRJkiTplSh2C09mdlVPZ1UPMnMNMHGItgPbPA0MHPz1ogbzuWhwm8z8d2CnAZPOW+/EJUmS\nJEkaYTJfanUKHafZV6BIkiRJkiSNeM0eRPYViYh3Uf81nYF+k5nvaUU+kiRJkiSps7VlASUzHwWG\nGnBWkiRJkiRp2HkLjyRJkiRJUgNteQWKJEmSJEl6Gf39rc6g43gFiiRJkiRJUgORma3OoZU6uvOS\nJEmSNMpFqxNolhfu/sao/X/29ft8rC3XW8ffwnPFVlOKxTp5aY2ZW5aLB3DishqXbF0u5hlLagBc\nMGFysZjn9PUAcO0W5fI8dnmNF9csLhYPYMxm2zC9a1KxeDN65wDltyGASwuu89OX1PjWuGOKxQM4\ndNXspmyXc8aX2y4nrahvl18smOffLalxy9hy2xDAwavnsGDzcv0GOHJlD7Xx5fo9ZUXz1s+dYycW\ni/nB1fOKbpdQ3zZ7Ci7LydWyvG3s0cViHrB6LgDzCm5HE1f2FN2nQ32/PqtgzKnL68uy5Hfy4NX1\n/Xrp41nJYy7Uj7v3jTuyWLz3rVoAlN9fAlxW8Bh56tJa0WMu1I+7zfg+Xl4wz1Oqc4Obx5Xb1g9Z\nVd/WSx8rmrHfOLer3Pfn/N76sacZx7MzC55jXtw7hxsLn7sdtmp28fNLoCnrZ0bBPKdXeUqldHwB\nRZIkSZKkEScdA2W4OQaKJEmSJElSAxZQJEmSJEmSGrCAIkmSJEmS1IBjoEiSJEmSNNL0OwbKcPMK\nFEmSJEmSpAYsoEiSJEmSJDVgAUWSJEmSJKkBx0CRJEmSJGmkScdAGW5tewVK1LVtfpIkSZIkqXO0\nVYEiIroi4icRcQXwIPD1iFgUEY9FxGcGtNstIh6IiIcj4ocRsWlEbBQR/xQRCyPikYg4sXU9kSRJ\nkiRJo0k73sLzduC4zDw5Iv44M5+JiI2AOyNiR+AJYB4wMTMXRsQbgReA44FnM3O3iHgtcH9E3JGZ\nTw8MHhHTgGkAM2fOHM5+SZIkSZKkEaodCyh9mfn96vlHq4LHq4HNge2BBFZm5kKAzPwFQETsD+wY\nEUdWn30TsB3wewWUzOwGute+vOKz9zazL5IkSZIkaRRoxwLK8wAR8SfAdGC3zPx5RMwCXgcE9SLK\nYAGcmpm3D1eikiRJkiS1RL+DyA63thoDZZA3Ui+mPBsRY4EDq+lPAOMjYjeAavyTVwO3Ax+PiDHV\n9LdFxBtakLckSZIkSRpl2vEKFAAy8+GI+BHwGLAYuL+a/tuImAhcFhGvpz7+yX7A14Au4MGICOC/\ngcNakbskSZIkSRpd2qqAkpm9wA4DXk9dR7uFwP8e4q1/qB6SJEmSJEnFtFUBRZIkSZIkrYd0DJTh\n1s5joEiSJEmSJLUFCyiSJEmSJEkNWECRJEmSJElqwDFQJEmSJEkaafodA2W4eQWKJEmSJElSA5GZ\nrc6hlTq685IkSZI0ykWrE2iWF7795VH7/+zrDzytLddbx9/Cc07XMcViXdA7m4smTCkWD+CsvhrX\nblEu5rHLawCcXbDfF/bOBmBWwTynLq8xvWtSsXgAM3rn8OKaxcXijdlsGwB+dsjexWK+5eZ7ALhs\nq3LL8tSltaLx1sacM35ysXiTVvQAcOvYo4vFPGj1XADuHntUsZj7rJ7PLWPLbpcHr57Dgs3LLUuA\nI1f20DO+3DqfvKK+37i84HZ0ytJ6zKu2LBfzhGU1LphQdlme09fD+QVjnttX39Z7d/5QsZhdD30H\ngDsKfn/2Xz2XG8aVO04AHL5qdlO2oQe3OrRYzD9f+i0Azix4/Lm4d05T9sElzzfO6qsvy6sLHseP\nW96cmLcV3M4BDlg9tynb5byC+/WJK+v7jWbsi64s2PeTlpY9Z4X6eWsz1s+lW5eLefqSeszSy3J+\n4XODo1b2cEXBHE+ulmXJY8Xhq+r/U5T8nh9QnQ9KpXR8AUWSJEmSpBHHMVCGnWOgSJIkSZIkNWAB\nRZIkSZIkqQELKJIkSZIkSQ1YQJEkSZIkSWrAQWQlSZIkSRpp0kFkh5tXoEiSJEmSJDVgAUWSJEmS\nJKmBDS6gRMQDJRKRJEmSJElqVxs8BkpmvrdEIgNFxKsz83el40qSJEmSNCr0OwbKcCtxBcovq7/7\nRMQ9EXFdRDwVERdFxOSI+GFEPBoR21btZkXElRFxX9XuL6vpUyNifkTcDNwREZtExJ0R8WD1+UMH\nzPPYiHgkIh6OiH+upr01Iq6PiIXVY88N7ZskSZIkSRKU/xWenYB3As8Ai4GvZebuEXE6cCrwiapd\nF7A3sC1wV0T8aTV9D2DHzHwmIl4NfCQzfxERmwHfj4ibgO2Bc4A9M3NNRPxx9dlLgUsy87sRsTVw\ne5XL74mIacA0gJkzZxbuviRJkiRJGo1KF1AWZuZKgIj4T+COavqjwL4D2l2Xmf3ATyNiMfCOavp3\nMvOZ6nkAn4+I9wP9wBbAWOADwILMXAMwoP1+wPYRsXYeb4yITTPzuYEJZmY30L325Tmfv3vDeixJ\nkiRJkka90gWU3wx43j/gdf+geeWgz619/fyAaZOBtwK7ZOaLEdELvI56YWXw56F+O9IemfnCK0td\nkiRJkqQRIh0DZbi16meMj4qIV1XjomwDPDlEmzcB/1UVT/YFJlTT7wQ+GhFvARhwC88dwClrPxwR\nOzcte0mSJEmS1FFaVUB5ErgH+DZwUmb+eog2PcCuEbGI+tUoTwBk5mPABcA9EfEw8KWq/WlV+0ci\n4nHgpCb3QZIkSZIkdYgSP2O8SfX3buDuAdP3GfD8994D7s/MMwbFmQXMGvB6DfVBZYea5zXANYOm\nrQEm/uE9kCRJkiRJenmlx0CRJEmSJEnN1u8YKMNt2AsomTl1uOcpSZIkSZK0IVo1BookSZIkSdKI\nYQFFkiRJkiSpAQsokiRJkiRJDTiIrCRJkiRJI006iOxwi8xsdQ6t1NGdlyRJkqRRLlqdQLO8cMPn\nR+3/s68//B/acr15C48kSZIkSVIDHX8Lz3FdRxSLdXXv9Vy69ZRi8QBOX1JjzvjJxeJNWtEDwEUT\nyuV5Vl8NgEsK9v2MJTWu2Krssjx5aY2fHbJ3sXhvufkeAF5cs7hYzDGbbQPAVVuW6/sJy2pF1w3U\n10/p9Q1w47hjisU8bNXspsS8douyy/LY5TWuLhzzuOXNWT/zNy+3LzpqZX1fdMGEcjHP6evh/ILx\nAM7t6yn+fQRYuMVHisXcbfk3AfhWwW390FWzubjgcQLgzL5a0ZhnVseeeQW3y4nVdjmr4Hdy6vIa\np3VNLBYP4Mu984rnCHDzuEnFYh6yag4AMwrui6YvqXHn2LLL8oOr5/FvYz9aLN4HVl8HwC1jyy3L\ng1fXl+U5XeW+4xf01o+RpffBzTgPbsY564KC+40jq/1G6ePubWOPLhYP4IDVc5lZ8Hh24rLm7YO/\nXjDP46s8pVI6voAiSZIkSdKI0+8YKMPNW3gkSZIkSZIasIAiSZIkSZLUgAUUSZIkSZKkBhwDRZIk\nSZKkkcYxUIadV6BIkiRJkiQ1YAFFkiRJkiSpgQ0uoETEAyUS+QPn+cvq7/iIWDDc85ckSZIkSZ1l\ng8dAycz3lkhkoIh4dWb+bj3mvQI4svT8JUmSJElqa5mtzqDjlLgCZe3VIPtExD0RcV1EPBURF0XE\n5Ij4YUQ8GhHbVu1mRcSVEXFf1e4vq+lTI2J+RNwM3FFN+2RELIyIRyLiM0PMuysiflw937ia9yMR\nMS8ifhARu25o/yRJkiRJkkr/Cs9OwDuBZ4DFwNcyc/eIOB04FfhE1a4L2BvYFrgrIv60mr4HsGNm\nPhMR+wPbAbsDAdwUEe/PzHvXMe+TgZ9n5o4RsQPwUOG+SZIkSZKkDlV6ENmFmbkyM38D/CfVlSTA\no9SLJmtdl5n9mflT6oWWd1TTv5OZz1TP968ePwIerNps9zLz3guYC5CZPwYeGapRREyLiEURsai7\nu/sP7Z8kSZIkSepApa9A+c2A5/0DXvcPmtfgm7XWvn5+wLQALszMmes571ifRpnZDaytnOT3Pn/7\neoaXJEmSJEmdqlU/Y3xURLyITypyAAAgAElEQVSqGhdlG+DJIdrcDnwsIjYBiIgtIuJ/vUzM7wIf\nrdpuD7yrcM6SJEmSJLWH/v7R+2hTpa9AWV9PAvcAY4GTMvPXEb9/AUlm3hER7wS+V733S2AK8F/r\niHkFcE1EPEL9tp9HgGebk74kSZIkSeokJX7GeJPq793A3QOm7zPg+e+9B9yfmWcMijMLmDVo2qXA\npS8zz15gh2ryr4EpVTFmW+BOoO8P75EkSZIkSdLva9UVKM2wMfVf9BlDfTyUj2fmb1uckyRJkiRJ\nGgWGvYCSmVObFPc5YNdmxJYkSZIkqa208Vgho1WrBpGVJEmSJEkaMSygSJIkSZIkNWABRZIkSZIk\nqYHRNIisJEmSJEmdIR0DZbhFZrY6h1bq6M5LkiRJ0igXrU6gWV6onTNq/599/ZQL2nK9eQuPJEmS\nJElSAx1/C8+nuo4pFutzvbO5eMKUYvEAzuyrcfUW5WIet7wGQM/4cjEnr6jHnLF1uZjTl9S4tGA8\ngNOX1Lhsq3IxT11a7/dVW5aLecKyeswX1ywuFnPMZtuwcq99i8UD2Py7dzG9a1KxeDN65wBwRcH1\nc3K1fj47YXKxmJ/u6ym6z4D6fmNmwW0I4MRlZb8/py+pL8tLCsY8o4pZeh98XsH1DXBeXw83jiuX\n42GrZgMwf/NyeR61sgcov1+/dezRxeIBHLR6LlcW/I6fVH3HS67z8/rqy/Kigsfys/pqnNz10WLx\nAK7ovY4fjD+8WLz3rLgBgGsLnm8c26TzjZLfHah/f+aMLxdz0or6NtSMmCXPMc/sq6+fMwseyy/u\nncOCwuvnyJU9xb+PAN8quF8/tNqv/9WEct/Jf+67gdsK74MPWD2XjxfcF3219zqApsQ8seuoYjFn\n9s4vFksCCyiSJEmSJI08/Y6BMty8hUeSJEmSJKkBCyiSJEmSJEkNWECRJEmSJElqwAKKJEmSJElS\nAw4iK0mSJEnSSJPZ6gw6jlegSJIkSZIkNWABRZIkSZIkqYG2LaBExHkRMf1l3j8sIrYfzpwkSZIk\nSVJnGsljoBwG/AvweKsTkSRJkiRpWPX3tzqDjtNWV6BExDkR8WRE/Cvw9mraCRGxMCIejojrI2Lj\niHgv8GHgnyLioYjYtnrcFhH/HhH3RcQ7WtoZSZIkSZI0arRNASUidgGOBt4NHA7sVr11Q2bulpk7\nAT8Bjs/MB4CbgE9m5s6Z+Z9AN3BqZu4CTAeuWMd8pkXEoohY1N3d3eReSZIkSZKk0aCdbuF5H/DN\nzPwVQETcVE3fISI+B7wZ2AS4ffAHI2IT4L3A/IhYO/m1Q80kM7upF1sA8lOfv7tQ+pIkSZIkabRq\npwIKwFA/ZD0LOCwzH46IqcA+Q7R5FfA/mblz81KTJEmSJKlNOAbKsGubW3iAe4GPRMTrI2JT4JBq\n+qbAyogYA0we0P656j0y8xfA0xFxFEDU7TR8qUuSJEmSpNGsbQoomfkgMA94CLgeuK9669PAD4Dv\nAE8M+Mhc4JMR8aOI2JZ6ceX4iHgYeAw4dLhylyRJkiRJo1tb3cKTmRcAFwzx1leHaHs/sP2gyQc0\nIy9JkiRJktTZ2qqAIkmSJEmS1kM6Bspwa5tbeCRJkiRJktqVBRRJkiRJkqQGLKBIkiRJkiQ1YAFF\nkiRJkiSpAQeRlSRJkiRphMn+bHUKHScyO3qhd3TnJUmSJGmUi1Yn0Cy/6j5j1P4/u/G0S9pyvXX8\nFSi18VOKxZqyosaFE8rFAzi7r8asLcrFnLq8BsDdY48qFnOf1fMBuHyrcnmesrTGt8YdUywewKGr\nZnNZwRxPXVpflpdsXS7mGUvqMVfutW+xmJt/9y5eXLO4WDyAMZttw7ldk4vFO7+3Byi/DQHMKLh+\npi+pcXrX0cXiAVzaO5eegvshgMkrakVjTl5RX5Zzxpdb55NW1Nd56TzPn1AuR4Bz+3q4ZeykYvEO\nXj0HgBsL7t8OWzUbgHmbl+v7xJU93DG27La+/+q5XFrw+3h6tb9sRszS+42LCp8bnNVX4/FtDy4W\nb/v/vAWAr29ZLs/jl9WX5Zld5b4/F/fO4YqCxwmAk5fWmrJvu7JgnidVx7NrC54PHludD5Y+L7q6\nYI4Axy2vNaXfzTi3PqPg+cElvXO5eVy57w7AIavmcPiEDxeLd0PfTQBFj7vn9tW/P9ML7jdm9M4p\nFksCx0CRJEmSJElqqOOvQJEkSZIkacTp7291Bh3HK1AkSZIkSZIasIAiSZIkSZLUgAUUSZIkSZKk\nBhwDRZIkSZKkkSYdA2W4eQWKJEmSJElSAxZQJEmSJEmSGhh1BZSI2DkiDmp1HpIkSZIkafQYjWOg\n7AzsCtza6kQkSZIkSWqK/mx1Bh2n6VegRMSnI+KJiPhORMyJiOnVVSLfj4hHIuKbEfFHL/P5IdtG\nxN0RsWv1fLOI6I2I1wDnAxMj4qGImNjs/kmSJEmSpNGvqQWUqsBxBPBu4HDqV4YAXAv8fWbuCDwK\n/OPLhFnvtpn5W+BcYF5m7pyZ84bIaVpELIqIRd3d3a+kW5IkSZIkqcM0+wqUvYBvZeYLmfkccDPw\nBuDNmXlP1eYa4P1DfTgi3rS+bddXZnZn5q6Zueu0adM2JJQkSZIkSeoQzS6gRBNj/47/P//XNXE+\nkiRJkiSpwzW7gPJd4JCIeF1EbAIcDDwP/Dwi3le1+SvgnqE+nJnPvkzbXmCX6vmRAz72HLBpsR5I\nkiRJktRu+vtH76NNNbWAkpkLgZuAh4EbgEXAs8BfA/8UEY9Q/9Wc818mzLrazgA+HhEPAJsNaH8X\nsL2DyEqSJEmSpFKG42eMZ2TmeRGxMXAv8MXMfAj43+vz4XW1zcwngB0HTPpUNf0ZYLcNzlqSJEmS\nJKkyHAWU7ojYnvo4Jddk5oPDME9JkiRJkqRiml5Aycxj1qddRHwF2HPQ5Esz8+ryWUmSJEmSNIK1\n8Vgho9VwXIGyXjLzb1qdgyRJkiRJ0lCa/Ss8kiRJkiRJI54FFEmSJEmSpAba5hYeSZIkSZK0njJb\nnUHHiezshd7RnZckSZKkUS5anUCz/Or/nDhq/5/d+BMz23K9eQuPJEmSJElSAx1/C88jXYcUi7Vj\n781cu8WUYvEAjl1eY1bBmFOX1wD4+65JxWJ+oXcOADO3LJfnictqXLJ12WV5xpIac8ZPLhZv0ooe\ngKJ5nrGkvn6mF1w/M3rncG5XuX4DnN/bw4trFheLN2azbQB47uQDi8Xc9IpvA/CzQ/YuFvMtN9/D\nhRPKbpdn99WKfh+h/p08s2DMi6vv+HfGTiwW80Or5wFw99ijisXcZ/V8bh17dLF4AAetnssZXeVi\nXtI7F4DzJpT7Tp7XV98XTZpwWLGYc/pu5LSucusb4Mu987i04P7y9Gp/+amuY4rF/FzvbAAuKvg9\nP6uvxqN/Uu5cA+BdT99cPEeAE7vKfR9n9s6v/y18bnB2wfUNcGHv7KZslzMKxpxexZy3ebn9xsSV\n9f3GgoIxj1zZwwUF920A5/T1FN2vH7S6vg++fKty6+eUpfX1c8vYcsfdg1fP4esFvzsAxy+rcWfB\n4/gHq+P4zePK9fuQVfXzjWbkKZXS8QUUSZIkSZJGnP7+VmfQcbyFR5IkSZIkqQELKJIkSZIkSQ1Y\nQJEkSZIkSWrAAookSZIkSVIDDiIrSZIkSdJI05+tzqDjeAWKJEmSJElSAyO6gBIR+0TEe1udhyRJ\nkiRJGt1GbAElIl4N7ANYQJEkSZIkSU01bGOgRMQbgOuALYGNgM8CXwDmAftWzY7JzP+IiAnAN4C3\nAv8NHJeZSyJiFvAM8O7q757ASxExBTgVGAf8I/AS8Gxmvn+YuidJkiRJ0vDJ/lZn0HGG8wqUA4AV\nmblTZu4A3FZN/0Vm7g5cDvyfatrlwLWZuSPQA3x5QJy3Aftl5hHAlcAlmblzZt4HnAv8RWbuBHx4\nqCQiYlpELIqIRd3d3aX7KEmSJEmSmigiDoiIJyPiPyLirHW0+WhEPB4Rj0XE7BLzHc4CyqPAfhHx\nhYh4X2Y+W02fM+DvHtXzPYC1HfxnYK8BceZn5kvrmMf9wKyIOIH6VS7/j8zszsxdM3PXadOmvdK+\nSJIkSZKkYRYRGwFfAQ4EtgcmRcT2g9psB5wN7JmZfwZ8osS8h62AkplPAbtQL6RcGBHnrn1rYLN1\nfXzA8+dfZh4nAZ8CtgIeioi3vPKMJUmSJElSm9kd+I/MXJyZvwXmAocOanMC8JXM/DlAZv5XiRkP\nWwElIsYDv8rMGjAD+PPqrYkD/n6vev4AcHT1fDLw3XWEfQ7YdMA8ts3MH2TmucAa6oUUSZIkSZJG\nl/4ctY+BQ29Uj4G3j2wBLB3welk1baC3AW+LiPsj4vsRcUCJRT5sg8gC7wL+KSL6gReBjwMLgNdG\nxA+oF3MmVW1PA74REZ+kGkR2HTFvBhZExKHUB5E9o7pUJ4A7gYeb1RlJkiRJklReZnYD6xq0NIb6\nyKDXrwa2o/7LvVsC90XEDpn5PxuS17AVUDLzduD2gdMiAuqX1XxmUNte4ANDxJg66PVTwI4DJt1X\nJltJkiRJktSGlvH7d5tsCawYos33M/NF4OmIeJJ6QWXhhsx4OAeRlSRJkiRJ2hALge0i4k8i4jXU\nh/+4aVCbG4F9ASJiM+q39Cze0BkP5y08/4/M7Grl/CVJkiRJGomyv7/VKbREZv4uIk6hfofLRsA3\nMvOxiDgfWJSZN1Xv7R8RjwMvAZ/MzJ9t6LxbWkCRJEmSJEn6Q2TmrcCtg6adO+B5An9bPYrxFh5J\nkiRJkqQGLKBIkiRJkiQ1YAFFkiRJkiSpgajfGtSxOrrzkiRJkjTKRasTaJbnLzh21P4/+4Zzrm3L\n9eYVKJIkSZIkSQ10/K/w3DH26GKx9l89l69vOaVYPIDjl9W4qmDME5bVADin65hiMS/onQ3A5VuV\ny/OUpTXmjJ9cLB7ApBU93FpwfR+0ei4AN44rtywPW1VfllcUXJYnL60VXTdQXz/PnXxgsXibXvFt\nAF5cs8E/zf5/jdlsGwCefEe5PN/+xLe5rPCyPHVpjQsnlI15dl+tKd/xiwrmeVZffV/0k+0OKhbz\nnT+9le+MnVgsHsCHVs/jzK5JxeJd3DsHgB9v85fFYu6w+F8A+PuCeX6hdw4zti67XU5fUqNnfLmY\nk1fUt6FrtygX89jl9ZjnTSh3/Dmvr4dbxpZbNwAHr57DrIL9nlr1++SujxaLeUXvdQDM37zcsjxq\nZQ+fLbhuAD7d18OlBbf105fUl2Uzzt1KbkcHr67vi0p/J/+2q9x5FsCXeueyoOA2dOTKHgAuLng8\nO7OvOeu85Pkl1M8x7xt3ZLF471u1AKDo/z7HV9t66f2GVJJXoEiSJEmSJDXQ8VegSJIkSZI04mR/\nqzPoOF6BIkmSJEmS1IAFFEmSJEmSpAYsoEiSJEmSJDXgGCiSJEmSJI00/dnqDDqOV6BIkiRJkiQ1\nsMEFlIh4c0ScXCKZVzDvqRExvhXzliRJkiRJnaPEFShvBoa9gBIRGwFTAQsokiRJkiSpqUqMgXIR\nsG1EPAT8FLg6M28FiIhZwM3AE8DVwGuoF22OAF4EbgN+ALwbeAo4NjN/FREfBGZU+S0EPp6Zv4mI\nXuAbwP7AlcCuQE9EvADsAfwj8GHgd8AdmTm9QP8kSZIkSWov/f2tzqDjlLgC5SzgPzNzZ2A2MBEg\nIl4DfBC4FTgJuLRqsyuwrPrs24HuzNwR+AVwckS8DpgFTMzMd1Evonx8wPx+nZl7ZWYNWARMruK+\nHvgI8GdVvM8V6JskSZIkSVLxQWS/DXwgIl4LHAjcm5kvAN8D/iEi/h6YUE0DWJqZ91fPa8Be1Isq\nT2fmU9X0a4D3D5jHvHXM+xfAr4GvRcThwK+GahQR0yJiUUQs6u7ufmW9lCRJkiRJHaVoASUzfw3c\nDfwF9StR5lbTZ1O/teYF4PaI+MDajwwOAUSD2Ty/jnn/DtgduB44jPrtQUO1687MXTNz12nTpjXq\nkiRJkiRJUpECynPApgNezwWOA94H3A4QEdsAizPzy8BNwI5V260jYo/q+STgu9THS+mKiD+tpv8V\ncE+jeUfEJsCbqvFXPgHsvOFdkyRJkiRJKjCIbGb+LCLuj4gfU7+F5x+Aa4GbMvO3VbOJwJSIeBFY\nBZwPvBH4CfDXETGT+gC0X83MX0fEccD8iFg7iOyV65j9LODKahDZA4FvVWOoBHDGhvZNkiRJkqS2\n1D/4hg41W4lf4SEzjxk06S2D3r8QuHDgtIh4I9CfmScNEe9O6r/MM3h616DX11O/ZWet3f+gxCVJ\nkiRJktZD6UFkJUmSJEmSRp0iV6C8EpnZC+zQqvlLkiRJkiStr5YVUCRJkiRJ0iuU/a3OoON4C48k\nSZIkSVIDFlAkSZIkSZIasIAiSZIkSZLUgGOgSJIkSZI00vRnqzPoOJHZ0Qu9ozsvSZIkSaNctDqB\nZnn+nKNG7f+zb7hgfluut46/AuWzEyYXi/Xpvh6+vuWUYvEAjl9W4/KtysU8ZWkNgIsnlIt5Zl89\n5rfGHVMs5qGrZvPFrcsuy79bUuPusUcVi7fP6vkA3Fiw34etmg2U3y5nFF6W05fU+NkhexeL95ab\n7wHgyXccWCzm25/4NgAvrllcLOaYzbYpup1DfVu/rOB3HODUpTUuKbjOz1hS/47P27zcdjlxZQ8A\nc8aXizlpRU/R7yPUv5Ml18+p1T742i3KxTx2eT1m6WPFRQWPEwBn9dWYVbDfU6t+31BwnR9e7YNL\nx7x3XLljD8D7V83nU13lcvxcb73fFxZc52f3Ned8o2d82e1y8oqy2/pZVb9vG3t0sZgHrJ4LwLld\n5faX5/fW98Ej4Ty4GfvgSwseI0+vjpFPvO2gYjHf8dStRY8TUD9WNGO7LH3+DzTlfF0qxTFQJEmS\nJEmSGuj4K1AkSZIkSRppsr+/1Sl0HK9AkSRJkiRJasACiiRJkiRJUgMWUCRJkiRJkhpwDBRJkiRJ\nkkaa/lH7K8ZtyytQJEmSJEmSGrCAIkmSJEmS1MCIKKBExK4R8eVW5yFJkiRJkjpTW42BEhEbZeZL\ng6dn5iJgUQtSkiRJkiRJ2rArUCJiSkT8MCIeioiZETEhIn4aEZtFxKsi4r6I2H8dbTeqpv8yIs6P\niB8Ae0TEbhHxQEQ8XLXfNCL2iYh/qdrvXcV4KCJ+FBGbVtM/GRELI+KRiPjMBi4XSZIkSZLaV3+O\n3kebesUFlIh4JzAR2DMzdwZeAvYGvgBcCfwd8Hhm3rGOtpOrUG8AfpyZ7wF+CMwDTs/MnYD9gBcG\nzXo68DdVnPcBL1RFmu2A3YGdgV0i4v3ryHtaRCyKiEXd3d2vtPuSJEmSJKmDbMgtPB8EdgEWRgTA\n64H/yszzIuIo4CTqxYx1tq3eewm4vnr+dmBlZi4EyMxfAFSfWet+4EsR0QPckJnLqgLK/sCPqjab\nUC+o3Ds46czsBtZWTvKzF9zzSvsvSZIkSZI6xIYUUAK4JjPP/r2JERsDW1YvNwGeW1fbyq8HjHsS\nwMter5OZF0XELcBBwPcjYr/qcxdm5sxX3BtJkiRJkqR12JAxUO4EjoyI/wUQEX8cEROo38LTA5wL\nXNWg7WBPAOMjYreq3aYR8XtFnojYNjMfzcwvUB9Y9h3A7cDHImKTqs0Wa+f1/7F372FylGXC/7+3\nvuyiwis/xWtCIGQMq/JiQNSg4iJGTgIRg4EYQrIYZInI4pmfhxV5syqLB5RFEGFYJbKdk8EIhmMQ\nCCgKJmogARGXMDkys0YXxMMiMvfvj67sb8xO6CQ8c+r+fq5rrqmurrr7fqqqq6vv66mnJUmSJElq\nOtnTvH9D1A73QMnMByLiHGBJRDwHeAr4MHAQ9bFOno6IEyLi1My8so9l/wFYs0XMP0XEFODiiHge\n9fFPjtjipT8YEW+hfuvPA8CNmflkNc7Kj6rbfX4HTOf/v01IkiRJkiRphz2rnzHOzAXUB33t7Q29\nnp/UYFkyc5ctHi/rHaOytPojM9+3lVwuAi7a5uQlSZIkSZK20bP6GWNJkiRJkqRW8Kx6oEiSJEmS\npEHQ84y/v6J+YA8USZIkSZKkBiygSJIkSZIkNWABRZIkSZIkqQHHQJEkSZIkaZhJx0AZcJHZ0hu9\npRsvSZIkSU0uBjuB/vLEB49r2u+zu/7L4iG531q+B8qk0W8vFmvRmu8ye8/pxeIBzNhQ47JR5WKe\nsa4GwOV7lYv5nvX1mItHTC0W87iueVzfVi4ewITusjEndM8D4KqC+/yUDfVteU77ycVifrZzLh9o\nP6lYPICLOudz/uhy7f7Emnq7Ly54rL+vOtavHVFuW07smstTm1YXiwew0+5j+M3ENxeN+aJr7+BX\nR5aL+ZJb7gDg1rYpxWIe3r0AgBvayh2bx3bPZ9WYtxWLBzB29XXFjyGApW2Ti8Uc370QgK5DxxeL\nOeLOpaze/6hi8QDGrFzCA/tMKBZvv4evB+CxqW8pFnO3ebcDcM/IScVivn7jIj49elqxeADnrpnD\n5wqegz9enYMX7FEuzymPzgEonmfJYwjqx1FtZLkcp2/sn2sigPMKHkefXFPfPxfsXa7tZ6+t9cu1\n2ycKXhOd31k/B19a8HrjzOp6Y/lexxeLOW79Nf2yLUue18esXALA3QXPl2/YuAiAh/7P0cVivvzn\nNxWLJYFjoEiSJEmSJDVkAUWSJEmSJKmBlr+FR5IkSZKkYcdBZAecPVAkSZIkSZIasIAiSZIkSZLU\ngAUUSZIkSZKkBhwDRZIkSZKk4aanZ7AzaDn2QJEkSZIkSWpgUHqgRMQs4HfA/wbuzMzvPcOybwf2\ny8zPDVB6kiRJkiRJf2FQb+HJzHO3YZnvAt8dgHQkSZIkSZL6NGC38ETEJyPiFxHxPeAV1bzZEXFi\nNd0ZEf8UET+NiJURsW81f0ZEXNJr+a9ExA8jYnWvdZ8TEZdGxP0RcV1E3LD5OUmSJEmSmk5PNu/f\nEDUgBZSIeC1wEvBqYBJw0FYW3ZSZrwG+Bpy9lWX2AA4B3gZsvq1nEtAO7A/8PXDwM+QyMyKWR8Ty\njo6O7WyJJEmSJElqRQN1C8+bgO9k5h8AImJrt+Qsqv7/hHpRpC/XZGYP8EBEtFXzDgEWVvO7IuL2\nrSWSmR3A5spJ3nTeddvRDEmSJEmS1IoG8ld4tqUfzpPV/6fZenHnyV7TscV/SZIkSZKk4gaqgHIn\n8I6IeF5E7AocVzj+D4ATqrFQ2oDxheNLkiRJkjR0DPY4JS04BsqA3MKTmT+NiAXACmAN8P3CL/Ft\n4HBgFfAQcA/weOHXkCRJkiRJLWrAfsY4M88DznuG59t7TS+n6kWSmbOB2dX0jC3W2aX63xMRZ2fm\n7yLixcCPgZUl85ckSZIkSa1rwAooA+C6iNgN+CvgM5nZNdgJSZIkSZKk5tA0BZTMHD/YOUiSJEmS\npObUNAUUSZIkSZJaRebQHWy1WQ3kzxhLkiRJkiQNSxZQJEmSJEmSGrCAIkmSJEmS1EC0+H1TLd14\nSZIkSWpyMdgJ9Jffnn5U036f/d9XLBmS+80eKJIkSZIkSQ20/K/wTB89qVis2ppFfH2v6cXiAZy2\nvlY05mnrawAsbZtcLOb47oX9EvPqPaYViwdw4qNzisY88dE5AFy5Z7n9c+qG+v65vOA+f8/6GnNG\nlj0up22s8bH2qcXifb5zHgDnjy6X5yfW1LflxaPKxXzfuhq/mfjmYvEAXnTtHTy1aXXRmDvtPob/\nuveGYvF2ftWxACzf6/hiMcetvwaAL+1dbv98ZG2NxSPKHZcAx3XNY/X+RxWLN2blEoCi78lpG+vH\n+u9nlWv7C2bNo+vQ8cXiAYy4cynrDjq8WLxRy24F4Bf7HlMs5isevBGAB19+bLGY+z50A6e2n1As\nHsCVnd9m3shyn2dTN9Y/z+4cUe5z/NCu+rXBFwqe1z+6psYtbVOKxQM4snsBt7W9s1i8w7q/BdAv\n126ltyXARQXPwR9YW2PRiJOLxQOY1DWXCwrmePbaertLflYc11W/hinZ9kldc1nSdlKxeABHdc/n\nhoIxj+2eD9Av19b98RkplWIPFEmSJEmSpAZavgeKJEmSJEnDTk/TDoEyZNkDRZIkSZIkqQELKJIk\nSZIkSQ1YQJEkSZIkSWrAMVAkSZIkSRpm0jFQBpw9UCRJkiRJkhqwgCJJkiRJktSABRRJkiRJkqQG\nGhZQIqI9Ih6MiH+NiFURMScijoiIuyLilxHxuoiYFRFn91pnVbXeCyLi+oi4t5o3pXr+tRFxR0T8\nJCJujog9qvlLI2JcNb17RHRW0zMi4pqIWBwRj0TEWRHx4Yj4WUTcHREvqpZ7f0Q8EBH3RcT8fthe\nkiRJkiSpBW3rILJ/A0wGZgLLgJOBQ4C3A/8IrNjKekcDGzNzAkBEvDAidgIuBiZm5q+qosp5wLsb\n5DAWeDWwM/DvwMcy89URcSFwCvAvwMeBl2bmkxGx2za2TZIkSZKk4cVBZAfctt7C80hmrszMHuB+\n4NbMTGAl0P4M660EjoiIz0fEmzLzceAV1Isht0TECuAcYK9tyOH2zHwiM38FPA4s7vUam3O4D5gT\nEdOBP/cVJCJmRsTyiFje0dGxDS8rSZIkSZJa3bb2QHmy13RPr8c9VYw/85fFmJ0BMvOhiHgtcCxw\nfkQsAb4D3J+ZB/fxOr3j7LydOQBMAA6l3jPmUxHxysz8i0JKZnYAmysneed5N/XZYEmSJEmSpM1K\nDSLbCbwGICJeA7y0mh4J/CEza8AF1TK/AF4SEQdXy+wUEa/sFee11fSJ25NARDwHGJWZtwMfBXYD\ndtnxJkmSJEmSJNVtaw+URr4NnFLdkrMMeKiavz/wxYjoAZ4C3puZf4qIE4GvRMQLqxz+hfqtQRcA\n34qIvwNu284cngvUqpgBXJiZjz3bhkmSJEmSNOT0DHYCradhASUzO6mPWbL58YytPHdUH6t3Ajf3\nEXMF9Vtttpz/IHBAr3/Ox9EAACAASURBVFnnVPNnA7N7Ldfea7r3c4dsrR2SJEmSJEk7qtQtPJIk\nSZIkSU3LAookSZIkSVIDpcZAkSRJkiRJAyR7crBTaDn2QJEkSZIkSWrAAookSZIkSVIDFlAkSZIk\nSZIaiMyWvm+qpRsvSZIkSU0uBjuB/vLY1Lc07ffZ3ebdPiT3mz1QJEmSJEmSGmj5X+F5d/uJxWJ9\no/NqrtpzerF4AKdsqHFlwZinbqgBcFvbO4vFPKz7WwAsbZtcLOb47oXURpbdltM31phTMOa0jfVt\neeHe5WJ+aG095kUFY35gbdl2Q73tH22fWizeFzrnAfDJ9pOLxTyvcy5Qfv/86sg3F4sH8JJb7uC/\n7r2haMydX3UsT21aXSzeTruPAWD5XscXizlu/TUAfKng/vnI2hpL2k4qFg/gqO75rBrztmLxxq6+\nDqBfzutPfPC4YjF3/ZfFrHnNEcXiAYz+6fdY//rDisXb657bAHhgnwnFYu738PUAdB54ZLGY7Stu\n4QPtZY/Lizrnc9mocsfQGevqx1DJ989R3fOB8ufgktcvUL+GWTyi3OfZcV31z7PZBd/jM6r3+KUF\n9/mZ6/rnGqY/rt0+N7pczI+vqbd74R7TisWc/OgcAG4q+P45uns+17eVOy4BJnTP4/sjyn3veVPX\n1QBF9/n06tr62hHlrgcnds0tFksCe6BIkiRJkiQ1ZAFFkiRJkiSpgZa/hUeSJEmSpGGnZ7ATaD32\nQJEkSZIkSWrAAookSZIkSVIDFlAkSZIkSZIacAwUSZIkSZKGmezJwU6h5dgDRZIkSZIkqYGmK6BE\nxAcj4vmDnYckSZIkSWoeTVVAiYjnAh8ELKBIkiRJkqRihtUYKBFxDTAK2Bm4KDM7IuJ3wJeBtwLX\nAyOB2yNiU2a+ZfCylSRJkiSpn/QMdgKtZ1gVUIB3Z+ZvIuJ5wLKI+DbwAmBVZp4LEBHvBt6SmZv6\nChARM4GZAJdffvkApS1JkiRJkoaz4VZAeX9EvKOaHgW8DHga+Pa2BsjMDqBj88O7/3lJ2QwlSZIk\nSVLTGTYFlIgYDxwBHJyZf4iIpdRv5fmvzHx6MHOTJEmSJEnNbdgUUIAXAv9ZFU/2Bd6wleWeAHYF\n+ryFR5IkSZKk4S57crBTaDnD6Vd4bgL+V0TcB3wGuHsry3UAN0bE7QOWmSRJkiRJamrDpgdKZj4J\nHNPHU7tssdzFwMUDkpQkSZIkSWoJw6kHiiRJkiRJ0qCwgCJJkiRJktTAsLmFR5IkSZIkVXoGO4HW\nYw8USZIkSZKkBiygSJIkSZIkNWABRZIkSZIkqYHIzMHOYTC1dOMlSZIkqcnFYCfQX3593Jub9vvs\nixffMST3W8sPIvuF0dOLxfromhqz9ywXD2DGhhpXFox56oYaAPNGTisWc+rGOQAsGnFysZiTuuYW\nzRHqeV4yqty2PGtdfVsu3KNcnpMfrW/LC/cul+eH1tb6ZVve0jalWLwjuxcA8LmC78ePr6nvnwUF\n98+UR+dwa8F2AxzevYDlex1fNOa49dcUjTlu/TUAPLVpdbGYO+0+BoDvjzixWMw3dV3N1/cqew4+\nbX2Nawqe247vmgvAh9tPKhbzy53zAYq/J0ue26B+fiv9OQFwQcHz5dlr6+eNX+x7TLGYr3jwxqLX\nGlC/3riprdwxdHR3/Rj6zOhy+/xTa+qfZ4tHTC0W87iueVxc8HMc4H3rasPmuKyNLBdz+sZ6zMsK\nbs8z1pU9LqF+bJbc5+9b13/XwaX3z9K2ycXiAYzvXtgv27I/YpY+LqWSvIVHkiRJkiSpAQsokiRJ\nkiRJDbT8LTySJEmSJA07PYOdQOuxB4okSZIkSVIDFlAkSZIkSZIasIAiSZIkSZLUgGOgSJIkSZI0\nzKRjoAw4e6BIkiRJkiQ1MGAFlIhoj4hVfcz/dEQcUU13RsTufSzzw4HIUZIkSZIkqS+DfgtPZp67\nDcu8cSBykSRJkiRJ6stA38Lz3Ii4IiLuj4glEfG8iJgdESf2Xqiaf1NEnF49/l31f3xELI2IqyPi\nwYiYExFRPXdsNe8HEfGViLhugNsmSZIkSZKa1EAXUF4GfDUzXwk8BpzQxzK7AIuBuZl5RR/Pvxr4\nILAfMAb424jYGbgcOCYzDwFesrUEImJmRCyPiOUdHR3PrjWSJEmSJA2Gnib+G6IGuoDySGauqKZ/\nArT3scy1wJWZedVWYvw4M9dnZg+wooqxL7A6Mx+plpm3tQQysyMzx2XmuJkzZ+5IGyRJkiRJUosZ\n6ALKk72mn6bvMVjuAo7ZfGvONsbY2rKSJEmSJEnP2lD8GeNzgV8Dl27HOg8CYyKivXo8pXBOkiRJ\nkiSphQ3FAgrUxzjZOSK+sC0LZ+YfgTOBmyLiB0A38Hg/5idJkiRJ0qDJnub9G6oG7GeMM7MTGNvr\n8QV9LNPe6+GpvebvUv1fCiztNf+sXsvfnpn7Vrf+fBVYXiZzSZIkSZLU6oZqD5QdcXpErADuB15I\n/Vd5JEmSJEmSnrUB64HS3zLzQuDCwc5DkiRJkiQ1n6YpoEiSJEmS1CqG8lghzaqZbuGRJEmSJEnq\nFxZQJEmSJEmSGrCAIkmSJEmS1EBk5mDnMJhauvGSJEmS1ORisBPoL91veXPTfp9tu/2OIbnf7IEi\nSZIkSZLUQMv/Cs+yPd9RLNZBG77D1/eaXiwewGnra0Vjnra+BsBZ7VOKxbykcwEAVxTM8/T1NW5t\nK5cjwOHdC4rnCHDe6GnFYn5yzRwAzmk/uVjMz3bOZc7IssfltI01lrZNLhZvfPdCAH7+smOLxfw/\nv7wBgHkjy+2fqRvncEPbScXiARzbPZ8v7V12/3xkba1ozI+srR/r3x9xYrGYb+q6GoCnNq0uFnOn\n3cfws70nFosH8Oq113LpqHLb8sx19W1598hJxWK+YeMiAC4veH57z/pav5w3Sr8fAZYUfE8e1T0f\ngNl7lmv7jA01rhlR7pwOcHzX3H55j58/ulzMT6ypx7yy4LY8dUONywq+HwHOWFfrl2uDc9vLHeuf\n7qwf64tHTC0W87iueQDcVfC8/rddVxc9D0H9XHT1HuW25YmP1rdlf7x/Sp+Da4XPwdM31lhU8Fw0\nqWsuQL/EvK3tncViHtb9rWKxJLAHiiRJkiRJUkMWUCRJkiRJkhpo+Vt4JEmSJEkadnJIjrPa1OyB\nIkmSJEmS1IAFFEmSJEmSpAYsoEiSJEmSJDXgGCiSJEmSJA0z2TPYGbSeYdEDJSJuiIjdBjsPSZIk\nSZLUmoZFD5TMPHawc5AkSZIkSa2reAElIj4FTAPWAZuAnwCPAzOBvwL+Hfi7zPxDRMwG/gjsC4wG\nTgXeBRwM3JOZM6qYncA4YBfgRuAHwBuBDcDEzPxjRBwEfB34ffX8MZk5tnT7JEmSJElS6yl6C09E\njANOAF4NTKJe9ABYlJkHZeargJ8Dp/Va7f8BDgM+BCwGLgReCewfEQf28TIvA76ama8EHqteD+BK\n4IzMPBh4+hlynBkRyyNieUdHxw62VJIkSZKkwZM90bR/Q1XpMVAOAa7NzD9m5hPUCyIAYyPi+xGx\nknrvlFf2WmdxZiawEujOzJWZ2QPcD7T38RqPZOaKavonQHs1PsqumfnDav7crSWYmR2ZOS4zx82c\nOXNH2ylJkiRJklpI6QLK1kpFs4GzMnN/4J+AnXs992T1v6fX9ObHfd1i1HuZp6tlhm6JSpIkSZIk\nDXulCyg/AI6LiJ0jYhdgQjV/V+DRiNiJeg+UojLzP4EnIuIN1ayTSr+GJEmSJElqXUUHkc3MZRHx\nXeBeYA2wnPoAsp8C7qnmraReUCntNOCKiPg9sLR6XUmSJEmSmk72DHYGrac/fsb4gsycFRHPB+4E\nvpSZPwW+tuWCm39lp5ruBMZu5bn2anLTFstc0Cvc/Zl5AEBEfJx68UaSJEmSJOlZ648CSkdE7Ed9\nnJNvVsWTgTAhIj5BvU1rgBkD9LqSJEmSJKnJFS+gZObJpWNu4+suABYMxmtLkiRJkqTmVnoQWUmS\nJEmSpKbTH7fwSJIkSZKkfpQZg51Cy7EHiiRJkiRJUgMWUCRJkiRJkhqIzBzsHAZTSzdekiRJkppc\n097nsuHgw5r2++yeP7ptSO43x0CRJEmSJGmYyZ7BzqD1tHwB5TOjpxWL9ak1c5g3slw8gKkb53Dx\nqOnF4r1vXQ2A80eXi/mJNfWYV+5ZLuapG2pcuHe5eAAfWlvjvIL7+5Nr5gDw6YIxz61izioYc9aa\nOUVzhHqeN7SdVCzesd3zAbilbUqxmEd213/V/JoR5X5Z/fiuuawa87Zi8QDGrr6OxSOmFo15XNc8\nlhTcP0dV++fre5V7T562vn7e+NneE4vFfPXaa3lq0+pi8QB22n0MH2svt38+3zkPgMsKntfPqM7r\npfd5yXibY97W9s5i8Q7r/hYAK196XLGY+z+yGIDr28rt8wnd85hd8PMRYMaGWr98jpf83P3Q2nrM\n2shyMadvrHHniMnF4gEc2rWw+GcuwOUFz5fvqc6XV+9RLs8TH63neVXBY/OUDbWi7YZ62/tjW36p\n4LH+kepYv6+93LnogM7FRa+roX5tvXr/o4rFG7NyCVD+GAKKvs8P7VpYLJYEjoEiSZIkSZLUkAUU\nSZIkSZKkBlr+Fh5JkiRJkoab7BmS46w2NXugSJIkSZIkNWABRZIkSZIkqQELKJIkSZIkSQ04Book\nSZIkScNM5mBn0HqK9UCJiFkRcXaDZWZExCV9zG+PiFVbWedfI2K/UnlKkiRJkiRtryF/C09m/n1m\nPjDYeUiSJEmSpMEXEUdHxC8i4t8j4uN9PH9GRKyMiBUR8YNSnTJ2uIASEadExH0RcW9E/NsWzy2N\niHHV9O4R0dnr6VERcVPV2P/ba/7/iohvVjGvjojn9xHrdxFxXvWad0dEWzV/n+rxsoj4dET8bkfb\nJUmSJEmShqaIeC7wVeAYYD9gah8FkrmZuX9mHgh8AfhyidfeoQJKRLwS+CRwWGa+CvjAdqz+OmAa\ncCAweXNxBHgF0JGZBwC/Bc7sY90XAHdXr3kncHo1/yLgosw8CNi4ve2RJEmSJEnDwuuAf8/M1Zn5\nJ2A+MLH3Apn5214PXwAUGTFmR3ugHAZcnZmbADLzN9ux7i2Z+evM/COwCDikmr8uM++qpmu95vf2\nJ+C6avonQHs1fTCwsJqe+0wvHhEzI2J5RCzv6OjYjrQlSZIkSRoasiea9q+BPYF1vR6vr+b9hYj4\nh4h4mHoPlPeX2OY7WkAJnrmC8+desXfe4rkt18sG83t7KvO/xxp+mh34FaHM7MjMcZk5bubMmdu7\nuiRJkiRJ6ke9Oz5Uf72/vPdVYfkf9YPM/Gpm7gN8DDinRF47WkC5FXhnRLwYICJetMXzncBrq+kT\nt3juyIh4UUQ8Dzge2NzrZO+IOLiangr8YDvyuRs4oZo+aTvWkyRJkiRJQ0jvjg/VX+/bR9YDo3o9\n3otnHspjPvXaw7O2QwWUzLwfOA+4IyLu5X8OyHIB8N6I+CGw+xbP/QD4N2AF8O3MXF7N/znwroi4\nD3gR8LXtSOmDwIcj4sfAHsDj29MeSZIkSZI0LCwDXhYRL42Iv6LeieK7vReIiJf1ejgB+GWJF97u\nW2A2y8xvAt/cynMPAgf0mnVONX82MLuP5Tupj57bV6zxvaZ36TV9NXB19XAD8IbMzIg4CViOJEmS\nJElNahvGCmlKmfnniDgLuBl4LvCNzLw/Ij4NLM/M7wJnRcQRwFPAfwLvKvHaO1xAGWJeC1wSEQE8\nBrx7kPORJEmSJEn9IDNvAG7YYt65vaa355eCt1lTFFAy8/vAqwY7D0mSJEmS1Jx2dBBZSZIkSZKk\nltEUPVAkSZIkSWol+T9+uFf9zR4okiRJkiRJDVhAkSRJkiRJasACiiRJkiRJUgORrX3jVEs3XpIk\nSZKaXAx2Av1l9f5HNe332TErlwzJ/dbyg8jOGj2tXKw1c5i95/Ri8QBmbKgVjTljQw2AG9pOKhbz\n2O75AFw2qlyeZ6yrMWdk2W05bWONTxfc3+eumQPAFXuVy/P09fX9c82Ik4vFPL5rLte3TS0WD2BC\n9zw+1F7uGLqws34MfbS9XJ5f6JwHwMUFj8v3ratxbcF9AzCxay6r9z+qaMwxK5ewaszbisUbu/o6\noPxxCXBpwf1z5roaHyt4DAF8vnMeT21aXSzeTruPAeCSgu0+a139vPGzvScWi/nqtdcW/ZyA+mdF\nyffPxOoY+tLe5bblR9bWt+WignlO6prLhwueLwG+3Nk/27L0MQRwdsH35AWd87h6j3Kf4wAnPjqn\n+P4GuLLgtdup1bVbyfPb56vPyNLvn5LbEurb86KCOX6geo/fVPD8dnR1HVz6evDukZOKxQN4w8ZF\nfL1gjqdV16xL2yYXizm+eyFQ/hwsleQtPJIkSZIkSQ1YQJEkSZIkSWrAAookSZIkSVIDLT8GiiRJ\nkiRJw03mkBxntanZA0WSJEmSJKkBCyiSJEmSJEkNWECRJEmSJElqwDFQJEmSJEkaZrJnsDNoPUOy\nB0pEtEfEqmp6XER8ZbBzkiRJkiRJratfeqBERACR+exrYpm5HFj+7LOSJEmSJEnaMcV6oFS9Rn4e\nEZcCPwX+LiJ+FBE/jYiFEbFLtdy5EbEsIlZFREdVbCEiXhsR90bEj4B/6BV3fERcV03PiohvRMTS\niFgdEe/vtdynIuLBiLglIuZFxNml2iZJkiRJklpb6Vt4XgFcBRwJnAYckZmvod6D5MPVMpdk5kGZ\nORZ4HvC2av6VwPsz8+AGr7Ev8FbgdcD/jYidImIccALwamASMG5rK0fEzIhYHhHLOzo6dqiRkiRJ\nkiQNpp6Mpv0bqkrfwrMmM++OiLcB+wF3VR1M/gr4UbXMWyLio8DzgRcB90fEncBumXlHtcy/Acds\n5TWuz8wngScj4j+ANuAQ4NrM/CNARCzeWoKZ2QFsrpzkrPPu2NqikiRJkiRJQPkCyu+r/wHckplT\nez8ZETsDlwLjMnNdRMwCdq6Wz218jSd7TT9NvQ1Dt0QlSZIkSZKGvf76FZ67gb+NiL8BiIjnR8TL\nqRdLADZVY6KcCJCZjwGPR8Qh1fPTtvP1fgAcFxE7V3EnPOsWSJIkSZIkVfrlV3gy81cRMQOYFxF/\nXc0+JzMfiogrgJVAJ7Cs12qnAt+IiD8AN2/n6y2LiO8C9wJrqI+58viza4UkSZIkSUNTDuGxQppV\nsQJKZnYCY3s9vg04qI/lzgHO6WP+T4BX9Zo1q5q/FFhaTc/aYp2xvR5ekJmzIuL5wJ3Al3akHZIk\nSZIkSVvqlx4og6QjIvajfpvQNzPzp4OdkCRJkiRJag5NU0DJzJMHOwdJkiRJktSc+msQWUmSJEmS\npKbRND1QJEmSJElqFdnjILIDzR4okiRJkiRJDVhAkSRJkiRJaiAyc7BzGEwt3XhJkiRJanJNe5/L\ngy8/tmm/z+770A1Dcr+1/Bgo72o/oVisb3Z+m0tGTS8WD+CsdTUuLRjzzHU1AD7cflKxmF/unA/A\nhXuXy/NDa2vc1FYuR4Cju+fTeeCRxeK1r7gFgGV7vqNYzIM2fAeAhXtMKxZz8qNzuGZE2R+pOr5r\nLrNGl8tx1po5AKwa87ZiMceuvg6Aq/Ysd1yesqHG0rbJxeIBjO9eyJyRZc8b0zbWuLJgu0/d0H/n\njbtHTioW8w0bF3FZ4XPwGetqRc/rZ1Xn4Kc2rS4Wc6fdxwBwX/txxWIe0LmY7re8uVg8gLbb72BB\nwXPblEfr543H33V4sZgv/OatAFyxV7l9fvr6Gue0lz0Hf7ZzLosKntcndc0F4OKCx/r7qmP98oLb\n8j3ra9zSNqVYPIAjuxcUPQdP21hvd3/ELL0tofy12+yCnz0AMzbU+MLocjE/uqbe7v74jCx9vX5t\n4Wu3iV39c944v+D++US1f/ojz2bV2n0hBoe38EiSJEmSJDVgAUWSJEmSJKkBCyiSJEmSJEkNtPwY\nKJIkSZIkDTfZMyTHWW1q9kCRJEmSJElqwAKKJEmSJElSAxZQJEmSJEmSGnAMFEmSJEmShpmedAyU\ngTZse6BExG4RceZg5yFJkiRJkprfsC2gALsBFlAkSZIkSVK/G84FlM8B+0TEiohYGBHHbn4iImZH\nxAmDmJskSZIkSWoiw7mA8nHg4cw8EJgLTAGIiL8CDgdu6GuliJgZEcsjYnlHR8eAJStJkiRJkoav\nZhlE9kbgKxHx18DRwJ2Z+ce+FszMDmBz5STv+uebByhFSZIkSZLKSAeRHXDDuQfKf8vM/wKWAm+l\n3hNl/qAmJEmSJEmSmspwLqA8Aeza6/F84FTgTYDdSiRJkiRJUjHDtoCSmb8G7oqIVRHxRWAJcCjw\nvcz80+BmJ0mSJEmSmsmwHgMlM0/eYtaLByURSZIkSZIGUOZgZ9B6hm0PFEmSJEmSpIFiAUWSJEmS\nJKkBCyiSJEmSJEkNDOsxUCRJkiRJakU9GYOdQsuxB4okSZIkSVIDFlAkSZIkSZIaiGzt3z5q6cZL\nkiRJUpNr2vtcVox+e9N+nz1wzXeH5H5zDBRJkiRJkoaZdAyUAdfyBZSjRh1dLNaSdTfx9b2mF4sH\ncNr6GpcXjPme9TUAFuwxrVjMKY/O6ZeYJeNtjrmk7aRi8Y7qng/AtSNOLhZzYtdcAOaMLLfPp22s\n9cu2nDr6+GLx5q25BoCPtU8tFvPznfMAuGRUuW151roaXYeOLxYPYMSdS/n9rHLtBnjBrHk88cHj\nisXb9V8WA3BL25RiMY/sXgBQ/PxW8j0O9ff5z/aeWCzeq9deC8B97eX2zwGd9f3z1KbVxWLutPsY\nnjjzmGLxAHa99EYeHvvWYvH2WXUzAOsOOrxYzFHLbgXgF/uWa/srHryRKQXPlwAL1lzTL59n/RHz\n/NHl3uOfWFPjgX0mFIsHsN/D13NNwc/x4/vpcxzKb0uA80aXuz745Jo5RT8noP5ZcXbBa4MLqmuD\nGwoe68dWx/rsPcvtnxkbaizfq+x5Y9z6a/rlWC99DAH9kqdUimOgSJIkSZIkNWABRZIkSZIkqQEL\nKJIkSZIkSQ20/BgokiRJkiQNN639g7qDwx4okiRJkiRJDVhAkSRJkiRJasACiiRJkiRJUgNFCygR\nsVtEnFlNj4+I6wrFPT4i9isRS5IkSZKk4a4no2n/hqrSPVB2A84sHBPgeGC7CigR4QC5kiRJkiSp\niNIFlM8B+0TECuCLwC4RcXVEPBgRcyIiACLitRFxR0T8JCJujog9qvmnR8SyiLg3Ir4dEc+PiDcC\nbwe+GBErImKf6u+mav3vR8S+1fqzI+LLEXE78PnCbZMkSZIkSS2qdC+NjwNjM/PAiBgPXAu8EtgI\n3AX8bUTcA1wMTMzMX0XEFOA84N3Aosy8AiAiPguclpkXR8R3gesy8+rquVuBMzLzlxHxeuBS4LAq\nh5cDR2Tm04XbJkmSJEmSWlR/3+by48xcD1D1SmkHHgPGArdUHVKeCzxaLT+2KpzsBuwC3LxlwIjY\nBXgjsLBaH+Cvey2y8JmKJxExE5gJcPnll+9ouyRJkiRJGjQ5hMcKaVb9XUB5stf009XrBXB/Zh7c\nx/KzgeMz896ImAGM72OZ5wCPZeaBW3nN3z9TQpnZAXRsfnj1ZxY90+KSJEmSJEnFx0B5Ati1wTK/\nAF4SEQcDRMROEfHK6rldgUcjYidgWl9xM/O3wCMRMblaPyLiVQXbIEmSJEmS9BeKFlAy89fAXRGx\nivogsn0t8yfgRODzEXEvsIL6LTkAnwLuAW4BHuy12nzg/42In0XEPtSLK6dV698PTCzZDkmSJEmS\npN6K38KTmSdvZf5ZvaZXAIf2sczXgK/1Mf8u/ufPGB/dx3IztjNdSZIkSZKGnR7HQBlwpW/hkSRJ\nkiRJajoWUCRJkiRJkhqwgCJJkiRJktSABRRJkiRJkqQGig8iK0mSJEmS+lcOdgItyB4okiRJkiRJ\nDURmS9etWrrxkiRJktTkmva3fu8eOalpv8++YeOiIbnf7IEiSZIkSZLUQMuPgfLe9ncWi/W1zm9x\n2ajpxeIBnLGuVjTmGetqAMwZWS7mtI31mNeOOLlYzIldc7lqz7Lb8pQNNRYVzHFS11wAvjC6XJ4f\nXVPflje0nVQs5rHd81lSMB7AUd3zeX/7lGLxvtK5AIAL9i63Lc9eW9+Wnyu4fz6+psbq/Y8qFg9g\nzMoldB06vmjMEXcuZc1rjigWb/RPvwfAwj2mFYs5+dE5QPlzUX8c66XfjwDdb3lzsZhtt98BwBNn\nHlMs5q6X3shTm1YXiwew0+5j6B4/vli8tqVLAYq+J8esXALAbW3lrg0O6/4W72o/oVg8gG92frv4\nZy7A0rbJxWKO714IwNf3KvceP219/7zHS15vnLKh/tlzScFrt7Oqa7fLC27L96zvnzxLHpdQPzb7\n4zp43shyn2dTN9Y/z64ouH9OX1/jzhHl3o8Ah3Yt5OqCn+MnVp/jlxbcP2dW+6c/8mxWPTkkO2k0\nNXugSJIkSZIkNWABRZIkSZIkqQELKJIkSZIkSQ20/BgokiRJkiQNN+kYKAPOHiiSJEmSJEkNWECR\nJEmSJElqwAKKJEmSJElSA46BIkmSJEnSMNMz2Am0oGHTAyUizoiIUwY7D0mSJEmS1HqGTQ+UzLxs\nsHOQJEmSJEmtqV96oEREe0Q8GBH/GhGrImJORBwREXdFxC8j4nUR8aKIuCYi7ouIuyPigIh4TkR0\nRsRuvWL9e0S0RcSsiDi7mrdPRNwUET+JiO9HxL7V/MnV690bEXf2R9skSZIkSVLr6c8eKH8DTAZm\nAsuAk4FDgLcD/wisA36WmcdHxGHAVZl5YERcC7wDuDIiXg90ZmZ3xF/8xnUHcEZm/rJa5lLgMOBc\n4K2ZuaF3Eaa3iJhZ5cTll19evNGSJEmSJKn59GcB5ZHMXAkQEfcDt2ZmRsRKoB0YDZwAkJm3RcSL\nI+KFwALqhZArQrU9XAAAIABJREFUgZOqx/8tInYB3ggs7FVU+evq/13A7Ij4FrCor6Qys4N6AQYg\n3/vP3yvQVEmSJEmSBk4SjRdSUf1ZQHmy13RPr8c91ev+uY91EvgR8DcR8RLgeOCzWyzzHOCxzDzw\nf6yceUbVI2UCsCIiDszMXz+7ZkiSJEmSpFY3mL/CcycwDSAixgObMvO3mZnAd4AvAz/fsgCSmb8F\nHomIydW6ERGvqqb3ycx7MvNcYBMwasBaI0mSJEmSmtZg/grPLOrjnNwH/AF4V6/nFlAfN2XGVtad\nBnwtIs4BdgLmA/cCX4yIlwEB3FrNkyRJkiRJelb6pYCSmZ3A2F6PZ2zluYlbWX85/OUNXZk5q9f0\nI8DRfaw3aYeTliRJkiRpmOjJwc6g9QzmLTySJEmSJEnDggUUSZIkSZKkBiygSJIkSZIkNTCYg8hK\nkiRJkqQd0POXw4ZqANgDRZIkSZIkqQELKJIkSZIkSQ1EZkv/9lFLN16SJEmSmlzT3udyW9s7m/b7\n7GHd3xqS+63lx0D5RPvJxWKd3zmXOSOnF4sHMG1jjUtHlYt55roaABcXjPm+KubStsnFYo7vXsjs\nPctuyxkbalxSsN1nVe3+wuhyMT+6ph7zsoJ5nrGuxkV7l92WH1hbNuYH1tbbXfL9M21jPWbJ42jG\nhhoP7DOhWDyA/R6+nnUHHV405qhlt7L+9YcVi7fXPbcBsGhEufPlpK65AMwbOa1YzKkb53Bb2zuL\nxQM4rPtbXFuw3ROrdi/Yo1y7pzw6B4CHx761WMx9Vt1M9/jxxeIBtC1dylObVheLt9PuYwBYNeZt\nxWKOXX0dQNH3+X4PX8+s0eX2N8CsNXO4quC57ZQN9fPlFXuVi3n6+nrM0nkuHjG1WDyA47rmcWXB\nHE+ttmV/XG9cWPBz90PV5+7CgueiyY/OKXoMQf046o9jvfRnD5S/Dr6p7aRi8QCO7p7fL+fL/jhv\nLNvzHcViHrThO8ViDUXZvLWhIctbeCRJkiRJkhqwgCJJkiRJktSABRRJkiRJkqQGLKBIkiRJkiQ1\n0PKDyEqSJEmSNNz0DHYCLcgeKJIkSZIkSQ1YQJEkSZIkSWrAAookSZIkSVIDw76AEhH/GhH7DXYe\nkiRJkiQNlCSa9m+oGvaDyGbm3w92DpIkSZIkqbkNaA+UiGiPiAerXiOrImJORBwREXdFxC8j4nUR\nMSsizu61zqpqvRdExPURcW81b0r1/NKIGFdNHx0RP62WuXUg2yZJkiRJkprXYPRA+RtgMjATWAac\nDBwCvB34R2DFVtY7GtiYmRMAIuKFvZ+MiJcAVwCHZuYjEfGivoJExMzqtbn88sufdWMkSZIkSVLz\nG4wxUB7JzJWZ2QPcD9yamQmsBNqfYb2VwBER8fmIeFNmPr7F828A7szMRwAy8zd9BcnMjswcl5nj\nZs6c+awbI0mSJEnSQOtp4r+hajAKKE/2mu7p9biHeo+YP/OXee0MkJkPAa+lXkg5PyLO3SJuANkf\nCUuSJEmSpNY2FH+FpxN4DUBEvAZ4aTU9EvhDZtaACzYv08uPgDdHxObl+7yFR5IkSZIkaXsNxV/h\n+TZwSkSsoD5GykPV/P2BL0ZED/AU8N7eK2Xmr6rxTRZFxHOA/wCOHLi0JUmSJElSsxrQAkpmdgJj\nez2esZXnjupj9U7g5j5iju81fSNwY4FUJUmSJEkasobyWCHNaijewiNJkiRJkjSkWECRJEmSJElq\nwAKKJEmSJElSAxZQJEmSJEmSGhiKv8IjSZIkSZKeQRKDnULLsQeKJEmSJElSA5GZg53DYGrpxkuS\nJElSk2vabhrXt01t2u+zE7rnDcn9Zg8USZIkSZKkBlp+DJRXjXhjsVj3dv2Qy0ZNLxYP4Ix1NS4t\nGPPMdTUAPtx+UrGYX+6cD8DsPcvlOWNDjevbphaLBzChex4/HTWxWLzXrLsWgAV7TCsWc8qjcwCY\nNbpczFlr5nDR3mWPyw+srXFO+8nF4n22cy4AVxU8hk7ZUD/WF40ol+ekrrk8NvUtxeIB7Dbvdn6x\n7zFFY77iwRt5YJ8JxeLt9/D1AFxQ8Dg6e219/yxpK3cuOqp7PitfelyxeAD7P7KYLxVs90eqdj/+\nrsOLxXzhN28FYN1B5WKOWnYrq/c/qlg8gDErl7BqzNuKxRu7+joAntq0uljMnXYfA8CyPd9RLOZB\nG77D+aPLnoM/sabWL8dlyWuYM6rrjdLXMJ0HHlksHkD7ilv65dz2wz1OKBbzjY9+G4BPF7w2OHdN\n/XrjkwU/y8/rnEttZNljffrGGh8qeM16YXXN2h/7/J6Rk4rFfP3GRUVzhHqeD499a7F4+6y6GYCL\nC77H31edN+5rL/dZfkDn4mKxhqKeIdlHo7nZA0WSJEmSJKkBCyiSJEmSJEkNWECRJEmSJElqoOXH\nQJEkSZIkabjpad4fGBqy7IEiSZIkSZLUgAUUSZIkSZKkBiygSJIkSZIkNfCsCygR0RkRu5dI5hle\n44aI2K0/X0OSJEmSpOEim/hvqBoWg8hm5rGDnYMkSZIkSWpd29UDJSJeEBHXR8S9EbEqIqZUT70v\nIn4aESsjYt9q2RdFxDURcV9E3B0RB1TzZ0XEv0XEbRHxy4g4vZo/PiLujIjvRMQDEXFZRDyneq4z\nInaPiPaI+HlEXBER90fEkoh4XrXMQdVr/SgivhgRq4ptJUmSJEmS1NK29xaeo4GNmfmqzBwL3FTN\n35SZrwG+Bpxdzfsn4GeZeQDwj8BVveIcAEwADgbOjYiR1fzXAR8B9gf2ASb1kcPLgK9m5iuBx4AT\nqvlXAmdk5sHA01trQETMjIjlEbG8o6NjO5ouSZIkSZJa1fYWUFYCR0TE5yPiTZn5eDV/UfX/J0B7\nNX0I8G8AmXkb8OKIeGH13LWZ+cfM3ATcTr1wAvDjzFydmU8D86oYW3okM1f0fr1qfJRdM/OH1fy5\nW2tAZnZk5rjMHDdz5sztaLokSZIkSWpV2zUGSmY+FBGvBY4Fzo+IJdVTT1b/n+4VM/oKscX/bZ3f\n25O9pp8GnreV15IkSZIkqSn1DHYCLWh7x0AZCfwhM2vABcBrnmHxO4Fp1Xrjqd/m89vquYkRsXNE\nvBgYDyyr5r8uIl5ajX0yBfjBtuSVmf8JPBERb6hmnbTtrZIkSZIkSXpm2/srPPsDX4yIHuAp4L3A\n1VtZdhZwZUTcB/wBeFev534MXA/sDXwmMzdGxMuBHwGfq17nTuA725HbacAVEfF7YCnw+DMvLkmS\nJEmStG229xaem4Gbt5jd3uv55dR7lJCZvwEmbiXUQ5nZ1wAkf8jMKVvOzMzNr7EJGNtr/gW9Fru/\nGrCWiPg4sPwZmiJJkiRJkrTNtrcHylA2ISI+Qb1Na4AZg5uOJEmSJEn9oyccCnSgDXgBJTNnbWX+\nUuq33uxo3AXAgh1dX5IkSZIkaWu292eMJUmSJEmSWo4FFEmSJEmSpAaaaQwUSZIkSZJaQg52Ai3I\nHiiSJEmSJEkNRGZL161auvGSJEmS1OSa9qdqFu4xrWm/z05+dM6Q3G/2QJEkSZIkSWqg5cdAeXf7\nicVifaPzauaMnF4sHsC0jTUuHVUu5pnragDUCuY5fWM95uIRU4vFPK5rHlftWXZbnrKhxkfby+X4\nhc55AMwumOeMDfVt+bnR5WJ+fE2NC/Yuuy3PXlsrniPArNHTisWctWYOAItGnFws5qSuudwzclKx\neACv37iIB19+bNGY+z50A50HHlksXvuKWwD4xb7HFIv5igdvBMq/f65vK/ceB5jQPa/4MQRwxV7l\n2n36+vr7p/T+ua3tncXiARzW/S0e2GdCsXj7PXw9AMv2fEexmAdt+A4AT21aXSzmTruP4dMFz20A\n566Z0y/H0GUFrzfOqK43Sud5S9uUYvEAjuxewDUF3+PHV+/xKwue207tp2sDgEsK7vOz1tVYsEfZ\nY33Ko3P6pd2lr1kBlrZNLhZzfPfCop89UP/8ubXg++fw7gVA/3ye9UeezapnsBNoQfZAkSRJkiRJ\nasACiiRJkiRJUgMWUCRJkiRJkhqwgCJJkiRJktRAyw8iK0mSJEnScNMzJH/ot7nZA0WSJEmSJKkB\nCyiSJEmSJEkNWECRJEmSJElqwDFQJEmSJEkaZnpwEJSBNugFlIj4DLApMy+qHp8H/AewF3AMkMBn\nM3NBRDwHuAR4M/AI9R4038jMqyPiXOA44HnAD4H3ZGYOeIMkSZIkSVLTGQq38HwdeBdAVSA5CVgP\nHAi8CjgC+GJE7AFMAtqB/YG/Bw7uFeeSzDwoM8dSL6K8baAaIEmSJEmSmtugF1AysxP4dUS8GjgK\n+BlwCDAvM5/OzG7gDuCgav7CzOzJzC7g9l6h3hIR90TESuAw4JV9vV5EzIyI5RGxvKOjo/8aJkmS\nJEn/H3v3HmZXWR78/3v/ACuKxSptQkLISNVSREWNFOQFUUAjFjVIDCERg2igyEEqPzyg6ItShKKU\ng5QMIKnuScCERMHYAEUinhCCRgiC1OJMMjlZilqQtwjM/f6xV/pOxyR7kjx7Dnt/P7nmypq117rX\nvc5r7utZz5bUMob9FZ7KNcAsYCzwZeqFlE3Z5EteEfFc4EpgUmaujojPAM/d1LSZ2QlsrJzkXX93\n67ZnLUmSJEnSMLC/iqE37C1QKouBydRbmdwC3AlMi4gdIuJPgUOAu4HvAe+OiP8vIsYAh1bzbyyW\nPBoRuwDHDGXykiRJkiSptY2IFiiZ+fuIuAP4TWY+GxGLqfdv8lPqhbWzM3N9RNwIHAasBB4GfgT8\nNjN/ExFXA/cD3cA9w7EekiRJkiSpNY2IAkrVeewBwFSA6ttz/v/q579lZl9EnJWZT0TEi6m3Srm/\n+uyTwCeHNHFJkiRJktQWhr2AEhH7AN8EFmfmvw5ilm9GxAuB5wCfrTqTlSRJkiSpbfRtsodQNdOw\nF1Ay82fAXlsx/aHNy0aSJEmSJOkPjZROZCVJkiRJkkYsCyiSJEmSJEkNDPsrPJIkSZIkaev0DXcC\nbcgWKJIkSZIkSQ1YQJEkSZIkSWogMnO4cxhObb3ykiRJktTiWvbLfueOn9myf8/OWlMbkfut7ftA\n2fCmNxaLNeaO7zB3/Mxi8QBmralx+YRyMU9bXQPguoJ5nrCmHvP8iTOKxTynp6tovI0xm7EtT++Y\nVizmZd03AHBKx3uKxbyy+2t8fmLZ4/JjPTXuf8lRxeK98pc3A7BkzPRiMd++YT4Ad46dWizmIesX\ncF7h4/Lcni5O6Hh30ZjXdd/IGR3HFot3aff1AFxU8Dg6u6d+/nx97HHFYr5r/bymXIP/tuC2/GK1\nLT/ZUW69P9c9D4BpE99VLOYNPV/nfYWPy3/qvpHPFDx/PtPTBcAFBY/Lj1fHZcnz/NyeLp5+9JFi\n8QB22m0v9h1zQLF4KzfcBcDB4w8rFvO7a24H4AMdxxSLeU33Ql72p68rFg/gX//9Xvb+s9cXi/fQ\nr+4B4NdTDy0W808WLAPg1ILPG1dUzxuln2GOnviOYvEAFvXcxCV7ljvHz1xVP8cn7X5wsZjL130X\ngNvGlNuWR2y4gb8p+CwI8I/dX+MbBe+571xfv/dcu0e5/XNib3OeDaSS2r6AIkmSJEnSaNOyzU9G\nMPtAkSRJkiRJasACiiRJkiRJUgMWUCRJkiRJkhqwDxRJkiRJkkaZvhH5PTWtzRYokiRJkiRJDVhA\nkSRJkiRJasACiiRJkiRJGjUiYnJE/DwifhERH9vE538UETdUn/8oIjpKLNc+UCRJkiRJGmX6hjuB\nYRIROwBfAo4AeoF7IuKmzPxZv8lOBH6dmS+NiGOBC4Fp27vsIW2BEhGf6Df8wog4pcH0X46IX0XE\nykHEnhoRD0REX0RMKpGvJEmSJEkaUfYHfpGZj2Tm74HrgXcOmOadwD9VwwuBwyJiu7vdHepXeD7R\nb/iFwCYLKFVFCWAuMHmQsVcCRwN3bmtykiRJkiRpRBsPrO73e281bpPTZOYzwG+BF2/vgpv2Ck9E\nfB2YADwXuBTYC9g5IlYADwA7AH9e/X4bsAT4NLAO2A/YJzPvHOy7Spn5YLXcRnnNBmYDzJkz5w/K\nVJIkSZIkafj0/7u90pmZnRs/3sQsOTDEIKbZas3sA+X9mflYROwM3AO8ETg1M/cDqAoj+/b7/VDq\nTXH2zcxfNiupaqNv3PC5YX5XsxYlSZIkSVJTtHIfKAP+bh+ol3pjjY32ANZuZpreiNgR2BV4bHvz\nauYrPKdHxE+Bu6gn/rJBzHN3M4snkiRJkiRpVLsHeFlEvCQingMcC9w0YJqbgPdVw8cA387MkdkC\npWpNcjhwYGY+GRHLqL/K08jvmpGPJEmSJEka/TLzmYg4FbiFetcgX87MByLiPGB5Zt4EXAt8NSJ+\nQb3lybEllt2sV3h2pf6VQU9GxN7AAdX4pyNip8x8GngceEGTli9JkiRJklpQZn4L+NaAcef2G/4v\nYGrp5TbrFZ6lwI4RcR/wWeqv8UD9Hab7IqIrM/8D+H5ErIyIv99UkIiYD/wQ+IuI6I2IEze3wIiY\nEhG9wIHAkoi4peQKSZIkSZKk9tWUFiiZ+RTwtk18tAz4aL/pjtvE5/3jTN+KZS4GFg86SUmSJEmS\nRqnc8hfQqgma2YmsJEmSJElSS2jm1xg3RUR8CThowOhLM/O64chHkiRJkiS1vlFXQMnMDw13DpIk\nSZIkqb2MugKKJEmSJEntrm+4E2hD9oEiSZIkSZLUQGTmcOcwnNp65SVJkiSpxbXsd9VcOWFmy/49\ne8rq2ojcb23/Cs+5HTOKxTqvu4vLJ8wsFg/gtNU1auPKxZy5tgbAkjGD/oboht6+YT4A3xg78Fup\nt90718/ju2OPKRYP4OD1C/n8xHLb8mM99W05d3y5mLPW1GP+aNzRxWL+1dpF/OzP314sHsA+/7Zk\n1GzLT3aUOy4/1z2v6HpDfd3njyt3HQKYvraLqwpei05eXd+WS8ccWyzm5A3XA/CFPcvl+ZFVNS4o\nvH8+3lMrfm0DWFQw5tFVzFsL7p+3bLi+6HpDfd2/UvAcP746x0sfQwBX71Eu5gd7a+w75oBi8QBW\nbriLpx99pFi8nXbbCyj/TARwTsFr8Pnd84ruG6jvn66Cz1kzquesD3SUe4a5pnshAL/Y563FYr70\nZ7cA5e+7N48t93wJcNT6+cwpuM9P6q3vnzvHTi0W85D1CwB478Ryz25f7VnE6tcfViwewIR7bufM\njnL3iUu66/fx9xc81r9cHevNiCmV0vYFFEmSJEmSRhv7QBl69oEiSZIkSZLUgAUUSZIkSZKkBiyg\nSJIkSZIkNWAfKJIkSZIkjTIt+xU8I5gtUCRJkiRJkhqwgCJJkiRJktSABRRJkiRJkqQGLKBIkiRJ\nkiQ10PQCSkRcExH7bOO8X46IX0XEykFMOzUiHoiIvoiYtC3LkyRJkiRpNOiL1v0ZqZpeQMnMD2Tm\nz7Zx9rnA5EFOuxI4GrhzG5clSZIkSZK0SUULKBHx/IhYEhE/jYiVETEtIpZtbBESEU9ExPnV53dF\nxJhq/JiIWFyN/2lEvAEgM+8EHhvMsjPzwcz8+SBynB0RyyNieWdn53asrSRJkiRJahelW6BMBtZm\n5qszc19g6YDPnw/clZmvpt5S5IPV+MuA71TjXws8UDiv/5aZnZk5KTMnzZ49u1mLkSRJkiRJLaR0\nAeV+4PCIuDAiDs7M3w74/PfAN6vhe4GOavjNwD8CZOazm5hPkiRJkiRV+lr4Z6TasWSwzHw4Il4H\nHAlcEBG3Dpjk6czMavjZ0suXJEmSJElqhtJ9oIwDnszMGnAx9ddxBuN24G+qGDtExB+XzEuSJEmS\nJGl7lH6F55XA3RGxAjgH+Nwg5zsDeFNE3E/91Z5XAETEfOCHwF9ERG9EnLi5ABExJSJ6gQOBJRFx\ny3ashyRJkiRJ0n8r/QrPLcDAwsWh/T7fpd/wQmBhNbwBeOcm4k3fimUvBhZvXcaSJEmSJI0+I7mv\nkFZVugWKJEmSJElSyxl1nbhGxJeAgwaMvjQzrxuOfCRJkiRJUusbdQWUzPzQcOcgSZIkSZLay6gr\noEiSJEmS1O5yuBNoQ/aBIkmSJEmS1EBktnXdqq1XXpIkSZJaXAx3As1y8Z4zW/bv2bNW1UbkfrMF\niiRJkiRJUgNt3wfKJzuOKxbrc93zuHaPmcXiAZzYW2Pu+HIxZ62pATQl5mcmzigW8zM9XXxhz7Lb\n8iOralxXcL1PqNb75rHTi8U8av18AL5SMM/j19Saclye1DG1WLw53QsAOKXjPcViXtn9NQAumFhu\n3T/eU+OG3csd5wDT1nVx59hy2xLgkPULuHXMscXivWXD9QB8tuA5/qmeLqD8/rmk8HXjzFU1frLn\nO4vFe82qbwBw+YRyeZ62un4tKr3Pl40pe1weumEBVxe8Fn2wt77eVxXclievbk7Mg8cfViwewHfX\n3M65HeXOx/O66+fj048+UizmTrvtBcDZHeXukRd1z+eigtcMgLN7alxc8Lpx1qr6MVTyXjFtXX3/\nnNFR7hy/tLt+Xb9r3NHFYh6wdhHzx5W9R05f28VZBY+hi7vrz1klnzE/Uu3zksfm2T21ovdcqN93\nP9BxTLF413QvBGBpwXvP5Op5o/TfZ1JJbV9AkSRJkiRptOkbkS+5tDZf4ZEkSZIkSWrAAookSZIk\nSVIDFlAkSZIkSZIasA8USZIkSZJGmb7hTqAN2QJFkiRJkiSpAQsokiRJkiRJDVhAkSRJkiRJaqBI\nASUifjCIaT4cEc8bxHTLImJSNXx+RKyOiCcGMd8hEfHjiHgmIo4ZXOaSJEmSJI0+2cI/I1WRAkpm\nvmEQk30YaFhAGeBmYP9BTrsKmAXM28plSJIkSZIkbVGpFihPVP8fWrUgWRgRD0VEV9SdDowD7oiI\nO6pp3xIRP6xajSyIiF0Gxs3MuzJz3WByyMzuzLwPOyOWJEmSJEmFNaMPlNdQb22yD7AXcFBmXgas\nBd6UmW+KiN2ATwKHZ+ZrgeXA3zYhlz8QEbMjYnlELO/s7ByKRUqSJEmSpFFuxybEvDszewEiYgXQ\nAXxvwDQHUC+wfD8iAJ4D/LAJufyBzOwENlZO8pN/t2woFitJkiRJUjF9I7q3kNbUjALKU/2Gn93M\nMgK4LTOnN2H5kiRJkiRJRQ3l1xg/DrygGr4LOCgiXgoQEc+LiJcPYS6SJEmSJEmDNpQFlE7gnyPi\njsz8d+rfmDM/Iu6jXlDZe+AMEXFRRPQCz4uI3oj4zOaCR8Trq2mnAnMi4oFmrIQkSZIkSWo/RV7h\nycxdqv+XAcv6jT+13/DlwOX9fv828PpNxDq03/DZwNmDzOEeYI+tzV2SJEmSJKmRZvSBIkmSJEmS\nmqhvuBNoQ6OugBIR51B/Tae/BZl5/nDkI0mSJEmSWt+oK6BUhRKLJZIkSZIkacgMZSeykiRJkiRJ\no9Koa4EiSZIkSVK7y+FOoA1FZltv9rZeeUmSJElqcTHcCTTLeRNntOzfs+f2dI3I/eYrPJIkSZIk\nSQ20/Ss8tXEzi8WaubZWNN7GmFdOKBfzlNU1AD7aMb1YzAu75wNwecE8T1tdKxpvY8zrxpeLecKa\n+ra8eM9yMc9aVY/ZVfA4mrG2xtkF9zfARd3zmbNHuRxP6q2v94LdZxSLOXVdFwAXTSyX59k9NT5f\nMB7Ax3pqRXOEep6XFDwuz6yOy5vHljuOjlpfv26UPiebcQ0+q+D5c3F1vWzG+XNBwePo4z01ri2Y\nI8CJvTW+UnB/H19dg5txj7y64Lp/sLfGBzqOKRYP4JruhZzTcVyxeOd3zwMoeq+4qDrWn370kWIx\nd9ptr6Zcg99fcP98uXshACd0vLtYzOu6bwSac4+8dcyxxWK+ZcP1rJp0WLF4AHsuv70p955mXINL\nxyx5H4f6vXzlXn9dLN6+j3wTKP/8D3BuR7lj/bzurmKxJLCAIkmSJEnSqNM33Am0IV/hkSRJkiRJ\nasACiiRJkiRJUgMWUCRJkiRJkhqwDxRJkiRJkkaZvhH5Rb+tzRYokiRJkiRJDVhAkSRJkiRJasAC\niiRJkiRJUgNNLaBExOkR8WBEdG3DvFMj4oGI6IuISQ2mfXFE3BERT0TEFduesSRJkiRJ0h9qdiey\npwBvy8xfbsO8K4GjgTmDmPa/gE8B+1Y/kiRJkiS1rD5yuFNoO01rgRIRVwF7ATdFxG8j4qx+n62M\niI7q58GIuLpqbXJrROwMkJkPZubPB7OszPxdZn6PeiFFkiRJkiSpqKYVUDLzZGAt8Cbgki1M+jLg\nS5n5CuA3wLublRNARMyOiOURsbyzs7OZi5IkSZIkSS2i2a/wDMYvM3NFNXwv0NHMhWVmJ7CxcpK1\nz9zZzMVJkiRJkqQWMFQFlGf4n61dnttv+Kl+w88COw9JRpIkSZIkjVL2gDL0huprjLuB1wJExGuB\nlwzRciVJkiRJkrbbUBVQbgReFBErgL8BHm40Q0RMiYhe4EBgSUTc0mD6buCLwKyI6I2IfbY/bUmS\nJEmSpCa/wpOZHf1+fctmJvvvrx3OzIv7DS8GFm/jsiRJkiRJkooZCZ3ISpIkSZKkrdA33Am0oVFV\nQImItwIXDhj9y8ycMhz5SJIkSZKk9jCqCiiZeQuwxb5QJEmSJEmSShuqTmQlSZIkSZJGrVHVAkWS\nJEmSJEEfOdwptB1boEiSJEmSJDUQmW1dtWrrlZckSZKkFhfDnUCzfLRjesv+PXth9/wRud/a/hWe\n/ce9sVisu9d+hzl7zCwWD+Ck3lrRmCf11gC4YGK5mB/vqce8c+zUYjEPWb+AKyeU3ZanrK6xdMyx\nxeJN3nA9ALePmVYs5mEbbgBgwe4zisWcuq6rKdvy4x3HFYt3Qfc8AD47sdx6f6qnC4CuceXWfcba\nGj/787cXiwewz78t4baCxxDAERtu4Ntj3lMs3ps3fA2AywseR6etrl83rioY8+TVtaLXIahfixYW\nPB+PWVeMOrzVAAAgAElEQVQ/Lkvu8yOq60bJY3Off1vCrQWvlwBv2XA9N4+dXizeUevnA9C93xHF\nYnasuA0ov39e9qevKxYP4F///V6uLvhs8MHq2eCigs8GZ1fPBp8vGPNjPTWefvSRYvEAdtptL36w\n+7uLxXvDuhsBOL2j3DF0WXf9HJ87vty2nLWmvn9KP2M24xp8Q8Fr8LTqGnxfx1HFYr6q+2ag/HPw\n18eWe84CeNf6eU15NvhKwePy+Oq4XH/IocVijr1zWbFYEvgKjyRJkiRJUkNt3wJFkiRJkqTRpmXf\n3xnBbIEiSZIkSZLUgAUUSZIkSZKkBiygSJIkSZIkNWAfKJIkSZIkjTJ9w51AG7IFiiRJkiRJUgMW\nUCRJkiRJkhqwgCJJkiRJktTAsBdQImJWRFyxmc++HBG/ioiVg4gzNSIeiIi+iJhUPlNJkiRJkkaG\nPrJlf0aqYS+gNDAXmDzIaVcCRwN3Ni0bSZIkSZLUlooVUCLi6xFxb9UKZHY17omIuLAa/y8RsX9E\nLIuIRyLiHf1mnxARSyPi5xHx6Y0jM/NO4LHBLD8zH8zMnw8iz9kRsTwilnd2dm7takqSJEmSpDZU\nsgXK+zPzdcAk4PSIeDHwfGBZNf5x4HPAEcAU4Lx+8+4PzAD2A6Y28xWczOzMzEmZOWn27NnNWowk\nSZIkSWohOxaMdXpETKmGJwAvA34PLK3G3Q88lZlPR8T9QEe/eW/LzP8AiIhFwP8ClhfMTZIkSZKk\nljFyewppXUUKKBFxKHA4cGBmPhkRy4DnAk9n5sb92gc8BZCZfRHRf9kD973HgiRJkiRJGjFKvcKz\nK/DrqniyN3DAVs5/RES8KCJ2Bt4FfL9QXpIkSZIkSdutVAFlKbBjRNwHfBa4ayvn/x7wVWAFcGNm\nLgeIiPnAD4G/iIjeiDhxcwEiYkpE9AIHAksi4pZtWA9JkiRJkqQ/UOQVnsx8CnjbJj7apd80nxkw\nzy7V/3Opf13xpuJO34ocFgOLBzu9JEmSJEnSYJXsRFaSJEmSJA2BvuFOoA2NugJKRHwJOGjA6Esz\n87rhyEeSJEmSJLW+UVdAycwPDXcOkiRJkiSpvZTqRFaSJEmSJKlljboWKJIkSZIktbskhzuFthOZ\nbb3R23rlJUmSJKnFxXAn0Cynd0xr2b9nL+u+YUTuN1/hkSRJkiRJaqDtX+H5zMQZ5WL1dHHJnjOL\nxQM4c1WNuePLxZy1pgZAbVy5mDPX1mMuGntcsZhHr5/H0jHHFosHMHnD9Vwxodx6n7q6vt7fHvOe\nYjHfvOFrAMwfV+64nL62q2i8jTEvLXisn7Gqvi2bEfPzE8vF/FhPrei5A/Xzp+QxBPXj6Oax04vF\nO2r9fKD8OQ5w9R7ltucHe2tFr+lQv643Y727Ch5HM6pr8NcL5vmu9fP4SsF7D8Dxa2pcVzDmCdX9\n7OKC142zVjVnW+79Z68vFg/goV/d05RjqBnb8v0dxxSL+eXuhfxg93cXiwfwhnU38vSjjxSLt9Nu\newFw9MR3FIu5qOcmAO4ZP6VYzNevWQxQ/Bmz5DEE9eOoGfezx0+eXCzmC65aCsD5Be8/5xS+90D9\n/nN2R7lteVF3fVuWvl5Cc54HpVLavoAiSZIkSdJo0zfcCbQhX+GRJEmSJElqwAKKJEmSJElSAxZQ\nJEmSJEmSGrAPFEmSJEmSRpk+WvZbjEcsW6BIkiRJkiQ1YAFFkiRJkiSpAQsokiRJkiRJDTStgBIR\n3RGx23bGWBoRv4mIbw5i2lMj4hcRkdu7XEmSJEmSpP5GZAuUiNjYue3fA+8d5GzfBw4HepqSlCRJ\nkiRJI0S28M9IVaSAEhHPj4glEfHTiFgZEdOqj06LiB9HxP0RsXc17f4R8YOI+En1/19U42dFxIKI\nuBm4FSAzbwceH0wOmfmTzOweRK6zI2J5RCzv7OzcltWVJEmSJEltplQLlMnA2sx8dWbuCyytxj+a\nma8F/hE4qxr3EHBIZr4GOBf4u35xDgTel5lvLpTXH8jMzsyclJmTZs+e3azFSJIkSZKkFlKqgHI/\ncHhEXBgRB2fmb6vxi6r/7wU6quFdgQURsRK4BHhFvzi3ZeZjhXKSJEmSJEkqYsfGkzSWmQ9HxOuA\nI4ELIuLW6qOnqv+f7beszwJ3ZOaUiOgAlvUL9bsS+UiSJEmS1Mr6RnRvIa2pSAElIsYBj2VmLSKe\nAGZtYfJdgTXV8JamkyRJkiRJGhFKvcLzSuDuiFgBnAN8bgvTXkS9lcr3gR22FDQivgssAA6LiN6I\neOsWpj09InqBPYD7IuKarV0JSZIkSZKkTSn1Cs8twC0DRnf0+3w5cGg1/EPg5f2m+1Q1fi4wd0Dc\ng7cih8uAywadtCRJkiRJ0iAVKaBIkiRJkqSh0zfcCbShUVdAiYjFwEsGjP5o1QpGkiRJkiSpuFFX\nQMnMKcOdgyRJkiRJai+lOpGVJEmSJElqWaOuBYokSZIkSe0uyeFOoe1EZltv9LZeeUmSJElqcTHc\nCTTLBzqOadm/Z6/pXjgi95uv8EiSJEmSJDXQ9q/wTNnzqGKxFq+6mbnjZxaLBzBrTY0rJpSLeerq\nGgALd59RLOYx67oAOKtjerGYF3fPL7reUF/3Gwqu97RqvZeMKbfeb98wH4D548rlOX1tF1cV3pYn\nr65x8Z7lYp61qn5cXr1HuZgf7K3HXDrm2GIxJ2+4npvHltvfAEetn8+1Bdcb4MTeWtFr0aw19W3Z\njH1+bke5Y/287i7mFN6WJ/XWuK7gtjyh2pZd48rFnLG2OTGbcQ1uxv3sB7u/u1jMN6y7EaD4Pv/1\n1EOLxQP4kwXL+EDHMcXiXdO9EKAp98gTOsrtn+u6b+T0jmnF4gFc1n0DR098R7F4i3puAuDpRx8p\nFnOn3fYCYMfnjC8W85nfrwHg+c/rKBbzd092F32uhvqz9Zhd9y4Wb8NvHwJgzxe9sljMVY/dD8AX\nCt4jP7Kq1pRnt0VjjysW7+j18wA4f2K568Y5PfXrRsl1P7m6V0il2AJFkiRJkiSpgbZvgSJJkiRJ\n0mjTN9wJtCFboEiSJEmSJDVgAUWSJEmSJKkBCyiSJEmSJEkN2AeKJEmSJEmjTJLDnULbsQWKJEmS\nJElSAxZQJEmSJEmSGhjSAkpEfKLf8Asj4pQtTDshIu6IiAcj4oGIOKNB7KnVdH0RMalk3pIkSZIk\nqb0NdQuUT/QbfiGwyQJKROwAPAN8JDP/EjgA+FBE7LOF2CuBo4E7C+UqSZIkSdKI1NfCPyNV0zqR\njYivAxOA5wKXAnsBO0fECuABYAfgz6vfbwOWAJ8G1gH7ZeY+1TCZ+XhEPAiMB362qeVl5oPVcpu1\nSpIkSZIkqU0181t43p+Zj0XEzsA9wBuBUzNzP4CI6AD27ff7ocD+1bhf9g9UTfsa4Efbm1REzAZm\nA8yZM2d7w0mSJEmSpDbQzALK6RExpRqeALxsEPPcvYniyS7AjcCHM/M/tzepzOwEOjf++s+fu3l7\nQ0qSJEmSpBbXlAJK1ZrkcODAzHwyIpZRf5Wnkd8NiLMT9eJJV2YuKp2nJEmSJEmjUV/mcKfQdprV\nieyuwK+r4sne1DuBBXi6KooAPA68YHMBot6ZybXAg5n5xSblKUmSJEmS1FCzCihLgR0j4j7gs8Bd\n1fhO4L6I6MrM/wC+HxErI+LvNxHjIOC9wJsjYkX1c+TmFhgRUyKiFzgQWBIRtxRdI0mSJEmS1Laa\n8gpPZj4FvG0THy0DPtpvuuM28fnGz74HDPordTJzMbB4a/KUJEmSJEkajGa1QJEkSZIkSWoZzfwW\nnqaIiC9Rf72nv0sz87rhyEeSJEmSpKFmF7JDb9QVUDLzQ8OdgyRJkiRJai++wiNJkiRJktSABRRJ\nkiRJkqQGRt0rPJIkSZIktbs+e0EZcpHZ1hu9rVdekiRJklpcDHcCzXLcxCkt+/fsvJ7FI3K/tX0L\nlIf/cnKxWC9/cClXTZhZLB7AyatrfGV8uZjHr6kBcO0e5WKe2FuPuWTM9GIx375hPjePLRcP4Kj1\n8zlv4oxi8c7t6QLgnI7jisU8v3seABdNLLd/zu4pewxB/Ti6Yfdy23Lauvq2LH0MAZzbUS7P87q7\nOL/gMQRwTk9X0f0N9X1+ZcFr0Smr6+d4bVy5mDPX1mOWPM+PWj+fhQWPS4Bj1nXx0Y5yOV7YXT8u\n5xS8Bp9UXYMvKHgcfbynVjRHqOd5yZ7lYp65qr7ezbiuf77gtvxYT41TO6YViwdwRfcN/GKftxaL\n99Kf3QLAGR3HFot5aff1ACwoeE5OXdfF3ML3s1lratwzfkqxeK9fsxiAHZ8zvljMZ36/BoCnH32k\nWMyddtsLgIdefmSxmHs//K2i5zjUz/Pvjj2mWLyD1y8EYMXEdxSLuV/PTUD56/qlhbflGauacw0u\nmecZTYwplWIfKJIkSZIkSQ20fQsUSZIkSZJGm7RHiiFnCxRJkiRJkqQGLKBIkiRJkiQ1YAFFkiRJ\nkiSpAftAkSRJkiRplOkb7gTakC1QJEmSJEmSGrCAIkmSJEmS1IAFFEmSJEmSpAaaXkCJiGsiYp9t\nmG9CRNwREQ9GxAMRcUaD6adW0/VFxKRtz1iSJEmSJOl/anonspn5gW2c9RngI5n544h4AXBvRNyW\nmT/bzPQrgaOBOdu4PEmSJEmSRoU+crhTaDtFW6BExPMjYklE/DQiVkbEtIhYtrFFSEQ8ERHnV5/f\nFRFjqvFjImJxNf6nEfGGzFyXmT8GyMzHgQeB8ZtbdmY+mJk/H0SOsyNieUQs7+zsLLPikiRJkiSp\npZV+hWcysDYzX52Z+wJLB3z+fOCuzHw1cCfwwWr8ZcB3qvGvBR7oP1NEdACvAX60vQlmZmdmTsrM\nSbNnz97ecJIkSZIkqQ2ULqDcDxweERdGxMGZ+dsBn/8e+GY1fC/QUQ2/GfhHgMx8tv98EbELcCPw\n4cz8z8L5SpIkSZIkNVS0D5TMfDgiXgccCVwQEbcOmOTpzNz4otazjZYfETtRL550ZeaikrlKkiRJ\nkjRapX2gDLnSfaCMA57MzBpwMfXXcQbjduBvqhg7RMQfR0QA1wIPZuYXS+YpSZIkSZK0NUq/wvNK\n4O6IWAGcA3xukPOdAbwpIu6n/mrPK4CDgPcCb46IFdXPkZsLEBFTIqIXOBBYEhG3bM+KSJIkSZIk\nbVT6FZ5bgIGFi0P7fb5Lv+GFwMJqeAPwzk2EjK1Y9mJg8VakK0mSJEmSNChFCyiSJEmSJKn5+oY7\ngTY06gooEfEl6q/39HdpZl43HPlIkiRJkqTWN+oKKJn5oeHOQZIkSZIktZfSnchKkiRJkiS1nFHX\nAkWSJEmSpHaXmcOdQtuJNt/obb3ykiRJktTiBv3NrqPNlD2Patm/ZxevunlE7re2b4Gy9g1vKhZr\n3A/uYO74mcXiAcxaUysac9aaGgAX71ku5lmr6jFvGzOtWMwjNtxAbVzZbTlzbY2rJpSLefLq+nqf\nP3FGsZjn9HQBcHbH9GIxL+qez+UF1xvgtNU1Fu5ebr2PWVdf766C+3zG2vr++WzB/fOpnq6i5w7U\nz59LC8c8Y1WNSwrGPLM6x5tx/nx/7DHFYh60fiFfKXwNPn5NjS8U3JYfqbZlM/ZP6WvRFYWvG6eu\nrrGg4HVjanXdOKfjuGIxz++eB1B03U9dXeP0jnL3R4DLum9oyrPBXeOOLhbzgLWLALh1zLHFYr5l\nw/XM2aPscXlSb3Oes57/vI5iMX/3ZDcAD738yGIx9374WwA8/egjxWLutNteXF14/3ywt9aU9W7G\nPp8/rtz1bfrarqL3XKjfd68tuH9O7K2vdzOeB0vey4+v9o9Uin2gSJIkSZIkNWABRZIkSZIkqYG2\nf4VHkiRJkqTRps8uPYecLVAkSZIkSZIasIAiSZIkSZLUgAUUSZIkSZKkBuwDRZIkSZKkUaZvuBMY\noSLiRcANQAfQDbwnM389YJqJwCJgB2An4PLMvKpRbFugSJIkSZKkVvEx4PbMfBlwe/X7QOuAN2Tm\nfsBfAR+LiHGNAltAkSRJkiRJreKdwD9Vw/8EvGvgBJn5+8x8qvr1jxhkbaRIASUifjCIaT4cEc8b\nxHTLImJSRDwvIpZExEMR8UBEfL7BfIdExI8j4pmIOGZr8pckSZIkSS1hTGauA6j+/7NNTRQREyLi\nPmA1cGFmrm0UuEgBJTPfMIjJPgw0LKAMcHFm7g28BjgoIt62hWlXAbOAeVu5DEmSJEmSRpVs4X8R\nMTsilvf7md1/3SPiXyJi5SZ+3jno7Ze5OjNfBbwUeF9EjGk0T5FOZCPiiczcJSIOBT4DPArsC9wL\nzAROA8YBd0TEo5n5poh4C/C/qTeX+TfghMx8ot/KPAncUQ3/PiJ+DOyxuRwys7vKZYt96VQbfjbA\nnDlz+OttWWFJkiRJktQUmdkJdG7h88M391lEbIiI3TNzXUTsDvyqwbLWRsQDwMHAwi1N24w+UF5D\nvbXJPsBewEGZeRmwFnhTVTzZDfgkcHhmvhZYDvzt5gJGxAuBo6h3ALNdMrMzMydl5qTZs2c3nkGS\nJEmSJI0WNwHvq4bfB3xj4AQRsUdE7FwN/wlwEPDzRoGbUUC5OzN7M7MPWEH9q4MGOoB6geX7EbGC\n+kpN3FSwiNgRmA9clpmPNCFfSZIkSZLUGj4PHBER/wocUf1O1dfqNdU0fwn8KCJ+CnyHevch9zcK\nXOQVngGe6jf87GaWEcBtmTl9EPE6gX/NzH8okZwkSZIkSaNdHzncKYxImfkfwGGbGL8c+EA1fBvw\nqq2NPZRfY/w48IJq+C7qncK+FKD6xp2XD5whIj4H7Er9lSBJkiRJkqRhMZQFlE7gnyPijsz8d+rf\nmDO/+tqgu4C9+08cEXsA51B/1efHEbEiIj6wueAR8fqI6AWmAnOqTmAkSZIkSZK2W5FXeDJzl+r/\nZcCyfuNP7Td8OXB5v9+/Dbx+E7EO7fdrbEUO97CFb+mRJEmSJEnaVkPZAkWSJEmSJGlUakYnsk0V\nEedQf02nvwWZef5w5CNJkiRJ0lDLtBPZoTbqCihVocRiiSRJkiRJGjK+wiNJkiRJktSABRRJkiRJ\nkqQGos3fm2rrlZckSZKkFjfob3Ydbd464W0t+/fsLav/eUTuN1ugSJIkSZIkNTDqOpEt7byJM4rF\nOreniysnzCwWD+CU1TUu2bNczDNX1QC4tGDMM6qY5xfcluf0dPGV8WW35fFrakVjHr+medty4e7l\ntuUx67q4rvC2PGFNrfj+BvjbjmOLxfxi9/UAXLtHuXU/sbfGkjHTi8UDePuG+Swae1zRmEevn0dt\nXLn1nrm2flwuHVNu/0zeUN8/cwrun5N6a0XjbYxZcv8cvX4eAHMLnpOzqmvRbWOmFYt5xIYb+Ebh\n4/Kd6+dxdcH988He+no341i/oeA1eNq6Lo6e+I5i8QAW9dzEzWPLXYuOWj8fgPnjyq339LX16/qq\nSYcVi7nn8tu5c+zAL2LcPoesX8DFBe/jZ1X38Sl7HlUs5uJVNwM05Xmw9Dn59KOPFIsHsNNue3FK\nx3uKxbuy+2sAXF7wef201fVtWfp5oxnPwV8oeAx9pDqGSt/HAS6aWC7m2T21YrEksAWKJEmSJElS\nQ23fAkWSJEmSpNEm7dJzyNkCRZIkSZIkqQELKJIkSZIkSQ1YQJEkSZIkSWrAPlAkSZIkSRpl+uwD\nZcjZAkWSJEmSJKkBCyiSJEmSJEkNNLWAEhGnR8SDEdG1DfP+fUQ8FBH3RcTiiHjhFqZ9cUTcERFP\nRMQV25e1JEmSJEnS/9TsFiinAEdm5oxtmPc2YN/MfBXwMPDxLUz7X8CngLO2YTmSJEmSJElb1LQC\nSkRcBewF3BQRv42Is/p9tjIiOqqfByPi6oh4ICJujYidATLz1sx8pprlLmCPzS0rM3+Xmd+jXkiR\nJEmSJKmlZWbL/oxUTSugZObJwFrgTcAlW5j0ZcCXMvMVwG+Ad29imvcD/1wir4iYHRHLI2J5Z2dn\niZCSJEmSJKnFjYSvMf5lZq6ohu8FOvp/GBHnAM8AW92PyqZkZiewsXKS553/nRJhJUmSJElSCxuq\nAsoz/M/WLs/tN/xUv+FngZ03/hIR7wP+GjgsR3I7HkmSJEmS1NKGqoDSTb0QQkS8FnhJoxkiYjLw\nUeCNmflkU7OTJEmSJGkU6cM2BkNtqAooNwLHR8QK4B7q36rTyBXAHwG3RQTAXVW/KpsUEd3AHwPP\niYh3AW/JzJ9tb+KSJEmSJElNLaBkZke/X9+ymcn27Tf9xf2GX7ody5IkSZIkSSqmad/CI0mSJEmS\n1CpGwrfwDFpEvBW4cMDoX2bmlOHIR5IkSZKk4ZD2gTLkRlUBJTNvAW4Z7jwkSZIkSVJ78RUeSZIk\nSZKkBiygSJIkSZIkNRCZbf3eVFuvvCRJkiS1uBjuBJrlkPGHtezfs3euuX1E7jdboEiSJEmSJDUw\nqjqRbYa1b3hTsVjjfnAHV02YWSwewMmra3xlfLmYx6+pAXDpnuVinrGqHnPpmGOLxZy84XrO7ZhR\nLB7Aed1dXFFw/5y6ur7en59YLubHepoTs+QxBPXj6FsF9/eRG64HYOHu5fb5Meu6ALi84D4/bXWN\nj3ccVywewAXd87i44PkIcNaqWlOOy9LbEsrv8zl7lN2WJ/XWmnK9vKjg/jm72j9ndUwvFvPi7vmj\n5n52Zke5a9El3fVrUenz55LC5/iZq2pFj/WTeptzDAHcPLZczKPWz+eGgtcMgGnruornCDBm172L\nxdzw24cA+O7YY4rFPHj9QgAeevmRxWLu/fC3OKXjPcXiAVzZ/TWefvSRYvF22m0voPwzK8Dcgte3\nWWtqTXk2KJ0jwLfHlNvnb97wNaA5+0cqxRYokiRJkiRJDVhAkSRJkiRJaqDtX+GRJEmSJGm0adke\nZEcwW6BIkiRJkiQ1YAFFkiRJkiSpAQsokiRJkiRJDdgHiiRJkiRJo0yfvaAMOVugSJIkSZIkNTDs\nBZSImBURV2xi/ISIuCMiHoyIByLijAZxplbT9UXEpOZlLEmSJEmS2s2wF1C24BngI5n5l8ABwIci\nYp8tTL8SOBq4cyiSkyRJkiRJ7aNYASUivh4R91atQGZX456IiAur8f8SEftHxLKIeCQi3tFv9gkR\nsTQifh4RnwbIzHWZ+eNq+HHgQWD85pafmQ9m5s9LrY8kSZIkSSNVH9myPyNVyRYo78/M1wGTgNMj\n4sXA84Fl1fjHgc8BRwBTgPP6zbs/MAPYD5g68BWciOgAXgP8aHuTjIjZEbE8IpZ3dnZubzhJkiRJ\nktQGSn4Lz+kRMaUangC8DPg9sLQadz/wVGY+HRH3Ax395r0tM/8DICIWAf8LWF79vgtwI/DhzPzP\n7U0yMzuBjZWTXDt3/vaGlCRJkiRJLa5IASUiDgUOBw7MzCcjYhnwXODpzNzY/qYPeAogM/siov+y\nB7bRySruTtSLJ12ZuahErpIkSZIkSVurVAuUXYFfV8WTval3+ro1joiIFwH/B3gX8P6ICOBa4MHM\n/GKhPCVJkiRJGvX+X1sFDZVSfaAsBXaMiPuAzwJ3beX83wO+CqwAbszM5cBBwHuBN0fEiurnyM0F\niIgpEdELHAgsiYhbtmVFJEmSJEmSBirSAiUznwLetomPduk3zWcGzLNL9f9cYO4mYn4PiK3IYTGw\neLDTS5IkSZIkDVbJb+GRJEmSJElqSSW/hWdIRMSXqL/e09+lmXndcOQjSZIkSZJa36groGTmh4Y7\nB0mSJEmShlPfH3yZrZrNV3gkSZIkSZIasIAiSZIkSZLUgAUUSZIkSZKkBiKzrd+bauuVlyRJkqQW\nF8OdQLO8ftwhLfv37D1r7xyR+23UdSJb2tkd04vFuqh7PldMmFksHsCpq2vMHV8u5qw1NQAu2bNc\nzDNX1WN+a8yxxWIeueF65o+bUSwewPS1XVxacL3PqNZ74e7l8jxmXRcA3xh7XLGY71w/r+gxBPXj\nqOSxfurq+ra8aGK5mGf31GOW3udXFj7HT1ld4+ax5a5DAEetn8+Cgsfl1Oq4LHlOTl9bj/mFgvvn\nI6tqReNtjLm04LVt8obrAbiu4Dl5wprRcw1uxjF0ccF9flZ1XS95Th61fj6Tdj+4WDyA5eu+y51j\npxaLd8j6BUD58xFgzh7lYp7UW+O+jqOKxQN4VffNPH7y5GLxXnDVUgD2fNEri8Vc9dj9AKyY+I5i\nMffruQmg+DPm5YXvkaetbs41+OlHHykWc6fd9gLghoL33WnruprybHBOR7nny/O75wHljyGg6LPW\nKdUzplSKr/BIkiRJkiQ1YAFFkiRJkiSpgbZ/hUeSJEmSpNGmzfszHRa2QJEkSZIkSWrAAookSZIk\nSVIDFlAkSZIkSZIasA8USZIkSZJGmT7sA2Wo2QJFkiRJkiSpAQsokiRJkiRJDTStgBIR3RGx23bM\nv19E/DAiHoiI+yJiWoPpT42IX0REbs9yJUmSJEmSBhqRLVAiYkfgSeD4zHwFMBn4h4h44RZm+z5w\nONAzBClKkiRJkqQ2UqQT2Yh4PvA1YA9gB+Cz1UenRcRRwE7A1Mx8KCL2B/4B2Bn4P8AJmfnziJgF\nvB14LvD8zHzzxviZuTYifgX8KfCbTeWQmT+pcmmU62xgNsCcOXO2aX0lSZIkSRpOmXYiO9RKtUCZ\nDKzNzFdn5r7A0mr8o5n5WuAfgbOqcQ8Bh2Tma4Bzgb/rF+dA4H39iycAVdHlOcC/bW+imdmZmZMy\nc9Ls2bO3N5wkSZIkSWoDpQoo9wOHR8SFEXFwZv62Gr+o+v9eoKMa3hVYEBErgUuAV/SLc1tmPtY/\ncETsDnyVekuVvkL5SpIkSZIkDVqRAkpmPgy8jnoh5YKIOLf66Knq/2f5f68LfRa4o2qpchT1V3Y2\n+l3/uBHxx8AS4JOZeVeJXCVJkiRJkrZWqT5QxgGPZWYtIp4AZm1h8l2BNdXwZqeLiOcAi4GvZOaC\nEhHe2fIAACAASURBVHlKkiRJktQK+rAPlKFW6hWeVwJ3R8QK4Bzgc1uY9iLqrVS+T73D2c15D3AI\nMCsiVlQ/+21u4og4PSJ6qXdke19EXLPVayFJkiRJkrQJRVqgZOYtwC0DRnf0+3w5cGg1/EPg5f2m\n+1Q1fi4wt988NaC2FTlcBly2NXlLkiRJkiQNRqkWKJIkSZIkSS2rSAuUoRQRi4GXDBj90aoVjCRJ\nkiRJLS/tA2XIjboCSmZOGe4cJEmSJElSe/EVHkmSJEmSpAYsoEiSJEmSJDUQmW393lRbr7wkSZIk\ntbgY7gSaZd8xB7Ts37MrN9w1IvebLVAkSZIkSZIaGHWdyJZ2Vsf0YrEu7p7Pgt1nFIsHMHVdF1fv\nMbNYvA/21gCK5jl1XRcAXx97XLGY71o/j7ML7huAi7rnc9WEctvy5NX1bXnJnuVinrmqHvO9E48u\nFvOrPYs4s+PYYvEALum+niVjyu2ft2+YD9CUY/2hlx9ZLObeD3+L5Xu8q1g8gEm9X2dRwXMH4Oj1\n81g6ptw+n7zhegBq48rtn5lr6/tnTsF9flJvjfs6jioWD+BV3Tc35bi8suC16JTqWjR3fLmYs9bU\niq431Nd92ZipxeIdumEBAD8aV+56+VdrFwEUz/O2MdOKxQM4YsMNxe8TABdNLLfPz+5pzjl+59hy\n+wbgkPULOH9iuWeic3rqz0RfKPhs8JFVzdmWAPPHlVv36Wu7uLbwdePE3lrxaxvADQWfg6dVz8FP\nP/pIsZg77bZXU471355weLF4u173LwA8+tY3Fou52y3fAWDDoYcWizlm2bJisSSwBYokSZIkSVJD\nFlAkSZIkSZIaaPtXeCRJkiRJGm3S70QZcrZAkSRJkiRJasACiiRJkiRJUgMWUCRJkiRJkhqwDxRJ\nkiRJkkaZvrQPlKFmCxRJkiRJkqQGhrSAEhGf6Df8wog4ZQvTPjci7o6In0bEAxHxvxvEPjUifhER\nGRG7lcxbkiRJkiS1t6FugfKJfsMvBDZZQImIHYCngDdn5quB/YDJEXHAFmJ/Hzgc6CmUqyRJkiRJ\nEtDEPlAi4uvABOC5wKXAXsDOEbECeADYAfjz6vfbgCXAp4F1wH6ZuQ/wRBVup+pnsy95ZeZPquU2\nyms2MBtgzpw527h2kiRJkiQNn9z8n8dqkmZ2Ivv+zHwsInYG7gHeCJyamfsBREQHsG+/3w8F9q/G\n/bIatwNwL/BS4EuZ+aPtTSozO4HOjb+e9Xd3bG9ISZIkSZLU4pr5Cs/pEfFT4C7qLVFeNoh57t5Y\nPAHIzGerAssewP4RsW9zUpUkSZIkSdq8phRQqtYkhwMHVn2Y/IT6qzyN/G5TIzPzN8AyYHKhFCVJ\nkiRJkgatWa/w7Ar8OjOf/L/s3XeYJFXZ/vHvTZAcBZfMAoKICBJFQCUpQVEyIihJAQNBXjNINIEY\nECUrKruLkpOSYUEyLGHJ8hOXvOuLrySRuM/vj3Oa6Zmd2ZmpOrUzvXN/rmuuma7ufuZUn6rqqlPn\nPEfSykAr+esbkmaPiDeAl4D5+gogaVHgjYh4Pg8D2gw4pqHympmZmZmZmXWMqeEcKDNaU0N4Lgdm\nkzQROJo0jAdS7pGJksZGxL+AmyTdL+knvcRYHLgux7gDuCoiLu3rH0o6QNJTpOE+EyWdXnKFzMzM\nzMzMzGzkaqQHSkS8BmzZy1PjgW+1ve6zvTzfem4isMYg/ucvgV8OppxmZmZmZmZmZgPRZBJZMzMz\nMzMzM7OZQpPTGDdC0gXAcj0WfysirhiK8piZmZmZmZnZzK/jGlAiYtuhLoOZmZmZmZnZUAqcRHZG\n8xAeMzMzMzMzM7N+uAHFzMzMzMzMzKwfipE9d/SIXnkzMzMzM7OZnIa6AE1ZcdG1Ztrr2Uf/d8Kw\nrLeOy4FiZmZmZmZmNtJNHdmdIYbEiG9A+c7ozxaL9aNJ4/jNUrsViwew91NjOGPJcjH3fHoMAMcv\nUy7mgU+kmGOWKBdzt2fGcOFi5eoGYJvJ4zhn8V2Lxdvx2bEAXD7qM8VibjHlj43EvGSxXYrFA9h6\n8llFt/W9n0rbUMk632byOAD+UHD/+fzTY/jzqLKf5SemnMWVBesb4ONT/li0nJ+YchYA40ftWCzm\nRlPOAcofN0oeLyEdM29dYrti8dZ75nwALiq4rX86b+t3LrVNsZhrP3UhNyxWrr4BPjL5nEaOl8cV\n/D77ev4+O79g/Ww3eRxfGr1TsXgAJ006myfX2bRYvKXvuAaAo5ct9x35vcfTd+TPC9bP155o5tyg\ndH0DnLx0ufXe78nmzt1Kl7Pkdy6k790m9vGS50VbT07fkSWPmR+ZfA5vPPdYsXgAsy+yfCPfZzcv\nvn2xmOs/ex4AtxUs5wdzOc1KcQ4UMzMzMzMzM7N+uAHFzMzMzMzMzKwfI34Ij5mZmZmZmVmnCc+J\nMsO5B4qZmZmZmZmZWT/cgGJmZmZmZmZm1g83oJiZmZmZmZmZ9cM5UMzMzMzMzMw6TMTUoS7CiOMe\nKGZmZmZmZmZm/Wi8AUXS6ZJWqfC+OSXdLuleSQ9IOrKf139V0v+TFJIWqV5iMzMzMzMzM7PuGh/C\nExFfqPjW14BNIuJlSbMDN0q6LCJu7eP1NwGXAuMr/j8zMzMzMzMzs14V7YEiaR5Jf869Ru6XtLOk\n8ZLWzs+/LOkH+flbJY3Ky0dJuiAvv1fS+pG8nEPPnn/6nOg6Iu6OiEkl18fMzMzMzMxsOJpKzLQ/\nw1XpITxbAM9ExOoRsSpweY/n5wFujYjVgRuAL+blvwSuz8vXBB4AkDSrpHuAfwJXRcRtdQsoaR9J\nd0q689RTT60bzszMzMzMzMxGgNINKPcBm0k6RtKHI+KFHs+/ThpmAzABGJ3/3gQ4CSAi3mq9L//9\nAWApYF1Jq9YtYEScGhFrR8Ta++yzT91wZmZmZmZmZjYCFG1AiYi/AWuRGlJ+JOmwHi95IyJa/XHe\nYoA5WCLieVJuky0KFdXMzMzMzMzMbMBK50BZAnglIsYAx5GG4wzENcCXcoxZJc0vaVFJC+ZlcwGb\nAQ+XLK+ZmZmZmZmZ2UCUHsLzfuD2nLfkEOD7A3zfgcDGku4jDe15H7A4cJ2kicAdpBwol/YVQNIB\nkp4iDfeZKOn0GuthZmZmZmZmNmxFxEz7M1wVncY4Iq4AruixeKO25+dt+/tc4Nz89xTg072EXGMQ\n//uXpGS0ZmZmZmZmZmZFle6BYmZmZmZmZmY20ynaA2VGkHQBsFyPxd/KvV/MzMzMzMzMzIrruAaU\niNh2qMtgZmZmZmZmNpSmMnxzhcysPITHzMzMzMzMzKwfbkAxMzMzMzMzM+uHG1DMzMzMzMzMzPqh\n4TzH8gwwolfezMzMzMxsJqehLkBTllzofTPt9ezT/35gWNZbxyWRLe3ro3cpFuu4SWdx4WKfLRYP\nYJvJ4zh56d2KxdvvyTEA/GDZXYvFPOTxsQD8afFyMXd+dizHL1NuvQEOfGIMJxb8LL+cP8tTlioX\nc9+nUswvjd6pWMyTJp3Ndst+qlg8gPMfv5hrRu1cLN6mU/4EwF8X26FYzA9PPheAy0d9pljMLab8\nkcfe//Fi8QCWv+9K/lKwjABbTfljI5/lCQX3n/3z/nN+wWPmdpPHNVI/vym4j+/9VDPrDRT9/tlm\n8jjOLXhMB9jh2bHcv/wni8Vb9bFLAfj7qpsXi7nC/WlCv9LHt4sKnxt8evI4vja63HHj55P+CMAX\nRpc7bpw+KR03Stf5taPKfT8CbDLlbL5Z8Fzw2ElnAc3s4z8veF70tSfSsaj08e2nhc/d/ueJMfxu\nyXIx93g6rfcho8vVzw8mpfp5Yc/NisVc4IyruXWJ7YrFA1jvmfN547nHisWbfZHlAfjbe7coFnOl\nhy4H4LnNP1os5iJXXF8slhl4CI+ZmZmZmZmZWb/cgGJmZmZmZmZm1o8RP4THzMzMzMzMrNNMHdn5\nTIeEe6CYmZmZmZmZmfXDDShmZmZmZmZmZv1wA4qZmZmZmZmZWT/cgGJmZmZmZmZm1g8nkTUzMzMz\nMzPrMIGTyM5o7oFiZmZmZmZmZtaPRhtQJB0g6SFJYyu892hJEyXdI+lKSUtM57UrS7pF0muSvl6v\n1GZmZmZmZmZm3TXdA+XLwFYRsWuF9/4kIlaLiA8AlwKHTee1/wccABxX4f+YmZmZmZmZmU1XYw0o\nkk4GlgculvRCe88QSfdLGp1/HpJ0mqQHck+TuQAi4sW2cPNA3wO8IuKfEXEH8MYAyrWPpDsl3Xnq\nqadWXj8zMzMzMzOzoRIRM+3PcNVYA0pE7Ac8A2wM/Hw6L10R+HVEvA94Hti+9YSkH0h6EtiV6fdA\nGUy5To2ItSNi7X322adESDMzMzMzMzObyQ2HJLL/iIh78t8TgNGtJyLikIhYGhgLfHUIymZmZmZm\nZmZmNsMaUN7s8b/mbPv7tba/36L3qZXH0dYzxczMzMzMzMxsRuqtsaIJk4BPAkhaE1iuvzdIWjEi\nHs0PPwU83FjpzMzMzMzMzDrI1L7ThFpDZlQDynnA5yXdA9wB/G0A7/mxpPcAU4HHgf36eqGkxYA7\ngfmBqZIOAlbpkYjWzMzMzMzMzKySRhtQImJ028OP9/GyVdtef1zb3wMeshMRk4GlBls+MzMzMzMz\nM7OBGA5JZM3MzMzMzMzMhrUZNYSnCEl7Agf2WHxTRHxlKMpjZmZmZmZmNhQinANlRuuoBpSIOAM4\nY6jLYWZmZmZmZmYji4fwmJmZmZmZmZn1ww0oZmZmZmZmZmb90AgfNzWiV97MzMzMzGwmp6EuQFMW\nmX+lmfZ69rkX/zYs662jcqA04cLFPlss1jaTx/G7JXcrFg9gj6fHMHaJcjF3fWYMACcsXS7m/k+m\nmMctUy7m158Yw2Gjdy0WD+CoSWM5v2B9bzd5HAB/WrxcOXd+diwAXxq9U7GYJ006m6OWLftZHvb4\nWC5ZbJdi8baefBYAv1mq3Da091Npu7yoYJ1/evI4bl1iu2LxANZ75nzOLbgNAezw7FjGFDxu7Nbg\ncaP0PvmHwsfgzz89hvGjdiwWb6Mp5wDwo2XLlfM7j6fP8gcF9/NDHh/LiQXrG+DLT47htIL7+Bef\nam67LF3Oksc2SMe3vUbvUCzebyedC8Dloz5TLOYWU/4IlK+fJvbx0ueCUH5/BDi+4HnWgU+kbb3k\n988Oz47llMLb+r5PjeHaUeXOiTaZcjZA0fP1PZ5On+Vzm3+0WMxFrriemxffvlg8gPWfPY+/vXeL\nYvFWeuhyAN547rFiMWdfZHkAnv7QJsViLnnLtcViDUdTR3ZniCHhITxmZmZmZmZmZv1wA4qZmZmZ\nmZmZWT/cgGJmZmZmZmZm1o8RnwPFzMzMzMzMrNOM8AlhhoR7oJiZmZmZmZmZ9cMNKGZmZmZmZmZm\n/XADipmZmZmZmZlZP5wDxczMzMzMzKzDTMU5UGY090AxMzMzMzMzM+tHkQYUSTcP4DUHSZp7AK8b\nL2nt/Pflku6V9ICkkyXNOp337ZhfN7X1fjMzMzMzMzOzEoo0oETE+gN42UFAvw0oPewUEasDqwKL\nAjtO57X3A9sBNwzyf5iZmZmZmZmZTVeRHCiSXo6IeSVtBBwBPEdq9JgA7AbsDywBXCfpuYjYWNLH\ngSOBOYC/A3tGxMvtcSPixbZyvgP6HuQVEQ/lsvRX1n2AfQBOOeUU3jWoNTUzMzMzMzMbehHOgTKj\nNZEDZQ1Sb5NVgOWBDSLil8AzwMa58WQR4FBgs4hYE7gTOLi3YJKuAP4JvAScW7dwEXFqRKwdEWvv\ns88+dcOZmZmZmZmZ2QjQRAPK7RHxVERMBe4BRvfymvVIDSw3SboH2B1YtrdgEbE5sDipp8omDZTX\nzMzMzMzMzGy6mpjG+LW2v9/q438IuCoidhlIwIh4VdLFwKeBq+oX0czMzMzMzMxs4GbkNMYvAfPl\nv28FNpD0bgBJc0taqf3FkuaVtHj+ezZgK+DhGVheMzMzMzMzMzOgmR4ofTkVuEzSszkPyh7AWZLm\nyM8fCvyt7fXzABfn52cFrgVO7iu4pG2BE0iz9fxZ0j15+I+ZmZmZmZnZTGWqk8jOcEUaUCJi3vx7\nPDC+bflX2/4+gdTA0Xp8LbBOL7E2ans4zfPTKcMFwAUDL7WZmZmZmZmZ2cDMyCE8ZmZmZmZmZmYd\naUYO4SlC0q+BDXosPj4izhiK8piZmZmZmZnZzK/jGlAi4itDXQYzMzMzMzOzoRQ4B8qM5iE8ZmZm\nZmZmZmb9cAOKmZmZmZmZmVk/FCN76qMRvfJmZmZmZmYzOQ11AZoyz9yjZ9rr2f+8MmlY1lvH5UAx\nMzMzMzMzG+mmjuzOEENixDeg/HyZ3YrF+toTY/jdkuXiAezx9BhOW6pczC8+NQaAHy9bLua3H08x\nz1/ss8Vibjd5HMcVrBuArz8xhstHfaZYvC2m/BGA3xSsn71z/ew7esdiMU+ZdA5fH71LsXgAx006\ni2tG7Vws3qZT/gTAOYvvWizmjs+OBWD8qHKf5UZTzuFv792iWDyAlR66nLFLlN3Wd31mDBcV3B8/\nPXkcACcvXa6c+z2ZtvVrR+1ULOYmU87mhsXK1TfARyafU/zYBuWPlwAXFoy5zeRxnFtwfwTY4dmx\n3LHktsXirfP0BQBMHL11sZirTboEoPjxrWTdQKqfvUbvUCzebyedC8Cho8uV8/uT0nZ52Ohy29FR\nk8Yy+SMbFYsHsNgN4zm+4PnGgU+kY1sTx8smyvmHguetn396DMcWPL8E+ObjzZy7nViwfr6c62fK\nRhsVizlq/HhuW2K7YvEAPvjM+Ty3+UeLxVvkiusBePpDmxSLueQt1wLwxnOPFYs5+yLLF4tlBs6B\nYmZmZmZmZmbWLzegmJmZmZmZmZn1Y8QP4TEzMzMzMzPrNCN8Qpgh4R4oZmZmZmZmZmb9cAOKmZmZ\nmZmZmc0UJC0s6SpJj+bfC/XxumUkXSnpIUkPShrdX2w3oJiZmZmZmZnZzOLbwDURsSJwTX7cmz8A\nP4mI9wLrAv/sL7AbUMzMzMzMzMxsZvFp4Pf5798D2/R8gaRVgNki4iqAiHg5Il7pL7CTyJqZmZmZ\nmZl1mGDmTSIraR9gn7ZFp0bEqQN8+6iIeBYgIp6V9K5eXrMS8Lyk84HlgKuBb0fEW9MLPOQNKJL2\nANaOiK/2WD4ncAMwB6mc50bE4dOJ81XgIGAFYNGIeK6xQpuZmZmZmZlZI3JjSZ8NJpKuBhbr5alD\nBvgvZgM+DKwBPAH8CdgD+E1/bxquXgM2iYiXJc0O3Cjpsoi4tY/X3wRcCoyfUQU0MzMzMzMzsxkr\nIjbr6zlJUyQtnnufLE7vuU2eAu6OiMfyey4E1qOfBpRiOVAkXShpgqQHcncbJL0s6Zi8/GpJ60oa\nL+kxSZ9qe/vSki6X9IikwwEieTk/P3v+6bOPUkTcHRGTSq2PmZmZmZmZmXWci4Hd89+7Axf18po7\ngIUkLZofbwI82F/gkklk94qItYC1gQMkvROYBxifl78EfB/4GLAtcFTbe9cFdgU+AOwoaW0ASbNK\nuofUYnRVRNxWt5CS9pF0p6Q7Tz11oEOozMzMzMzMzIaPiJhpf2r6MfAxSY+S2h9+DCBpbUmn58/u\nLeDrwDWS7gMEnNZf4JJDeA6QtG3+e2lgReB14PK87D7gtYh4IxdwdNt7r4qIfwHkJC4bAnfmlfqA\npAWBCyStGhH31ylkj7FU8fPv31AnnJmZmZmZmZkNE7ltYdNelt8JfKHt8VXAaoOJXaQHiqSNgM2A\nD0XE6sDdwJzAG9HVfDSVlNeEiJhK98abnk1M3R5HxPOk3CZblCivmZmZmZmZmdlglBrCswDw74h4\nRdLKpOQrg/ExSQtLmos0R/NNkhbNPU/IyzcDHi5UXjMzMzMzMzOzASs1hOdyYD9JE4FHgL5myunL\njcCZwLuBcRFxp6TVgN9LmpXU0HN2RFzaVwBJBwDfJE1lNFHSXyLiC3293szMzMzMzKxTFcgVYoNU\npAElIl4DtuzlqXnbXnNEj/fMm3//DvhdLzEnkuZkHmgZfgn8cqCvNzMzMzMzMzMbqJKz8JiZmZmZ\nmZmZzZRKzsIzQ0i6AFiux+JvRcQVQ1EeMzMzMzMzM5v5dVwDSkRs2/+rzMzMzMzMzGZezoAy43kI\nj5mZmZmZmZlZP9yAYmZmZmZmZmbWD43wqY9G9MqbmZmZmZnN5DTUBWjKbO9Ycqa9nn3z9aeHZb2N\n9B4oGsiPpH0H+tqZKWYnlHEkx+yEMnZKzE4oY6fE7IQydkrMTijjSI7ZCWXslJidUMZOidkJZeyU\nmJ1Qxk6JOQzKONN68/WnNbP+DPVn25eR3oAyUPuM0JidUMaRHLMTytgpMTuhjJ0SsxPK2CkxO6GM\nIzlmJ5SxU2J2Qhk7JWYnlLFTYnZCGTslZieU0WxA3IBiZmZmZmZmZtYPN6CYmZmZmZmZmfXDDSgD\nc+oIjdkJZRzJMTuhjJ0SsxPK2CkxO6GMnRKzE8o4kmN2Qhk7JWYnlLFTYnZCGTslZieUsVNidkIZ\nzQZkpM/CY2ZmZmZmZmbWL/dAMTMzMzMzMzPrhxtQzMzMzMzMzMz64QYUMzMzMzMzM7N+uAGlF5Jm\nlfS1oS6HmZmZmZmZmQ0PTiLbB0njI2KjwjEXBb4IjAZmay2PiL0qxJoV+H1E7FasgN3jzxMR/2ki\ndimSlgVWjIirJc0FzBYRLxWIW2zdJa3Zy+IXgMcj4s0K8VYCTgJGRcSqklYDPhUR369Yvh0j4pz+\nllUlaSFg6YiYWDPOscD3gf8ClwOrAwdFxJiacTckbUNn5P1z3oj4R4142/Wy+AXgvoj4Z9W4bfFn\nIZXxxRoxromITftbZgMj6eBeFr8ATIiIeyrE2xb4S0S8VqBsswI/johv1I3Vz/8psp93CkmfAN4H\nzNlaFhFHDV2JZh6SVo6Ih4e6HDbjuM6HL0nzRsTLQ10Os+HGPVD6dpOkX0n6sKQ1Wz81Y14ELABc\nDfy57WfQIuItYFFJ76hZpm4krS/pQeCh/Hh1SSdWjHWfpIl9/dQs5xeBc4FT8qKlgAtrxiy27m1O\nBG4lTbV2GnAL8Efgb5I+XiHeacB3gDcA8gXLZ2qU7zsDXDZgksZLml/SwsC9wBmSflYnJvDx3Gjw\nSeApYCWg1kWhpMOBb9G1vrMDtRpkgL2B04Fd889pwMGk48nnKpZzXP485wEeBB6RNOh1lzRnrpNF\nJC0kaeH8MxpYokrZ2mJfIuniHj9nSjpQ0pz9R+g1Zm/Hj79K+rmkd1aI95KkF3v8PCnpAknLVylj\ntjawH7Bk/tkH2Ag4TdI3K8T7FOn4cKakT0iard939CF/T6wlSVVj9KWJ/VzSVZIWbHu8kKQrasQr\nug3lmCcDOwP7AwJ2BJatWsbp/J/LOiTmfYVDXlk4XlPrXXz61NLlbGK9c9wRV+cN1XcnxHywcDyg\nM+rHbHoqn5iNAOvn3+13lQLYpEbMuSPiWzXe39Mk0oXZxcDbPSYios5J7M+BzYGLc6x7JX2kYqxP\n5t9fyb/PzL93BV6pXMKumOsCtwFExKOS3lUzZsl1b5kE7B0RDwBIWoV04X80cD6DP3GYOyJu73E9\nVKUny5bAVsCSkn7Z9tT8VeL1sEBEvCjpC8AZEXF43QYzUuMGpDKfFRH/V+CacFtgDeAugIh4RtJ8\nNWNOBd4bEVMAJI0i9Rj6IHADXfvAYKySP89dgb+QGn0mAD8ZZJx9gYNIjSUTSBd/AC8Cv65QrnaP\nAYsCZ+XHOwNTSA1dpwFVGo8uA94CxuXHrYbCF4HfAVsPMt7PgGdyPOV4iwGPAL8lNXpU8U5gzdZd\nutwwdy7wEdLnfOxggkXEnpJmB7YEPgucKOmqiPhCxfLdDVwk6Ry6f0+cXzFeSxP7+SIR8XzrQUT8\nu+ZxvfQ2BLB+RKwmaWJEHCnpp6Rj+aBN56aMgA8Mo5i99axrxVysQrxf9vUUsGAfz/UXs4n1Xng6\nMbeqGLNoOZtY7xx3xNV5Q/U97GOq916UrXjzDjZeW9xhXz9mVbkBpQ8RsXEDYS+VtFVE/KVQvGfy\nzyxA3Qu/t0XEkz0uTt+qGOdxAEkbRMQGbU99W9JNdG+cGqzXIuL1VjnzXdra49FKrXublVuNJzn+\ng5LWiIjHKjYAPCdpBfK6StoBeLZCnGeAO0l3uye0LX8JqJv/ZzZJiwM7AYfUjNVyiaSHSUN4vqw0\n3ObVmjFfj4iQ1Pos56lbSGB0q/Ek+yewUm7weaNizNnzBfU2wK8i4o1WmQcjIo6X9CvguxFxdMWy\n9GWNiGhvbLxE0g0R8RFJD/T5runredy4T9JNEbGBpCpDF7eIiA+2PT5V0q0RcZSk71YsI8AywOtt\nj98Alo2I/0qqNAwn1/FlpP18LlLdV21AWRj4F90b/4OKF/1tmtjPp0paJiKegLeHadY5rpfehiAd\ngwBekbQE6bNdrmKsO4Dr6WrMbFfporKhmH8CxtJ7XVTpYbYn8D9Ab/vHLhXiQTPr/b/A4z1iRn5c\ntWGvdDmbWG8YmXXeRH13Qswfkm7I9HbzrM5IhU6oH7NK3IDSh3zn+IfAEhGxZe458KGI+E2FWC/R\ntZN/N59Uv5EfR0TMX6WMEXFkjl8yX8mTktYHQml40AHkIS01zCNpw4i4EdJQGaDuxer1+aJnLkkf\nA74MXFIzZhPr/oikk0jDdiDdmf+bpDnIw3AG6Suk4UArS3oa+AepR8+gRMS9wL2SxlbJxdKPI4Er\ngBsj4g6l4RGP1ox5OHAM8GJEvCXpFVLjTx1nSzoFWFBpSNhepN4SdfxV0qVAK4fM9sANuXHm+b7f\nNl2nkHoy3ZtjLUu6gz5o+bPbitQDqqRFe1z4LgMskp97ve+3Tde8kj4YEbflmOvSdTesyjY7VdJO\npN4hADu0PVfnIn0ccKuki/LjrYGz1DXkalAkbUHqKbExMJ40JGynqoWLiD2rvrcfR5H285sK9vQi\ngQAAIABJREFU7ueHADdKuj4//ghpSFRVpbchSDdCFiRdcNxF2nZOrxjrIWDfiJjmc5P05DCKORE4\nLiLu7yXmZhXi3QHcHxE39xLviArxoJn1fgzYtHVcKxSzdDmbWG8YmXXeRH13Qsy7gAsjYkLPJ3IP\nw6o6oX7MqokI//TyQ+r6uxNwb348GykR5JCXra2MHyKdoD+RH68OnFgz5iKkuw5TSHfPxwDvrBlz\nLdLF3yTSBf89pC7vdWLOQkrIew7pguiLkJIiD7N1n4t01+UCUo6WrwNz5/LPWyHecvn3PMB87csq\nlu8fpC+lbj8113mDgSwbZMy7BrKsQtyPkS6EjgM+ViCeSBfmPwd+kf+utV328X9mq/HeI0kNO8XK\nReo++wRwHemi/3HgE3k7PahizHWA+/I2Ool0Qr9ujrlThXjLkxpZnyPdyboEeHfeRzesuf5rAweS\nhkitXTPWn0g9TuZoW3ZMjXgrAdeQLl4AVgMOLb1NFtyWFiEN/9yaNKSnTqyi21Av8ecgDWWq+v4d\ngPf08dw2wyjmh4Fl+nhu0Ns7qVfU3IW3mybW+yvA6n08t/9wKGcT6z1S67yh+h72MYH39HWsJU1Y\nMNPWj3/8U/XHs/D0QdIdEbGOpLsjYo287J6IqDOmdFvg2oh4IT9eENgoIiolP5V0G+kAdXFbGe+P\niFWrlrFJkuYnXbS9UCDWPMCrkZIktmabmCMi6uZWGdYk3RURa/ZYNiEi1qoYrz2R4pykhIgLR8Rh\nhcs4zbIBxlqMlJhzDCkfRKvr5vzAyRGxco1yvr0NSXoP6STisoioOtSmEfk48Xmmnb3rgIrxXiJd\nQL5JGgZVqydcW9w5gJVzvIcjou4Qq1bcBUjHjao9eBqXjz+j6F4/09wlG2Cs3vafiRGxWsV415Py\nLp1S8ntCBWcEU56Fo68x8xFxV82yFtuG1PBMW338z90j4vcdEPM7EfGjgvHOi4jtS8XLMZtY749F\nxFWFYxYtZxPrneOOuDpvqL6HfUxJJ0TE/qXitcUd9vVj1pMbUPogaTzpLu1VEbGmpPVIdwE/WiPm\nNA0w7Q00FeLdFhEf7NHIc29ErF6jjL0l+noBuDMiLurluYHE/CFwbOvkVWnKy/+JiENrlPNWYLPo\nStw4L3BlRKw//XdON+bvgQN7lPOnUW2a6bMjYielbPXT7GSDvRiStDJp2sxj6T77zPzANyLifYMt\n43T+140RsWGF932IlHz5IFIPjJb5gW2rbJeSdgf2IN3hv4OuBpQXSdN4V87jIGkC6S7bQqSZku4E\nXomIQQ+Jaou5HWmo0btyWWs3Tki6OZfvPlKSWkhBK59wKCVjW5Hu07Be3/c7BhRzfaZt5PlDjXhz\nkI7BPWNWyp2kgtPI94i7P2mI2RRSzqRWnQ92H/8SaSji8sDf256ajzRMplLOjiZuBuQYxRpmJJ0a\nEftIuq6XpyMiKiVvL70N5Zh/JvX+bJV1I9L+uRJwVERUSRTd3/+s1ADd6THrnB9NJ+awX+8mYjZR\nxibidkKdd0J9NxGzg7ahRspp1s45UPp2MGk2lhWUEp4uSvcx81X0loypTh00kbNjTtJd5PYcDg8A\ne0vaOCIOqhBzy4h4O0ljpJkVtgIqN6AAc0bb3PQR8bKkuWvEA1gtpp0BouoX+YH59yen+6qBe0+O\ntSDdZ454iXRRWEmPO76zkBoqqiYkfgcpv8BsPWK8SMV9JyJ+L+lMYJeIGFuxXH1RRLwiaW/ghIg4\nVtLdNWMeC2wdEXX3w3ZzRkRfWfIHLY9pPpA09fc9wHrAzcCmNWKeCayQ47USLwdQuQGFNO37C6Qk\nx5WSsfYS76+kaeTrJodudyCpm/K/asYZRxo6+iPg223LX4qI/6sRt1Ti6Z6KzAgGEBH75N+lk7eX\n3oagmZm2+lN8GuoOidnEHb5OWO8mYjZRxibidkKdd0J9NxWzCZ1QP2bduAGlDxFxl6SPki5cBTxS\noGv/nZJ+RpoyNID96T4DymDtBxxPGuLwFGlK3K9M9x39ezewSeTEokoJUK8k5Yq4r2LMWSXNERGv\n5ZhzkcaO1/EfSWu2unZLWouu2RGqmkXSQhHx7xxzYSruIxHxbP79eM0yteJdRJqK9EMRcUuJmNlP\n2/5+k5QnoFLCyoi4XtKNwPsjJzguISKmStqXlJ+mJOVeM7sCe+dldY+JUwo3ngCcqZTk9lLaLgJr\nXFQfSMoNcWtEbJx7N9Wtr7VJ0y2XPPldKiK2KBiv9DTyLU+SLtJriTS08QWqz0jRlyKJp3tRvGFG\n0o7A5RHxkqRDgTWBoyOiasNm6W0Implpqz9NXFR2SszSOmW9S8dsqm5GYp13Qn03FbMJnVA/Zt24\nAaWHPsY3A6wkiTpDBkgNJt8jJQmE1DBRefrHiHiOMifC7ZYk5UdoXRDMQ5qJ6C1VnJKTlL/iGkln\nkA5sewF1xzseBJwj6Zn8eHHSDDd1/BS4WVJrlo4dgR9UCaSumZegqzW8NRNTnSEdd0v6Cmk4T/vw\ni0rDEErf8c3bycIlY2ZXSfo6ad95e8apmnfmDwK+A1wQEQ8ozSLS2xCCwbhT0p9ICYPbGzvqHDde\nJyW6PYSubSpIQz2qeDUiXpVEbth8WCkHTB33A4tRpmdDy82S3h8RVRtueyo9jXzLY8D4PLSjvc5/\nVvj/VBURsZlSzp9ZcuNE1Wl32/XWMFN1auCW70XEOZI2BDYnJXc+mdS7o4rS2xBMO9PWDtSfaas/\nnXJ3uhPuJHfK3elO+CybiDuS63y465RtyKxxbkCZVmt4xLtI+RyuzY9bU0rWuRDaKiLau2a37rid\n08freyXpBKbTwhoVk0tmxwL35BwwIk0j+cN8cnh1lYB5aMREYLMc8+iIuKJGGYk0bebKdPUQerhu\nD6GI+EPOi7FxjrldRAx6GtIcq+owmP6cCTxMurg4itSAVrnHg1JyxcNJ9QxwPWkcf5076ndLupi0\nXbc3dtTZd1oNRO09rOo0IrRyflzf9vgx0jC4OuYHXgE+3v6vqHfcOBh4d24wLeEppcS0F5Iapv4N\nPNPPe/qzCPCgpNvp3ohQZ6rpDYE9JP0jx6yUW6TNgRScRr7NE/nnHflnuDmPNOtZ+1T355JmR6ss\n7y/dGmbqxMtaQ6s+AZwUERep+hSnUH4bgnQM2i7HFulmwHm591XpIUgtN3VIzEGdywxAEz3Gmljv\nSQ3ELF3OJtYbRmadTyocr1NiHl84Xksn1I9ZN04i24d8h+mLraEYkhYHfh0RffVQGUjMIrOT5MSa\nABsAq9DVo2VHYEJEfK1qGXP8JYDPkS7U5wGeiogb6sTs5//dEhEfqvC+VUnr394To07OhVbcd/WI\nWWk2jbZ4GwIrRsQZkhYhTT/8j4qx7o6INZRn5ZA0O3BFjSSL55F6D7R6BH2ONE1cne38jF4WR9Ve\nMqVJ+kVEHCTpEnpP8Fvnor+43Bj1mWhghqk8THEB0rCJ12vGmUbUSEwradk+YhYZFjezU0OJpyXt\nFhFjJPWal6dOz5v8vfs0qbG9NSzz9qiYGL2pbSjnPVmXdPy4PRqYfUfSnhHR27F0uMU8LGok5e0l\n3mURsWWpeDlmE+tdeaaPvG8uCdzWnstN0hYRcflQx2t7/+akXFnXRMSktuV7RcRvBxlrflKPz6VI\ns92Na3vuxIj4csUylv4s5wcWjYi/91i+WkRMrFjGdUnnQHdIWgXYgnTTr3JvyJIxlWY7PJyU3+kw\nUm/57Uk35w5sXQdViCvSdUmQGu03AT5NurY4OSKmTuftfcUs/lmaVeEGlD6ox2wCkmYBJka1GQa2\nBLYi5Zb4U9tT85PyBqxbsYzXAR9v9bzIF9NX1hmWod4TTN5S9QJ9gP9z0FnXJR1Omv1gFeAvwJbA\njRFROdGvpE+RhvEsQRrXvizwUNULjbZyrk1KMrlSbpw6JyI2qBjv9ohYV9INpBk7JpNO4Cv1xFDv\nM0PVnqGjtLxtf4munjLjSbN/DLrXkaS1ImJCyYt+Sd/MPa167R1Wp1eYpAtIF8LX0b13R93eMsOS\npPkj4sW+hoINdtiWGpoid7g3xEn6NLAN8ClSQvSWl4A/RsTNFePuGxGn5GPbNKJG/iOlROBbkKYE\nfjTfuHh/RFw5yDhFt6EesXciDakbT+qB8mFSg9S503tfhf/zREQsMzPG7GtfJH2el0bE4vVL1u3/\nDYv1zu87gNSL6SHgA6QL1Ivyc1VuqBWN1xb3h6ReVneRemb/IiJOqFHO84BHSTNW7UXqBfjZiHit\najkb+Cx3An5BOv+bHdgjIu6oGi+/73DS+elswFWk4YjjSY3EV0TEoIeJl44p6XLgz6Qbpp8l5Zs7\ni9TYsVlEfHqwZcxxTyT15n8HaTKBOYBLSNdDUyLiwOm8vbd4xT9Ls6o8hKdv4yVdQTqIBPAZqudH\neIY0Reqn6J409iWgTm+RJUiznbROBufNy+poIsFkf6q04u0ArA7cHRF75juCp9csx9GkBqOrcy+P\njamf0HFbYA3SSQgR8YykOsN7TlWaXvlQ0kXRvKS8OlX9V9KGEXEjgKQNqJmMV9JSwAmkHlIB3Eg6\nsXmqRtiTSCc0J+bHn8vLvjDYQBHR2gfvBP7bugsiaVaqJzduDaO6s+L7p+fC/DPsKE95re45f6De\n8JhxpBmnJtCVN6ilyrCtg4F96J4wuT1e1cbh1mwrx1V8f6OiocTTEXFK/vPEiPjfUnGzRcj7kKTW\nxenDFeKU3obaHQKs0+p1ojQ99tWkO6yDojS0tdengFFVCtdQzBenE3OuCiHvIA2f7C33wYIV4jW1\n3hf39RTwzioxSbPmrRVp5sDRwLmSRkfE8fT+eczoeC1bA2tExJtKw+jGSVo+Ug/nKnFXiIjt898X\nSjoEuDbfuKqq9Lp/N8d7Nvd0OFPSdyMNP676We5AatyZg3TDa6ncuPsT4Daq5dkrHXNUW+PYlyPi\nmLz8BKVZCqv6cES8P98AmwwsHhGvSxoHVEkM3sRnaVaJG1D6EBFfVUoo++G86NSIuKBirHuBeyWN\nq3LHfDp+TMo30WrY+ShwRM2YTSSYbMKrkWZneTN3ufwn9U6KAd6IiH9JmkXSLBFxnaRj+n/bdL0e\nESGpNVPFPFWCqHt3+T3z71/n35ViZvsBf1DKhQLwb2D36bx+IM4gXcDsmB/vlpd9rEbMdaJ7N/5r\nJd1bIx7ANaQ7F61uv3OREjuvP9hAEXFJ/l03OXJvsYvHLCUiNsy/i+X8iYhP5t8lEp02NkVuqyGu\nSo+lGaxo4uk2NyvlFvkTcH7k2ctq+jNdDR5zAssBj5DKPmClt6EeZonuQ3b+RZoCvopRpHxWPT87\nkaYWHy4xnycdg6f0fELSkxXiPQTsGxGPFooHzaz3h0nfXy/3WC7SEK4qZo081CQiJknaiHThvyzV\nLtJLx2uZLfJsjBHxvKStSTdwzqFarqc58nnV1BzzB5KeIk39PW/FMjbxWbZmULw930S7NN8Uqtpd\n/82IeAt4RdLfI+LFHP+/kgY9hKWhmO3Hr57D4Kse2yBPax8Rb0i6I/Iw4dwo99b039p7vAY+S7NK\n3IAyHbnVuU7yx55GS/oR0+btGPSFvySR7npdRtcMBd+OiMk1y9hEgsn+DOqLLq/7xFzO00h3GV8G\nbq9ZjuclzUv6Qh8r6Z/kL4AazpZ0CrCg0lS0e5HKPFitC9T3kHoIte6MbZ3LW0lu3Fs9N0LR+kJq\nkbR7hQv4RaP7ePPfSTqoahmztyStEHlcstKMOVW+gNvNGW1jpvNdrLnrBJS0EvB1YDRtx9eoMQQu\nX6T2NkSkboNhMZL2jojf9Fj24+iRNLtC3NWY9rOsdEyWNCdp2NuGpM/zr6Rx2K9WjHcf00/mXSdR\naUlFE0+3RMSK+S7tZ4BDJD1IGho0pkbM97c/zkM99q1Tznwj5O06j4i6vbkua+udCmn2t6rj7y8F\n5o2Ie3o+oZTIfbjE/ANpSOs0DSikxvLBOoK+L8z2rxAPmlnvW4FXemsklfRIxZiTJX2gVc78vfNJ\n4LfA+6f/1hkSr+Xvkj7aWvd84bq3pO+T8mMM1iWk3n5vT0YQEb+XNIXUY7WK0uv+Uvt5Ru6JshHp\nfLjqUO7XJc0dKYfZ24m7802rqhf9pWNeJGneiHg5Ig5ti/du4G8Vywipflpx355OXinnSpWca018\nlmaVOAdKH/JJ1zGk8XuiXpf0VswbSYmafk668N2TVAe9jiUfQLwJEVFrJoV+4hdJMDmA/7NqRNw/\nyPe8ve656+b8UTHBV1vMeUjDV2YhXWQsAIyNiH/VjPsx0qwsIo3TrJR4Lse6Etg+8owXSsOBzmn/\ncipJ1cYRXw38jq4LjF2APSNi0xrl2JTUi+Ux0ue4bI5ZedphSTcB+0fOgSFpLeBXUSGhcVvMe0nT\nrk6grYEnuoYNVYnZ3lV8TlLPnoUj4rCqMUuTdBkwJiLG5scnkhqoKvdykPRbYDXgAbpOjqJqTEln\nk4ZNti7wdwEWiogd+37XdOO1EpS2ZoZqDenZlXTRVSyxZh0qnHi6j/+xCPAzYNeImLVU3By7Th6H\nE4F3072x4+8R8ZW+39VvzAOAJ0m9EwTcEBV7p9rIk3szvNnbzS5JG0TEoGYkKR2v7b1zQbq738tz\nS0bE01XiltTAZ7k68J+I+H89ls8O7NT6fhtkzDki4rVeli9CGtIy6CnWm4g5I+Vz7XlikMm3O329\nbebiBpQ+SPp/wNYRUftOXVvMCRGxlqT7WnfaJP01Ij7c33v7iPdr4HeRk1wNN5o2L0I3NRujiq67\nUv6LKyJisxLxGoz5MGmWnNfy4zmAeyNi5VL/o8f/q5LgdxngV0CrIeImUg6UujNfzEH3aaun+SId\nZLy1ScMPWj2sFgd2rtnY0WijZtv/uTHy8JnhIJ9sX0y687cl8H8RUavXkaQHI2KVEuXL8e6NHrO5\n9LasQtybokdS6N6WDRUVTjzdFnd+Uo6nzwArABcAZ9fcf9qHKs5Cusu4cERsXjHeA8CqkU90lJLB\n3xf1EoN/n7TOd5G29yuixomUaiSo7yfuesADPRrbV4mI2yrEmm4DVlRPxDwHqTfDaLr3MqvV+JjL\n2+p1dFPV8uVYTXyPF6/zkvWd3z8i67xT6jvHLV3nReumqW2oLXaRfdysCg/h6duUko0n2av5QPqo\npK+Spmt8V414GwP7SZoE/IeuXjLDout45LwIko4inbSfSSrjrnQNSalqY2BfSY9TYN0j4i1Jr0ha\nICJeqFm2xmKSPsPblWZmCdIFTJM5MgZ9YRBp2ueiM5Col+EXkuoMv5iFNI57Zbo3ytTNUXSJpC+T\nLibbZ8ypM+tH+0nILKRZnYrlHKlD3Wc5+QKpq/NNwFGSFq6z3sAtklaJiAdrFbLL3ZLWi4hbASR9\nkFTWuuZR90TM61MvL1FprcTT36Mr8XSJ3kv3kur7qCiXpHY+uo45b5K6/Z9XI94jwDJAq/F2aaBW\nT8WIOFTS90i9CvcEfpV7N/0mekx9OsB4UyXdK2mZfOws5SSg/djxn16WDVRvCZhb6iRivgh4gdRj\nr1aDeIukw0i99FpD/c6QdE5EfL9KvIbODZqo85L1DSO0zjuovqF8nZeum0a2odL7uFkV7oHSB0nH\nA4uRThDbL4Qq50SRtA5p7PmCpBlf5geOrdFavCywEF2Jbm8Anq97p780SbdFxAf7WzbImMv2trzO\nuueT4PVI06P9py1mnSlom4i5Jm11HhFVspkP9H9V6YGyPHA8ab0DuAX4WkQ8VqMcRYdf5Ji3RI3h\nOn3E/Ecvi6PO3X51JYmGdFE5CTguIqqOwS9GXflZ1Pa7pe56f4R0AT2ZdAyu1Eiqrlwls5May1on\nsMsAD9a9K6g09Ou3pCF/kBJu7jWz3xGTpIiIfNczoi2fUI2Y65BmwhhN1w2eyg3jkq4n5Yxq5cda\nh3Q8eiUHrtzQm7v770madvk68nE+Ir5ZIda1beVs/56oU77epqifOFxusABIur+Bu/IPkWaPeTU/\nngu4KyLeWyNmE9/jReu8E+obOqPOO6G+c8yidd5E3TShiX3cbLDcA6Vv85NOsj7etiyol1Q2SD0I\nliWdzENKKFr1C24b0l3f1hRrZ+Z4VRNyNeUtSbsCfyR9BrtQMwFoQ41Ef84/wzpmvjCbURdnVe7Q\njyPNELRtfvwZUg6Cyg1mwHt6DLW4TvVn4blS0vakGUSKtCRHA7N+ROHZY0pqYn3b/JY0XfV91EsQ\n98kyxeldHrLSSsSsgr3NilCa4v2HwBIRsaWkVYAPRY+kvxW8T9KZwMLp3+h/gd1jkPmsehhDSsJ8\nP2WSAhbPE6SUA2V34DngdOAbkWaZmAV4FBh0AwpwZMEitjyWy3pSfvxlUg6pypSSbB8MLBMR+0ha\nkXRsvrRiyJslvT/K5i6YRMoV1eqdOAcw6J5BPTRxblC6zovXN4zYOu+E+obydd5E3TSxDU2i/D5u\nNijugTIDKWVt/wY9LgiqNgZImkg6Ef5PfjwPcMswvOMwmtQjYQPyeEXgoIiYNHSl6p2k1rCOAB6J\nAslzm4hZilL28iPo6tFyPalLfuWLwD56HN0aEevViPk70owp7cMvdo+IL9eI+RJpqMVbpOTBlRNF\nS9okIq5VSj49jZo915q6AK6t4fW+NgomOs0xGxk3LekTTDtN8HBJInsZKQHzIRGxuqTZgLujx4w3\nFeLenGNelx9vBPwwIgY9DXhbzOK5fZRmfFiXVOd3RM2Z6pSGpP6mt+9tSe+NCkN/JR0TEd/qb9kg\nY74L+CWpm3yQpm0/KAaZuLFHzD+Ruvd/PiJWzXd+b+l5F3wQ8R4kJfn9BzV6meVYJ5DWcxnSnf6r\n8uOPATdGxGeqlLEppeu8ifrOcV3nBXTCPl6ybnrELbINdVJ928zPDSh9UJqO9CRgVN7hVwM+FTXG\n2JU+Ocxd09dp68Y2J+kEsdaJ8UglaSvgFFJLtoDlgH0j4rLhFLMkSeeR7va28qh8jpSkttcL4gHG\n/DFpGEOrx9HOpDsEv4Zq+UByl82ewy8eIjVE1v6Cr0vSERFxhKQzmHZIS0S92WgauQAuQdKREXF4\nXm/oyl9RYr1PJA13vIQCwyg17bjpbUgzWNUaNy3pZGBuUl6m04EdSEla964TtxRJd0TEOmobjtdb\n1+8KcYsn5VWabWsX0oVAiTr/AqkXyrWkbfKjpAbi31YtYxPUy0xDw3T4xZ0RsXaPbalynavgUFxJ\nu0/v+YionCss3zH/EbAK3RtJ6wxRdJ23GU51PlLru2Td9IhbZBtqch83GywP4enbaaTeIqcARMRE\nSeOAOifbh0s6nUInh6SLqtuUEopCuiAY8rvSLW2txb2KGuNJG/IzYOPIU9hJWoHUjbNOY0cTMUta\nISK2b3t8pKR7asbcOf/el+4X1Hvlx1VOQopP0yypldB4uYg4WtLSpKnwbu/nrb15SWkGkfvpnguk\nRAv1IhFxtqTvAETEm5JqDYErJbqmYP8S02bvr7vuc5GOk6WGUe5C93HTPyYNhaubeG79SNMDT4yI\nIyX9tEYZm/AfpamwWzPRrEdKFFjXY0rJVFvTN+9GunNZx56k3nqz0zZ1NdU/z2+Q6vxfAPlzuJk0\nPGzISfoSqdv9CrlHact8pHLWib0o8EWmnVGjcqMm8Hq+e9zallagXrLJYnfwGr54OgM4HPg5qaF0\nT+iW72nAmqrzhuobRmadD/v6zrFL13lTd9SLbENuILHhxA0ofZs7Im5P11hve7NmzKInhxHxM0nj\nSV3SBewZDSYUreDOoS7AIP2z1dCRPQbU6v7aUMyS/qvuM4hsQBrOUse3gMsj4sV8gbUmcHTN4RKz\nAU9FxGt5qMBqwB8i4vkaMU8k7YebkJI6v0zqJbNOhVjz5t/vye+/iLRPbk1K7lxHUxfAJV1I6nV0\nF13jkmudjEXEnnUL1cMkmhk33dpfXpG0BPAvUk+z4eJg0uw7K0i6CViU1Eumrr1I4/rPI23rNwB7\n1Iy5euGeVU+Rkk+3vAQ8WTB+XeNIjek/Ar7dtvylKj31ergI+CtwNTVzjrU5ArgcWFrSWNKw3Dr7\n6Z/panCek7TfPEIaDleJpE+SjufLkr43Kg/NbDNXRFwjSflu/BGS/kq6yB6spuq8ifqGkVnnnVDf\nUL7Oi9dNdgQFt6GG9nGzQXEDSt+ey62krYuWHYBna8YsfXI4oxOKDkrP1mJJ80TO1zJMPSDpL8DZ\npHrfEbhDOb9DxZ5CTcQsaT/gD0q5UAD+TUqQWMehucfEhqSxqT8lDYerk0T2PGBtSe8m9bK6mHRi\nslWNmB+MiDUl3Q0QEf9WylczaBFxJICkK4E1I+Kl/PgI4JwaZYTmLoBLWioiivYSykMS92ba3CKD\nurvW1hPuNdL+2G3cdIGiXippQeAnpGNxkIbyDAsRcZekj9I1XfcjUX+6boAVSNMCz0I6l9iU1BhZ\np0v6rSo7dfXTpF6aF5Hq5dOkaeAPhnQTotD/qSRSrqkXJL3Zs5u8pDMj4nM1ws9dJ79CbyLiSkkT\nSDOUCDgwIp6rEa/b+ZBSjqJ965WSXwDbAfdFuTHqryonCZb0VdJ29a4qgRqs8+L1DSO2zjuhvqFw\nnTdUN8W3IZrZx80GxQ0offsKcCqwsqSnSV2Td60Zs/TJYUeQ9CHSRe+8wDJK0z/uGzUSgDZkTmAK\naZw8wP+SZpjYmuo9hZqIWdKmpPwnrR4ULwPrSJolIqoO5WndCfkEKfHrRbkhoY6peejKdsAvIuKE\nVsNHDW9ImpWuRtJFqT/zxzJAe5Lg10ndaytr8AK4pCay958JPAxsDhxFOv4OOkEnXT3hJgAXtC0f\nX6dwLRFxdP7zPEmXAnPGMJuJh5REdTTpO39NSUTEH2rGHEvZGXMg9abcXWl67BJJDP9O915GF+Xf\n81UvYiO63eFVynO0Vs2Yl0raKiL+UjPO2yRdExGb0jZDSduy2vKxrkoPwHZPAvcXvrBjI3PMAAAL\ncElEQVQ6iJTn6ADSne9NqH+joXSdF69vGLF13gn1DQ3VeUuhumliG2piHzcbFCeR7UPrDhVpHP4s\npHnbXwAmVL2wVEqEuQKFM1wPd5JuI90xvzi6Ekh1xHzzMzulvD5rk3o4iNTocQdpqNk5EXFshZiX\nku7YbEY6QfgvKalmneSSt5HuOhwCbB0R/6i7DSlNrb0zaYjR70nb6KERUbnHiKRDgJ1IF+pBmsr5\nTxHxoxoxdyQNiXpJ0qG5vN+vOSSqCKVE1kG6MF+RNEStyLFNOeFczi2ymqTZgSui8Mw8dSlN0fg/\npCkav6j6UzQWpTTV8ArAPXQ1bkbUzEGlZmbMaSqJ4XwpTLxcJ05pSnmNvks6z3il7ak3gFMj4js1\nYrdmGXstx6szy9icpAvK64CN6MoHMT9wWUS8t2IZD257OAvp+2LhiNi8Srwccx3SRe/1dM81N6S9\njVqaqvOS9Z3juc4L6JR9PMcrWjcNbkPDtr5t5HADSh8aurBs5ORwuFOe1laFsrg3RdJywP5Mm5Dr\nU8MpZkmSrgC2b11YSJoXOJd04T8hIlapEHNuUtLX+yLiUUmLA++PiCtrlHMV0nCjWyLirPy57hwR\nP64aM8ddmdQLR8A1UWEK0l5irknXtNA3RM28RG0NCBuSxlEfB3w3ekwVPRT6Oqa11Dm2Sbo9ItaV\ndAMpCd9kUkNcpZkQcq+Gab7wqsZri1t0ms/ScsP9KqXv1qnwjDlNkLQqqSfTwnnRc6R6emDoSjUt\nST8CjgVWomu4WkRE3fxJRUg6kHRXfglS43jrQuhF4LSI+NUg450ZEZ+T9DwpUSekHHOTgPMiJ3qu\nWNYrST0p76OtZ1TkYZYVY65ESkjcyrnQilm5Mdd1DgzTOh9p9d1U3ZTehtriFt/HzQbLQ3j69k5S\nLoPWheXhpAvLj5BOlgfdgDKzN5RMx5OS1gdCKcfEAVTrit+0C0lDjS6hXJf0JmKW1HPIyRvAshHx\nX0mVMu1HxCu0DU2KiGepnz/oPcA3IuK1HPMfQN3Gk80i4mrSMJHWst2jZqb3KJ+XqH1I1ElRZkhU\nEQ0f006VtBBwKKkhe17gezXird3295ykfEQL9/HawVghInaWtAtA3ncqzdjQkPuBxai/D/ZUesac\nJpwKHBwR1wEoJaA+DVh/KAvVi8dISXiXIvUUWg+4hTR0YFAkrRwRD+eG3GlU6bkWEccDx0vaPyJO\nGOz7e7FWbnx9AugZb266Ej1XsXBEfLz/lw3KOcDJpG2nVILWInXeRH3n943kOh+29Q2N1HkjddPA\nNtTSxD5uNihuQOlb8QvLEWw/4HhgSdKsCFeScswMN69GxC87IGZJ40i5eVq5AbYGzpI0DzCccvV8\nCvhF7o3wR9JQjrqzYh0maXtSHod5SYk/XyMN5xlOnpZ0CmlI1DGS5iB1r53ZLUBXpv5f599vSvpA\nVBhGGXkq2za/kHQjcFiNMkL5aT6LkHQJqUzzAQ9Kup3uPUXq9oIrnhS9AfO0Gk8AImJ8PrYNNweQ\nZu+6NSI2zj3jqt5NPRjYh5S8u6W991Hlu+iRck+tz7Q9KgebT+dk0qwcy9F9tj5Rfar7lqslfbxO\nj8devBkRJxWMB+XqvLH6hhFb58O5vqF8nTdZNyW3oZYm9nGzQfEQnj4oTb+6LV1J57Ym3QX9KWnc\nYt2EsjbMSPosKY/DlXS/0Kjcm6CJmKVJWouuqbBvjIhhOf10zoGxJSlvyYbAVRHxhRrxRMpd0coy\nf1hEnFW7oIU1MSSqE7QNo7wkL6o1jLLH3bpZcuwv1RlKmLehz5FmC1qFtJ9vAOwREeOrxi1BKfGw\ngGOAb7Y/BRxTdwiYpNOAn8cwToou6QJSb7Az86LdgLUjYpuhK9W0JN0REetIuoc0O9hrku6pMwxM\n0k4Unk5ehfPpSDopIr5UtTx9xCyZ+6XVQ+0A4J+k3Fbt3+OVp6EtXedN1HeOO2LqvJPqO8csWudN\n1E2OW3obKpr7xawKN6BMR6dcWA5Xkr4ZEceqaxrRbqoePJuSx6h+jjRrw9td0guMey0acyTLjShb\nkHomfCQiFqkRa2HgFNId+qWAMaQLy2F1UJS0TG/LI+KJGV2WGUmF8/NIuq7tYWt893ER8UjNck4A\nPk7XFI23Rr0pGouSdFdErNlj2cSombxcHZAUPQ8BO5Ku7/EbgCMi4t9DWrAeckPPnqR8AZuQppOf\nPSIqT9Ou7rmTfki6+VMrd5IayqdTWj62r0j36c+vrxCnlTepfUje2+seNfInla7zJuo7xx0xdd5J\n9Z1jNlLnpTWxDZXax82q8hCe6YiICaR8J1bNt0i5Yv5O+rIY7rYFlo+I1/t95dDGHHEkbQF8BtiY\nNP3s6aTZbuq4FfhxRPw2D8E4BriJ4Zcf4c90ndTNSepm+wg9pkWcCRUdRhkRGxcrWXe3kvbxP/f7\nyhlI0pdIyXeXlzSx7an5SNt5XVsUiNGo3FAyrBrqexMR2+Y/j8gNfQuQutTX0cR08k3l0ylG0heA\nA+mea+JmUrLwQYmI5XLMXu/01ylnA3XeRH3DCKrzDqtvaK7OSyu6DZXcx82qcgOKNWlKTky1J+nC\nd7i7F1iQ1HVzOMccifYEzgL2jZxIVtIxpEa6qjYDPirpsIg4StJxpDG6w0rPPBN5KMq+fbx8ZlIk\nP4+6T804jag/9eHGwL6SHidNdz9cemKMAy4jzdz07bblL9Xpit4SHZAUXWk2ja8z7dj7YdsDsOBd\n1CZyJy1CM/l0SjqQcrkmWg6NiLPznf6Pke70nwQUudNfqM6bypU1Euu8E+obOic/WultqIl93GxQ\n3IBiTTqJ1MK+PA0kpmrAKOBhSXdQ7kShiZgj0YoRcWGPZVtSrwHlO6RhVZsARwEvkU6U1qkRs3ER\ncZekYV3GEiLiaEl/oWv4xX5twygHk4Nqvun9m6rla7NlgRjFRcQLwAukqYZHqtZsGqdTbjaNTrET\nqZfQcRHxfM6d9I2aMY+oXarmvRoRr0pC0hyRZit5T82YnXCnv4n6hpFZ551Q39BcnZd2ROF4Tezj\nZoPiHCjWuKYSU5WWky5Oo87dgiZijiTtwxBIQ8Fa5gNuiojdasS+KyLWlHR3RKyRl90bNZKKNqFH\nD4pZgLVI0/htPkRF6kiSfg8cGBHP58cLAT+NiL2GtmTWFEkTImKtoS6HzTgN5Zq4FHiadKd/LeC/\nwO3D7btipGogn4zrexhrYh83Gyw3oJjZsCVpAWAhGhiGIOk2Ur6TO3JDyqLAla3GlOFC0uF09ZRo\nJT89rzWUyQamvaFsesus8zU5m8ZIJOnGiNgwz37RftI4rGe/yDcwFiDls6ich0wjcCa0kVznI7G+\nmzAjtqFS+7jZYLkBxUa8Jg7ynXryMZJI2pU0JfKawO+BHUhjn88Z0oL1kIfrfJfueRyGQ46NjiLp\nXmCjnFi0dZF9fc8cM9b5mpxNw8zMzEY2N6CY2YiVk49tSrrQuiYiHhriIk1D0iOkRJj30zUVdkck\n8RxOJH2elPfmXNLF9E7ADyLizCEtmDWmr9k0IuKuIS6amZmZdSg3oJiZDWOt3kxDXY6ZgaRVSGOm\nWw1mA57NxzqPpIkRsVqeTeOHpCTR342IIrNpmJmZ2cjjBhQzs2FM0qakmVSuoXseh/OHrFBmHaCV\n40bSj0j5DMY5742ZmZnV4WmMzcyGtz2BlYHZ6RrCE4AbUMym72lJp5Bm0/j/7d2hDUJBFETRGUUZ\nCKpFUQBlIZC0gvjBkbxAyGfFOXJLuNm8Obc9ZFuyAgD4ih8oAAtre3PoFD5nTQMA+DUBBWBhba9J\nLu51AADAfwkoAAtre09ySvLIdgPlNYVtxhgAAHYkoAAsrO3x3bsZYwAA2JeAAgAAADBwjR4AAABg\nIKAAAAAADAQUAAAAgIGAAgAAADB4AhfW2mKxk9zyAAAAAElFTkSuQmCC\n",
      "text/plain": [
       "<matplotlib.figure.Figure at 0x118a4e8d0>"
      ]
     },
     "metadata": {},
     "output_type": "display_data"
    }
   ],
=======
   "execution_count": null,
   "metadata": {
    "collapsed": true
   },
   "outputs": [],
>>>>>>> f2cfab2cf088b7ff1cff12b6d8ede830cceda9af
   "source": [
    "# heatmap of the correlations\n",
    "fig, ax = plt.subplots(figsize=(20,20)) \n",
    "sns.heatmap(sd[features].corr(),linewidths=.5, ax=ax)"
   ]
  },
  {
   "cell_type": "code",
   "execution_count": 135,
   "metadata": {
    "collapsed": true
   },
   "outputs": [],
   "source": [
    "# drop one feature in the pairs that have high correlations\n",
    "keep =['gender','match','order','age','field_cd','race','imprace','income','date',\n",
    "       'exercise','museums','hiking','gaming','clubbing','reading','tv','music','yoga',\n",
    "       'sinc1_1', 'intel1_1','fun1_1', 'amb1_1', 'shar1_1','intel2_1', 'fun2_1',\n",
    "       'sinc3_1','fun3_1', 'intel3_1']"
   ]
  },
  {
   "cell_type": "code",
<<<<<<< HEAD
   "execution_count": 136,
   "metadata": {},
   "outputs": [
    {
     "data": {
      "text/plain": [
       "<matplotlib.axes._subplots.AxesSubplot at 0x111ec5eb8>"
      ]
     },
     "execution_count": 136,
     "metadata": {},
     "output_type": "execute_result"
    },
    {
     "data": {
      "image/png": "iVBORw0KGgoAAAANSUhEUgAABFYAAASJCAYAAADyqJicAAAABHNCSVQICAgIfAhkiAAAAAlwSFlz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\n",
      "text/plain": [
       "<matplotlib.figure.Figure at 0x118452f28>"
      ]
     },
     "metadata": {},
     "output_type": "display_data"
    }
   ],
=======
   "execution_count": null,
   "metadata": {
    "collapsed": true
   },
   "outputs": [],
>>>>>>> f2cfab2cf088b7ff1cff12b6d8ede830cceda9af
   "source": [
    "# run the heat map again to make sure the correlations are within a reasonable range \n",
    "fig, ax = plt.subplots(figsize=(20,20)) \n",
    "sns.heatmap(sd[keep].corr(),linewidths=.5, ax=ax)"
   ]
  },
  {
   "cell_type": "markdown",
   "metadata": {},
   "source": [
    "We decided to drop all NaN values instead of imputing them in some way, because these are all personal preference rankings, it doesn't make sense to impose the mean or median of other people's ranking to a specific participant who was either unwilling or unable to give the ranking at the time. "
   ]
  },
  {
   "cell_type": "code",
   "execution_count": 138,
   "metadata": {
    "collapsed": true
   },
   "outputs": [],
   "source": [
    "# drop all NaN values \n",
    "temp1 = sd[keep].dropna()"
   ]
  },
  {
   "cell_type": "markdown",
   "metadata": {},
   "source": [
    "We compared 3 different clustering models using different numbers of clusters and trying to pick the best one. "
   ]
  },
  {
   "cell_type": "code",
   "execution_count": 139,
   "metadata": {},
   "outputs": [
    {
     "name": "stdout",
     "output_type": "stream",
     "text": [
      "KMeans(alg with k =2: 0.5543\n",
      "Birch(bran with k =2: 0.5729\n",
      "Agglomerat with k =2: 0.5823\n",
      "KMeans(alg with k =3: 0.5995\n",
      "Birch(bran with k =3: 0.5699\n",
      "Agglomerat with k =3: 0.5767\n",
      "KMeans(alg with k =4: 0.5756\n",
      "Birch(bran with k =4: 0.5637\n",
      "Agglomerat with k =4: 0.5595\n",
      "KMeans(alg with k =5: 0.5859\n",
      "Birch(bran with k =5: 0.5661\n",
      "Agglomerat with k =5: 0.575\n"
     ]
    }
   ],
   "source": [
    "# we got this code from Michele Samorani's Phython class note. See reference at the bottom.\n",
    "from sklearn import metrics\n",
    "from sklearn.cluster import KMeans\n",
    "from sklearn.cluster import Birch\n",
    "from sklearn.cluster import AgglomerativeClustering\n",
    "\n",
    "bestSil = -1\n",
    "for k in range(2,6):\n",
    "    clus = [KMeans(n_clusters=k,n_jobs=-1), Birch(n_clusters=k), \n",
    "            AgglomerativeClustering(n_clusters=k)]\n",
    "    for cl in clus:\n",
    "        res = cl.fit(temp1)\n",
    "        sil = metrics.silhouette_score(temp1, res.labels_)\n",
    "        print (str(cl)[:10] + ' with k =' +str(k) + \": \" + str(round(sil,4)))\n",
    "        if (sil > bestSil):\n",
    "            bestSil = sil\n",
    "            bestCl = cl"
   ]
  },
  {
   "cell_type": "markdown",
   "metadata": {},
   "source": [
    "The results are very close. We were expecting something over 0.7 to give us better clusters. The number shows that KMeans with cluster of 3 is the best option here. "
   ]
  },
  {
   "cell_type": "code",
   "execution_count": 182,
   "metadata": {
    "collapsed": true
   },
   "outputs": [],
   "source": [
    "kmeans = KMeans(n_clusters=3)"
   ]
  },
  {
   "cell_type": "code",
   "execution_count": 183,
   "metadata": {
    "collapsed": true
   },
   "outputs": [],
   "source": [
    "cluster = kmeans.fit_predict(temp1)"
   ]
  },
  {
   "cell_type": "code",
   "execution_count": 184,
   "metadata": {
    "collapsed": true
   },
   "outputs": [],
   "source": [
    "temp1['cluster']=cluster"
   ]
  },
  {
   "cell_type": "code",
   "execution_count": 185,
   "metadata": {},
   "outputs": [
    {
     "data": {
      "text/html": [
       "<div>\n",
       "<style>\n",
       "    .dataframe thead tr:only-child th {\n",
       "        text-align: right;\n",
       "    }\n",
       "\n",
       "    .dataframe thead th {\n",
       "        text-align: left;\n",
       "    }\n",
       "\n",
       "    .dataframe tbody tr th {\n",
       "        vertical-align: top;\n",
       "    }\n",
       "</style>\n",
       "<table border=\"1\" class=\"dataframe\">\n",
       "  <thead>\n",
       "    <tr style=\"text-align: right;\">\n",
       "      <th></th>\n",
       "      <th>gender</th>\n",
       "      <th>match</th>\n",
       "      <th>order</th>\n",
       "      <th>age</th>\n",
       "      <th>field_cd</th>\n",
       "      <th>race</th>\n",
       "      <th>imprace</th>\n",
       "      <th>income</th>\n",
       "      <th>date</th>\n",
       "      <th>exercise</th>\n",
       "      <th>...</th>\n",
       "      <th>sinc1_1</th>\n",
       "      <th>intel1_1</th>\n",
       "      <th>fun1_1</th>\n",
       "      <th>amb1_1</th>\n",
       "      <th>shar1_1</th>\n",
       "      <th>intel2_1</th>\n",
       "      <th>fun2_1</th>\n",
       "      <th>sinc3_1</th>\n",
       "      <th>fun3_1</th>\n",
       "      <th>intel3_1</th>\n",
       "    </tr>\n",
       "    <tr>\n",
       "      <th>cluster</th>\n",
       "      <th></th>\n",
       "      <th></th>\n",
       "      <th></th>\n",
       "      <th></th>\n",
       "      <th></th>\n",
       "      <th></th>\n",
       "      <th></th>\n",
       "      <th></th>\n",
       "      <th></th>\n",
       "      <th></th>\n",
       "      <th></th>\n",
       "      <th></th>\n",
       "      <th></th>\n",
       "      <th></th>\n",
       "      <th></th>\n",
       "      <th></th>\n",
       "      <th></th>\n",
       "      <th></th>\n",
       "      <th></th>\n",
       "      <th></th>\n",
       "      <th></th>\n",
       "    </tr>\n",
       "  </thead>\n",
       "  <tbody>\n",
       "    <tr>\n",
       "      <th>0</th>\n",
       "      <td>0.378549</td>\n",
       "      <td>0.164038</td>\n",
       "      <td>9.093849</td>\n",
       "      <td>26.723186</td>\n",
       "      <td>7.128549</td>\n",
       "      <td>2.376972</td>\n",
       "      <td>3.875394</td>\n",
       "      <td>29461.559937</td>\n",
       "      <td>5.313880</td>\n",
       "      <td>6.267350</td>\n",
       "      <td>...</td>\n",
       "      <td>0.174654</td>\n",
       "      <td>0.203790</td>\n",
       "      <td>0.175217</td>\n",
       "      <td>0.116418</td>\n",
       "      <td>0.122118</td>\n",
       "      <td>0.133706</td>\n",
       "      <td>0.191776</td>\n",
       "      <td>0.797231</td>\n",
       "      <td>0.694795</td>\n",
       "      <td>0.831668</td>\n",
       "    </tr>\n",
       "    <tr>\n",
       "      <th>1</th>\n",
       "      <td>0.456477</td>\n",
       "      <td>0.176833</td>\n",
       "      <td>8.851953</td>\n",
       "      <td>25.638794</td>\n",
       "      <td>7.661412</td>\n",
       "      <td>2.565456</td>\n",
       "      <td>3.655243</td>\n",
       "      <td>49346.006854</td>\n",
       "      <td>4.878684</td>\n",
       "      <td>6.668266</td>\n",
       "      <td>...</td>\n",
       "      <td>0.175251</td>\n",
       "      <td>0.205694</td>\n",
       "      <td>0.180265</td>\n",
       "      <td>0.115352</td>\n",
       "      <td>0.116684</td>\n",
       "      <td>0.144609</td>\n",
       "      <td>0.178650</td>\n",
       "      <td>0.805575</td>\n",
       "      <td>0.790953</td>\n",
       "      <td>0.834057</td>\n",
       "    </tr>\n",
       "    <tr>\n",
       "      <th>2</th>\n",
       "      <td>0.418410</td>\n",
       "      <td>0.202929</td>\n",
       "      <td>9.248954</td>\n",
       "      <td>25.581590</td>\n",
       "      <td>7.228033</td>\n",
       "      <td>2.594142</td>\n",
       "      <td>4.600418</td>\n",
       "      <td>75115.211297</td>\n",
       "      <td>4.979079</td>\n",
       "      <td>6.861925</td>\n",
       "      <td>...</td>\n",
       "      <td>0.157323</td>\n",
       "      <td>0.205701</td>\n",
       "      <td>0.197954</td>\n",
       "      <td>0.111615</td>\n",
       "      <td>0.114808</td>\n",
       "      <td>0.143273</td>\n",
       "      <td>0.187007</td>\n",
       "      <td>0.827290</td>\n",
       "      <td>0.776848</td>\n",
       "      <td>0.860065</td>\n",
       "    </tr>\n",
       "  </tbody>\n",
       "</table>\n",
       "<p>3 rows × 28 columns</p>\n",
       "</div>"
      ],
      "text/plain": [
       "           gender     match     order        age  field_cd      race  \\\n",
       "cluster                                                                \n",
       "0        0.378549  0.164038  9.093849  26.723186  7.128549  2.376972   \n",
       "1        0.456477  0.176833  8.851953  25.638794  7.661412  2.565456   \n",
       "2        0.418410  0.202929  9.248954  25.581590  7.228033  2.594142   \n",
       "\n",
       "          imprace        income      date  exercise    ...      sinc1_1  \\\n",
       "cluster                                                ...                \n",
       "0        3.875394  29461.559937  5.313880  6.267350    ...     0.174654   \n",
       "1        3.655243  49346.006854  4.878684  6.668266    ...     0.175251   \n",
       "2        4.600418  75115.211297  4.979079  6.861925    ...     0.157323   \n",
       "\n",
       "         intel1_1    fun1_1    amb1_1   shar1_1  intel2_1    fun2_1   sinc3_1  \\\n",
       "cluster                                                                         \n",
       "0        0.203790  0.175217  0.116418  0.122118  0.133706  0.191776  0.797231   \n",
       "1        0.205694  0.180265  0.115352  0.116684  0.144609  0.178650  0.805575   \n",
       "2        0.205701  0.197954  0.111615  0.114808  0.143273  0.187007  0.827290   \n",
       "\n",
       "           fun3_1  intel3_1  \n",
       "cluster                      \n",
       "0        0.694795  0.831668  \n",
       "1        0.790953  0.834057  \n",
       "2        0.776848  0.860065  \n",
       "\n",
       "[3 rows x 28 columns]"
      ]
     },
     "execution_count": 185,
     "metadata": {},
     "output_type": "execute_result"
    }
   ],
   "source": [
    "temp1.groupby('cluster').mean()"
   ]
  },
  {
   "cell_type": "markdown",
   "metadata": {},
   "source": [
    "The result was not that good. It did not give a fairly clear cluster. Also since our dateset has already been labeled, we decided to move to classification instead of clustering. "
   ]
  },
  {
   "cell_type": "markdown",
   "metadata": {},
   "source": [
    "### <u>Classification</u>"
   ]
  },
  {
   "cell_type": "markdown",
   "metadata": {},
   "source": [
    "We wanted to see how your interests influence your partner's decision. We did this on two race groups to find out whether the interests that got you partner to say yes changed among different races. "
   ]
  },
  {
   "cell_type": "code",
<<<<<<< HEAD
   "execution_count": 144,
=======
   "execution_count": null,
>>>>>>> f2cfab2cf088b7ff1cff12b6d8ede830cceda9af
   "metadata": {
    "collapsed": true
   },
   "outputs": [],
   "source": [
    "# select interests\n",
    "interest = ['dec_o','sports','tvsports','exercise','dining','museums','art','hiking',\n",
    "            'gaming','clubbing','reading','tv','theater','movies','music','shopping',\n",
    "            'yoga']"
   ]
  },
  {
   "cell_type": "markdown",
   "metadata": {},
   "source": [
    "Classification over interest on major race group: European/Caucasian-American"
   ]
  },
  {
   "cell_type": "code",
<<<<<<< HEAD
   "execution_count": 145,
=======
   "execution_count": null,
>>>>>>> f2cfab2cf088b7ff1cff12b6d8ede830cceda9af
   "metadata": {
    "collapsed": true
   },
   "outputs": [],
   "source": [
    "# include waves 1-14\n",
    "# Majority group & interest \n",
    "wave_m_i = sd[sd['race']==2].loc[:, interest]"
   ]
  },
  {
   "cell_type": "code",
<<<<<<< HEAD
   "execution_count": 146,
   "metadata": {},
   "outputs": [
    {
     "data": {
      "text/plain": [
       "3654"
      ]
     },
     "execution_count": 146,
     "metadata": {},
     "output_type": "execute_result"
    },
    {
     "data": {
      "text/plain": [
       "dec_o        0\n",
       "sports      16\n",
       "tvsports    16\n",
       "exercise    16\n",
       "dining      16\n",
       "museums     16\n",
       "art         16\n",
       "hiking      16\n",
       "gaming      16\n",
       "clubbing    16\n",
       "reading     16\n",
       "tv          16\n",
       "theater     16\n",
       "movies      16\n",
       "music       16\n",
       "shopping    16\n",
       "yoga        16\n",
       "dtype: int64"
      ]
     },
     "execution_count": 146,
     "metadata": {},
     "output_type": "execute_result"
    }
   ],
=======
   "execution_count": null,
   "metadata": {},
   "outputs": [],
>>>>>>> f2cfab2cf088b7ff1cff12b6d8ede830cceda9af
   "source": [
    "# check how many rows we have \n",
    "len(wave_m_i)\n",
    "# see if there is any NaN values\n",
    "wave_m_i.isnull().sum()"
   ]
  },
  {
   "cell_type": "code",
   "execution_count": 147,
   "metadata": {
    "collapsed": true
   },
   "outputs": [],
   "source": [
    "# drop all NaN values\n",
    "wave_m_i=wave_m_i.dropna(axis=0, how='any')"
   ]
  },
  {
   "cell_type": "code",
<<<<<<< HEAD
   "execution_count": 148,
   "metadata": {},
   "outputs": [
    {
     "data": {
      "text/plain": [
       "SelectKBest(k=5, score_func=<function f_classif at 0x117bb48c8>)"
      ]
     },
     "execution_count": 148,
     "metadata": {},
     "output_type": "execute_result"
    },
    {
     "name": "stdout",
     "output_type": "stream",
     "text": [
      "  Feat_names   F_Scores\n",
      "0   exercise  28.897477\n",
      "1     dining  21.748872\n",
      "2   clubbing  18.565484\n",
      "4   shopping  16.132498\n",
      "3    reading  12.118425\n"
     ]
    }
   ],
=======
   "execution_count": null,
   "metadata": {},
   "outputs": [],
>>>>>>> f2cfab2cf088b7ff1cff12b6d8ede830cceda9af
   "source": [
    "# define our X and y\n",
    "X_m_i, y_m_i = wave_m_i.drop(['dec_o'], axis=1), wave_m_i['dec_o']\n",
    "\n",
    "kb = fs.SelectKBest(k=5)\n",
    "kb.fit(X_m_i, y_m_i)\n",
    "\n",
    "names = X_m_i.columns.values[kb.get_support()]\n",
    "scores = kb.scores_[kb.get_support()]\n",
    "names_scores = list(zip(names, scores))\n",
    "ns_df = pd.DataFrame(data = names_scores, columns=['Feat_names', 'F_Scores'])\n",
    "#Sort the dataframe for better visualization\n",
    "ns_df_sorted = ns_df.sort_values(['F_Scores', 'Feat_names'], ascending = [False, True])\n",
    "print(ns_df_sorted)"
   ]
  },
  {
   "cell_type": "code",
<<<<<<< HEAD
   "execution_count": 149,
   "metadata": {},
   "outputs": [
    {
     "data": {
      "text/plain": [
       "RandomForestRegressor(bootstrap=True, criterion='mse', max_depth=None,\n",
       "           max_features='auto', max_leaf_nodes=None,\n",
       "           min_impurity_decrease=0.0, min_impurity_split=None,\n",
       "           min_samples_leaf=1, min_samples_split=2,\n",
       "           min_weight_fraction_leaf=0.0, n_estimators=100, n_jobs=-1,\n",
       "           oob_score=True, random_state=42, verbose=0, warm_start=False)"
      ]
     },
     "execution_count": 149,
     "metadata": {},
     "output_type": "execute_result"
    },
    {
     "data": {
      "text/plain": [
       "0.6990516132803366"
      ]
     },
     "execution_count": 149,
     "metadata": {},
     "output_type": "execute_result"
    }
   ],
=======
   "execution_count": null,
   "metadata": {},
   "outputs": [],
>>>>>>> f2cfab2cf088b7ff1cff12b6d8ede830cceda9af
   "source": [
    "# Random Forest \n",
    "from sklearn.ensemble import RandomForestRegressor\n",
    "from sklearn.metrics import roc_auc_score\n",
    "model = RandomForestRegressor(100, oob_score=True, n_jobs=-1, random_state=42)\n",
    "model.fit(X_m_i, y_m_i)\n",
    "roc_auc_score(y_m_i,model.oob_prediction_)"
   ]
  },
  {
   "cell_type": "code",
<<<<<<< HEAD
   "execution_count": 150,
=======
   "execution_count": null,
>>>>>>> f2cfab2cf088b7ff1cff12b6d8ede830cceda9af
   "metadata": {
    "collapsed": true
   },
   "outputs": [],
   "source": [
    "feature_importances = pd.Series(model.feature_importances_, index = X_m_i.columns)\n",
    "feature_importances.sort_values(inplace=True)"
   ]
  },
  {
   "cell_type": "code",
<<<<<<< HEAD
   "execution_count": 151,
   "metadata": {},
   "outputs": [
    {
     "data": {
      "text/plain": [
       "<matplotlib.axes._subplots.AxesSubplot at 0x1182a96d8>"
      ]
     },
     "execution_count": 151,
     "metadata": {},
     "output_type": "execute_result"
    },
    {
     "data": {
      "image/png": "iVBORw0KGgoAAAANSUhEUgAAAncAAAHVCAYAAACT9t0aAAAABHNCSVQICAgIfAhkiAAAAAlwSFlz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\nO0mSpBYx3EmSJLWI4U6SJKlF/i/qsRbrtvKt6gAAAABJRU5ErkJggg==\n",
      "text/plain": [
       "<matplotlib.figure.Figure at 0x1182a9e80>"
      ]
     },
     "metadata": {},
     "output_type": "display_data"
    }
   ],
=======
   "execution_count": null,
   "metadata": {},
   "outputs": [],
>>>>>>> f2cfab2cf088b7ff1cff12b6d8ede830cceda9af
   "source": [
    "feature_importances.plot(kind='barh', figsize=(10,8))"
   ]
  },
  {
   "cell_type": "code",
<<<<<<< HEAD
   "execution_count": 152,
=======
   "execution_count": null,
>>>>>>> f2cfab2cf088b7ff1cff12b6d8ede830cceda9af
   "metadata": {
    "collapsed": true
   },
   "outputs": [],
   "source": [
    "# best \n",
    "interest_best = ['dec_o','dining','clubbing','shopping','exercise','reading']\n",
    "#interest_best = ['dec_o','yoga','clubbing','gaming','exercise','tv']\n",
    "wave6_m_i = sd[sd['race']==2].loc[:, interest_best]"
   ]
  },
  {
   "cell_type": "code",
<<<<<<< HEAD
   "execution_count": 153,
   "metadata": {},
   "outputs": [
    {
     "data": {
      "text/plain": [
       "dec_o       0\n",
       "dining      0\n",
       "clubbing    0\n",
       "shopping    0\n",
       "exercise    0\n",
       "reading     0\n",
       "dtype: int64"
      ]
     },
     "execution_count": 153,
     "metadata": {},
     "output_type": "execute_result"
    },
    {
     "data": {
      "text/plain": [
       "1664"
      ]
     },
     "execution_count": 153,
     "metadata": {},
     "output_type": "execute_result"
    },
    {
     "data": {
      "text/plain": [
       "1974"
      ]
     },
     "execution_count": 153,
     "metadata": {},
     "output_type": "execute_result"
    }
   ],
=======
   "execution_count": null,
   "metadata": {},
   "outputs": [],
>>>>>>> f2cfab2cf088b7ff1cff12b6d8ede830cceda9af
   "source": [
    "wave6_m_i=wave6_m_i.dropna(axis=0, how='any')\n",
    "wave6_m_i.isnull().sum()\n",
    "len(wave6_m_i[wave6_m_i['dec_o']==1])\n",
    "len(wave6_m_i[wave6_m_i['dec_o']==0])"
   ]
  },
  {
   "cell_type": "code",
<<<<<<< HEAD
   "execution_count": 154,
   "metadata": {},
   "outputs": [
    {
     "data": {
      "text/plain": [
       "array([1, 1, 1, ..., 1, 1, 1])"
      ]
     },
     "execution_count": 154,
     "metadata": {},
     "output_type": "execute_result"
    }
   ],
=======
   "execution_count": null,
   "metadata": {},
   "outputs": [],
>>>>>>> f2cfab2cf088b7ff1cff12b6d8ede830cceda9af
   "source": [
    "X_m_i, y_m_i = wave6_m_i.drop(['dec_o'], axis=1), wave6_m_i['dec_o']\n",
    "\n",
    "dtc = tree.DecisionTreeClassifier(max_depth=2).fit(X_m_i, y_m_i)\n",
    "dtc_labels = dtc.predict(X_m_i)\n",
    "dtc_labels"
   ]
  },
  {
   "cell_type": "code",
<<<<<<< HEAD
   "execution_count": 155,
   "metadata": {},
   "outputs": [
    {
     "data": {
      "image/svg+xml": [
       "<?xml version=\"1.0\" encoding=\"UTF-8\" standalone=\"no\"?>\n",
       "<!DOCTYPE svg PUBLIC \"-//W3C//DTD SVG 1.1//EN\"\n",
       " \"http://www.w3.org/Graphics/SVG/1.1/DTD/svg11.dtd\">\n",
       "<!-- Generated by graphviz version 2.40.1 (20161225.0304)\n",
       " -->\n",
       "<!-- Title: Tree Pages: 1 -->\n",
       "<svg width=\"650pt\" height=\"300pt\"\n",
       " viewBox=\"0.00 0.00 650.26 300.00\" xmlns=\"http://www.w3.org/2000/svg\" xmlns:xlink=\"http://www.w3.org/1999/xlink\">\n",
       "<g id=\"graph0\" class=\"graph\" transform=\"scale(1 1) rotate(0) translate(4 296)\">\n",
       "<title>Tree</title>\n",
       "<polygon fill=\"#ffffff\" stroke=\"transparent\" points=\"-4,4 -4,-296 646.2646,-296 646.2646,4 -4,4\"/>\n",
       "<!-- 0 -->\n",
       "<g id=\"node1\" class=\"node\">\n",
       "<title>0</title>\n",
       "<path fill=\"#e58139\" fill-opacity=\"0.156863\" stroke=\"#000000\" d=\"M392.0762,-292C392.0762,-292 264.9746,-292 264.9746,-292 258.9746,-292 252.9746,-286 252.9746,-280 252.9746,-280 252.9746,-226 252.9746,-226 252.9746,-220 258.9746,-214 264.9746,-214 264.9746,-214 392.0762,-214 392.0762,-214 398.0762,-214 404.0762,-220 404.0762,-226 404.0762,-226 404.0762,-280 404.0762,-280 404.0762,-286 398.0762,-292 392.0762,-292\"/>\n",
       "<text text-anchor=\"start\" x=\"284.9976\" y=\"-276.8\" font-family=\"Helvetica,sans-Serif\" font-size=\"14.00\" fill=\"#000000\">exercise ≤ 6.5</text>\n",
       "<text text-anchor=\"start\" x=\"292.1343\" y=\"-262.8\" font-family=\"Helvetica,sans-Serif\" font-size=\"14.00\" fill=\"#000000\">gini = 0.496</text>\n",
       "<text text-anchor=\"start\" x=\"270.7412\" y=\"-248.8\" font-family=\"Helvetica,sans-Serif\" font-size=\"14.00\" fill=\"#000000\">samples = 100.0%</text>\n",
       "<text text-anchor=\"start\" x=\"261\" y=\"-234.8\" font-family=\"Helvetica,sans-Serif\" font-size=\"14.00\" fill=\"#000000\">value = [0.543, 0.457]</text>\n",
       "<text text-anchor=\"start\" x=\"294.8687\" y=\"-220.8\" font-family=\"Helvetica,sans-Serif\" font-size=\"14.00\" fill=\"#000000\">class = 0.0</text>\n",
       "</g>\n",
       "<!-- 1 -->\n",
       "<g id=\"node2\" class=\"node\">\n",
       "<title>1</title>\n",
       "<path fill=\"#e58139\" fill-opacity=\"0.349020\" stroke=\"#000000\" d=\"M308.0762,-178C308.0762,-178 180.9746,-178 180.9746,-178 174.9746,-178 168.9746,-172 168.9746,-166 168.9746,-166 168.9746,-112 168.9746,-112 168.9746,-106 174.9746,-100 180.9746,-100 180.9746,-100 308.0762,-100 308.0762,-100 314.0762,-100 320.0762,-106 320.0762,-112 320.0762,-112 320.0762,-166 320.0762,-166 320.0762,-172 314.0762,-178 308.0762,-178\"/>\n",
       "<text text-anchor=\"start\" x=\"200.9873\" y=\"-162.8\" font-family=\"Helvetica,sans-Serif\" font-size=\"14.00\" fill=\"#000000\">clubbing ≤ 8.5</text>\n",
       "<text text-anchor=\"start\" x=\"208.1343\" y=\"-148.8\" font-family=\"Helvetica,sans-Serif\" font-size=\"14.00\" fill=\"#000000\">gini = 0.477</text>\n",
       "<text text-anchor=\"start\" x=\"190.6343\" y=\"-134.8\" font-family=\"Helvetica,sans-Serif\" font-size=\"14.00\" fill=\"#000000\">samples = 45.1%</text>\n",
       "<text text-anchor=\"start\" x=\"177\" y=\"-120.8\" font-family=\"Helvetica,sans-Serif\" font-size=\"14.00\" fill=\"#000000\">value = [0.606, 0.394]</text>\n",
       "<text text-anchor=\"start\" x=\"210.8687\" y=\"-106.8\" font-family=\"Helvetica,sans-Serif\" font-size=\"14.00\" fill=\"#000000\">class = 0.0</text>\n",
       "</g>\n",
       "<!-- 0&#45;&gt;1 -->\n",
       "<g id=\"edge1\" class=\"edge\">\n",
       "<title>0&#45;&gt;1</title>\n",
       "<path fill=\"none\" stroke=\"#000000\" d=\"M299.6174,-213.7677C293.1498,-204.9903 286.222,-195.5883 279.5373,-186.5161\"/>\n",
       "<polygon fill=\"#000000\" stroke=\"#000000\" points=\"282.2364,-184.279 273.4867,-178.3046 276.601,-188.4314 282.2364,-184.279\"/>\n",
       "<text text-anchor=\"middle\" x=\"269.7416\" y=\"-198.8225\" font-family=\"Helvetica,sans-Serif\" font-size=\"14.00\" fill=\"#000000\">True</text>\n",
       "</g>\n",
       "<!-- 4 -->\n",
       "<g id=\"node5\" class=\"node\">\n",
       "<title>4</title>\n",
       "<path fill=\"#399de5\" fill-opacity=\"0.039216\" stroke=\"#000000\" d=\"M469.5048,-178C469.5048,-178 357.546,-178 357.546,-178 351.546,-178 345.546,-172 345.546,-166 345.546,-166 345.546,-112 345.546,-112 345.546,-106 351.546,-100 357.546,-100 357.546,-100 469.5048,-100 469.5048,-100 475.5048,-100 481.5048,-106 481.5048,-112 481.5048,-112 481.5048,-166 481.5048,-166 481.5048,-172 475.5048,-178 469.5048,-178\"/>\n",
       "<text text-anchor=\"start\" x=\"377.3804\" y=\"-162.8\" font-family=\"Helvetica,sans-Serif\" font-size=\"14.00\" fill=\"#000000\">dining ≤ 7.5</text>\n",
       "<text text-anchor=\"start\" x=\"384.9204\" y=\"-148.8\" font-family=\"Helvetica,sans-Serif\" font-size=\"14.00\" fill=\"#000000\">gini = 0.5</text>\n",
       "<text text-anchor=\"start\" x=\"359.6343\" y=\"-134.8\" font-family=\"Helvetica,sans-Serif\" font-size=\"14.00\" fill=\"#000000\">samples = 54.9%</text>\n",
       "<text text-anchor=\"start\" x=\"353.7861\" y=\"-120.8\" font-family=\"Helvetica,sans-Serif\" font-size=\"14.00\" fill=\"#000000\">value = [0.49, 0.51]</text>\n",
       "<text text-anchor=\"start\" x=\"379.8687\" y=\"-106.8\" font-family=\"Helvetica,sans-Serif\" font-size=\"14.00\" fill=\"#000000\">class = 1.0</text>\n",
       "</g>\n",
       "<!-- 0&#45;&gt;4 -->\n",
       "<g id=\"edge4\" class=\"edge\">\n",
       "<title>0&#45;&gt;4</title>\n",
       "<path fill=\"none\" stroke=\"#000000\" d=\"M357.7776,-213.7677C364.3221,-204.9903 371.3324,-195.5883 378.0967,-186.5161\"/>\n",
       "<polygon fill=\"#000000\" stroke=\"#000000\" points=\"381.0477,-188.4136 384.2193,-178.3046 375.4359,-184.2294 381.0477,-188.4136\"/>\n",
       "<text text-anchor=\"middle\" x=\"387.8244\" y=\"-198.8433\" font-family=\"Helvetica,sans-Serif\" font-size=\"14.00\" fill=\"#000000\">False</text>\n",
       "</g>\n",
       "<!-- 2 -->\n",
       "<g id=\"node3\" class=\"node\">\n",
       "<title>2</title>\n",
       "<path fill=\"#e58139\" fill-opacity=\"0.392157\" stroke=\"#000000\" d=\"M139.0762,-64C139.0762,-64 11.9746,-64 11.9746,-64 5.9746,-64 -.0254,-58 -.0254,-52 -.0254,-52 -.0254,-12 -.0254,-12 -.0254,-6 5.9746,0 11.9746,0 11.9746,0 139.0762,0 139.0762,0 145.0762,0 151.0762,-6 151.0762,-12 151.0762,-12 151.0762,-52 151.0762,-52 151.0762,-58 145.0762,-64 139.0762,-64\"/>\n",
       "<text text-anchor=\"start\" x=\"43.0273\" y=\"-48.8\" font-family=\"Helvetica,sans-Serif\" font-size=\"14.00\" fill=\"#000000\">gini = 0.47</text>\n",
       "<text text-anchor=\"start\" x=\"21.6343\" y=\"-34.8\" font-family=\"Helvetica,sans-Serif\" font-size=\"14.00\" fill=\"#000000\">samples = 42.2%</text>\n",
       "<text text-anchor=\"start\" x=\"8\" y=\"-20.8\" font-family=\"Helvetica,sans-Serif\" font-size=\"14.00\" fill=\"#000000\">value = [0.622, 0.378]</text>\n",
       "<text text-anchor=\"start\" x=\"41.8687\" y=\"-6.8\" font-family=\"Helvetica,sans-Serif\" font-size=\"14.00\" fill=\"#000000\">class = 0.0</text>\n",
       "</g>\n",
       "<!-- 1&#45;&gt;2 -->\n",
       "<g id=\"edge2\" class=\"edge\">\n",
       "<title>1&#45;&gt;2</title>\n",
       "<path fill=\"none\" stroke=\"#000000\" d=\"M182.5557,-99.7647C166.8972,-89.8508 150.1251,-79.2318 134.6129,-69.4105\"/>\n",
       "<polygon fill=\"#000000\" stroke=\"#000000\" points=\"136.461,-66.438 126.1397,-64.0458 132.7164,-72.3523 136.461,-66.438\"/>\n",
       "</g>\n",
       "<!-- 3 -->\n",
       "<g id=\"node4\" class=\"node\">\n",
       "<title>3</title>\n",
       "<path fill=\"#399de5\" fill-opacity=\"0.400000\" stroke=\"#000000\" d=\"M308.0762,-64C308.0762,-64 180.9746,-64 180.9746,-64 174.9746,-64 168.9746,-58 168.9746,-52 168.9746,-52 168.9746,-12 168.9746,-12 168.9746,-6 174.9746,0 180.9746,0 180.9746,0 308.0762,0 308.0762,0 314.0762,0 320.0762,-6 320.0762,-12 320.0762,-12 320.0762,-52 320.0762,-52 320.0762,-58 314.0762,-64 308.0762,-64\"/>\n",
       "<text text-anchor=\"start\" x=\"208.1343\" y=\"-48.8\" font-family=\"Helvetica,sans-Serif\" font-size=\"14.00\" fill=\"#000000\">gini = 0.469</text>\n",
       "<text text-anchor=\"start\" x=\"194.5273\" y=\"-34.8\" font-family=\"Helvetica,sans-Serif\" font-size=\"14.00\" fill=\"#000000\">samples = 2.9%</text>\n",
       "<text text-anchor=\"start\" x=\"177\" y=\"-20.8\" font-family=\"Helvetica,sans-Serif\" font-size=\"14.00\" fill=\"#000000\">value = [0.375, 0.625]</text>\n",
       "<text text-anchor=\"start\" x=\"210.8687\" y=\"-6.8\" font-family=\"Helvetica,sans-Serif\" font-size=\"14.00\" fill=\"#000000\">class = 1.0</text>\n",
       "</g>\n",
       "<!-- 1&#45;&gt;3 -->\n",
       "<g id=\"edge3\" class=\"edge\">\n",
       "<title>1&#45;&gt;3</title>\n",
       "<path fill=\"none\" stroke=\"#000000\" d=\"M244.5254,-99.7647C244.5254,-91.4537 244.5254,-82.6472 244.5254,-74.2305\"/>\n",
       "<polygon fill=\"#000000\" stroke=\"#000000\" points=\"248.0255,-74.2168 244.5254,-64.2169 241.0255,-74.2169 248.0255,-74.2168\"/>\n",
       "</g>\n",
       "<!-- 5 -->\n",
       "<g id=\"node6\" class=\"node\">\n",
       "<title>5</title>\n",
       "<path fill=\"#e58139\" fill-opacity=\"0.121569\" stroke=\"#000000\" d=\"M477.0762,-64C477.0762,-64 349.9746,-64 349.9746,-64 343.9746,-64 337.9746,-58 337.9746,-52 337.9746,-52 337.9746,-12 337.9746,-12 337.9746,-6 343.9746,0 349.9746,0 349.9746,0 477.0762,0 477.0762,0 483.0762,0 489.0762,-6 489.0762,-12 489.0762,-12 489.0762,-52 489.0762,-52 489.0762,-58 483.0762,-64 477.0762,-64\"/>\n",
       "<text text-anchor=\"start\" x=\"377.1343\" y=\"-48.8\" font-family=\"Helvetica,sans-Serif\" font-size=\"14.00\" fill=\"#000000\">gini = 0.498</text>\n",
       "<text text-anchor=\"start\" x=\"359.6343\" y=\"-34.8\" font-family=\"Helvetica,sans-Serif\" font-size=\"14.00\" fill=\"#000000\">samples = 22.6%</text>\n",
       "<text text-anchor=\"start\" x=\"346\" y=\"-20.8\" font-family=\"Helvetica,sans-Serif\" font-size=\"14.00\" fill=\"#000000\">value = [0.533, 0.467]</text>\n",
       "<text text-anchor=\"start\" x=\"379.8687\" y=\"-6.8\" font-family=\"Helvetica,sans-Serif\" font-size=\"14.00\" fill=\"#000000\">class = 0.0</text>\n",
       "</g>\n",
       "<!-- 4&#45;&gt;5 -->\n",
       "<g id=\"edge5\" class=\"edge\">\n",
       "<title>4&#45;&gt;5</title>\n",
       "<path fill=\"none\" stroke=\"#000000\" d=\"M413.5254,-99.7647C413.5254,-91.4537 413.5254,-82.6472 413.5254,-74.2305\"/>\n",
       "<polygon fill=\"#000000\" stroke=\"#000000\" points=\"417.0255,-74.2168 413.5254,-64.2169 410.0255,-74.2169 417.0255,-74.2168\"/>\n",
       "</g>\n",
       "<!-- 6 -->\n",
       "<g id=\"node7\" class=\"node\">\n",
       "<title>6</title>\n",
       "<path fill=\"#399de5\" fill-opacity=\"0.145098\" stroke=\"#000000\" d=\"M630.5048,-64C630.5048,-64 518.546,-64 518.546,-64 512.546,-64 506.546,-58 506.546,-52 506.546,-52 506.546,-12 506.546,-12 506.546,-6 512.546,0 518.546,0 518.546,0 630.5048,0 630.5048,0 636.5048,0 642.5048,-6 642.5048,-12 642.5048,-12 642.5048,-52 642.5048,-52 642.5048,-58 636.5048,-64 630.5048,-64\"/>\n",
       "<text text-anchor=\"start\" x=\"538.1343\" y=\"-48.8\" font-family=\"Helvetica,sans-Serif\" font-size=\"14.00\" fill=\"#000000\">gini = 0.497</text>\n",
       "<text text-anchor=\"start\" x=\"520.6343\" y=\"-34.8\" font-family=\"Helvetica,sans-Serif\" font-size=\"14.00\" fill=\"#000000\">samples = 32.2%</text>\n",
       "<text text-anchor=\"start\" x=\"514.7861\" y=\"-20.8\" font-family=\"Helvetica,sans-Serif\" font-size=\"14.00\" fill=\"#000000\">value = [0.46, 0.54]</text>\n",
       "<text text-anchor=\"start\" x=\"540.8687\" y=\"-6.8\" font-family=\"Helvetica,sans-Serif\" font-size=\"14.00\" fill=\"#000000\">class = 1.0</text>\n",
       "</g>\n",
       "<!-- 4&#45;&gt;6 -->\n",
       "<g id=\"edge6\" class=\"edge\">\n",
       "<title>4&#45;&gt;6</title>\n",
       "<path fill=\"none\" stroke=\"#000000\" d=\"M472.5616,-99.7647C487.3408,-89.9426 503.1612,-79.4284 517.8241,-69.6835\"/>\n",
       "<polygon fill=\"#000000\" stroke=\"#000000\" points=\"519.9158,-72.4958 526.307,-64.0458 516.0412,-66.6659 519.9158,-72.4958\"/>\n",
       "</g>\n",
       "</g>\n",
       "</svg>\n"
      ],
      "text/plain": [
       "<graphviz.files.Source at 0x11cfcc9b0>"
      ]
     },
     "execution_count": 155,
     "metadata": {},
     "output_type": "execute_result"
    }
   ],
=======
   "execution_count": null,
   "metadata": {},
   "outputs": [],
>>>>>>> f2cfab2cf088b7ff1cff12b6d8ede830cceda9af
   "source": [
    "import graphviz\n",
    "dot_data = sk.tree.export_graphviz(dtc, out_file=None, \n",
    "                         feature_names=list(X_m_i.columns),  \n",
    "                        #class_names = ['1.0' if i == 1 else '0.0' for i in y.unique()] ,\n",
    "                         class_names = ['1.0' if i == 1 else '0.0' for i in dtc.classes_] ,\n",
    "                        #class_names =[i for i in temp1['match'].unique()],\n",
    "                         filled=True, rounded=True,  \n",
    "                         special_characters=True, \n",
    "                         proportion=True,\n",
    "                        )  \n",
    "graph = graphviz.Source(dot_data)  \n",
    "graph"
   ]
  },
  {
   "cell_type": "markdown",
   "metadata": {},
   "source": [
    "Classification over interest on minor race group: European/Caucasian-American"
   ]
  },
  {
   "cell_type": "code",
<<<<<<< HEAD
   "execution_count": 156,
=======
   "execution_count": null,
>>>>>>> f2cfab2cf088b7ff1cff12b6d8ede830cceda9af
   "metadata": {
    "collapsed": true
   },
   "outputs": [],
   "source": [
    "wave_n_i = sd[(sd['race']==1)|(sd['race']==5)].loc[:, interest]"
   ]
  },
  {
   "cell_type": "code",
<<<<<<< HEAD
   "execution_count": 157,
   "metadata": {},
   "outputs": [
    {
     "data": {
      "text/plain": [
       "SelectKBest(k=5, score_func=<function f_classif at 0x117bb48c8>)"
      ]
     },
     "execution_count": 157,
     "metadata": {},
     "output_type": "execute_result"
    },
    {
     "name": "stdout",
     "output_type": "stream",
     "text": [
      "  Feat_names   F_Scores\n",
      "2     hiking  36.192543\n",
      "0    museums  17.223820\n",
      "1        art  13.870620\n",
      "4       yoga   8.376817\n",
      "3    reading   8.220813\n"
     ]
    }
   ],
=======
   "execution_count": null,
   "metadata": {},
   "outputs": [],
>>>>>>> f2cfab2cf088b7ff1cff12b6d8ede830cceda9af
   "source": [
    "wave_n_i=wave_n_i.dropna(axis=0, how='any')\n",
    "\n",
    "X_n_i, y_n_i = wave_n_i.drop(['dec_o'], axis=1), wave_n_i['dec_o']\n",
    "\n",
    "kb = fs.SelectKBest(k=5)\n",
    "kb.fit(X_n_i, y_n_i)\n",
    "\n",
    "names = X_n_i.columns.values[kb.get_support()]\n",
    "scores = kb.scores_[kb.get_support()]\n",
    "names_scores = list(zip(names, scores))\n",
    "ns_df = pd.DataFrame(data = names_scores, columns=['Feat_names', 'F_Scores'])\n",
    "#Sort the dataframe for better visualization\n",
    "ns_df_sorted = ns_df.sort_values(['F_Scores', 'Feat_names'], ascending = [False, True])\n",
    "print(ns_df_sorted)"
   ]
  },
  {
   "cell_type": "code",
<<<<<<< HEAD
   "execution_count": 158,
=======
   "execution_count": null,
>>>>>>> f2cfab2cf088b7ff1cff12b6d8ede830cceda9af
   "metadata": {
    "collapsed": true
   },
   "outputs": [],
   "source": [
    "interest_best = ['dec_o','hiking','museums','art','reading','yoga']\n",
    "wave_n_i = sd[(sd['race']==1)|(sd['race']==5)].loc[:, interest_best]"
   ]
  },
  {
   "cell_type": "code",
<<<<<<< HEAD
   "execution_count": 159,
   "metadata": {},
   "outputs": [
    {
     "data": {
      "text/plain": [
       "dec_o      0\n",
       "hiking     0\n",
       "museums    0\n",
       "art        0\n",
       "reading    0\n",
       "yoga       0\n",
       "dtype: int64"
      ]
     },
     "execution_count": 159,
     "metadata": {},
     "output_type": "execute_result"
    },
    {
     "data": {
      "text/plain": [
       "143"
      ]
     },
     "execution_count": 159,
     "metadata": {},
     "output_type": "execute_result"
    },
    {
     "data": {
      "text/plain": [
       "218"
      ]
     },
     "execution_count": 159,
     "metadata": {},
     "output_type": "execute_result"
    }
   ],
=======
   "execution_count": null,
   "metadata": {},
   "outputs": [],
>>>>>>> f2cfab2cf088b7ff1cff12b6d8ede830cceda9af
   "source": [
    "wave_n_i=wave_n_i.dropna(axis=0, how='any')\n",
    "wave_n_i.isnull().sum()\n",
    "len(wave_n_i[wave_n_i['dec_o']==1])\n",
    "len(wave_n_i[wave_n_i['dec_o']==0])"
   ]
  },
  {
   "cell_type": "code",
<<<<<<< HEAD
   "execution_count": 160,
   "metadata": {},
   "outputs": [
    {
     "data": {
      "text/plain": [
       "array([0, 0, 0, 0, 0, 0, 0, 0, 0, 0, 0, 0, 0, 0, 0, 0, 0, 0, 0, 0, 0, 0, 0,\n",
       "       0, 0, 0, 0, 0, 0, 0, 0, 0, 0, 0, 0, 0, 0, 0, 0, 0, 0, 0, 0, 0, 0, 0,\n",
       "       0, 0, 0, 0, 0, 0, 0, 0, 0, 0, 0, 0, 0, 0, 0, 0, 0, 0, 0, 0, 0, 0, 0,\n",
       "       0, 0, 0, 0, 0, 0, 0, 0, 0, 0, 0, 0, 0, 0, 0, 0, 0, 0, 0, 0, 0, 0, 0,\n",
       "       0, 0, 0, 0, 0, 0, 0, 0, 0, 0, 0, 0, 0, 0, 0, 0, 1, 1, 1, 1, 1, 1, 1,\n",
       "       1, 1, 1, 1, 1, 1, 1, 1, 1, 0, 0, 0, 0, 0, 0, 0, 0, 0, 0, 0, 0, 0, 0,\n",
       "       0, 0, 1, 1, 1, 1, 1, 1, 1, 1, 1, 1, 0, 0, 0, 0, 0, 0, 0, 0, 0, 0, 0,\n",
       "       0, 0, 0, 0, 0, 0, 0, 0, 0, 0, 0, 0, 0, 0, 0, 0, 0, 0, 0, 1, 1, 1, 1,\n",
       "       1, 1, 1, 1, 1, 1, 1, 1, 1, 1, 1, 1, 1, 1, 1, 1, 0, 0, 0, 0, 0, 0, 0,\n",
       "       0, 0, 0, 0, 0, 0, 0, 0, 0, 0, 0, 0, 0, 0, 0, 0, 0, 0, 0, 0, 0, 0, 0,\n",
       "       0, 0, 0, 0, 0, 0, 0, 0, 0, 0, 0, 0, 0, 0, 0, 0, 0, 0, 0, 0, 0, 0, 0,\n",
       "       0, 0, 0, 0, 0, 0, 0, 0, 0, 0, 0, 0, 0, 0, 0, 0, 0, 0, 0, 0, 0, 0, 0,\n",
       "       0, 0, 0, 0, 0, 0, 0, 0, 0, 0, 0, 0, 0, 0, 0, 0, 0, 0, 0, 0, 0, 0, 0,\n",
       "       0, 0, 0, 0, 0, 0, 0, 0, 0, 0, 0, 0, 0, 0, 0, 0, 0, 0, 0, 0, 0, 0, 0,\n",
       "       0, 0, 0, 0, 0, 0, 0, 0, 0, 0, 0, 0, 0, 0, 0, 0, 0, 0, 0, 0, 0, 0, 0,\n",
       "       0, 0, 0, 0, 0, 0, 0, 0, 0, 0, 0, 0, 0, 0, 0, 0])"
      ]
     },
     "execution_count": 160,
     "metadata": {},
     "output_type": "execute_result"
    }
   ],
=======
   "execution_count": null,
   "metadata": {},
   "outputs": [],
>>>>>>> f2cfab2cf088b7ff1cff12b6d8ede830cceda9af
   "source": [
    "X_n_i, y_n_i = wave_n_i.drop(['dec_o'], axis=1), wave_n_i['dec_o']\n",
    "\n",
    "dtc = tree.DecisionTreeClassifier(max_depth=2).fit(X_n_i, y_n_i)\n",
    "dtc_labels = dtc.predict(X_n_i)\n",
    "dtc_labels"
   ]
  },
  {
   "cell_type": "code",
<<<<<<< HEAD
   "execution_count": 161,
   "metadata": {},
   "outputs": [
    {
     "data": {
      "image/svg+xml": [
       "<?xml version=\"1.0\" encoding=\"UTF-8\" standalone=\"no\"?>\n",
       "<!DOCTYPE svg PUBLIC \"-//W3C//DTD SVG 1.1//EN\"\n",
       " \"http://www.w3.org/Graphics/SVG/1.1/DTD/svg11.dtd\">\n",
       "<!-- Generated by graphviz version 2.40.1 (20161225.0304)\n",
       " -->\n",
       "<!-- Title: Tree Pages: 1 -->\n",
       "<svg width=\"634pt\" height=\"300pt\"\n",
       " viewBox=\"0.00 0.00 634.48 300.00\" xmlns=\"http://www.w3.org/2000/svg\" xmlns:xlink=\"http://www.w3.org/1999/xlink\">\n",
       "<g id=\"graph0\" class=\"graph\" transform=\"scale(1 1) rotate(0) translate(4 296)\">\n",
       "<title>Tree</title>\n",
       "<polygon fill=\"#ffffff\" stroke=\"transparent\" points=\"-4,4 -4,-296 630.4785,-296 630.4785,4 -4,4\"/>\n",
       "<!-- 0 -->\n",
       "<g id=\"node1\" class=\"node\">\n",
       "<title>0</title>\n",
       "<path fill=\"#e58139\" fill-opacity=\"0.345098\" stroke=\"#000000\" d=\"M392.0762,-292C392.0762,-292 264.9746,-292 264.9746,-292 258.9746,-292 252.9746,-286 252.9746,-280 252.9746,-280 252.9746,-226 252.9746,-226 252.9746,-220 258.9746,-214 264.9746,-214 264.9746,-214 392.0762,-214 392.0762,-214 398.0762,-214 404.0762,-220 404.0762,-226 404.0762,-226 404.0762,-280 404.0762,-280 404.0762,-286 398.0762,-292 392.0762,-292\"/>\n",
       "<text text-anchor=\"start\" x=\"280.7217\" y=\"-276.8\" font-family=\"Helvetica,sans-Serif\" font-size=\"14.00\" fill=\"#000000\">museums ≤ 8.5</text>\n",
       "<text text-anchor=\"start\" x=\"292.1343\" y=\"-262.8\" font-family=\"Helvetica,sans-Serif\" font-size=\"14.00\" fill=\"#000000\">gini = 0.478</text>\n",
       "<text text-anchor=\"start\" x=\"270.7412\" y=\"-248.8\" font-family=\"Helvetica,sans-Serif\" font-size=\"14.00\" fill=\"#000000\">samples = 100.0%</text>\n",
       "<text text-anchor=\"start\" x=\"261\" y=\"-234.8\" font-family=\"Helvetica,sans-Serif\" font-size=\"14.00\" fill=\"#000000\">value = [0.604, 0.396]</text>\n",
       "<text text-anchor=\"start\" x=\"294.8687\" y=\"-220.8\" font-family=\"Helvetica,sans-Serif\" font-size=\"14.00\" fill=\"#000000\">class = 0.0</text>\n",
       "</g>\n",
       "<!-- 1 -->\n",
       "<g id=\"node2\" class=\"node\">\n",
       "<title>1</title>\n",
       "<path fill=\"#e58139\" fill-opacity=\"0.486275\" stroke=\"#000000\" d=\"M300.5048,-178C300.5048,-178 188.546,-178 188.546,-178 182.546,-178 176.546,-172 176.546,-166 176.546,-166 176.546,-112 176.546,-112 176.546,-106 182.546,-100 188.546,-100 188.546,-100 300.5048,-100 300.5048,-100 306.5048,-100 312.5048,-106 312.5048,-112 312.5048,-112 312.5048,-166 312.5048,-166 312.5048,-172 306.5048,-178 300.5048,-178\"/>\n",
       "<text text-anchor=\"start\" x=\"208.7734\" y=\"-162.8\" font-family=\"Helvetica,sans-Serif\" font-size=\"14.00\" fill=\"#000000\">hiking ≤ 6.5</text>\n",
       "<text text-anchor=\"start\" x=\"208.1343\" y=\"-148.8\" font-family=\"Helvetica,sans-Serif\" font-size=\"14.00\" fill=\"#000000\">gini = 0.449</text>\n",
       "<text text-anchor=\"start\" x=\"190.6343\" y=\"-134.8\" font-family=\"Helvetica,sans-Serif\" font-size=\"14.00\" fill=\"#000000\">samples = 87.3%</text>\n",
       "<text text-anchor=\"start\" x=\"184.7861\" y=\"-120.8\" font-family=\"Helvetica,sans-Serif\" font-size=\"14.00\" fill=\"#000000\">value = [0.66, 0.34]</text>\n",
       "<text text-anchor=\"start\" x=\"210.8687\" y=\"-106.8\" font-family=\"Helvetica,sans-Serif\" font-size=\"14.00\" fill=\"#000000\">class = 0.0</text>\n",
       "</g>\n",
       "<!-- 0&#45;&gt;1 -->\n",
       "<g id=\"edge1\" class=\"edge\">\n",
       "<title>0&#45;&gt;1</title>\n",
       "<path fill=\"none\" stroke=\"#000000\" d=\"M299.6174,-213.7677C293.1498,-204.9903 286.222,-195.5883 279.5373,-186.5161\"/>\n",
       "<polygon fill=\"#000000\" stroke=\"#000000\" points=\"282.2364,-184.279 273.4867,-178.3046 276.601,-188.4314 282.2364,-184.279\"/>\n",
       "<text text-anchor=\"middle\" x=\"269.7416\" y=\"-198.8225\" font-family=\"Helvetica,sans-Serif\" font-size=\"14.00\" fill=\"#000000\">True</text>\n",
       "</g>\n",
       "<!-- 4 -->\n",
       "<g id=\"node5\" class=\"node\">\n",
       "<title>4</title>\n",
       "<path fill=\"#399de5\" fill-opacity=\"0.721569\" stroke=\"#000000\" d=\"M477.0762,-178C477.0762,-178 349.9746,-178 349.9746,-178 343.9746,-178 337.9746,-172 337.9746,-166 337.9746,-166 337.9746,-112 337.9746,-112 337.9746,-106 343.9746,-100 349.9746,-100 349.9746,-100 477.0762,-100 477.0762,-100 483.0762,-100 489.0762,-106 489.0762,-112 489.0762,-112 489.0762,-166 489.0762,-166 489.0762,-172 483.0762,-178 477.0762,-178\"/>\n",
       "<text text-anchor=\"start\" x=\"377.7734\" y=\"-162.8\" font-family=\"Helvetica,sans-Serif\" font-size=\"14.00\" fill=\"#000000\">hiking ≤ 9.0</text>\n",
       "<text text-anchor=\"start\" x=\"381.0273\" y=\"-148.8\" font-family=\"Helvetica,sans-Serif\" font-size=\"14.00\" fill=\"#000000\">gini = 0.34</text>\n",
       "<text text-anchor=\"start\" x=\"359.6343\" y=\"-134.8\" font-family=\"Helvetica,sans-Serif\" font-size=\"14.00\" fill=\"#000000\">samples = 12.7%</text>\n",
       "<text text-anchor=\"start\" x=\"346\" y=\"-120.8\" font-family=\"Helvetica,sans-Serif\" font-size=\"14.00\" fill=\"#000000\">value = [0.217, 0.783]</text>\n",
       "<text text-anchor=\"start\" x=\"379.8687\" y=\"-106.8\" font-family=\"Helvetica,sans-Serif\" font-size=\"14.00\" fill=\"#000000\">class = 1.0</text>\n",
       "</g>\n",
       "<!-- 0&#45;&gt;4 -->\n",
       "<g id=\"edge4\" class=\"edge\">\n",
       "<title>0&#45;&gt;4</title>\n",
       "<path fill=\"none\" stroke=\"#000000\" d=\"M357.7776,-213.7677C364.3221,-204.9903 371.3324,-195.5883 378.0967,-186.5161\"/>\n",
       "<polygon fill=\"#000000\" stroke=\"#000000\" points=\"381.0477,-188.4136 384.2193,-178.3046 375.4359,-184.2294 381.0477,-188.4136\"/>\n",
       "<text text-anchor=\"middle\" x=\"387.8244\" y=\"-198.8433\" font-family=\"Helvetica,sans-Serif\" font-size=\"14.00\" fill=\"#000000\">False</text>\n",
       "</g>\n",
       "<!-- 2 -->\n",
       "<g id=\"node3\" class=\"node\">\n",
       "<title>2</title>\n",
       "<path fill=\"#e58139\" fill-opacity=\"0.588235\" stroke=\"#000000\" d=\"M139.0762,-64C139.0762,-64 11.9746,-64 11.9746,-64 5.9746,-64 -.0254,-58 -.0254,-52 -.0254,-52 -.0254,-12 -.0254,-12 -.0254,-6 5.9746,0 11.9746,0 11.9746,0 139.0762,0 139.0762,0 145.0762,0 151.0762,-6 151.0762,-12 151.0762,-12 151.0762,-52 151.0762,-52 151.0762,-58 145.0762,-64 139.0762,-64\"/>\n",
       "<text text-anchor=\"start\" x=\"39.1343\" y=\"-48.8\" font-family=\"Helvetica,sans-Serif\" font-size=\"14.00\" fill=\"#000000\">gini = 0.413</text>\n",
       "<text text-anchor=\"start\" x=\"21.6343\" y=\"-34.8\" font-family=\"Helvetica,sans-Serif\" font-size=\"14.00\" fill=\"#000000\">samples = 65.7%</text>\n",
       "<text text-anchor=\"start\" x=\"8\" y=\"-20.8\" font-family=\"Helvetica,sans-Serif\" font-size=\"14.00\" fill=\"#000000\">value = [0.709, 0.291]</text>\n",
       "<text text-anchor=\"start\" x=\"41.8687\" y=\"-6.8\" font-family=\"Helvetica,sans-Serif\" font-size=\"14.00\" fill=\"#000000\">class = 0.0</text>\n",
       "</g>\n",
       "<!-- 1&#45;&gt;2 -->\n",
       "<g id=\"edge2\" class=\"edge\">\n",
       "<title>1&#45;&gt;2</title>\n",
       "<path fill=\"none\" stroke=\"#000000\" d=\"M182.5557,-99.7647C166.8972,-89.8508 150.1251,-79.2318 134.6129,-69.4105\"/>\n",
       "<polygon fill=\"#000000\" stroke=\"#000000\" points=\"136.461,-66.438 126.1397,-64.0458 132.7164,-72.3523 136.461,-66.438\"/>\n",
       "</g>\n",
       "<!-- 3 -->\n",
       "<g id=\"node4\" class=\"node\">\n",
       "<title>3</title>\n",
       "<path fill=\"#e58139\" fill-opacity=\"0.050980\" stroke=\"#000000\" d=\"M308.0762,-64C308.0762,-64 180.9746,-64 180.9746,-64 174.9746,-64 168.9746,-58 168.9746,-52 168.9746,-52 168.9746,-12 168.9746,-12 168.9746,-6 174.9746,0 180.9746,0 180.9746,0 308.0762,0 308.0762,0 314.0762,0 320.0762,-6 320.0762,-12 320.0762,-12 320.0762,-52 320.0762,-52 320.0762,-58 314.0762,-64 308.0762,-64\"/>\n",
       "<text text-anchor=\"start\" x=\"215.9204\" y=\"-48.8\" font-family=\"Helvetica,sans-Serif\" font-size=\"14.00\" fill=\"#000000\">gini = 0.5</text>\n",
       "<text text-anchor=\"start\" x=\"190.6343\" y=\"-34.8\" font-family=\"Helvetica,sans-Serif\" font-size=\"14.00\" fill=\"#000000\">samples = 21.6%</text>\n",
       "<text text-anchor=\"start\" x=\"177\" y=\"-20.8\" font-family=\"Helvetica,sans-Serif\" font-size=\"14.00\" fill=\"#000000\">value = [0.513, 0.487]</text>\n",
       "<text text-anchor=\"start\" x=\"210.8687\" y=\"-6.8\" font-family=\"Helvetica,sans-Serif\" font-size=\"14.00\" fill=\"#000000\">class = 0.0</text>\n",
       "</g>\n",
       "<!-- 1&#45;&gt;3 -->\n",
       "<g id=\"edge3\" class=\"edge\">\n",
       "<title>1&#45;&gt;3</title>\n",
       "<path fill=\"none\" stroke=\"#000000\" d=\"M244.5254,-99.7647C244.5254,-91.4537 244.5254,-82.6472 244.5254,-74.2305\"/>\n",
       "<polygon fill=\"#000000\" stroke=\"#000000\" points=\"248.0255,-74.2168 244.5254,-64.2169 241.0255,-74.2169 248.0255,-74.2168\"/>\n",
       "</g>\n",
       "<!-- 5 -->\n",
       "<g id=\"node6\" class=\"node\">\n",
       "<title>5</title>\n",
       "<path fill=\"#399de5\" fill-opacity=\"0.376471\" stroke=\"#000000\" d=\"M477.0762,-64C477.0762,-64 349.9746,-64 349.9746,-64 343.9746,-64 337.9746,-58 337.9746,-52 337.9746,-52 337.9746,-12 337.9746,-12 337.9746,-6 343.9746,0 349.9746,0 349.9746,0 477.0762,0 477.0762,0 483.0762,0 489.0762,-6 489.0762,-12 489.0762,-12 489.0762,-52 489.0762,-52 489.0762,-58 483.0762,-64 477.0762,-64\"/>\n",
       "<text text-anchor=\"start\" x=\"377.1343\" y=\"-48.8\" font-family=\"Helvetica,sans-Serif\" font-size=\"14.00\" fill=\"#000000\">gini = 0.473</text>\n",
       "<text text-anchor=\"start\" x=\"363.5273\" y=\"-34.8\" font-family=\"Helvetica,sans-Serif\" font-size=\"14.00\" fill=\"#000000\">samples = 7.2%</text>\n",
       "<text text-anchor=\"start\" x=\"346\" y=\"-20.8\" font-family=\"Helvetica,sans-Serif\" font-size=\"14.00\" fill=\"#000000\">value = [0.385, 0.615]</text>\n",
       "<text text-anchor=\"start\" x=\"379.8687\" y=\"-6.8\" font-family=\"Helvetica,sans-Serif\" font-size=\"14.00\" fill=\"#000000\">class = 1.0</text>\n",
       "</g>\n",
       "<!-- 4&#45;&gt;5 -->\n",
       "<g id=\"edge5\" class=\"edge\">\n",
       "<title>4&#45;&gt;5</title>\n",
       "<path fill=\"none\" stroke=\"#000000\" d=\"M413.5254,-99.7647C413.5254,-91.4537 413.5254,-82.6472 413.5254,-74.2305\"/>\n",
       "<polygon fill=\"#000000\" stroke=\"#000000\" points=\"417.0255,-74.2168 413.5254,-64.2169 410.0255,-74.2169 417.0255,-74.2168\"/>\n",
       "</g>\n",
       "<!-- 6 -->\n",
       "<g id=\"node7\" class=\"node\">\n",
       "<title>6</title>\n",
       "<path fill=\"#399de5\" stroke=\"#000000\" d=\"M614.4317,-64C614.4317,-64 518.6191,-64 518.6191,-64 512.6191,-64 506.6191,-58 506.6191,-52 506.6191,-52 506.6191,-12 506.6191,-12 506.6191,-6 512.6191,0 518.6191,0 518.6191,0 614.4317,0 614.4317,0 620.4317,0 626.4317,-6 626.4317,-12 626.4317,-12 626.4317,-52 626.4317,-52 626.4317,-58 620.4317,-64 614.4317,-64\"/>\n",
       "<text text-anchor=\"start\" x=\"537.9204\" y=\"-48.8\" font-family=\"Helvetica,sans-Serif\" font-size=\"14.00\" fill=\"#000000\">gini = 0.0</text>\n",
       "<text text-anchor=\"start\" x=\"516.5273\" y=\"-34.8\" font-family=\"Helvetica,sans-Serif\" font-size=\"14.00\" fill=\"#000000\">samples = 5.5%</text>\n",
       "<text text-anchor=\"start\" x=\"514.5723\" y=\"-20.8\" font-family=\"Helvetica,sans-Serif\" font-size=\"14.00\" fill=\"#000000\">value = [0.0, 1.0]</text>\n",
       "<text text-anchor=\"start\" x=\"532.8687\" y=\"-6.8\" font-family=\"Helvetica,sans-Serif\" font-size=\"14.00\" fill=\"#000000\">class = 1.0</text>\n",
       "</g>\n",
       "<!-- 4&#45;&gt;6 -->\n",
       "<g id=\"edge6\" class=\"edge\">\n",
       "<title>4&#45;&gt;6</title>\n",
       "<path fill=\"none\" stroke=\"#000000\" d=\"M469.6282,-99.7647C483.4711,-90.0838 498.2752,-79.7305 512.04,-70.1042\"/>\n",
       "<polygon fill=\"#000000\" stroke=\"#000000\" points=\"514.2693,-72.8161 520.4583,-64.2169 510.2575,-67.0797 514.2693,-72.8161\"/>\n",
       "</g>\n",
       "</g>\n",
       "</svg>\n"
      ],
      "text/plain": [
       "<graphviz.files.Source at 0x118739e80>"
      ]
     },
     "execution_count": 161,
     "metadata": {},
     "output_type": "execute_result"
    }
   ],
=======
   "execution_count": null,
   "metadata": {},
   "outputs": [],
>>>>>>> f2cfab2cf088b7ff1cff12b6d8ede830cceda9af
   "source": [
    "import graphviz\n",
    "dot_data = sk.tree.export_graphviz(dtc, out_file=None, \n",
    "                         feature_names=list(X_n_i.columns),  \n",
    "                        #class_names = ['1.0' if i == 1 else '0.0' for i in y.unique()] ,\n",
    "                         class_names = ['1.0' if i == 1 else '0.0' for i in dtc.classes_] ,\n",
    "                        #class_names =[i for i in temp1['match'].unique()],\n",
    "                         filled=True, rounded=True,  \n",
    "                         special_characters=True, \n",
    "                         proportion=True,\n",
    "                        )  \n",
    "graph = graphviz.Source(dot_data)  \n",
    "graph"
   ]
  },
  {
   "cell_type": "markdown",
   "metadata": {},
   "source": [
    "# --------------------------------------------------------------------"
   ]
  },
  {
   "cell_type": "markdown",
   "metadata": {},
   "source": [
    "We did the same thing over attributes to see how your partner's rating on you influence his/her decision. We also did this on two race groups to find out whether the interests that got you partner to say yes changed among different races. "
   ]
  },
  {
   "cell_type": "code",
<<<<<<< HEAD
   "execution_count": 162,
=======
   "execution_count": null,
>>>>>>> f2cfab2cf088b7ff1cff12b6d8ede830cceda9af
   "metadata": {
    "collapsed": true
   },
   "outputs": [],
   "source": [
    "attributes=['dec_o','gender','attr_o', 'sinc_o', 'intel_o','fun_o', \n",
    "            'amb_o', 'shar_o','prob_o','met_o']"
   ]
  },
  {
   "cell_type": "code",
<<<<<<< HEAD
   "execution_count": 163,
   "metadata": {},
   "outputs": [
    {
     "data": {
      "text/plain": [
       "3654"
      ]
     },
     "execution_count": 163,
     "metadata": {},
     "output_type": "execute_result"
    },
    {
     "data": {
      "text/plain": [
       "dec_o        0\n",
       "gender       0\n",
       "attr_o      77\n",
       "sinc_o     116\n",
       "intel_o    121\n",
       "fun_o      151\n",
       "amb_o      344\n",
       "shar_o     523\n",
       "prob_o     129\n",
       "met_o      167\n",
       "dtype: int64"
      ]
     },
     "execution_count": 163,
     "metadata": {},
     "output_type": "execute_result"
    }
   ],
=======
   "execution_count": null,
   "metadata": {},
   "outputs": [],
>>>>>>> f2cfab2cf088b7ff1cff12b6d8ede830cceda9af
   "source": [
    "wave_m_a = sd[sd['race']==2].loc[:, attributes]\n",
    "len(wave_m_a)\n",
    "wave_m_a.isnull().sum()"
   ]
  },
  {
   "cell_type": "code",
<<<<<<< HEAD
   "execution_count": 164,
=======
   "execution_count": null,
>>>>>>> f2cfab2cf088b7ff1cff12b6d8ede830cceda9af
   "metadata": {
    "collapsed": true
   },
   "outputs": [],
   "source": [
    "wave_m_a=wave_m_a.dropna(axis=0, how='any')\n"
   ]
  },
  {
   "cell_type": "code",
<<<<<<< HEAD
   "execution_count": 165,
   "metadata": {},
   "outputs": [
    {
     "data": {
      "text/plain": [
       "SelectKBest(k=4, score_func=<function f_classif at 0x117bb48c8>)"
      ]
     },
     "execution_count": 165,
     "metadata": {},
     "output_type": "execute_result"
    },
    {
     "name": "stdout",
     "output_type": "stream",
     "text": [
      "  Feat_names    F_Scores\n",
      "0     attr_o  918.213659\n",
      "1      fun_o  643.311543\n",
      "2     shar_o  553.036362\n",
      "3     prob_o  341.224529\n"
     ]
    }
   ],
=======
   "execution_count": null,
   "metadata": {},
   "outputs": [],
>>>>>>> f2cfab2cf088b7ff1cff12b6d8ede830cceda9af
   "source": [
    "X_m_a, y_m_a = wave_m_a.drop(['dec_o'], axis=1), wave_m_a['dec_o']\n",
    "\n",
    "kb = fs.SelectKBest(k=4)\n",
    "kb.fit(X_m_a, y_m_a)\n",
    "\n",
    "names = X_m_a.columns.values[kb.get_support()]\n",
    "scores = kb.scores_[kb.get_support()]\n",
    "names_scores = list(zip(names, scores))\n",
    "ns_df = pd.DataFrame(data = names_scores, columns=['Feat_names', 'F_Scores'])\n",
    "#Sort the dataframe for better visualization\n",
    "ns_df_sorted = ns_df.sort_values(['F_Scores', 'Feat_names'], ascending = [False, True])\n",
    "print(ns_df_sorted)"
   ]
  },
  {
   "cell_type": "code",
<<<<<<< HEAD
   "execution_count": 166,
   "metadata": {},
   "outputs": [
    {
     "data": {
      "text/plain": [
       "dec_o       0\n",
       "attr_o     77\n",
       "fun_o     151\n",
       "shar_o    523\n",
       "prob_o    129\n",
       "dtype: int64"
      ]
     },
     "execution_count": 166,
     "metadata": {},
     "output_type": "execute_result"
    }
   ],
=======
   "execution_count": null,
   "metadata": {},
   "outputs": [],
>>>>>>> f2cfab2cf088b7ff1cff12b6d8ede830cceda9af
   "source": [
    "attributes_best = ['dec_o','attr_o','fun_o', 'shar_o','prob_o']\n",
    "wave_m_a = sd[sd['race']==2].loc[:, attributes_best]\n",
    "wave_m_a.isnull().sum()"
   ]
  },
  {
   "cell_type": "code",
<<<<<<< HEAD
   "execution_count": 167,
   "metadata": {},
   "outputs": [
    {
     "data": {
      "text/html": [
       "<div>\n",
       "<style>\n",
       "    .dataframe thead tr:only-child th {\n",
       "        text-align: right;\n",
       "    }\n",
       "\n",
       "    .dataframe thead th {\n",
       "        text-align: left;\n",
       "    }\n",
       "\n",
       "    .dataframe tbody tr th {\n",
       "        vertical-align: top;\n",
       "    }\n",
       "</style>\n",
       "<table border=\"1\" class=\"dataframe\">\n",
       "  <thead>\n",
       "    <tr style=\"text-align: right;\">\n",
       "      <th></th>\n",
       "      <th>dec_o</th>\n",
       "      <th>attr_o</th>\n",
       "      <th>fun_o</th>\n",
       "      <th>shar_o</th>\n",
       "      <th>prob_o</th>\n",
       "    </tr>\n",
       "  </thead>\n",
       "  <tbody>\n",
       "    <tr>\n",
       "      <th>10</th>\n",
       "      <td>0</td>\n",
       "      <td>8.0</td>\n",
       "      <td>9.0</td>\n",
       "      <td>4.0</td>\n",
       "      <td>2.0</td>\n",
       "    </tr>\n",
       "    <tr>\n",
       "      <th>11</th>\n",
       "      <td>0</td>\n",
       "      <td>7.0</td>\n",
       "      <td>6.0</td>\n",
       "      <td>5.0</td>\n",
       "      <td>4.0</td>\n",
       "    </tr>\n",
       "    <tr>\n",
       "      <th>12</th>\n",
       "      <td>1</td>\n",
       "      <td>10.0</td>\n",
       "      <td>10.0</td>\n",
       "      <td>10.0</td>\n",
       "      <td>10.0</td>\n",
       "    </tr>\n",
       "    <tr>\n",
       "      <th>13</th>\n",
       "      <td>1</td>\n",
       "      <td>9.0</td>\n",
       "      <td>9.0</td>\n",
       "      <td>9.0</td>\n",
       "      <td>7.0</td>\n",
       "    </tr>\n",
       "    <tr>\n",
       "      <th>14</th>\n",
       "      <td>1</td>\n",
       "      <td>10.0</td>\n",
       "      <td>10.0</td>\n",
       "      <td>8.0</td>\n",
       "      <td>1.0</td>\n",
       "    </tr>\n",
       "  </tbody>\n",
       "</table>\n",
       "</div>"
      ],
      "text/plain": [
       "    dec_o  attr_o  fun_o  shar_o  prob_o\n",
       "10      0     8.0    9.0     4.0     2.0\n",
       "11      0     7.0    6.0     5.0     4.0\n",
       "12      1    10.0   10.0    10.0    10.0\n",
       "13      1     9.0    9.0     9.0     7.0\n",
       "14      1    10.0   10.0     8.0     1.0"
      ]
     },
     "execution_count": 167,
     "metadata": {},
     "output_type": "execute_result"
    }
   ],
=======
   "execution_count": null,
   "metadata": {},
   "outputs": [],
>>>>>>> f2cfab2cf088b7ff1cff12b6d8ede830cceda9af
   "source": [
    "wave_m_a=wave_m_a.dropna(axis=0, how='any')\n",
    "wave_m_a.head()"
   ]
  },
  {
   "cell_type": "code",
<<<<<<< HEAD
   "execution_count": 168,
   "metadata": {},
   "outputs": [
    {
     "data": {
      "text/plain": [
       "dec_o     0\n",
       "attr_o    0\n",
       "fun_o     0\n",
       "shar_o    0\n",
       "prob_o    0\n",
       "dtype: int64"
      ]
     },
     "execution_count": 168,
     "metadata": {},
     "output_type": "execute_result"
    },
    {
     "data": {
      "text/plain": [
       "1447"
      ]
     },
     "execution_count": 168,
     "metadata": {},
     "output_type": "execute_result"
    },
    {
     "data": {
      "text/plain": [
       "1630"
      ]
     },
     "execution_count": 168,
     "metadata": {},
     "output_type": "execute_result"
    },
    {
     "data": {
      "text/plain": [
       "array([0, 1, 1, ..., 1, 0, 0])"
      ]
     },
     "execution_count": 168,
     "metadata": {},
     "output_type": "execute_result"
    },
    {
     "data": {
      "image/svg+xml": [
       "<?xml version=\"1.0\" encoding=\"UTF-8\" standalone=\"no\"?>\n",
       "<!DOCTYPE svg PUBLIC \"-//W3C//DTD SVG 1.1//EN\"\n",
       " \"http://www.w3.org/Graphics/SVG/1.1/DTD/svg11.dtd\">\n",
       "<!-- Generated by graphviz version 2.40.1 (20161225.0304)\n",
       " -->\n",
       "<!-- Title: Tree Pages: 1 -->\n",
       "<svg width=\"654pt\" height=\"300pt\"\n",
       " viewBox=\"0.00 0.00 654.05 300.00\" xmlns=\"http://www.w3.org/2000/svg\" xmlns:xlink=\"http://www.w3.org/1999/xlink\">\n",
       "<g id=\"graph0\" class=\"graph\" transform=\"scale(1 1) rotate(0) translate(4 296)\">\n",
       "<title>Tree</title>\n",
       "<polygon fill=\"#ffffff\" stroke=\"transparent\" points=\"-4,4 -4,-296 650.0508,-296 650.0508,4 -4,4\"/>\n",
       "<!-- 0 -->\n",
       "<g id=\"node1\" class=\"node\">\n",
       "<title>0</title>\n",
       "<path fill=\"#e58139\" fill-opacity=\"0.113725\" stroke=\"#000000\" d=\"M374.5048,-292C374.5048,-292 262.546,-292 262.546,-292 256.546,-292 250.546,-286 250.546,-280 250.546,-280 250.546,-226 250.546,-226 250.546,-220 256.546,-214 262.546,-214 262.546,-214 374.5048,-214 374.5048,-214 380.5048,-214 386.5048,-220 386.5048,-226 386.5048,-226 386.5048,-280 386.5048,-280 386.5048,-286 380.5048,-292 374.5048,-292\"/>\n",
       "<text text-anchor=\"start\" x=\"279.27\" y=\"-276.8\" font-family=\"Helvetica,sans-Serif\" font-size=\"14.00\" fill=\"#000000\">attr_o ≤ 6.25</text>\n",
       "<text text-anchor=\"start\" x=\"282.1343\" y=\"-262.8\" font-family=\"Helvetica,sans-Serif\" font-size=\"14.00\" fill=\"#000000\">gini = 0.498</text>\n",
       "<text text-anchor=\"start\" x=\"260.7412\" y=\"-248.8\" font-family=\"Helvetica,sans-Serif\" font-size=\"14.00\" fill=\"#000000\">samples = 100.0%</text>\n",
       "<text text-anchor=\"start\" x=\"258.7861\" y=\"-234.8\" font-family=\"Helvetica,sans-Serif\" font-size=\"14.00\" fill=\"#000000\">value = [0.53, 0.47]</text>\n",
       "<text text-anchor=\"start\" x=\"284.8687\" y=\"-220.8\" font-family=\"Helvetica,sans-Serif\" font-size=\"14.00\" fill=\"#000000\">class = 0.0</text>\n",
       "</g>\n",
       "<!-- 1 -->\n",
       "<g id=\"node2\" class=\"node\">\n",
       "<title>1</title>\n",
       "<path fill=\"#e58139\" fill-opacity=\"0.686275\" stroke=\"#000000\" d=\"M298.0762,-178C298.0762,-178 170.9746,-178 170.9746,-178 164.9746,-178 158.9746,-172 158.9746,-166 158.9746,-166 158.9746,-112 158.9746,-112 158.9746,-106 164.9746,-100 170.9746,-100 170.9746,-100 298.0762,-100 298.0762,-100 304.0762,-100 310.0762,-106 310.0762,-112 310.0762,-112 310.0762,-166 310.0762,-166 310.0762,-172 304.0762,-178 298.0762,-178\"/>\n",
       "<text text-anchor=\"start\" x=\"199.1631\" y=\"-162.8\" font-family=\"Helvetica,sans-Serif\" font-size=\"14.00\" fill=\"#000000\">attr_o ≤ 4.5</text>\n",
       "<text text-anchor=\"start\" x=\"198.1343\" y=\"-148.8\" font-family=\"Helvetica,sans-Serif\" font-size=\"14.00\" fill=\"#000000\">gini = 0.363</text>\n",
       "<text text-anchor=\"start\" x=\"180.6343\" y=\"-134.8\" font-family=\"Helvetica,sans-Serif\" font-size=\"14.00\" fill=\"#000000\">samples = 49.0%</text>\n",
       "<text text-anchor=\"start\" x=\"167\" y=\"-120.8\" font-family=\"Helvetica,sans-Serif\" font-size=\"14.00\" fill=\"#000000\">value = [0.762, 0.238]</text>\n",
       "<text text-anchor=\"start\" x=\"200.8687\" y=\"-106.8\" font-family=\"Helvetica,sans-Serif\" font-size=\"14.00\" fill=\"#000000\">class = 0.0</text>\n",
       "</g>\n",
       "<!-- 0&#45;&gt;1 -->\n",
       "<g id=\"edge1\" class=\"edge\">\n",
       "<title>0&#45;&gt;1</title>\n",
       "<path fill=\"none\" stroke=\"#000000\" d=\"M289.6174,-213.7677C283.1498,-204.9903 276.222,-195.5883 269.5373,-186.5161\"/>\n",
       "<polygon fill=\"#000000\" stroke=\"#000000\" points=\"272.2364,-184.279 263.4867,-178.3046 266.601,-188.4314 272.2364,-184.279\"/>\n",
       "<text text-anchor=\"middle\" x=\"259.7416\" y=\"-198.8225\" font-family=\"Helvetica,sans-Serif\" font-size=\"14.00\" fill=\"#000000\">True</text>\n",
       "</g>\n",
       "<!-- 4 -->\n",
       "<g id=\"node5\" class=\"node\">\n",
       "<title>4</title>\n",
       "<path fill=\"#399de5\" fill-opacity=\"0.556863\" stroke=\"#000000\" d=\"M467.0762,-178C467.0762,-178 339.9746,-178 339.9746,-178 333.9746,-178 327.9746,-172 327.9746,-166 327.9746,-166 327.9746,-112 327.9746,-112 327.9746,-106 333.9746,-100 339.9746,-100 339.9746,-100 467.0762,-100 467.0762,-100 473.0762,-100 479.0762,-106 479.0762,-112 479.0762,-112 479.0762,-166 479.0762,-166 479.0762,-172 473.0762,-178 467.0762,-178\"/>\n",
       "<text text-anchor=\"start\" x=\"364.6597\" y=\"-162.8\" font-family=\"Helvetica,sans-Serif\" font-size=\"14.00\" fill=\"#000000\">shar_o ≤ 4.5</text>\n",
       "<text text-anchor=\"start\" x=\"367.1343\" y=\"-148.8\" font-family=\"Helvetica,sans-Serif\" font-size=\"14.00\" fill=\"#000000\">gini = 0.425</text>\n",
       "<text text-anchor=\"start\" x=\"349.6343\" y=\"-134.8\" font-family=\"Helvetica,sans-Serif\" font-size=\"14.00\" fill=\"#000000\">samples = 51.0%</text>\n",
       "<text text-anchor=\"start\" x=\"336\" y=\"-120.8\" font-family=\"Helvetica,sans-Serif\" font-size=\"14.00\" fill=\"#000000\">value = [0.306, 0.694]</text>\n",
       "<text text-anchor=\"start\" x=\"369.8687\" y=\"-106.8\" font-family=\"Helvetica,sans-Serif\" font-size=\"14.00\" fill=\"#000000\">class = 1.0</text>\n",
       "</g>\n",
       "<!-- 0&#45;&gt;4 -->\n",
       "<g id=\"edge4\" class=\"edge\">\n",
       "<title>0&#45;&gt;4</title>\n",
       "<path fill=\"none\" stroke=\"#000000\" d=\"M347.7776,-213.7677C354.3221,-204.9903 361.3324,-195.5883 368.0967,-186.5161\"/>\n",
       "<polygon fill=\"#000000\" stroke=\"#000000\" points=\"371.0477,-188.4136 374.2193,-178.3046 365.4359,-184.2294 371.0477,-188.4136\"/>\n",
       "<text text-anchor=\"middle\" x=\"377.8244\" y=\"-198.8433\" font-family=\"Helvetica,sans-Serif\" font-size=\"14.00\" fill=\"#000000\">False</text>\n",
       "</g>\n",
       "<!-- 2 -->\n",
       "<g id=\"node3\" class=\"node\">\n",
       "<title>2</title>\n",
       "<path fill=\"#e58139\" fill-opacity=\"0.921569\" stroke=\"#000000\" d=\"M139.0762,-64C139.0762,-64 11.9746,-64 11.9746,-64 5.9746,-64 -.0254,-58 -.0254,-52 -.0254,-52 -.0254,-12 -.0254,-12 -.0254,-6 5.9746,0 11.9746,0 11.9746,0 139.0762,0 139.0762,0 145.0762,0 151.0762,-6 151.0762,-12 151.0762,-12 151.0762,-52 151.0762,-52 151.0762,-58 145.0762,-64 139.0762,-64\"/>\n",
       "<text text-anchor=\"start\" x=\"39.1343\" y=\"-48.8\" font-family=\"Helvetica,sans-Serif\" font-size=\"14.00\" fill=\"#000000\">gini = 0.133</text>\n",
       "<text text-anchor=\"start\" x=\"21.6343\" y=\"-34.8\" font-family=\"Helvetica,sans-Serif\" font-size=\"14.00\" fill=\"#000000\">samples = 14.9%</text>\n",
       "<text text-anchor=\"start\" x=\"8\" y=\"-20.8\" font-family=\"Helvetica,sans-Serif\" font-size=\"14.00\" fill=\"#000000\">value = [0.928, 0.072]</text>\n",
       "<text text-anchor=\"start\" x=\"41.8687\" y=\"-6.8\" font-family=\"Helvetica,sans-Serif\" font-size=\"14.00\" fill=\"#000000\">class = 0.0</text>\n",
       "</g>\n",
       "<!-- 1&#45;&gt;2 -->\n",
       "<g id=\"edge2\" class=\"edge\">\n",
       "<title>1&#45;&gt;2</title>\n",
       "<path fill=\"none\" stroke=\"#000000\" d=\"M176.2225,-99.7647C161.627,-89.9426 146.0031,-79.4284 131.5223,-69.6835\"/>\n",
       "<polygon fill=\"#000000\" stroke=\"#000000\" points=\"133.3952,-66.7252 123.1448,-64.0458 129.4871,-72.5326 133.3952,-66.7252\"/>\n",
       "</g>\n",
       "<!-- 3 -->\n",
       "<g id=\"node4\" class=\"node\">\n",
       "<title>3</title>\n",
       "<path fill=\"#e58139\" fill-opacity=\"0.549020\" stroke=\"#000000\" d=\"M292.5048,-64C292.5048,-64 180.546,-64 180.546,-64 174.546,-64 168.546,-58 168.546,-52 168.546,-52 168.546,-12 168.546,-12 168.546,-6 174.546,0 180.546,0 180.546,0 292.5048,0 292.5048,0 298.5048,0 304.5048,-6 304.5048,-12 304.5048,-12 304.5048,-52 304.5048,-52 304.5048,-58 298.5048,-64 292.5048,-64\"/>\n",
       "<text text-anchor=\"start\" x=\"200.1343\" y=\"-48.8\" font-family=\"Helvetica,sans-Serif\" font-size=\"14.00\" fill=\"#000000\">gini = 0.428</text>\n",
       "<text text-anchor=\"start\" x=\"182.6343\" y=\"-34.8\" font-family=\"Helvetica,sans-Serif\" font-size=\"14.00\" fill=\"#000000\">samples = 34.1%</text>\n",
       "<text text-anchor=\"start\" x=\"176.7861\" y=\"-20.8\" font-family=\"Helvetica,sans-Serif\" font-size=\"14.00\" fill=\"#000000\">value = [0.69, 0.31]</text>\n",
       "<text text-anchor=\"start\" x=\"202.8687\" y=\"-6.8\" font-family=\"Helvetica,sans-Serif\" font-size=\"14.00\" fill=\"#000000\">class = 0.0</text>\n",
       "</g>\n",
       "<!-- 1&#45;&gt;3 -->\n",
       "<g id=\"edge3\" class=\"edge\">\n",
       "<title>1&#45;&gt;3</title>\n",
       "<path fill=\"none\" stroke=\"#000000\" d=\"M235.2588,-99.7647C235.4141,-91.4537 235.5787,-82.6472 235.736,-74.2305\"/>\n",
       "<polygon fill=\"#000000\" stroke=\"#000000\" points=\"239.2356,-74.2806 235.9232,-64.2169 232.2368,-74.1497 239.2356,-74.2806\"/>\n",
       "</g>\n",
       "<!-- 5 -->\n",
       "<g id=\"node6\" class=\"node\">\n",
       "<title>5</title>\n",
       "<path fill=\"#e58139\" fill-opacity=\"0.286275\" stroke=\"#000000\" d=\"M465.0762,-64C465.0762,-64 337.9746,-64 337.9746,-64 331.9746,-64 325.9746,-58 325.9746,-52 325.9746,-52 325.9746,-12 325.9746,-12 325.9746,-6 331.9746,0 337.9746,0 337.9746,0 465.0762,0 465.0762,0 471.0762,0 477.0762,-6 477.0762,-12 477.0762,-12 477.0762,-52 477.0762,-52 477.0762,-58 471.0762,-64 465.0762,-64\"/>\n",
       "<text text-anchor=\"start\" x=\"365.1343\" y=\"-48.8\" font-family=\"Helvetica,sans-Serif\" font-size=\"14.00\" fill=\"#000000\">gini = 0.486</text>\n",
       "<text text-anchor=\"start\" x=\"351.5273\" y=\"-34.8\" font-family=\"Helvetica,sans-Serif\" font-size=\"14.00\" fill=\"#000000\">samples = 7.7%</text>\n",
       "<text text-anchor=\"start\" x=\"334\" y=\"-20.8\" font-family=\"Helvetica,sans-Serif\" font-size=\"14.00\" fill=\"#000000\">value = [0.584, 0.416]</text>\n",
       "<text text-anchor=\"start\" x=\"367.8687\" y=\"-6.8\" font-family=\"Helvetica,sans-Serif\" font-size=\"14.00\" fill=\"#000000\">class = 0.0</text>\n",
       "</g>\n",
       "<!-- 4&#45;&gt;5 -->\n",
       "<g id=\"edge5\" class=\"edge\">\n",
       "<title>4&#45;&gt;5</title>\n",
       "<path fill=\"none\" stroke=\"#000000\" d=\"M402.792,-99.7647C402.6367,-91.4537 402.4721,-82.6472 402.3147,-74.2305\"/>\n",
       "<polygon fill=\"#000000\" stroke=\"#000000\" points=\"405.8139,-74.1497 402.1276,-64.2169 398.8152,-74.2806 405.8139,-74.1497\"/>\n",
       "</g>\n",
       "<!-- 6 -->\n",
       "<g id=\"node7\" class=\"node\">\n",
       "<title>6</title>\n",
       "<path fill=\"#399de5\" fill-opacity=\"0.654902\" stroke=\"#000000\" d=\"M634.0762,-64C634.0762,-64 506.9746,-64 506.9746,-64 500.9746,-64 494.9746,-58 494.9746,-52 494.9746,-52 494.9746,-12 494.9746,-12 494.9746,-6 500.9746,0 506.9746,0 506.9746,0 634.0762,0 634.0762,0 640.0762,0 646.0762,-6 646.0762,-12 646.0762,-12 646.0762,-52 646.0762,-52 646.0762,-58 640.0762,-64 634.0762,-64\"/>\n",
       "<text text-anchor=\"start\" x=\"534.1343\" y=\"-48.8\" font-family=\"Helvetica,sans-Serif\" font-size=\"14.00\" fill=\"#000000\">gini = 0.381</text>\n",
       "<text text-anchor=\"start\" x=\"516.6343\" y=\"-34.8\" font-family=\"Helvetica,sans-Serif\" font-size=\"14.00\" fill=\"#000000\">samples = 43.2%</text>\n",
       "<text text-anchor=\"start\" x=\"503\" y=\"-20.8\" font-family=\"Helvetica,sans-Serif\" font-size=\"14.00\" fill=\"#000000\">value = [0.256, 0.744]</text>\n",
       "<text text-anchor=\"start\" x=\"536.8687\" y=\"-6.8\" font-family=\"Helvetica,sans-Serif\" font-size=\"14.00\" fill=\"#000000\">class = 1.0</text>\n",
       "</g>\n",
       "<!-- 4&#45;&gt;6 -->\n",
       "<g id=\"edge6\" class=\"edge\">\n",
       "<title>4&#45;&gt;6</title>\n",
       "<path fill=\"none\" stroke=\"#000000\" d=\"M464.7618,-99.7647C480.0917,-89.9426 496.5016,-79.4284 511.711,-69.6835\"/>\n",
       "<polygon fill=\"#000000\" stroke=\"#000000\" points=\"513.9783,-72.3876 520.51,-64.0458 510.2019,-66.4936 513.9783,-72.3876\"/>\n",
       "</g>\n",
       "</g>\n",
       "</svg>\n"
      ],
      "text/plain": [
       "<graphviz.files.Source at 0x11a0c9780>"
      ]
     },
     "execution_count": 168,
     "metadata": {},
     "output_type": "execute_result"
    }
   ],
=======
   "execution_count": null,
   "metadata": {},
   "outputs": [],
>>>>>>> f2cfab2cf088b7ff1cff12b6d8ede830cceda9af
   "source": [
    "wave_m_a.isnull().sum()\n",
    "len(wave_m_a[wave_m_a['dec_o']==1])\n",
    "len(wave_m_a[wave_m_a['dec_o']==0])\n",
    "\n",
    "X_m_a, y_m_a = wave_m_a.drop(['dec_o'], axis=1), wave_m_a['dec_o']\n",
    "\n",
    "dtc = tree.DecisionTreeClassifier(max_depth=2).fit(X_m_a, y_m_a)\n",
    "dtc_labels = dtc.predict(X_m_a)\n",
    "dtc_labels\n",
    "\n",
    "import graphviz\n",
    "dot_data = sk.tree.export_graphviz(dtc, out_file=None, \n",
    "                         feature_names=list(X_m_a.columns),  \n",
    "                         class_names = ['1.0' if i == 1 else '0.0' for i in dtc.classes_] ,\n",
    "                        #class_names =[i for i in temp1['match'].unique()],\n",
    "                         filled=True, rounded=True,  \n",
    "                         special_characters=True, \n",
    "                         proportion=True,\n",
    "                        )  \n",
    "graph = graphviz.Source(dot_data)  \n",
    "graph"
   ]
  },
  {
   "cell_type": "code",
   "execution_count": null,
   "metadata": {
    "collapsed": true
   },
   "outputs": [],
   "source": []
  },
  {
   "cell_type": "code",
<<<<<<< HEAD
   "execution_count": 169,
=======
   "execution_count": null,
>>>>>>> f2cfab2cf088b7ff1cff12b6d8ede830cceda9af
   "metadata": {
    "collapsed": true
   },
   "outputs": [],
   "source": [
    "wave_n_a = sd[(sd['race']==1)|(sd['race']==5)].loc[:, attributes]"
   ]
  },
  {
   "cell_type": "code",
<<<<<<< HEAD
   "execution_count": 170,
=======
   "execution_count": null,
>>>>>>> f2cfab2cf088b7ff1cff12b6d8ede830cceda9af
   "metadata": {
    "collapsed": true
   },
   "outputs": [],
   "source": [
    "wave_n_a=wave_n_a.dropna(axis=0, how='any')\n",
    "\n",
    "X_n_a, y_n_a = wave_n_a.drop(['dec_o'], axis=1), wave_n_a['dec_o']"
   ]
  },
  {
   "cell_type": "code",
<<<<<<< HEAD
   "execution_count": 171,
   "metadata": {},
   "outputs": [
    {
     "data": {
      "text/plain": [
       "SelectKBest(k=4, score_func=<function f_classif at 0x117bb48c8>)"
      ]
     },
     "execution_count": 171,
     "metadata": {},
     "output_type": "execute_result"
    },
    {
     "name": "stdout",
     "output_type": "stream",
     "text": [
      "  Feat_names   F_Scores\n",
      "0     attr_o  61.687932\n",
      "1      fun_o  50.253904\n",
      "2     shar_o  44.618446\n",
      "3     prob_o  29.139577\n"
     ]
    }
   ],
=======
   "execution_count": null,
   "metadata": {},
   "outputs": [],
>>>>>>> f2cfab2cf088b7ff1cff12b6d8ede830cceda9af
   "source": [
    "kb = fs.SelectKBest(k=4)\n",
    "kb.fit(X_n_a, y_n_a)\n",
    "\n",
    "names = X_n_a.columns.values[kb.get_support()]\n",
    "scores = kb.scores_[kb.get_support()]\n",
    "names_scores = list(zip(names, scores))\n",
    "ns_df = pd.DataFrame(data = names_scores, columns=['Feat_names', 'F_Scores'])\n",
    "#Sort the dataframe for better visualization\n",
    "ns_df_sorted = ns_df.sort_values(['F_Scores', 'Feat_names'], ascending = [False, True])\n",
    "print(ns_df_sorted)"
   ]
  },
  {
   "cell_type": "code",
<<<<<<< HEAD
   "execution_count": 172,
=======
   "execution_count": null,
>>>>>>> f2cfab2cf088b7ff1cff12b6d8ede830cceda9af
   "metadata": {
    "collapsed": true
   },
   "outputs": [],
   "source": [
    "attributes_best = ['dec_o','attr_o','fun_o', 'shar_o','prob_o']\n",
    "wave_n_a = sd[(sd['race']==1)|(sd['race']==5)].loc[:, attributes_best]"
   ]
  },
  {
   "cell_type": "code",
<<<<<<< HEAD
   "execution_count": 173,
   "metadata": {},
   "outputs": [
    {
     "data": {
      "text/plain": [
       "dec_o     0\n",
       "attr_o    0\n",
       "fun_o     0\n",
       "shar_o    0\n",
       "prob_o    0\n",
       "dtype: int64"
      ]
     },
     "execution_count": 173,
     "metadata": {},
     "output_type": "execute_result"
    },
    {
     "data": {
      "text/plain": [
       "127"
      ]
     },
     "execution_count": 173,
     "metadata": {},
     "output_type": "execute_result"
    },
    {
     "data": {
      "text/plain": [
       "191"
      ]
     },
     "execution_count": 173,
     "metadata": {},
     "output_type": "execute_result"
    }
   ],
=======
   "execution_count": null,
   "metadata": {},
   "outputs": [],
>>>>>>> f2cfab2cf088b7ff1cff12b6d8ede830cceda9af
   "source": [
    "wave_n_a=wave_n_a.dropna(axis=0, how='any')\n",
    "wave_n_a.isnull().sum()\n",
    "len(wave_n_a[wave_n_a['dec_o']==1])\n",
    "len(wave_n_a[wave_n_a['dec_o']==0])"
   ]
  },
  {
   "cell_type": "code",
<<<<<<< HEAD
   "execution_count": 174,
   "metadata": {},
   "outputs": [
    {
     "data": {
      "text/plain": [
       "array([0, 0, 0, 0, 0, 0, 0, 0, 0, 0, 0, 0, 1, 0, 0, 1, 1, 0, 1, 1, 0, 0, 1,\n",
       "       0, 1, 0, 0, 1, 1, 0, 0, 0, 1, 1, 1, 0, 0, 1, 0, 1, 1, 0, 0, 0, 1, 0,\n",
       "       0, 0, 0, 1, 1, 1, 0, 0, 1, 0, 0, 1, 0, 0, 1, 0, 0, 0, 0, 0, 0, 0, 1,\n",
       "       0, 0, 1, 1, 1, 0, 0, 0, 1, 0, 1, 0, 0, 1, 1, 0, 0, 0, 0, 0, 0, 1, 0,\n",
       "       0, 1, 1, 1, 0, 1, 0, 0, 0, 0, 1, 0, 1, 0, 0, 1, 0, 1, 1, 1, 1, 1, 0,\n",
       "       0, 0, 1, 0, 1, 1, 1, 1, 0, 0, 1, 0, 0, 1, 1, 0, 0, 0, 0, 0, 0, 0, 0,\n",
       "       0, 0, 0, 1, 0, 0, 1, 1, 1, 0, 0, 0, 0, 1, 0, 0, 0, 0, 1, 1, 1, 0, 1,\n",
       "       1, 1, 1, 0, 1, 1, 1, 1, 0, 1, 1, 1, 0, 0, 1, 0, 0, 0, 1, 0, 0, 0, 0,\n",
       "       1, 0, 0, 0, 0, 0, 0, 0, 0, 1, 0, 1, 1, 1, 1, 1, 0, 1, 0, 0, 0, 0, 1,\n",
       "       0, 0, 1, 0, 0, 0, 0, 0, 0, 0, 1, 1, 0, 0, 1, 0, 1, 0, 0, 0, 0, 0, 1,\n",
       "       0, 0, 0, 0, 0, 0, 0, 1, 0, 1, 0, 0, 0, 0, 1, 1, 0, 0, 0, 1, 0, 1, 0,\n",
       "       0, 0, 0, 0, 0, 0, 0, 0, 0, 0, 0, 0, 0, 0, 0, 0, 0, 0, 0, 0, 0, 0, 0,\n",
       "       0, 0, 0, 0, 0, 0, 0, 1, 1, 0, 0, 1, 0, 1, 0, 0, 0, 0, 0, 1, 0, 0, 0,\n",
       "       0, 0, 0, 0, 1, 0, 1, 1, 0, 0, 0, 0, 0, 0, 1, 0, 0, 0, 0])"
      ]
     },
     "execution_count": 174,
     "metadata": {},
     "output_type": "execute_result"
    },
    {
     "data": {
      "image/svg+xml": [
       "<?xml version=\"1.0\" encoding=\"UTF-8\" standalone=\"no\"?>\n",
       "<!DOCTYPE svg PUBLIC \"-//W3C//DTD SVG 1.1//EN\"\n",
       " \"http://www.w3.org/Graphics/SVG/1.1/DTD/svg11.dtd\">\n",
       "<!-- Generated by graphviz version 2.40.1 (20161225.0304)\n",
       " -->\n",
       "<!-- Title: Tree Pages: 1 -->\n",
       "<svg width=\"638pt\" height=\"300pt\"\n",
       " viewBox=\"0.00 0.00 638.42 300.00\" xmlns=\"http://www.w3.org/2000/svg\" xmlns:xlink=\"http://www.w3.org/1999/xlink\">\n",
       "<g id=\"graph0\" class=\"graph\" transform=\"scale(1 1) rotate(0) translate(4 296)\">\n",
       "<title>Tree</title>\n",
       "<polygon fill=\"#ffffff\" stroke=\"transparent\" points=\"-4,4 -4,-296 634.4165,-296 634.4165,4 -4,4\"/>\n",
       "<!-- 0 -->\n",
       "<g id=\"node1\" class=\"node\">\n",
       "<title>0</title>\n",
       "<path fill=\"#e58139\" fill-opacity=\"0.333333\" stroke=\"#000000\" d=\"M364.4419,-292C364.4419,-292 237.3403,-292 237.3403,-292 231.3403,-292 225.3403,-286 225.3403,-280 225.3403,-280 225.3403,-226 225.3403,-226 225.3403,-220 231.3403,-214 237.3403,-214 237.3403,-214 364.4419,-214 364.4419,-214 370.4419,-214 376.4419,-220 376.4419,-226 376.4419,-226 376.4419,-280 376.4419,-280 376.4419,-286 370.4419,-292 364.4419,-292\"/>\n",
       "<text text-anchor=\"start\" x=\"265.5288\" y=\"-276.8\" font-family=\"Helvetica,sans-Serif\" font-size=\"14.00\" fill=\"#000000\">attr_o ≤ 5.5</text>\n",
       "<text text-anchor=\"start\" x=\"268.3931\" y=\"-262.8\" font-family=\"Helvetica,sans-Serif\" font-size=\"14.00\" fill=\"#000000\">gini = 0.48</text>\n",
       "<text text-anchor=\"start\" x=\"243.1069\" y=\"-248.8\" font-family=\"Helvetica,sans-Serif\" font-size=\"14.00\" fill=\"#000000\">samples = 100.0%</text>\n",
       "<text text-anchor=\"start\" x=\"233.3657\" y=\"-234.8\" font-family=\"Helvetica,sans-Serif\" font-size=\"14.00\" fill=\"#000000\">value = [0.601, 0.399]</text>\n",
       "<text text-anchor=\"start\" x=\"267.2344\" y=\"-220.8\" font-family=\"Helvetica,sans-Serif\" font-size=\"14.00\" fill=\"#000000\">class = 0.0</text>\n",
       "</g>\n",
       "<!-- 1 -->\n",
       "<g id=\"node2\" class=\"node\">\n",
       "<title>1</title>\n",
       "<path fill=\"#e58139\" fill-opacity=\"0.866667\" stroke=\"#000000\" d=\"M279.9097,-178C279.9097,-178 153.8726,-178 153.8726,-178 147.8726,-178 141.8726,-172 141.8726,-166 141.8726,-166 141.8726,-112 141.8726,-112 141.8726,-106 147.8726,-100 153.8726,-100 153.8726,-100 279.9097,-100 279.9097,-100 285.9097,-100 291.9097,-106 291.9097,-112 291.9097,-112 291.9097,-166 291.9097,-166 291.9097,-172 285.9097,-178 279.9097,-178\"/>\n",
       "<text text-anchor=\"start\" x=\"181.5288\" y=\"-162.8\" font-family=\"Helvetica,sans-Serif\" font-size=\"14.00\" fill=\"#000000\">attr_o ≤ 4.5</text>\n",
       "<text text-anchor=\"start\" x=\"180.5\" y=\"-148.8\" font-family=\"Helvetica,sans-Serif\" font-size=\"14.00\" fill=\"#000000\">gini = 0.208</text>\n",
       "<text text-anchor=\"start\" x=\"163\" y=\"-134.8\" font-family=\"Helvetica,sans-Serif\" font-size=\"14.00\" fill=\"#000000\">samples = 34.6%</text>\n",
       "<text text-anchor=\"start\" x=\"149.8818\" y=\"-120.8\" font-family=\"Helvetica,sans-Serif\" font-size=\"14.00\" fill=\"#000000\">value = [0.882, 0.118]</text>\n",
       "<text text-anchor=\"start\" x=\"183.2344\" y=\"-106.8\" font-family=\"Helvetica,sans-Serif\" font-size=\"14.00\" fill=\"#000000\">class = 0.0</text>\n",
       "</g>\n",
       "<!-- 0&#45;&gt;1 -->\n",
       "<g id=\"edge1\" class=\"edge\">\n",
       "<title>0&#45;&gt;1</title>\n",
       "<path fill=\"none\" stroke=\"#000000\" d=\"M271.9831,-213.7677C265.5155,-204.9903 258.5878,-195.5883 251.903,-186.5161\"/>\n",
       "<polygon fill=\"#000000\" stroke=\"#000000\" points=\"254.6022,-184.279 245.8524,-178.3046 248.9668,-188.4314 254.6022,-184.279\"/>\n",
       "<text text-anchor=\"middle\" x=\"242.1073\" y=\"-198.8225\" font-family=\"Helvetica,sans-Serif\" font-size=\"14.00\" fill=\"#000000\">True</text>\n",
       "</g>\n",
       "<!-- 4 -->\n",
       "<g id=\"node5\" class=\"node\">\n",
       "<title>4</title>\n",
       "<path fill=\"#399de5\" fill-opacity=\"0.176471\" stroke=\"#000000\" d=\"M449.4419,-178C449.4419,-178 322.3403,-178 322.3403,-178 316.3403,-178 310.3403,-172 310.3403,-166 310.3403,-166 310.3403,-112 310.3403,-112 310.3403,-106 316.3403,-100 322.3403,-100 322.3403,-100 449.4419,-100 449.4419,-100 455.4419,-100 461.4419,-106 461.4419,-112 461.4419,-112 461.4419,-166 461.4419,-166 461.4419,-172 455.4419,-178 449.4419,-178\"/>\n",
       "<text text-anchor=\"start\" x=\"350.9116\" y=\"-162.8\" font-family=\"Helvetica,sans-Serif\" font-size=\"14.00\" fill=\"#000000\">fun_o ≤ 7.5</text>\n",
       "<text text-anchor=\"start\" x=\"349.5\" y=\"-148.8\" font-family=\"Helvetica,sans-Serif\" font-size=\"14.00\" fill=\"#000000\">gini = 0.495</text>\n",
       "<text text-anchor=\"start\" x=\"332\" y=\"-134.8\" font-family=\"Helvetica,sans-Serif\" font-size=\"14.00\" fill=\"#000000\">samples = 65.4%</text>\n",
       "<text text-anchor=\"start\" x=\"318.3657\" y=\"-120.8\" font-family=\"Helvetica,sans-Serif\" font-size=\"14.00\" fill=\"#000000\">value = [0.452, 0.548]</text>\n",
       "<text text-anchor=\"start\" x=\"352.2344\" y=\"-106.8\" font-family=\"Helvetica,sans-Serif\" font-size=\"14.00\" fill=\"#000000\">class = 1.0</text>\n",
       "</g>\n",
       "<!-- 0&#45;&gt;4 -->\n",
       "<g id=\"edge4\" class=\"edge\">\n",
       "<title>0&#45;&gt;4</title>\n",
       "<path fill=\"none\" stroke=\"#000000\" d=\"M330.1433,-213.7677C336.6878,-204.9903 343.6981,-195.5883 350.4624,-186.5161\"/>\n",
       "<polygon fill=\"#000000\" stroke=\"#000000\" points=\"353.4134,-188.4136 356.585,-178.3046 347.8016,-184.2294 353.4134,-188.4136\"/>\n",
       "<text text-anchor=\"middle\" x=\"360.1902\" y=\"-198.8433\" font-family=\"Helvetica,sans-Serif\" font-size=\"14.00\" fill=\"#000000\">False</text>\n",
       "</g>\n",
       "<!-- 2 -->\n",
       "<g id=\"node3\" class=\"node\">\n",
       "<title>2</title>\n",
       "<path fill=\"#e58139\" stroke=\"#000000\" d=\"M111.6735,-64C111.6735,-64 12.1087,-64 12.1087,-64 6.1087,-64 .1087,-58 .1087,-52 .1087,-52 .1087,-12 .1087,-12 .1087,-6 6.1087,0 12.1087,0 12.1087,0 111.6735,0 111.6735,0 117.6735,0 123.6735,-6 123.6735,-12 123.6735,-12 123.6735,-52 123.6735,-52 123.6735,-58 117.6735,-64 111.6735,-64\"/>\n",
       "<text text-anchor=\"start\" x=\"33.2861\" y=\"-48.8\" font-family=\"Helvetica,sans-Serif\" font-size=\"14.00\" fill=\"#000000\">gini = 0.0</text>\n",
       "<text text-anchor=\"start\" x=\"8\" y=\"-34.8\" font-family=\"Helvetica,sans-Serif\" font-size=\"14.00\" fill=\"#000000\">samples = 17.6%</text>\n",
       "<text text-anchor=\"start\" x=\"9.938\" y=\"-20.8\" font-family=\"Helvetica,sans-Serif\" font-size=\"14.00\" fill=\"#000000\">value = [1.0, 0.0]</text>\n",
       "<text text-anchor=\"start\" x=\"28.2344\" y=\"-6.8\" font-family=\"Helvetica,sans-Serif\" font-size=\"14.00\" fill=\"#000000\">class = 0.0</text>\n",
       "</g>\n",
       "<!-- 1&#45;&gt;2 -->\n",
       "<g id=\"edge2\" class=\"edge\">\n",
       "<title>1&#45;&gt;2</title>\n",
       "<path fill=\"none\" stroke=\"#000000\" d=\"M160.055,-99.7647C146.0311,-90.0838 131.0334,-79.7305 117.0888,-70.1042\"/>\n",
       "<polygon fill=\"#000000\" stroke=\"#000000\" points=\"118.7784,-67.0176 108.5604,-64.2169 114.8016,-72.7783 118.7784,-67.0176\"/>\n",
       "</g>\n",
       "<!-- 3 -->\n",
       "<g id=\"node4\" class=\"node\">\n",
       "<title>3</title>\n",
       "<path fill=\"#e58139\" fill-opacity=\"0.682353\" stroke=\"#000000\" d=\"M280.4419,-64C280.4419,-64 153.3403,-64 153.3403,-64 147.3403,-64 141.3403,-58 141.3403,-52 141.3403,-52 141.3403,-12 141.3403,-12 141.3403,-6 147.3403,0 153.3403,0 153.3403,0 280.4419,0 280.4419,0 286.4419,0 292.4419,-6 292.4419,-12 292.4419,-12 292.4419,-52 292.4419,-52 292.4419,-58 286.4419,-64 280.4419,-64\"/>\n",
       "<text text-anchor=\"start\" x=\"180.5\" y=\"-48.8\" font-family=\"Helvetica,sans-Serif\" font-size=\"14.00\" fill=\"#000000\">gini = 0.366</text>\n",
       "<text text-anchor=\"start\" x=\"163\" y=\"-34.8\" font-family=\"Helvetica,sans-Serif\" font-size=\"14.00\" fill=\"#000000\">samples = 17.0%</text>\n",
       "<text text-anchor=\"start\" x=\"149.3657\" y=\"-20.8\" font-family=\"Helvetica,sans-Serif\" font-size=\"14.00\" fill=\"#000000\">value = [0.759, 0.241]</text>\n",
       "<text text-anchor=\"start\" x=\"183.2344\" y=\"-6.8\" font-family=\"Helvetica,sans-Serif\" font-size=\"14.00\" fill=\"#000000\">class = 0.0</text>\n",
       "</g>\n",
       "<!-- 1&#45;&gt;3 -->\n",
       "<g id=\"edge3\" class=\"edge\">\n",
       "<title>1&#45;&gt;3</title>\n",
       "<path fill=\"none\" stroke=\"#000000\" d=\"M216.8911,-99.7647C216.8911,-91.4537 216.8911,-82.6472 216.8911,-74.2305\"/>\n",
       "<polygon fill=\"#000000\" stroke=\"#000000\" points=\"220.3912,-74.2168 216.8911,-64.2169 213.3912,-74.2169 220.3912,-74.2168\"/>\n",
       "</g>\n",
       "<!-- 5 -->\n",
       "<g id=\"node6\" class=\"node\">\n",
       "<title>5</title>\n",
       "<path fill=\"#e58139\" fill-opacity=\"0.290196\" stroke=\"#000000\" d=\"M449.4419,-64C449.4419,-64 322.3403,-64 322.3403,-64 316.3403,-64 310.3403,-58 310.3403,-52 310.3403,-52 310.3403,-12 310.3403,-12 310.3403,-6 316.3403,0 322.3403,0 322.3403,0 449.4419,0 449.4419,0 455.4419,0 461.4419,-6 461.4419,-12 461.4419,-12 461.4419,-52 461.4419,-52 461.4419,-58 455.4419,-64 449.4419,-64\"/>\n",
       "<text text-anchor=\"start\" x=\"349.5\" y=\"-48.8\" font-family=\"Helvetica,sans-Serif\" font-size=\"14.00\" fill=\"#000000\">gini = 0.486</text>\n",
       "<text text-anchor=\"start\" x=\"332\" y=\"-34.8\" font-family=\"Helvetica,sans-Serif\" font-size=\"14.00\" fill=\"#000000\">samples = 33.3%</text>\n",
       "<text text-anchor=\"start\" x=\"318.3657\" y=\"-20.8\" font-family=\"Helvetica,sans-Serif\" font-size=\"14.00\" fill=\"#000000\">value = [0.585, 0.415]</text>\n",
       "<text text-anchor=\"start\" x=\"352.2344\" y=\"-6.8\" font-family=\"Helvetica,sans-Serif\" font-size=\"14.00\" fill=\"#000000\">class = 0.0</text>\n",
       "</g>\n",
       "<!-- 4&#45;&gt;5 -->\n",
       "<g id=\"edge5\" class=\"edge\">\n",
       "<title>4&#45;&gt;5</title>\n",
       "<path fill=\"none\" stroke=\"#000000\" d=\"M385.8911,-99.7647C385.8911,-91.4537 385.8911,-82.6472 385.8911,-74.2305\"/>\n",
       "<polygon fill=\"#000000\" stroke=\"#000000\" points=\"389.3912,-74.2168 385.8911,-64.2169 382.3912,-74.2169 389.3912,-74.2168\"/>\n",
       "</g>\n",
       "<!-- 6 -->\n",
       "<g id=\"node7\" class=\"node\">\n",
       "<title>6</title>\n",
       "<path fill=\"#399de5\" fill-opacity=\"0.541176\" stroke=\"#000000\" d=\"M618.4419,-64C618.4419,-64 491.3403,-64 491.3403,-64 485.3403,-64 479.3403,-58 479.3403,-52 479.3403,-52 479.3403,-12 479.3403,-12 479.3403,-6 485.3403,0 491.3403,0 491.3403,0 618.4419,0 618.4419,0 624.4419,0 630.4419,-6 630.4419,-12 630.4419,-12 630.4419,-52 630.4419,-52 630.4419,-58 624.4419,-64 618.4419,-64\"/>\n",
       "<text text-anchor=\"start\" x=\"518.5\" y=\"-48.8\" font-family=\"Helvetica,sans-Serif\" font-size=\"14.00\" fill=\"#000000\">gini = 0.431</text>\n",
       "<text text-anchor=\"start\" x=\"501\" y=\"-34.8\" font-family=\"Helvetica,sans-Serif\" font-size=\"14.00\" fill=\"#000000\">samples = 32.1%</text>\n",
       "<text text-anchor=\"start\" x=\"487.3657\" y=\"-20.8\" font-family=\"Helvetica,sans-Serif\" font-size=\"14.00\" fill=\"#000000\">value = [0.314, 0.686]</text>\n",
       "<text text-anchor=\"start\" x=\"521.2344\" y=\"-6.8\" font-family=\"Helvetica,sans-Serif\" font-size=\"14.00\" fill=\"#000000\">class = 1.0</text>\n",
       "</g>\n",
       "<!-- 4&#45;&gt;6 -->\n",
       "<g id=\"edge6\" class=\"edge\">\n",
       "<title>4&#45;&gt;6</title>\n",
       "<path fill=\"none\" stroke=\"#000000\" d=\"M447.8608,-99.7647C463.5193,-89.8508 480.2914,-79.2318 495.8036,-69.4105\"/>\n",
       "<polygon fill=\"#000000\" stroke=\"#000000\" points=\"497.7001,-72.3523 504.2768,-64.0458 493.9555,-66.438 497.7001,-72.3523\"/>\n",
       "</g>\n",
       "</g>\n",
       "</svg>\n"
      ],
      "text/plain": [
       "<graphviz.files.Source at 0x1187123c8>"
      ]
     },
     "execution_count": 174,
     "metadata": {},
     "output_type": "execute_result"
    }
   ],
=======
   "execution_count": null,
   "metadata": {},
   "outputs": [],
>>>>>>> f2cfab2cf088b7ff1cff12b6d8ede830cceda9af
   "source": [
    "X_n_a, y_n_a = wave_n_a.drop(['dec_o'], axis=1), wave_n_a['dec_o']\n",
    "\n",
    "dtc = tree.DecisionTreeClassifier(max_depth=2).fit(X_n_a, y_n_a)\n",
    "dtc_labels = dtc.predict(X_n_a)\n",
    "dtc_labels\n",
    "\n",
    "import graphviz\n",
    "dot_data = sk.tree.export_graphviz(dtc, out_file=None, \n",
    "                         feature_names=list(X_n_a.columns),  \n",
    "                         class_names = ['1.0' if i == 1 else '0.0' for i in dtc.classes_] ,\n",
    "                        #class_names =[i for i in temp1['match'].unique()],\n",
    "                         filled=True, rounded=True,  \n",
    "                         special_characters=True, \n",
    "                         proportion=True,\n",
    "                        )  \n",
    "graph = graphviz.Source(dot_data)  \n",
    "graph"
   ]
  },
  {
   "cell_type": "markdown",
   "metadata": {
    "collapsed": true
   },
   "source": [
    "# -----------------------------------------------------------------"
   ]
  },
  {
   "cell_type": "code",
<<<<<<< HEAD
   "execution_count": 175,
=======
   "execution_count": null,
>>>>>>> f2cfab2cf088b7ff1cff12b6d8ede830cceda9af
   "metadata": {
    "collapsed": true
   },
   "outputs": [],
   "source": [
    "attributes1=['dec','gender','attr', 'sinc', 'intel','fun', \n",
    "            'amb', 'shar','prob','met']"
   ]
  },
  {
   "cell_type": "code",
<<<<<<< HEAD
   "execution_count": 176,
   "metadata": {},
   "outputs": [
    {
     "data": {
      "text/plain": [
       "3654"
      ]
     },
     "execution_count": 176,
     "metadata": {},
     "output_type": "execute_result"
    },
    {
     "data": {
      "text/plain": [
       "dec         0\n",
       "gender      0\n",
       "attr       76\n",
       "sinc      108\n",
       "intel     127\n",
       "fun       166\n",
       "amb       339\n",
       "shar      497\n",
       "prob      106\n",
       "met       139\n",
       "dtype: int64"
      ]
     },
     "execution_count": 176,
     "metadata": {},
     "output_type": "execute_result"
    },
    {
     "data": {
      "text/plain": [
       "SelectKBest(k=5, score_func=<function f_classif at 0x117bb48c8>)"
      ]
     },
     "execution_count": 176,
     "metadata": {},
     "output_type": "execute_result"
    },
    {
     "name": "stdout",
     "output_type": "stream",
     "text": [
      "  Feat_names    F_Scores\n",
      "0       attr  922.931205\n",
      "2        fun  501.190334\n",
      "3       shar  433.954878\n",
      "4       prob  253.455001\n",
      "1      intel   98.377240\n"
     ]
    }
   ],
=======
   "execution_count": null,
   "metadata": {},
   "outputs": [],
>>>>>>> f2cfab2cf088b7ff1cff12b6d8ede830cceda9af
   "source": [
    "wave1_m_a = sd[sd['race']==2].loc[:, attributes1]\n",
    "len(wave1_m_a)\n",
    "wave1_m_a.isnull().sum()\n",
    "wave1_m_a=wave1_m_a.dropna(axis=0, how='any')\n",
    "X1_m_a, y1_m_a = wave1_m_a.drop(['dec'], axis=1), wave1_m_a['dec']\n",
    "\n",
    "kb = fs.SelectKBest(k=5)\n",
    "kb.fit(X1_m_a, y1_m_a)\n",
    "\n",
    "names = X1_m_a.columns.values[kb.get_support()]\n",
    "scores = kb.scores_[kb.get_support()]\n",
    "names_scores = list(zip(names, scores))\n",
    "ns_df = pd.DataFrame(data = names_scores, columns=['Feat_names', 'F_Scores'])\n",
    "#Sort the dataframe for better visualization\n",
    "ns_df_sorted = ns_df.sort_values(['F_Scores', 'Feat_names'], ascending = [False, True])\n",
    "print(ns_df_sorted)"
   ]
  },
  {
   "cell_type": "code",
<<<<<<< HEAD
   "execution_count": 177,
   "metadata": {},
   "outputs": [
    {
     "data": {
      "text/plain": [
       "dec       0\n",
       "attr     76\n",
       "fun     166\n",
       "shar    497\n",
       "prob    106\n",
       "dtype: int64"
      ]
     },
     "execution_count": 177,
     "metadata": {},
     "output_type": "execute_result"
    },
    {
     "data": {
      "text/plain": [
       "dec     0\n",
       "attr    0\n",
       "fun     0\n",
       "shar    0\n",
       "prob    0\n",
       "dtype: int64"
      ]
     },
     "execution_count": 177,
     "metadata": {},
     "output_type": "execute_result"
    },
    {
     "data": {
      "text/plain": [
       "1296"
      ]
     },
     "execution_count": 177,
     "metadata": {},
     "output_type": "execute_result"
    },
    {
     "data": {
      "text/plain": [
       "1805"
      ]
     },
     "execution_count": 177,
     "metadata": {},
     "output_type": "execute_result"
    },
    {
     "data": {
      "image/svg+xml": [
       "<?xml version=\"1.0\" encoding=\"UTF-8\" standalone=\"no\"?>\n",
       "<!DOCTYPE svg PUBLIC \"-//W3C//DTD SVG 1.1//EN\"\n",
       " \"http://www.w3.org/Graphics/SVG/1.1/DTD/svg11.dtd\">\n",
       "<!-- Generated by graphviz version 2.40.1 (20161225.0304)\n",
       " -->\n",
       "<!-- Title: Tree Pages: 1 -->\n",
       "<svg width=\"654pt\" height=\"300pt\"\n",
       " viewBox=\"0.00 0.00 654.05 300.00\" xmlns=\"http://www.w3.org/2000/svg\" xmlns:xlink=\"http://www.w3.org/1999/xlink\">\n",
       "<g id=\"graph0\" class=\"graph\" transform=\"scale(1 1) rotate(0) translate(4 296)\">\n",
       "<title>Tree</title>\n",
       "<polygon fill=\"#ffffff\" stroke=\"transparent\" points=\"-4,4 -4,-296 650.0508,-296 650.0508,4 -4,4\"/>\n",
       "<!-- 0 -->\n",
       "<g id=\"node1\" class=\"node\">\n",
       "<title>0</title>\n",
       "<path fill=\"#e58139\" fill-opacity=\"0.282353\" stroke=\"#000000\" d=\"M382.0762,-292C382.0762,-292 254.9746,-292 254.9746,-292 248.9746,-292 242.9746,-286 242.9746,-280 242.9746,-280 242.9746,-226 242.9746,-226 242.9746,-220 248.9746,-214 254.9746,-214 254.9746,-214 382.0762,-214 382.0762,-214 388.0762,-214 394.0762,-220 394.0762,-226 394.0762,-226 394.0762,-280 394.0762,-280 394.0762,-286 388.0762,-292 382.0762,-292\"/>\n",
       "<text text-anchor=\"start\" x=\"287.0562\" y=\"-276.8\" font-family=\"Helvetica,sans-Serif\" font-size=\"14.00\" fill=\"#000000\">attr ≤ 6.25</text>\n",
       "<text text-anchor=\"start\" x=\"282.1343\" y=\"-262.8\" font-family=\"Helvetica,sans-Serif\" font-size=\"14.00\" fill=\"#000000\">gini = 0.487</text>\n",
       "<text text-anchor=\"start\" x=\"260.7412\" y=\"-248.8\" font-family=\"Helvetica,sans-Serif\" font-size=\"14.00\" fill=\"#000000\">samples = 100.0%</text>\n",
       "<text text-anchor=\"start\" x=\"251\" y=\"-234.8\" font-family=\"Helvetica,sans-Serif\" font-size=\"14.00\" fill=\"#000000\">value = [0.582, 0.418]</text>\n",
       "<text text-anchor=\"start\" x=\"284.8687\" y=\"-220.8\" font-family=\"Helvetica,sans-Serif\" font-size=\"14.00\" fill=\"#000000\">class = 0.0</text>\n",
       "</g>\n",
       "<!-- 1 -->\n",
       "<g id=\"node2\" class=\"node\">\n",
       "<title>1</title>\n",
       "<path fill=\"#e58139\" fill-opacity=\"0.745098\" stroke=\"#000000\" d=\"M298.0762,-178C298.0762,-178 170.9746,-178 170.9746,-178 164.9746,-178 158.9746,-172 158.9746,-166 158.9746,-166 158.9746,-112 158.9746,-112 158.9746,-106 164.9746,-100 170.9746,-100 170.9746,-100 298.0762,-100 298.0762,-100 304.0762,-100 310.0762,-106 310.0762,-112 310.0762,-112 310.0762,-166 310.0762,-166 310.0762,-172 304.0762,-178 298.0762,-178\"/>\n",
       "<text text-anchor=\"start\" x=\"206.9492\" y=\"-162.8\" font-family=\"Helvetica,sans-Serif\" font-size=\"14.00\" fill=\"#000000\">attr ≤ 5.5</text>\n",
       "<text text-anchor=\"start\" x=\"198.1343\" y=\"-148.8\" font-family=\"Helvetica,sans-Serif\" font-size=\"14.00\" fill=\"#000000\">gini = 0.324</text>\n",
       "<text text-anchor=\"start\" x=\"180.6343\" y=\"-134.8\" font-family=\"Helvetica,sans-Serif\" font-size=\"14.00\" fill=\"#000000\">samples = 51.5%</text>\n",
       "<text text-anchor=\"start\" x=\"167\" y=\"-120.8\" font-family=\"Helvetica,sans-Serif\" font-size=\"14.00\" fill=\"#000000\">value = [0.797, 0.203]</text>\n",
       "<text text-anchor=\"start\" x=\"200.8687\" y=\"-106.8\" font-family=\"Helvetica,sans-Serif\" font-size=\"14.00\" fill=\"#000000\">class = 0.0</text>\n",
       "</g>\n",
       "<!-- 0&#45;&gt;1 -->\n",
       "<g id=\"edge1\" class=\"edge\">\n",
       "<title>0&#45;&gt;1</title>\n",
       "<path fill=\"none\" stroke=\"#000000\" d=\"M289.6174,-213.7677C283.1498,-204.9903 276.222,-195.5883 269.5373,-186.5161\"/>\n",
       "<polygon fill=\"#000000\" stroke=\"#000000\" points=\"272.2364,-184.279 263.4867,-178.3046 266.601,-188.4314 272.2364,-184.279\"/>\n",
       "<text text-anchor=\"middle\" x=\"259.7416\" y=\"-198.8225\" font-family=\"Helvetica,sans-Serif\" font-size=\"14.00\" fill=\"#000000\">True</text>\n",
       "</g>\n",
       "<!-- 4 -->\n",
       "<g id=\"node5\" class=\"node\">\n",
       "<title>4</title>\n",
       "<path fill=\"#399de5\" fill-opacity=\"0.450980\" stroke=\"#000000\" d=\"M467.0762,-178C467.0762,-178 339.9746,-178 339.9746,-178 333.9746,-178 327.9746,-172 327.9746,-166 327.9746,-166 327.9746,-112 327.9746,-112 327.9746,-106 333.9746,-100 339.9746,-100 339.9746,-100 467.0762,-100 467.0762,-100 473.0762,-100 479.0762,-106 479.0762,-112 479.0762,-112 479.0762,-166 479.0762,-166 479.0762,-172 473.0762,-178 467.0762,-178\"/>\n",
       "<text text-anchor=\"start\" x=\"372.0562\" y=\"-162.8\" font-family=\"Helvetica,sans-Serif\" font-size=\"14.00\" fill=\"#000000\">attr ≤ 7.25</text>\n",
       "<text text-anchor=\"start\" x=\"367.1343\" y=\"-148.8\" font-family=\"Helvetica,sans-Serif\" font-size=\"14.00\" fill=\"#000000\">gini = 0.457</text>\n",
       "<text text-anchor=\"start\" x=\"349.6343\" y=\"-134.8\" font-family=\"Helvetica,sans-Serif\" font-size=\"14.00\" fill=\"#000000\">samples = 48.5%</text>\n",
       "<text text-anchor=\"start\" x=\"336\" y=\"-120.8\" font-family=\"Helvetica,sans-Serif\" font-size=\"14.00\" fill=\"#000000\">value = [0.354, 0.646]</text>\n",
       "<text text-anchor=\"start\" x=\"369.8687\" y=\"-106.8\" font-family=\"Helvetica,sans-Serif\" font-size=\"14.00\" fill=\"#000000\">class = 1.0</text>\n",
       "</g>\n",
       "<!-- 0&#45;&gt;4 -->\n",
       "<g id=\"edge4\" class=\"edge\">\n",
       "<title>0&#45;&gt;4</title>\n",
       "<path fill=\"none\" stroke=\"#000000\" d=\"M347.7776,-213.7677C354.3221,-204.9903 361.3324,-195.5883 368.0967,-186.5161\"/>\n",
       "<polygon fill=\"#000000\" stroke=\"#000000\" points=\"371.0477,-188.4136 374.2193,-178.3046 365.4359,-184.2294 371.0477,-188.4136\"/>\n",
       "<text text-anchor=\"middle\" x=\"377.8244\" y=\"-198.8433\" font-family=\"Helvetica,sans-Serif\" font-size=\"14.00\" fill=\"#000000\">False</text>\n",
       "</g>\n",
       "<!-- 2 -->\n",
       "<g id=\"node3\" class=\"node\">\n",
       "<title>2</title>\n",
       "<path fill=\"#e58139\" fill-opacity=\"0.858824\" stroke=\"#000000\" d=\"M139.0762,-64C139.0762,-64 11.9746,-64 11.9746,-64 5.9746,-64 -.0254,-58 -.0254,-52 -.0254,-52 -.0254,-12 -.0254,-12 -.0254,-6 5.9746,0 11.9746,0 11.9746,0 139.0762,0 139.0762,0 145.0762,0 151.0762,-6 151.0762,-12 151.0762,-12 151.0762,-52 151.0762,-52 151.0762,-58 145.0762,-64 139.0762,-64\"/>\n",
       "<text text-anchor=\"start\" x=\"39.1343\" y=\"-48.8\" font-family=\"Helvetica,sans-Serif\" font-size=\"14.00\" fill=\"#000000\">gini = 0.215</text>\n",
       "<text text-anchor=\"start\" x=\"21.6343\" y=\"-34.8\" font-family=\"Helvetica,sans-Serif\" font-size=\"14.00\" fill=\"#000000\">samples = 31.4%</text>\n",
       "<text text-anchor=\"start\" x=\"8\" y=\"-20.8\" font-family=\"Helvetica,sans-Serif\" font-size=\"14.00\" fill=\"#000000\">value = [0.878, 0.122]</text>\n",
       "<text text-anchor=\"start\" x=\"41.8687\" y=\"-6.8\" font-family=\"Helvetica,sans-Serif\" font-size=\"14.00\" fill=\"#000000\">class = 0.0</text>\n",
       "</g>\n",
       "<!-- 1&#45;&gt;2 -->\n",
       "<g id=\"edge2\" class=\"edge\">\n",
       "<title>1&#45;&gt;2</title>\n",
       "<path fill=\"none\" stroke=\"#000000\" d=\"M176.2225,-99.7647C161.627,-89.9426 146.0031,-79.4284 131.5223,-69.6835\"/>\n",
       "<polygon fill=\"#000000\" stroke=\"#000000\" points=\"133.3952,-66.7252 123.1448,-64.0458 129.4871,-72.5326 133.3952,-66.7252\"/>\n",
       "</g>\n",
       "<!-- 3 -->\n",
       "<g id=\"node4\" class=\"node\">\n",
       "<title>3</title>\n",
       "<path fill=\"#e58139\" fill-opacity=\"0.509804\" stroke=\"#000000\" d=\"M292.5048,-64C292.5048,-64 180.546,-64 180.546,-64 174.546,-64 168.546,-58 168.546,-52 168.546,-52 168.546,-12 168.546,-12 168.546,-6 174.546,0 180.546,0 180.546,0 292.5048,0 292.5048,0 298.5048,0 304.5048,-6 304.5048,-12 304.5048,-12 304.5048,-52 304.5048,-52 304.5048,-58 298.5048,-64 292.5048,-64\"/>\n",
       "<text text-anchor=\"start\" x=\"200.1343\" y=\"-48.8\" font-family=\"Helvetica,sans-Serif\" font-size=\"14.00\" fill=\"#000000\">gini = 0.442</text>\n",
       "<text text-anchor=\"start\" x=\"182.6343\" y=\"-34.8\" font-family=\"Helvetica,sans-Serif\" font-size=\"14.00\" fill=\"#000000\">samples = 20.2%</text>\n",
       "<text text-anchor=\"start\" x=\"176.7861\" y=\"-20.8\" font-family=\"Helvetica,sans-Serif\" font-size=\"14.00\" fill=\"#000000\">value = [0.67, 0.33]</text>\n",
       "<text text-anchor=\"start\" x=\"202.8687\" y=\"-6.8\" font-family=\"Helvetica,sans-Serif\" font-size=\"14.00\" fill=\"#000000\">class = 0.0</text>\n",
       "</g>\n",
       "<!-- 1&#45;&gt;3 -->\n",
       "<g id=\"edge3\" class=\"edge\">\n",
       "<title>1&#45;&gt;3</title>\n",
       "<path fill=\"none\" stroke=\"#000000\" d=\"M235.2588,-99.7647C235.4141,-91.4537 235.5787,-82.6472 235.736,-74.2305\"/>\n",
       "<polygon fill=\"#000000\" stroke=\"#000000\" points=\"239.2356,-74.2806 235.9232,-64.2169 232.2368,-74.1497 239.2356,-74.2806\"/>\n",
       "</g>\n",
       "<!-- 5 -->\n",
       "<g id=\"node6\" class=\"node\">\n",
       "<title>5</title>\n",
       "<path fill=\"#e58139\" fill-opacity=\"0.007843\" stroke=\"#000000\" d=\"M465.0762,-64C465.0762,-64 337.9746,-64 337.9746,-64 331.9746,-64 325.9746,-58 325.9746,-52 325.9746,-52 325.9746,-12 325.9746,-12 325.9746,-6 331.9746,0 337.9746,0 337.9746,0 465.0762,0 465.0762,0 471.0762,0 477.0762,-6 477.0762,-12 477.0762,-12 477.0762,-52 477.0762,-52 477.0762,-58 471.0762,-64 465.0762,-64\"/>\n",
       "<text text-anchor=\"start\" x=\"372.9204\" y=\"-48.8\" font-family=\"Helvetica,sans-Serif\" font-size=\"14.00\" fill=\"#000000\">gini = 0.5</text>\n",
       "<text text-anchor=\"start\" x=\"347.6343\" y=\"-34.8\" font-family=\"Helvetica,sans-Serif\" font-size=\"14.00\" fill=\"#000000\">samples = 20.3%</text>\n",
       "<text text-anchor=\"start\" x=\"334\" y=\"-20.8\" font-family=\"Helvetica,sans-Serif\" font-size=\"14.00\" fill=\"#000000\">value = [0.502, 0.498]</text>\n",
       "<text text-anchor=\"start\" x=\"367.8687\" y=\"-6.8\" font-family=\"Helvetica,sans-Serif\" font-size=\"14.00\" fill=\"#000000\">class = 0.0</text>\n",
       "</g>\n",
       "<!-- 4&#45;&gt;5 -->\n",
       "<g id=\"edge5\" class=\"edge\">\n",
       "<title>4&#45;&gt;5</title>\n",
       "<path fill=\"none\" stroke=\"#000000\" d=\"M402.792,-99.7647C402.6367,-91.4537 402.4721,-82.6472 402.3147,-74.2305\"/>\n",
       "<polygon fill=\"#000000\" stroke=\"#000000\" points=\"405.8139,-74.1497 402.1276,-64.2169 398.8152,-74.2806 405.8139,-74.1497\"/>\n",
       "</g>\n",
       "<!-- 6 -->\n",
       "<g id=\"node7\" class=\"node\">\n",
       "<title>6</title>\n",
       "<path fill=\"#399de5\" fill-opacity=\"0.670588\" stroke=\"#000000\" d=\"M634.0762,-64C634.0762,-64 506.9746,-64 506.9746,-64 500.9746,-64 494.9746,-58 494.9746,-52 494.9746,-52 494.9746,-12 494.9746,-12 494.9746,-6 500.9746,0 506.9746,0 506.9746,0 634.0762,0 634.0762,0 640.0762,0 646.0762,-6 646.0762,-12 646.0762,-12 646.0762,-52 646.0762,-52 646.0762,-58 640.0762,-64 634.0762,-64\"/>\n",
       "<text text-anchor=\"start\" x=\"534.1343\" y=\"-48.8\" font-family=\"Helvetica,sans-Serif\" font-size=\"14.00\" fill=\"#000000\">gini = 0.372</text>\n",
       "<text text-anchor=\"start\" x=\"516.6343\" y=\"-34.8\" font-family=\"Helvetica,sans-Serif\" font-size=\"14.00\" fill=\"#000000\">samples = 28.2%</text>\n",
       "<text text-anchor=\"start\" x=\"503\" y=\"-20.8\" font-family=\"Helvetica,sans-Serif\" font-size=\"14.00\" fill=\"#000000\">value = [0.247, 0.753]</text>\n",
       "<text text-anchor=\"start\" x=\"536.8687\" y=\"-6.8\" font-family=\"Helvetica,sans-Serif\" font-size=\"14.00\" fill=\"#000000\">class = 1.0</text>\n",
       "</g>\n",
       "<!-- 4&#45;&gt;6 -->\n",
       "<g id=\"edge6\" class=\"edge\">\n",
       "<title>4&#45;&gt;6</title>\n",
       "<path fill=\"none\" stroke=\"#000000\" d=\"M464.7618,-99.7647C480.0917,-89.9426 496.5016,-79.4284 511.711,-69.6835\"/>\n",
       "<polygon fill=\"#000000\" stroke=\"#000000\" points=\"513.9783,-72.3876 520.51,-64.0458 510.2019,-66.4936 513.9783,-72.3876\"/>\n",
       "</g>\n",
       "</g>\n",
       "</svg>\n"
      ],
      "text/plain": [
       "<graphviz.files.Source at 0x11a0c9240>"
      ]
     },
     "execution_count": 177,
     "metadata": {},
     "output_type": "execute_result"
    }
   ],
=======
   "execution_count": null,
   "metadata": {},
   "outputs": [],
>>>>>>> f2cfab2cf088b7ff1cff12b6d8ede830cceda9af
   "source": [
    "attributes_best = ['dec','attr','fun', 'shar','prob']\n",
    "wave1_m_a = sd[sd['race']==2].loc[:, attributes_best]\n",
    "wave1_m_a.isnull().sum()\n",
    "wave1_m_a=wave1_m_a.dropna(axis=0, how='any')\n",
    "\n",
    "wave1_m_a.isnull().sum()\n",
    "len(wave1_m_a[wave1_m_a['dec']==1])\n",
    "len(wave1_m_a[wave1_m_a['dec']==0])\n",
    "\n",
    "X1_m_a, y1_m_a = wave1_m_a.drop(['dec'], axis=1), wave1_m_a['dec']\n",
    "\n",
    "dtc = tree.DecisionTreeClassifier(max_depth=2).fit(X1_m_a, y1_m_a)\n",
    "\n",
    "import graphviz\n",
    "dot_data = sk.tree.export_graphviz(dtc, out_file=None, \n",
    "                         feature_names=list(X1_m_a.columns),  \n",
    "                         class_names = ['1.0' if i == 1 else '0.0' for i in dtc.classes_] ,\n",
    "                        #class_names =[i for i in temp1['match'].unique()],\n",
    "                         filled=True, rounded=True,  \n",
    "                         special_characters=True, \n",
    "                         proportion=True,\n",
    "                        )  \n",
    "graph = graphviz.Source(dot_data)  \n",
    "graph"
   ]
  },
  {
   "cell_type": "code",
   "execution_count": null,
   "metadata": {
    "collapsed": true
   },
   "outputs": [],
   "source": []
  },
  {
   "cell_type": "code",
<<<<<<< HEAD
   "execution_count": 178,
   "metadata": {},
   "outputs": [
    {
     "data": {
      "text/plain": [
       "361"
      ]
     },
     "execution_count": 178,
     "metadata": {},
     "output_type": "execute_result"
    },
    {
     "data": {
      "text/plain": [
       "dec        0\n",
       "gender     0\n",
       "attr      10\n",
       "sinc      29\n",
       "intel     27\n",
       "fun       33\n",
       "amb       43\n",
       "shar      54\n",
       "prob      29\n",
       "met       29\n",
       "dtype: int64"
      ]
     },
     "execution_count": 178,
     "metadata": {},
     "output_type": "execute_result"
    },
    {
     "data": {
      "text/plain": [
       "SelectKBest(k=5, score_func=<function f_classif at 0x117bb48c8>)"
      ]
     },
     "execution_count": 178,
     "metadata": {},
     "output_type": "execute_result"
    },
    {
     "name": "stdout",
     "output_type": "stream",
     "text": [
      "  Feat_names   F_Scores\n",
      "0       attr  90.100304\n",
      "3       shar  58.405365\n",
      "4       prob  53.537264\n",
      "2        fun  52.050997\n",
      "1       sinc  17.289541\n"
     ]
    }
   ],
=======
   "execution_count": null,
   "metadata": {},
   "outputs": [],
>>>>>>> f2cfab2cf088b7ff1cff12b6d8ede830cceda9af
   "source": [
    "wave1_n_a = sd[(sd['race']==1)|(sd['race']==5)].loc[:, attributes1]\n",
    "len(wave1_n_a)\n",
    "wave1_n_a.isnull().sum()\n",
    "wave1_n_a=wave1_n_a.dropna(axis=0, how='any')\n",
    "X1_n_a, y1_n_a = wave1_n_a.drop(['dec'], axis=1), wave1_n_a['dec']\n",
    "\n",
    "kb = fs.SelectKBest(k=5)\n",
    "kb.fit(X1_n_a, y1_n_a)\n",
    "\n",
    "names = X1_n_a.columns.values[kb.get_support()]\n",
    "scores = kb.scores_[kb.get_support()]\n",
    "names_scores = list(zip(names, scores))\n",
    "ns_df = pd.DataFrame(data = names_scores, columns=['Feat_names', 'F_Scores'])\n",
    "#Sort the dataframe for better visualization\n",
    "ns_df_sorted = ns_df.sort_values(['F_Scores', 'Feat_names'], ascending = [False, True])\n",
    "print(ns_df_sorted)"
   ]
  },
  {
   "cell_type": "code",
<<<<<<< HEAD
   "execution_count": 179,
   "metadata": {},
   "outputs": [
    {
     "data": {
      "text/plain": [
       "dec      0\n",
       "attr    10\n",
       "fun     33\n",
       "shar    54\n",
       "prob    29\n",
       "dtype: int64"
      ]
     },
     "execution_count": 179,
     "metadata": {},
     "output_type": "execute_result"
    },
    {
     "data": {
      "text/plain": [
       "dec     0\n",
       "attr    0\n",
       "fun     0\n",
       "shar    0\n",
       "prob    0\n",
       "dtype: int64"
      ]
     },
     "execution_count": 179,
     "metadata": {},
     "output_type": "execute_result"
    },
    {
     "data": {
      "text/plain": [
       "165"
      ]
     },
     "execution_count": 179,
     "metadata": {},
     "output_type": "execute_result"
    },
    {
     "data": {
      "text/plain": [
       "133"
      ]
     },
     "execution_count": 179,
     "metadata": {},
     "output_type": "execute_result"
    },
    {
     "data": {
      "image/svg+xml": [
       "<?xml version=\"1.0\" encoding=\"UTF-8\" standalone=\"no\"?>\n",
       "<!DOCTYPE svg PUBLIC \"-//W3C//DTD SVG 1.1//EN\"\n",
       " \"http://www.w3.org/Graphics/SVG/1.1/DTD/svg11.dtd\">\n",
       "<!-- Generated by graphviz version 2.40.1 (20161225.0304)\n",
       " -->\n",
       "<!-- Title: Tree Pages: 1 -->\n",
       "<svg width=\"650pt\" height=\"300pt\"\n",
       " viewBox=\"0.00 0.00 650.26 300.00\" xmlns=\"http://www.w3.org/2000/svg\" xmlns:xlink=\"http://www.w3.org/1999/xlink\">\n",
       "<g id=\"graph0\" class=\"graph\" transform=\"scale(1 1) rotate(0) translate(4 296)\">\n",
       "<title>Tree</title>\n",
       "<polygon fill=\"#ffffff\" stroke=\"transparent\" points=\"-4,4 -4,-296 646.2646,-296 646.2646,4 -4,4\"/>\n",
       "<!-- 0 -->\n",
       "<g id=\"node1\" class=\"node\">\n",
       "<title>0</title>\n",
       "<path fill=\"#399de5\" fill-opacity=\"0.192157\" stroke=\"#000000\" d=\"M392.0762,-292C392.0762,-292 264.9746,-292 264.9746,-292 258.9746,-292 252.9746,-286 252.9746,-280 252.9746,-280 252.9746,-226 252.9746,-226 252.9746,-220 258.9746,-214 264.9746,-214 264.9746,-214 392.0762,-214 392.0762,-214 398.0762,-214 404.0762,-220 404.0762,-226 404.0762,-226 404.0762,-280 404.0762,-280 404.0762,-286 398.0762,-292 392.0762,-292\"/>\n",
       "<text text-anchor=\"start\" x=\"300.9492\" y=\"-276.8\" font-family=\"Helvetica,sans-Serif\" font-size=\"14.00\" fill=\"#000000\">attr ≤ 6.5</text>\n",
       "<text text-anchor=\"start\" x=\"292.1343\" y=\"-262.8\" font-family=\"Helvetica,sans-Serif\" font-size=\"14.00\" fill=\"#000000\">gini = 0.494</text>\n",
       "<text text-anchor=\"start\" x=\"270.7412\" y=\"-248.8\" font-family=\"Helvetica,sans-Serif\" font-size=\"14.00\" fill=\"#000000\">samples = 100.0%</text>\n",
       "<text text-anchor=\"start\" x=\"261\" y=\"-234.8\" font-family=\"Helvetica,sans-Serif\" font-size=\"14.00\" fill=\"#000000\">value = [0.446, 0.554]</text>\n",
       "<text text-anchor=\"start\" x=\"294.8687\" y=\"-220.8\" font-family=\"Helvetica,sans-Serif\" font-size=\"14.00\" fill=\"#000000\">class = 1.0</text>\n",
       "</g>\n",
       "<!-- 1 -->\n",
       "<g id=\"node2\" class=\"node\">\n",
       "<title>1</title>\n",
       "<path fill=\"#e58139\" fill-opacity=\"0.619608\" stroke=\"#000000\" d=\"M308.0762,-178C308.0762,-178 180.9746,-178 180.9746,-178 174.9746,-178 168.9746,-172 168.9746,-166 168.9746,-166 168.9746,-112 168.9746,-112 168.9746,-106 174.9746,-100 180.9746,-100 180.9746,-100 308.0762,-100 308.0762,-100 314.0762,-100 320.0762,-106 320.0762,-112 320.0762,-112 320.0762,-166 320.0762,-166 320.0762,-172 314.0762,-178 308.0762,-178\"/>\n",
       "<text text-anchor=\"start\" x=\"213.4458\" y=\"-162.8\" font-family=\"Helvetica,sans-Serif\" font-size=\"14.00\" fill=\"#000000\">shar ≤ 4.5</text>\n",
       "<text text-anchor=\"start\" x=\"208.1343\" y=\"-148.8\" font-family=\"Helvetica,sans-Serif\" font-size=\"14.00\" fill=\"#000000\">gini = 0.398</text>\n",
       "<text text-anchor=\"start\" x=\"190.6343\" y=\"-134.8\" font-family=\"Helvetica,sans-Serif\" font-size=\"14.00\" fill=\"#000000\">samples = 47.7%</text>\n",
       "<text text-anchor=\"start\" x=\"177\" y=\"-120.8\" font-family=\"Helvetica,sans-Serif\" font-size=\"14.00\" fill=\"#000000\">value = [0.725, 0.275]</text>\n",
       "<text text-anchor=\"start\" x=\"210.8687\" y=\"-106.8\" font-family=\"Helvetica,sans-Serif\" font-size=\"14.00\" fill=\"#000000\">class = 0.0</text>\n",
       "</g>\n",
       "<!-- 0&#45;&gt;1 -->\n",
       "<g id=\"edge1\" class=\"edge\">\n",
       "<title>0&#45;&gt;1</title>\n",
       "<path fill=\"none\" stroke=\"#000000\" d=\"M299.6174,-213.7677C293.1498,-204.9903 286.222,-195.5883 279.5373,-186.5161\"/>\n",
       "<polygon fill=\"#000000\" stroke=\"#000000\" points=\"282.2364,-184.279 273.4867,-178.3046 276.601,-188.4314 282.2364,-184.279\"/>\n",
       "<text text-anchor=\"middle\" x=\"269.7416\" y=\"-198.8225\" font-family=\"Helvetica,sans-Serif\" font-size=\"14.00\" fill=\"#000000\">True</text>\n",
       "</g>\n",
       "<!-- 4 -->\n",
       "<g id=\"node5\" class=\"node\">\n",
       "<title>4</title>\n",
       "<path fill=\"#399de5\" fill-opacity=\"0.760784\" stroke=\"#000000\" d=\"M477.0762,-178C477.0762,-178 349.9746,-178 349.9746,-178 343.9746,-178 337.9746,-172 337.9746,-166 337.9746,-166 337.9746,-112 337.9746,-112 337.9746,-106 343.9746,-100 349.9746,-100 349.9746,-100 477.0762,-100 477.0762,-100 483.0762,-100 489.0762,-106 489.0762,-112 489.0762,-112 489.0762,-166 489.0762,-166 489.0762,-172 483.0762,-178 477.0762,-178\"/>\n",
       "<text text-anchor=\"start\" x=\"382.4458\" y=\"-162.8\" font-family=\"Helvetica,sans-Serif\" font-size=\"14.00\" fill=\"#000000\">shar ≤ 3.5</text>\n",
       "<text text-anchor=\"start\" x=\"377.6504\" y=\"-148.8\" font-family=\"Helvetica,sans-Serif\" font-size=\"14.00\" fill=\"#000000\">gini = 0.311</text>\n",
       "<text text-anchor=\"start\" x=\"359.6343\" y=\"-134.8\" font-family=\"Helvetica,sans-Serif\" font-size=\"14.00\" fill=\"#000000\">samples = 52.3%</text>\n",
       "<text text-anchor=\"start\" x=\"346\" y=\"-120.8\" font-family=\"Helvetica,sans-Serif\" font-size=\"14.00\" fill=\"#000000\">value = [0.192, 0.808]</text>\n",
       "<text text-anchor=\"start\" x=\"379.8687\" y=\"-106.8\" font-family=\"Helvetica,sans-Serif\" font-size=\"14.00\" fill=\"#000000\">class = 1.0</text>\n",
       "</g>\n",
       "<!-- 0&#45;&gt;4 -->\n",
       "<g id=\"edge4\" class=\"edge\">\n",
       "<title>0&#45;&gt;4</title>\n",
       "<path fill=\"none\" stroke=\"#000000\" d=\"M357.7776,-213.7677C364.3221,-204.9903 371.3324,-195.5883 378.0967,-186.5161\"/>\n",
       "<polygon fill=\"#000000\" stroke=\"#000000\" points=\"381.0477,-188.4136 384.2193,-178.3046 375.4359,-184.2294 381.0477,-188.4136\"/>\n",
       "<text text-anchor=\"middle\" x=\"387.8244\" y=\"-198.8433\" font-family=\"Helvetica,sans-Serif\" font-size=\"14.00\" fill=\"#000000\">False</text>\n",
       "</g>\n",
       "<!-- 2 -->\n",
       "<g id=\"node3\" class=\"node\">\n",
       "<title>2</title>\n",
       "<path fill=\"#e58139\" fill-opacity=\"0.921569\" stroke=\"#000000\" d=\"M139.0762,-64C139.0762,-64 11.9746,-64 11.9746,-64 5.9746,-64 -.0254,-58 -.0254,-52 -.0254,-52 -.0254,-12 -.0254,-12 -.0254,-6 5.9746,0 11.9746,0 11.9746,0 139.0762,0 139.0762,0 145.0762,0 151.0762,-6 151.0762,-12 151.0762,-12 151.0762,-52 151.0762,-52 151.0762,-58 145.0762,-64 139.0762,-64\"/>\n",
       "<text text-anchor=\"start\" x=\"39.1343\" y=\"-48.8\" font-family=\"Helvetica,sans-Serif\" font-size=\"14.00\" fill=\"#000000\">gini = 0.137</text>\n",
       "<text text-anchor=\"start\" x=\"21.6343\" y=\"-34.8\" font-family=\"Helvetica,sans-Serif\" font-size=\"14.00\" fill=\"#000000\">samples = 18.1%</text>\n",
       "<text text-anchor=\"start\" x=\"8\" y=\"-20.8\" font-family=\"Helvetica,sans-Serif\" font-size=\"14.00\" fill=\"#000000\">value = [0.926, 0.074]</text>\n",
       "<text text-anchor=\"start\" x=\"41.8687\" y=\"-6.8\" font-family=\"Helvetica,sans-Serif\" font-size=\"14.00\" fill=\"#000000\">class = 0.0</text>\n",
       "</g>\n",
       "<!-- 1&#45;&gt;2 -->\n",
       "<g id=\"edge2\" class=\"edge\">\n",
       "<title>1&#45;&gt;2</title>\n",
       "<path fill=\"none\" stroke=\"#000000\" d=\"M182.5557,-99.7647C166.8972,-89.8508 150.1251,-79.2318 134.6129,-69.4105\"/>\n",
       "<polygon fill=\"#000000\" stroke=\"#000000\" points=\"136.461,-66.438 126.1397,-64.0458 132.7164,-72.3523 136.461,-66.438\"/>\n",
       "</g>\n",
       "<!-- 3 -->\n",
       "<g id=\"node4\" class=\"node\">\n",
       "<title>3</title>\n",
       "<path fill=\"#e58139\" fill-opacity=\"0.341176\" stroke=\"#000000\" d=\"M308.0762,-64C308.0762,-64 180.9746,-64 180.9746,-64 174.9746,-64 168.9746,-58 168.9746,-52 168.9746,-52 168.9746,-12 168.9746,-12 168.9746,-6 174.9746,0 180.9746,0 180.9746,0 308.0762,0 308.0762,0 314.0762,0 320.0762,-6 320.0762,-12 320.0762,-12 320.0762,-52 320.0762,-52 320.0762,-58 314.0762,-64 308.0762,-64\"/>\n",
       "<text text-anchor=\"start\" x=\"208.1343\" y=\"-48.8\" font-family=\"Helvetica,sans-Serif\" font-size=\"14.00\" fill=\"#000000\">gini = 0.479</text>\n",
       "<text text-anchor=\"start\" x=\"190.6343\" y=\"-34.8\" font-family=\"Helvetica,sans-Serif\" font-size=\"14.00\" fill=\"#000000\">samples = 29.5%</text>\n",
       "<text text-anchor=\"start\" x=\"177\" y=\"-20.8\" font-family=\"Helvetica,sans-Serif\" font-size=\"14.00\" fill=\"#000000\">value = [0.602, 0.398]</text>\n",
       "<text text-anchor=\"start\" x=\"210.8687\" y=\"-6.8\" font-family=\"Helvetica,sans-Serif\" font-size=\"14.00\" fill=\"#000000\">class = 0.0</text>\n",
       "</g>\n",
       "<!-- 1&#45;&gt;3 -->\n",
       "<g id=\"edge3\" class=\"edge\">\n",
       "<title>1&#45;&gt;3</title>\n",
       "<path fill=\"none\" stroke=\"#000000\" d=\"M244.5254,-99.7647C244.5254,-91.4537 244.5254,-82.6472 244.5254,-74.2305\"/>\n",
       "<polygon fill=\"#000000\" stroke=\"#000000\" points=\"248.0255,-74.2168 244.5254,-64.2169 241.0255,-74.2169 248.0255,-74.2168\"/>\n",
       "</g>\n",
       "<!-- 5 -->\n",
       "<g id=\"node6\" class=\"node\">\n",
       "<title>5</title>\n",
       "<path fill=\"#e58139\" fill-opacity=\"0.498039\" stroke=\"#000000\" d=\"M477.0762,-64C477.0762,-64 349.9746,-64 349.9746,-64 343.9746,-64 337.9746,-58 337.9746,-52 337.9746,-52 337.9746,-12 337.9746,-12 337.9746,-6 343.9746,0 349.9746,0 349.9746,0 477.0762,0 477.0762,0 483.0762,0 489.0762,-6 489.0762,-12 489.0762,-12 489.0762,-52 489.0762,-52 489.0762,-58 483.0762,-64 477.0762,-64\"/>\n",
       "<text text-anchor=\"start\" x=\"377.1343\" y=\"-48.8\" font-family=\"Helvetica,sans-Serif\" font-size=\"14.00\" fill=\"#000000\">gini = 0.444</text>\n",
       "<text text-anchor=\"start\" x=\"363.5273\" y=\"-34.8\" font-family=\"Helvetica,sans-Serif\" font-size=\"14.00\" fill=\"#000000\">samples = 6.0%</text>\n",
       "<text text-anchor=\"start\" x=\"346\" y=\"-20.8\" font-family=\"Helvetica,sans-Serif\" font-size=\"14.00\" fill=\"#000000\">value = [0.667, 0.333]</text>\n",
       "<text text-anchor=\"start\" x=\"379.8687\" y=\"-6.8\" font-family=\"Helvetica,sans-Serif\" font-size=\"14.00\" fill=\"#000000\">class = 0.0</text>\n",
       "</g>\n",
       "<!-- 4&#45;&gt;5 -->\n",
       "<g id=\"edge5\" class=\"edge\">\n",
       "<title>4&#45;&gt;5</title>\n",
       "<path fill=\"none\" stroke=\"#000000\" d=\"M413.5254,-99.7647C413.5254,-91.4537 413.5254,-82.6472 413.5254,-74.2305\"/>\n",
       "<polygon fill=\"#000000\" stroke=\"#000000\" points=\"417.0255,-74.2168 413.5254,-64.2169 410.0255,-74.2169 417.0255,-74.2168\"/>\n",
       "</g>\n",
       "<!-- 6 -->\n",
       "<g id=\"node7\" class=\"node\">\n",
       "<title>6</title>\n",
       "<path fill=\"#399de5\" fill-opacity=\"0.850980\" stroke=\"#000000\" d=\"M630.5048,-64C630.5048,-64 518.546,-64 518.546,-64 512.546,-64 506.546,-58 506.546,-52 506.546,-52 506.546,-12 506.546,-12 506.546,-6 512.546,0 518.546,0 518.546,0 630.5048,0 630.5048,0 636.5048,0 642.5048,-6 642.5048,-12 642.5048,-12 642.5048,-52 642.5048,-52 642.5048,-58 636.5048,-64 630.5048,-64\"/>\n",
       "<text text-anchor=\"start\" x=\"538.1343\" y=\"-48.8\" font-family=\"Helvetica,sans-Serif\" font-size=\"14.00\" fill=\"#000000\">gini = 0.227</text>\n",
       "<text text-anchor=\"start\" x=\"520.6343\" y=\"-34.8\" font-family=\"Helvetica,sans-Serif\" font-size=\"14.00\" fill=\"#000000\">samples = 46.3%</text>\n",
       "<text text-anchor=\"start\" x=\"514.7861\" y=\"-20.8\" font-family=\"Helvetica,sans-Serif\" font-size=\"14.00\" fill=\"#000000\">value = [0.13, 0.87]</text>\n",
       "<text text-anchor=\"start\" x=\"540.8687\" y=\"-6.8\" font-family=\"Helvetica,sans-Serif\" font-size=\"14.00\" fill=\"#000000\">class = 1.0</text>\n",
       "</g>\n",
       "<!-- 4&#45;&gt;6 -->\n",
       "<g id=\"edge6\" class=\"edge\">\n",
       "<title>4&#45;&gt;6</title>\n",
       "<path fill=\"none\" stroke=\"#000000\" d=\"M472.5616,-99.7647C487.3408,-89.9426 503.1612,-79.4284 517.8241,-69.6835\"/>\n",
       "<polygon fill=\"#000000\" stroke=\"#000000\" points=\"519.9158,-72.4958 526.307,-64.0458 516.0412,-66.6659 519.9158,-72.4958\"/>\n",
       "</g>\n",
       "</g>\n",
       "</svg>\n"
      ],
      "text/plain": [
       "<graphviz.files.Source at 0x11a0ff630>"
      ]
     },
     "execution_count": 179,
     "metadata": {},
     "output_type": "execute_result"
    }
   ],
=======
   "execution_count": null,
   "metadata": {},
   "outputs": [],
>>>>>>> f2cfab2cf088b7ff1cff12b6d8ede830cceda9af
   "source": [
    "attributes_best = ['dec','attr','fun', 'shar','prob']\n",
    "wave1_n_a = sd[(sd['race']==1)|(sd['race']==5)].loc[:, attributes_best]\n",
    "wave1_n_a.isnull().sum()\n",
    "wave1_n_a=wave1_n_a.dropna(axis=0, how='any')\n",
    "\n",
    "wave1_n_a.isnull().sum()\n",
    "len(wave1_n_a[wave1_n_a['dec']==1])\n",
    "len(wave1_n_a[wave1_n_a['dec']==0])\n",
    "\n",
    "X1_n_a, y1_n_a = wave1_n_a.drop(['dec'], axis=1), wave1_n_a['dec']\n",
    "\n",
    "dtc = tree.DecisionTreeClassifier(max_depth=2).fit(X1_n_a, y1_n_a)\n",
    "\n",
    "import graphviz\n",
    "dot_data = sk.tree.export_graphviz(dtc, out_file=None, \n",
    "                         feature_names=list(X1_n_a.columns),  \n",
    "                         class_names = ['1.0' if i == 1 else '0.0' for i in dtc.classes_] ,\n",
    "                        #class_names =[i for i in temp1['match'].unique()],\n",
    "                         filled=True, rounded=True,  \n",
    "                         special_characters=True, \n",
    "                         proportion=True,\n",
    "                        )  \n",
    "graph = graphviz.Source(dot_data)  \n",
    "graph"
   ]
  },
  {
   "cell_type": "code",
   "execution_count": null,
   "metadata": {
    "collapsed": true
   },
   "outputs": [],
   "source": []
  },
  {
   "cell_type": "code",
<<<<<<< HEAD
   "execution_count": 180,
   "metadata": {},
   "outputs": [
    {
     "data": {
      "text/plain": [
       "<matplotlib.axes._subplots.AxesSubplot at 0x11a102400>"
      ]
     },
     "execution_count": 180,
     "metadata": {},
     "output_type": "execute_result"
    },
    {
     "data": {
      "image/png": "iVBORw0KGgoAAAANSUhEUgAAAX8AAAEKCAYAAAD6q1UVAAAABHNCSVQICAgIfAhkiAAAAAlwSFlz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\n",
      "text/plain": [
       "<matplotlib.figure.Figure at 0x11a102588>"
      ]
     },
     "metadata": {},
     "output_type": "display_data"
    }
   ],
=======
   "execution_count": null,
   "metadata": {},
   "outputs": [],
>>>>>>> f2cfab2cf088b7ff1cff12b6d8ede830cceda9af
   "source": [
    "sns.distplot(sd['sports'].dropna())"
   ]
  },
  {
   "cell_type": "code",
<<<<<<< HEAD
   "execution_count": 181,
   "metadata": {},
   "outputs": [
    {
     "data": {
      "text/plain": [
       "<matplotlib.axes._subplots.AxesSubplot at 0x11a0ff5f8>"
      ]
     },
     "execution_count": 181,
     "metadata": {},
     "output_type": "execute_result"
    },
    {
     "data": {
      "image/png": "iVBORw0KGgoAAAANSUhEUgAAAXcAAAEKCAYAAADpfBXhAAAABHNCSVQICAgIfAhkiAAAAAlwSFlz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\nAP1/ZuXmikuAxykAAAAASUVORK5CYII=\n",
      "text/plain": [
       "<matplotlib.figure.Figure at 0x118752828>"
      ]
     },
     "metadata": {},
     "output_type": "display_data"
    }
   ],
=======
   "execution_count": null,
   "metadata": {},
   "outputs": [],
>>>>>>> f2cfab2cf088b7ff1cff12b6d8ede830cceda9af
   "source": [
    "sns.distplot(sd['exercise'].dropna())"
   ]
  },
  {
   "cell_type": "markdown",
   "metadata": {
    "collapsed": true
   },
   "source": [
    "# Reference\n",
    "\n",
    "Clustering: https://github.com/samorani/Data-Science-Analysis-with-Python\n"
   ]
  },
  {
   "cell_type": "code",
   "execution_count": null,
   "metadata": {
    "collapsed": true
   },
   "outputs": [],
   "source": []
  },
  {
   "cell_type": "code",
   "execution_count": null,
   "metadata": {
    "collapsed": true
   },
   "outputs": [],
   "source": []
  },
  {
   "cell_type": "code",
   "execution_count": null,
   "metadata": {
    "collapsed": true
   },
   "outputs": [],
   "source": []
  },
  {
   "cell_type": "code",
   "execution_count": null,
   "metadata": {
    "collapsed": true
   },
   "outputs": [],
   "source": []
  },
  {
   "cell_type": "code",
   "execution_count": null,
   "metadata": {
    "collapsed": true
   },
   "outputs": [],
   "source": []
  }
 ],
 "metadata": {
  "kernelspec": {
   "display_name": "Python 3",
   "language": "python",
   "name": "python3"
  },
  "language_info": {
   "codemirror_mode": {
    "name": "ipython",
    "version": 3
   },
   "file_extension": ".py",
   "mimetype": "text/x-python",
   "name": "python",
   "nbconvert_exporter": "python",
   "pygments_lexer": "ipython3",
   "version": "3.6.2"
  },
  "varInspector": {
   "cols": {
    "lenName": 16,
    "lenType": 16,
    "lenVar": 40
   },
   "kernels_config": {
    "python": {
     "delete_cmd_postfix": "",
     "delete_cmd_prefix": "del ",
     "library": "var_list.py",
     "varRefreshCmd": "print(var_dic_list())"
    },
    "r": {
     "delete_cmd_postfix": ") ",
     "delete_cmd_prefix": "rm(",
     "library": "var_list.r",
     "varRefreshCmd": "cat(var_dic_list()) "
    }
   },
   "types_to_exclude": [
    "module",
    "function",
    "builtin_function_or_method",
    "instance",
    "_Feature"
   ],
   "window_display": false
  }
 },
 "nbformat": 4,
 "nbformat_minor": 2
}
